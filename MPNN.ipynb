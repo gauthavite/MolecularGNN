{
 "cells": [
  {
   "cell_type": "code",
   "execution_count": 9,
   "id": "4d3497fc-0c2e-4ece-bb4e-c1bc82d1234a",
   "metadata": {},
   "outputs": [],
   "source": [
    "import pandas as pd\n",
    "from tqdm import tqdm\n",
    "import numpy as np"
   ]
  },
  {
   "cell_type": "markdown",
   "id": "133b6e3e-b13a-4f29-ba66-b46b253ea5dc",
   "metadata": {},
   "source": [
    "### Step 1 : create dataset\n",
    "\n",
    "The goal is to create 5 numpy arrays : nodes_train, in_edges_train, out_edges_train, nodes_test, in_edges_test"
   ]
  },
  {
   "cell_type": "code",
   "execution_count": 10,
   "id": "a25669a2-910f-4834-9c21-66613826fdb9",
   "metadata": {},
   "outputs": [],
   "source": [
    "train_df = pd.read_csv('train_df.csv')\n",
    "test_df = pd.read_csv('test_df.csv')\n",
    "structures_df = pd.read_csv('champs-scalar-coupling/structures.csv')"
   ]
  },
  {
   "cell_type": "markdown",
   "id": "57fab953-fbcf-4c91-96cf-540a5009214a",
   "metadata": {},
   "source": [
    "First thing is to find the size of the ajdacency matrix which is the biggest number of atoms in a molecule in the dataset (size of the biggest molecule)."
   ]
  },
  {
   "cell_type": "code",
   "execution_count": 8,
   "id": "53ce04d5-8b0d-4ad4-b268-2ac1790a1aec",
   "metadata": {},
   "outputs": [
    {
     "name": "stdout",
     "output_type": "stream",
     "text": [
      "29\n"
     ]
    }
   ],
   "source": [
    "max_size_train = max(train_df.groupby('molecule_name')['atom_index_0'].max())\n",
    "max_size_test = max(test_df.groupby('molecule_name')['atom_index_0'].max())\n",
    "\n",
    "max_size = max(max_size_train, max_size_test) + 1 #We are given indexes so that goes from 0 to max_size_train or max_size_test\n",
    "print(max_size)"
   ]
  },
  {
   "cell_type": "markdown",
   "id": "488491ea-fb9b-41c9-b1f1-65706d405839",
   "metadata": {},
   "source": [
    "This means that :\n",
    "\n",
    "nodes_train.size = [nb_molecule_train, max_size, nb_features_nodes] = [68009, 29, 4]\n",
    "\n",
    "nodes_test.size = [nb_molecule_test, max_size, nb_features_nodes] = [17003, 29, 4]\n",
    "\n",
    "in_edges_train.size = [nb_molecule_train, max_size, max_size, nb_features_edges] = [68009, 29, 29, 5]\n",
    "\n",
    "in_edges_test.size = [nb_molecule_test, max_size, max_size, nb_features_edges] = [17003, 29, 29, 5]\n",
    "\n",
    "out_edges_train.size = [nb_molecule_train, max_size, max_size, 1] = [68009, 29, 29, 1]\n",
    "\n",
    "Because the features for the nodes are : the atome, its position (x,y,z).\n",
    "And the features for the edges are : the distance, dist_x, dist_y, dist_z, the type of the coupling. "
   ]
  },
  {
   "cell_type": "code",
   "execution_count": null,
   "id": "c5d4011b-b839-4207-ba55-9f95dc344de3",
   "metadata": {},
   "outputs": [],
   "source": [
    "def make_nodes(train_df, test_df):\n",
    "\n",
    "    map_atoms = {'H': 0, 'C': 1/5, 'N': 2/5, 'O': 3/5, 'F': 4/5}\n",
    "    \n",
    "    print('making train nodes...')\n",
    "    nodes_train = np.zeros((68009))\n",
    "    i = 0\n",
    "    \n",
    "    for molecule_name in tqdm(train_df['molecule_name'].unique(), total=train_df['molecule_name'].nunique()):\n",
    "        \n",
    "        molecule = structures_df[structures_df.molecule_name == molecule_name]\n",
    "        coordinates = molecule[['x', 'y', 'z']].values\n",
    "        x_coordinates = coordinates[:, 0] \n",
    "        y_coordinates = coordinates[:, 1] \n",
    "        z_coordinates = coordinates[:, 2] \n",
    "        elements = molecule.atom.tolist().map(map_atoms) \n",
    "        result_array[0, :len(x_coordinates)] = x_coordinates\n",
    "        result_array[0, :len(y_coordinates)] = y_coordinates\n",
    "        result_array[0, :len(z_coordinates)] = x_coordinates\n",
    "        result_array[0, :len(elements)] = elements\n",
    "        i+=1\n",
    "    \n",
    "    \n",
    "    return nodes_train, nodes_test\n",
    "    \n",
    "def make_in_edges(train_df, test_df):\n",
    "\n",
    "    map_types = {'1JHC': 0, '2JHH': 1, '1JHN': 2, '2JHN': 3, '2JHC': 4, '3JHH': 5, '3JHC': 6, '3JHN': 7}\n",
    "    \n",
    "    return\n",
    "    \n",
    "def make_out_edges(train_df):\n",
    "    return"
   ]
  },
  {
   "cell_type": "markdown",
   "id": "4c425196-aa78-43f0-b454-f32bd4b07796",
   "metadata": {},
   "source": [
    "### Step 2 : train MPNN"
   ]
  },
  {
   "cell_type": "code",
   "execution_count": null,
   "id": "2926d56a-da0d-42eb-9914-a6ea95d715ca",
   "metadata": {},
   "outputs": [],
   "source": []
  }
 ],
 "metadata": {
  "kernelspec": {
   "display_name": "Python 3 (ipykernel)",
   "language": "python",
   "name": "python3"
  },
  "language_info": {
   "codemirror_mode": {
    "name": "ipython",
    "version": 3
   },
   "file_extension": ".py",
   "mimetype": "text/x-python",
   "name": "python",
   "nbconvert_exporter": "python",
   "pygments_lexer": "ipython3",
   "version": "3.11.4"
  }
 },
 "nbformat": 4,
 "nbformat_minor": 5
}
