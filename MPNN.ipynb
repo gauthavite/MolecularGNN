{
 "cells": [
  {
   "cell_type": "code",
   "execution_count": 1,
   "id": "4d3497fc-0c2e-4ece-bb4e-c1bc82d1234a",
   "metadata": {},
   "outputs": [],
   "source": [
    "import pandas as pd\n",
    "from tqdm.notebook import tqdm\n",
    "import numpy as np\n",
    "import os\n",
    "from scipy.spatial import distance_matrix\n",
    "\n",
    "import torch\n",
    "import torch.nn as nn\n",
    "import torch.nn.functional as F\n",
    "from sklearn.utils import shuffle\n",
    "from torch.utils.data import Dataset, DataLoader\n",
    "\n",
    "FOLDER_DIR = \"./preprocessed/\""
   ]
  },
  {
   "cell_type": "markdown",
   "id": "133b6e3e-b13a-4f29-ba66-b46b253ea5dc",
   "metadata": {},
   "source": [
    "### Step 1 : create dataset\n",
    "\n",
    "The goal is to create 5 numpy arrays : nodes_train, in_edges_train, out_edges_train, nodes_test, in_edges_test"
   ]
  },
  {
   "cell_type": "code",
   "execution_count": 2,
   "id": "a25669a2-910f-4834-9c21-66613826fdb9",
   "metadata": {},
   "outputs": [],
   "source": [
    "train_df = pd.read_csv(os.path.join(FOLDER_DIR,'train_df.csv'))\n",
    "test_df = pd.read_csv(os.path.join(FOLDER_DIR,'test_df.csv'))\n",
    "\n",
    "train_structures_df = pd.read_csv(os.path.join(FOLDER_DIR,'train_structures_df.csv'))\n",
    "test_structures_df = pd.read_csv(os.path.join(FOLDER_DIR,'test_structures_df.csv'))\n",
    "\n",
    "# train_bonds and test_bonds come from BondFeatures.ipynb\n",
    "train_bonds = pd.read_csv(os.path.join(FOLDER_DIR,'train_bonds.csv'))\n",
    "test_bonds = pd.read_csv(os.path.join(FOLDER_DIR,'test_bonds.csv'))"
   ]
  },
  {
   "cell_type": "code",
   "execution_count": 3,
   "id": "a8e3da96",
   "metadata": {},
   "outputs": [
    {
     "data": {
      "text/html": [
       "<div>\n",
       "<style scoped>\n",
       "    .dataframe tbody tr th:only-of-type {\n",
       "        vertical-align: middle;\n",
       "    }\n",
       "\n",
       "    .dataframe tbody tr th {\n",
       "        vertical-align: top;\n",
       "    }\n",
       "\n",
       "    .dataframe thead th {\n",
       "        text-align: right;\n",
       "    }\n",
       "</style>\n",
       "<table border=\"1\" class=\"dataframe\">\n",
       "  <thead>\n",
       "    <tr style=\"text-align: right;\">\n",
       "      <th></th>\n",
       "      <th>id</th>\n",
       "      <th>molecule_name</th>\n",
       "      <th>atom_index_0</th>\n",
       "      <th>atom_index_1</th>\n",
       "      <th>scalar_coupling_constant</th>\n",
       "      <th>x0</th>\n",
       "      <th>y0</th>\n",
       "      <th>z0</th>\n",
       "      <th>x1</th>\n",
       "      <th>y1</th>\n",
       "      <th>...</th>\n",
       "      <th>dist_z</th>\n",
       "      <th>1JHC</th>\n",
       "      <th>1JHN</th>\n",
       "      <th>2JHC</th>\n",
       "      <th>2JHH</th>\n",
       "      <th>2JHN</th>\n",
       "      <th>3JHC</th>\n",
       "      <th>3JHH</th>\n",
       "      <th>3JHN</th>\n",
       "      <th>molecule_index</th>\n",
       "    </tr>\n",
       "  </thead>\n",
       "  <tbody>\n",
       "    <tr>\n",
       "      <th>0</th>\n",
       "      <td>0</td>\n",
       "      <td>dsgdb9nsd_000001</td>\n",
       "      <td>1</td>\n",
       "      <td>0</td>\n",
       "      <td>0.513203</td>\n",
       "      <td>0.002150</td>\n",
       "      <td>-0.006031</td>\n",
       "      <td>0.001976</td>\n",
       "      <td>-0.012698</td>\n",
       "      <td>1.085804</td>\n",
       "      <td>...</td>\n",
       "      <td>0.006025</td>\n",
       "      <td>True</td>\n",
       "      <td>False</td>\n",
       "      <td>False</td>\n",
       "      <td>False</td>\n",
       "      <td>False</td>\n",
       "      <td>False</td>\n",
       "      <td>False</td>\n",
       "      <td>False</td>\n",
       "      <td>0</td>\n",
       "    </tr>\n",
       "    <tr>\n",
       "      <th>1</th>\n",
       "      <td>1</td>\n",
       "      <td>dsgdb9nsd_000001</td>\n",
       "      <td>1</td>\n",
       "      <td>2</td>\n",
       "      <td>0.132703</td>\n",
       "      <td>0.002150</td>\n",
       "      <td>-0.006031</td>\n",
       "      <td>0.001976</td>\n",
       "      <td>1.011731</td>\n",
       "      <td>1.463751</td>\n",
       "      <td>...</td>\n",
       "      <td>0.001700</td>\n",
       "      <td>False</td>\n",
       "      <td>False</td>\n",
       "      <td>False</td>\n",
       "      <td>True</td>\n",
       "      <td>False</td>\n",
       "      <td>False</td>\n",
       "      <td>False</td>\n",
       "      <td>False</td>\n",
       "      <td>0</td>\n",
       "    </tr>\n",
       "    <tr>\n",
       "      <th>2</th>\n",
       "      <td>2</td>\n",
       "      <td>dsgdb9nsd_000001</td>\n",
       "      <td>1</td>\n",
       "      <td>3</td>\n",
       "      <td>0.132712</td>\n",
       "      <td>0.002150</td>\n",
       "      <td>-0.006031</td>\n",
       "      <td>0.001976</td>\n",
       "      <td>-0.540815</td>\n",
       "      <td>1.447527</td>\n",
       "      <td>...</td>\n",
       "      <td>0.878620</td>\n",
       "      <td>False</td>\n",
       "      <td>False</td>\n",
       "      <td>False</td>\n",
       "      <td>True</td>\n",
       "      <td>False</td>\n",
       "      <td>False</td>\n",
       "      <td>False</td>\n",
       "      <td>False</td>\n",
       "      <td>0</td>\n",
       "    </tr>\n",
       "    <tr>\n",
       "      <th>3</th>\n",
       "      <td>3</td>\n",
       "      <td>dsgdb9nsd_000001</td>\n",
       "      <td>1</td>\n",
       "      <td>4</td>\n",
       "      <td>0.132714</td>\n",
       "      <td>0.002150</td>\n",
       "      <td>-0.006031</td>\n",
       "      <td>0.001976</td>\n",
       "      <td>-0.523814</td>\n",
       "      <td>1.437933</td>\n",
       "      <td>...</td>\n",
       "      <td>0.904421</td>\n",
       "      <td>False</td>\n",
       "      <td>False</td>\n",
       "      <td>False</td>\n",
       "      <td>True</td>\n",
       "      <td>False</td>\n",
       "      <td>False</td>\n",
       "      <td>False</td>\n",
       "      <td>False</td>\n",
       "      <td>0</td>\n",
       "    </tr>\n",
       "    <tr>\n",
       "      <th>4</th>\n",
       "      <td>4</td>\n",
       "      <td>dsgdb9nsd_000001</td>\n",
       "      <td>2</td>\n",
       "      <td>0</td>\n",
       "      <td>0.513202</td>\n",
       "      <td>1.011731</td>\n",
       "      <td>1.463751</td>\n",
       "      <td>0.000277</td>\n",
       "      <td>-0.012698</td>\n",
       "      <td>1.085804</td>\n",
       "      <td>...</td>\n",
       "      <td>0.007724</td>\n",
       "      <td>True</td>\n",
       "      <td>False</td>\n",
       "      <td>False</td>\n",
       "      <td>False</td>\n",
       "      <td>False</td>\n",
       "      <td>False</td>\n",
       "      <td>False</td>\n",
       "      <td>False</td>\n",
       "      <td>0</td>\n",
       "    </tr>\n",
       "    <tr>\n",
       "      <th>...</th>\n",
       "      <td>...</td>\n",
       "      <td>...</td>\n",
       "      <td>...</td>\n",
       "      <td>...</td>\n",
       "      <td>...</td>\n",
       "      <td>...</td>\n",
       "      <td>...</td>\n",
       "      <td>...</td>\n",
       "      <td>...</td>\n",
       "      <td>...</td>\n",
       "      <td>...</td>\n",
       "      <td>...</td>\n",
       "      <td>...</td>\n",
       "      <td>...</td>\n",
       "      <td>...</td>\n",
       "      <td>...</td>\n",
       "      <td>...</td>\n",
       "      <td>...</td>\n",
       "      <td>...</td>\n",
       "      <td>...</td>\n",
       "      <td>...</td>\n",
       "    </tr>\n",
       "    <tr>\n",
       "      <th>3724006</th>\n",
       "      <td>4658993</td>\n",
       "      <td>dsgdb9nsd_133883</td>\n",
       "      <td>16</td>\n",
       "      <td>4</td>\n",
       "      <td>0.201791</td>\n",
       "      <td>-0.254709</td>\n",
       "      <td>0.115179</td>\n",
       "      <td>-2.320941</td>\n",
       "      <td>1.396720</td>\n",
       "      <td>-0.764049</td>\n",
       "      <td>...</td>\n",
       "      <td>2.766766</td>\n",
       "      <td>False</td>\n",
       "      <td>False</td>\n",
       "      <td>False</td>\n",
       "      <td>False</td>\n",
       "      <td>False</td>\n",
       "      <td>True</td>\n",
       "      <td>False</td>\n",
       "      <td>False</td>\n",
       "      <td>68008</td>\n",
       "    </tr>\n",
       "    <tr>\n",
       "      <th>3724007</th>\n",
       "      <td>4658994</td>\n",
       "      <td>dsgdb9nsd_133883</td>\n",
       "      <td>16</td>\n",
       "      <td>5</td>\n",
       "      <td>0.198183</td>\n",
       "      <td>-0.254709</td>\n",
       "      <td>0.115179</td>\n",
       "      <td>-2.320941</td>\n",
       "      <td>0.709493</td>\n",
       "      <td>0.478235</td>\n",
       "      <td>...</td>\n",
       "      <td>3.282113</td>\n",
       "      <td>False</td>\n",
       "      <td>False</td>\n",
       "      <td>False</td>\n",
       "      <td>False</td>\n",
       "      <td>False</td>\n",
       "      <td>True</td>\n",
       "      <td>False</td>\n",
       "      <td>False</td>\n",
       "      <td>68008</td>\n",
       "    </tr>\n",
       "    <tr>\n",
       "      <th>3724008</th>\n",
       "      <td>4658995</td>\n",
       "      <td>dsgdb9nsd_133883</td>\n",
       "      <td>16</td>\n",
       "      <td>6</td>\n",
       "      <td>0.183339</td>\n",
       "      <td>-0.254709</td>\n",
       "      <td>0.115179</td>\n",
       "      <td>-2.320941</td>\n",
       "      <td>-0.302582</td>\n",
       "      <td>0.693610</td>\n",
       "      <td>...</td>\n",
       "      <td>2.139460</td>\n",
       "      <td>False</td>\n",
       "      <td>False</td>\n",
       "      <td>True</td>\n",
       "      <td>False</td>\n",
       "      <td>False</td>\n",
       "      <td>False</td>\n",
       "      <td>False</td>\n",
       "      <td>False</td>\n",
       "      <td>68008</td>\n",
       "    </tr>\n",
       "    <tr>\n",
       "      <th>3724009</th>\n",
       "      <td>4658996</td>\n",
       "      <td>dsgdb9nsd_133883</td>\n",
       "      <td>16</td>\n",
       "      <td>7</td>\n",
       "      <td>0.543521</td>\n",
       "      <td>-0.254709</td>\n",
       "      <td>0.115179</td>\n",
       "      <td>-2.320941</td>\n",
       "      <td>0.402259</td>\n",
       "      <td>0.359544</td>\n",
       "      <td>...</td>\n",
       "      <td>0.838362</td>\n",
       "      <td>True</td>\n",
       "      <td>False</td>\n",
       "      <td>False</td>\n",
       "      <td>False</td>\n",
       "      <td>False</td>\n",
       "      <td>False</td>\n",
       "      <td>False</td>\n",
       "      <td>False</td>\n",
       "      <td>68008</td>\n",
       "    </tr>\n",
       "    <tr>\n",
       "      <th>3724010</th>\n",
       "      <td>4658997</td>\n",
       "      <td>dsgdb9nsd_133883</td>\n",
       "      <td>16</td>\n",
       "      <td>8</td>\n",
       "      <td>0.189861</td>\n",
       "      <td>-0.254709</td>\n",
       "      <td>0.115179</td>\n",
       "      <td>-2.320941</td>\n",
       "      <td>1.087067</td>\n",
       "      <td>-0.898250</td>\n",
       "      <td>...</td>\n",
       "      <td>1.305908</td>\n",
       "      <td>False</td>\n",
       "      <td>False</td>\n",
       "      <td>False</td>\n",
       "      <td>False</td>\n",
       "      <td>True</td>\n",
       "      <td>False</td>\n",
       "      <td>False</td>\n",
       "      <td>False</td>\n",
       "      <td>68008</td>\n",
       "    </tr>\n",
       "  </tbody>\n",
       "</table>\n",
       "<p>3724011 rows × 24 columns</p>\n",
       "</div>"
      ],
      "text/plain": [
       "              id     molecule_name  atom_index_0  atom_index_1  \\\n",
       "0              0  dsgdb9nsd_000001             1             0   \n",
       "1              1  dsgdb9nsd_000001             1             2   \n",
       "2              2  dsgdb9nsd_000001             1             3   \n",
       "3              3  dsgdb9nsd_000001             1             4   \n",
       "4              4  dsgdb9nsd_000001             2             0   \n",
       "...          ...               ...           ...           ...   \n",
       "3724006  4658993  dsgdb9nsd_133883            16             4   \n",
       "3724007  4658994  dsgdb9nsd_133883            16             5   \n",
       "3724008  4658995  dsgdb9nsd_133883            16             6   \n",
       "3724009  4658996  dsgdb9nsd_133883            16             7   \n",
       "3724010  4658997  dsgdb9nsd_133883            16             8   \n",
       "\n",
       "         scalar_coupling_constant        x0        y0        z0        x1  \\\n",
       "0                        0.513203  0.002150 -0.006031  0.001976 -0.012698   \n",
       "1                        0.132703  0.002150 -0.006031  0.001976  1.011731   \n",
       "2                        0.132712  0.002150 -0.006031  0.001976 -0.540815   \n",
       "3                        0.132714  0.002150 -0.006031  0.001976 -0.523814   \n",
       "4                        0.513202  1.011731  1.463751  0.000277 -0.012698   \n",
       "...                           ...       ...       ...       ...       ...   \n",
       "3724006                  0.201791 -0.254709  0.115179 -2.320941  1.396720   \n",
       "3724007                  0.198183 -0.254709  0.115179 -2.320941  0.709493   \n",
       "3724008                  0.183339 -0.254709  0.115179 -2.320941 -0.302582   \n",
       "3724009                  0.543521 -0.254709  0.115179 -2.320941  0.402259   \n",
       "3724010                  0.189861 -0.254709  0.115179 -2.320941  1.087067   \n",
       "\n",
       "               y1  ...    dist_z   1JHC   1JHN   2JHC   2JHH   2JHN   3JHC  \\\n",
       "0        1.085804  ...  0.006025   True  False  False  False  False  False   \n",
       "1        1.463751  ...  0.001700  False  False  False   True  False  False   \n",
       "2        1.447527  ...  0.878620  False  False  False   True  False  False   \n",
       "3        1.437933  ...  0.904421  False  False  False   True  False  False   \n",
       "4        1.085804  ...  0.007724   True  False  False  False  False  False   \n",
       "...           ...  ...       ...    ...    ...    ...    ...    ...    ...   \n",
       "3724006 -0.764049  ...  2.766766  False  False  False  False  False   True   \n",
       "3724007  0.478235  ...  3.282113  False  False  False  False  False   True   \n",
       "3724008  0.693610  ...  2.139460  False  False   True  False  False  False   \n",
       "3724009  0.359544  ...  0.838362   True  False  False  False  False  False   \n",
       "3724010 -0.898250  ...  1.305908  False  False  False  False   True  False   \n",
       "\n",
       "          3JHH   3JHN  molecule_index  \n",
       "0        False  False               0  \n",
       "1        False  False               0  \n",
       "2        False  False               0  \n",
       "3        False  False               0  \n",
       "4        False  False               0  \n",
       "...        ...    ...             ...  \n",
       "3724006  False  False           68008  \n",
       "3724007  False  False           68008  \n",
       "3724008  False  False           68008  \n",
       "3724009  False  False           68008  \n",
       "3724010  False  False           68008  \n",
       "\n",
       "[3724011 rows x 24 columns]"
      ]
     },
     "execution_count": 3,
     "metadata": {},
     "output_type": "execute_result"
    }
   ],
   "source": [
    "train_df[\"molecule_index\"] = pd.factorize(train_df[\"molecule_name\"])[0]\n",
    "train_df[\"scalar_coupling_constant\"] = (train_df[\"scalar_coupling_constant\"] - train_df[\"scalar_coupling_constant\"].min())/(train_df[\"scalar_coupling_constant\"].max() - train_df[\"scalar_coupling_constant\"].min())\n",
    "test_df[\"molecule_index\"] = pd.factorize(test_df[\"molecule_name\"])[0]\n",
    "test_df[\"scalar_coupling_constant\"] = (test_df[\"scalar_coupling_constant\"] - test_df[\"scalar_coupling_constant\"].mean())/(test_df[\"scalar_coupling_constant\"].max() - test_df[\"scalar_coupling_constant\"].min())\n",
    "train_df"
   ]
  },
  {
   "cell_type": "code",
   "execution_count": 4,
   "id": "492b0b35",
   "metadata": {},
   "outputs": [
    {
     "data": {
      "text/html": [
       "<div>\n",
       "<style scoped>\n",
       "    .dataframe tbody tr th:only-of-type {\n",
       "        vertical-align: middle;\n",
       "    }\n",
       "\n",
       "    .dataframe tbody tr th {\n",
       "        vertical-align: top;\n",
       "    }\n",
       "\n",
       "    .dataframe thead th {\n",
       "        text-align: right;\n",
       "    }\n",
       "</style>\n",
       "<table border=\"1\" class=\"dataframe\">\n",
       "  <thead>\n",
       "    <tr style=\"text-align: right;\">\n",
       "      <th></th>\n",
       "      <th>molecule_name</th>\n",
       "      <th>atom_index</th>\n",
       "      <th>x</th>\n",
       "      <th>y</th>\n",
       "      <th>z</th>\n",
       "      <th>C</th>\n",
       "      <th>F</th>\n",
       "      <th>H</th>\n",
       "      <th>N</th>\n",
       "      <th>O</th>\n",
       "      <th>molecule_index</th>\n",
       "    </tr>\n",
       "  </thead>\n",
       "  <tbody>\n",
       "    <tr>\n",
       "      <th>0</th>\n",
       "      <td>dsgdb9nsd_000001</td>\n",
       "      <td>0</td>\n",
       "      <td>-0.012698</td>\n",
       "      <td>1.085804</td>\n",
       "      <td>0.008001</td>\n",
       "      <td>True</td>\n",
       "      <td>False</td>\n",
       "      <td>False</td>\n",
       "      <td>False</td>\n",
       "      <td>False</td>\n",
       "      <td>0</td>\n",
       "    </tr>\n",
       "    <tr>\n",
       "      <th>1</th>\n",
       "      <td>dsgdb9nsd_000001</td>\n",
       "      <td>1</td>\n",
       "      <td>0.002150</td>\n",
       "      <td>-0.006031</td>\n",
       "      <td>0.001976</td>\n",
       "      <td>False</td>\n",
       "      <td>False</td>\n",
       "      <td>True</td>\n",
       "      <td>False</td>\n",
       "      <td>False</td>\n",
       "      <td>0</td>\n",
       "    </tr>\n",
       "    <tr>\n",
       "      <th>2</th>\n",
       "      <td>dsgdb9nsd_000001</td>\n",
       "      <td>2</td>\n",
       "      <td>1.011731</td>\n",
       "      <td>1.463751</td>\n",
       "      <td>0.000277</td>\n",
       "      <td>False</td>\n",
       "      <td>False</td>\n",
       "      <td>True</td>\n",
       "      <td>False</td>\n",
       "      <td>False</td>\n",
       "      <td>0</td>\n",
       "    </tr>\n",
       "    <tr>\n",
       "      <th>3</th>\n",
       "      <td>dsgdb9nsd_000001</td>\n",
       "      <td>3</td>\n",
       "      <td>-0.540815</td>\n",
       "      <td>1.447527</td>\n",
       "      <td>-0.876644</td>\n",
       "      <td>False</td>\n",
       "      <td>False</td>\n",
       "      <td>True</td>\n",
       "      <td>False</td>\n",
       "      <td>False</td>\n",
       "      <td>0</td>\n",
       "    </tr>\n",
       "    <tr>\n",
       "      <th>4</th>\n",
       "      <td>dsgdb9nsd_000001</td>\n",
       "      <td>4</td>\n",
       "      <td>-0.523814</td>\n",
       "      <td>1.437933</td>\n",
       "      <td>0.906397</td>\n",
       "      <td>False</td>\n",
       "      <td>False</td>\n",
       "      <td>True</td>\n",
       "      <td>False</td>\n",
       "      <td>False</td>\n",
       "      <td>0</td>\n",
       "    </tr>\n",
       "    <tr>\n",
       "      <th>...</th>\n",
       "      <td>...</td>\n",
       "      <td>...</td>\n",
       "      <td>...</td>\n",
       "      <td>...</td>\n",
       "      <td>...</td>\n",
       "      <td>...</td>\n",
       "      <td>...</td>\n",
       "      <td>...</td>\n",
       "      <td>...</td>\n",
       "      <td>...</td>\n",
       "      <td>...</td>\n",
       "    </tr>\n",
       "    <tr>\n",
       "      <th>1226160</th>\n",
       "      <td>dsgdb9nsd_133883</td>\n",
       "      <td>12</td>\n",
       "      <td>0.167157</td>\n",
       "      <td>-2.642346</td>\n",
       "      <td>0.003546</td>\n",
       "      <td>False</td>\n",
       "      <td>False</td>\n",
       "      <td>True</td>\n",
       "      <td>False</td>\n",
       "      <td>False</td>\n",
       "      <td>68008</td>\n",
       "    </tr>\n",
       "    <tr>\n",
       "      <th>1226161</th>\n",
       "      <td>dsgdb9nsd_133883</td>\n",
       "      <td>13</td>\n",
       "      <td>2.336668</td>\n",
       "      <td>-1.165247</td>\n",
       "      <td>0.799579</td>\n",
       "      <td>False</td>\n",
       "      <td>False</td>\n",
       "      <td>True</td>\n",
       "      <td>False</td>\n",
       "      <td>False</td>\n",
       "      <td>68008</td>\n",
       "    </tr>\n",
       "    <tr>\n",
       "      <th>1226162</th>\n",
       "      <td>dsgdb9nsd_133883</td>\n",
       "      <td>14</td>\n",
       "      <td>1.287517</td>\n",
       "      <td>1.303344</td>\n",
       "      <td>1.376396</td>\n",
       "      <td>False</td>\n",
       "      <td>False</td>\n",
       "      <td>True</td>\n",
       "      <td>False</td>\n",
       "      <td>False</td>\n",
       "      <td>68008</td>\n",
       "    </tr>\n",
       "    <tr>\n",
       "      <th>1226163</th>\n",
       "      <td>dsgdb9nsd_133883</td>\n",
       "      <td>15</td>\n",
       "      <td>1.160599</td>\n",
       "      <td>1.078773</td>\n",
       "      <td>-1.801647</td>\n",
       "      <td>False</td>\n",
       "      <td>False</td>\n",
       "      <td>True</td>\n",
       "      <td>False</td>\n",
       "      <td>False</td>\n",
       "      <td>68008</td>\n",
       "    </tr>\n",
       "    <tr>\n",
       "      <th>1226164</th>\n",
       "      <td>dsgdb9nsd_133883</td>\n",
       "      <td>16</td>\n",
       "      <td>-0.254709</td>\n",
       "      <td>0.115179</td>\n",
       "      <td>-2.320941</td>\n",
       "      <td>False</td>\n",
       "      <td>False</td>\n",
       "      <td>True</td>\n",
       "      <td>False</td>\n",
       "      <td>False</td>\n",
       "      <td>68008</td>\n",
       "    </tr>\n",
       "  </tbody>\n",
       "</table>\n",
       "<p>1226165 rows × 11 columns</p>\n",
       "</div>"
      ],
      "text/plain": [
       "            molecule_name  atom_index         x         y         z      C  \\\n",
       "0        dsgdb9nsd_000001           0 -0.012698  1.085804  0.008001   True   \n",
       "1        dsgdb9nsd_000001           1  0.002150 -0.006031  0.001976  False   \n",
       "2        dsgdb9nsd_000001           2  1.011731  1.463751  0.000277  False   \n",
       "3        dsgdb9nsd_000001           3 -0.540815  1.447527 -0.876644  False   \n",
       "4        dsgdb9nsd_000001           4 -0.523814  1.437933  0.906397  False   \n",
       "...                   ...         ...       ...       ...       ...    ...   \n",
       "1226160  dsgdb9nsd_133883          12  0.167157 -2.642346  0.003546  False   \n",
       "1226161  dsgdb9nsd_133883          13  2.336668 -1.165247  0.799579  False   \n",
       "1226162  dsgdb9nsd_133883          14  1.287517  1.303344  1.376396  False   \n",
       "1226163  dsgdb9nsd_133883          15  1.160599  1.078773 -1.801647  False   \n",
       "1226164  dsgdb9nsd_133883          16 -0.254709  0.115179 -2.320941  False   \n",
       "\n",
       "             F      H      N      O  molecule_index  \n",
       "0        False  False  False  False               0  \n",
       "1        False   True  False  False               0  \n",
       "2        False   True  False  False               0  \n",
       "3        False   True  False  False               0  \n",
       "4        False   True  False  False               0  \n",
       "...        ...    ...    ...    ...             ...  \n",
       "1226160  False   True  False  False           68008  \n",
       "1226161  False   True  False  False           68008  \n",
       "1226162  False   True  False  False           68008  \n",
       "1226163  False   True  False  False           68008  \n",
       "1226164  False   True  False  False           68008  \n",
       "\n",
       "[1226165 rows x 11 columns]"
      ]
     },
     "execution_count": 4,
     "metadata": {},
     "output_type": "execute_result"
    }
   ],
   "source": [
    "train_structures_df[\"molecule_index\"] = pd.factorize(train_structures_df[\"molecule_name\"])[0]\n",
    "test_structures_df[\"molecule_index\"] = pd.factorize(test_structures_df[\"molecule_name\"])[0]\n",
    "train_structures_df"
   ]
  },
  {
   "cell_type": "code",
   "execution_count": 5,
   "id": "25a1bad9",
   "metadata": {},
   "outputs": [
    {
     "data": {
      "text/html": [
       "<div>\n",
       "<style scoped>\n",
       "    .dataframe tbody tr th:only-of-type {\n",
       "        vertical-align: middle;\n",
       "    }\n",
       "\n",
       "    .dataframe tbody tr th {\n",
       "        vertical-align: top;\n",
       "    }\n",
       "\n",
       "    .dataframe thead th {\n",
       "        text-align: right;\n",
       "    }\n",
       "</style>\n",
       "<table border=\"1\" class=\"dataframe\">\n",
       "  <thead>\n",
       "    <tr style=\"text-align: right;\">\n",
       "      <th></th>\n",
       "      <th>molecule_name</th>\n",
       "      <th>atom_index_0</th>\n",
       "      <th>atom_index_1</th>\n",
       "      <th>nbond</th>\n",
       "      <th>L2dist</th>\n",
       "      <th>error</th>\n",
       "      <th>bond_type</th>\n",
       "      <th>molecule_index</th>\n",
       "      <th>nbond_1</th>\n",
       "      <th>nbond_1.5</th>\n",
       "      <th>nbond_2</th>\n",
       "      <th>nbond_3</th>\n",
       "    </tr>\n",
       "  </thead>\n",
       "  <tbody>\n",
       "    <tr>\n",
       "      <th>0</th>\n",
       "      <td>dsgdb9nsd_000001</td>\n",
       "      <td>0</td>\n",
       "      <td>1</td>\n",
       "      <td>1.0</td>\n",
       "      <td>1.091953</td>\n",
       "      <td>0</td>\n",
       "      <td>1.0CH</td>\n",
       "      <td>0</td>\n",
       "      <td>True</td>\n",
       "      <td>False</td>\n",
       "      <td>False</td>\n",
       "      <td>False</td>\n",
       "    </tr>\n",
       "    <tr>\n",
       "      <th>1</th>\n",
       "      <td>dsgdb9nsd_000001</td>\n",
       "      <td>0</td>\n",
       "      <td>2</td>\n",
       "      <td>1.0</td>\n",
       "      <td>1.091952</td>\n",
       "      <td>0</td>\n",
       "      <td>1.0CH</td>\n",
       "      <td>0</td>\n",
       "      <td>True</td>\n",
       "      <td>False</td>\n",
       "      <td>False</td>\n",
       "      <td>False</td>\n",
       "    </tr>\n",
       "    <tr>\n",
       "      <th>2</th>\n",
       "      <td>dsgdb9nsd_000001</td>\n",
       "      <td>0</td>\n",
       "      <td>3</td>\n",
       "      <td>1.0</td>\n",
       "      <td>1.091946</td>\n",
       "      <td>0</td>\n",
       "      <td>1.0CH</td>\n",
       "      <td>0</td>\n",
       "      <td>True</td>\n",
       "      <td>False</td>\n",
       "      <td>False</td>\n",
       "      <td>False</td>\n",
       "    </tr>\n",
       "    <tr>\n",
       "      <th>3</th>\n",
       "      <td>dsgdb9nsd_000001</td>\n",
       "      <td>0</td>\n",
       "      <td>4</td>\n",
       "      <td>1.0</td>\n",
       "      <td>1.091948</td>\n",
       "      <td>0</td>\n",
       "      <td>1.0CH</td>\n",
       "      <td>0</td>\n",
       "      <td>True</td>\n",
       "      <td>False</td>\n",
       "      <td>False</td>\n",
       "      <td>False</td>\n",
       "    </tr>\n",
       "    <tr>\n",
       "      <th>4</th>\n",
       "      <td>dsgdb9nsd_000002</td>\n",
       "      <td>0</td>\n",
       "      <td>1</td>\n",
       "      <td>1.0</td>\n",
       "      <td>1.017190</td>\n",
       "      <td>0</td>\n",
       "      <td>1.0HN</td>\n",
       "      <td>1</td>\n",
       "      <td>True</td>\n",
       "      <td>False</td>\n",
       "      <td>False</td>\n",
       "      <td>False</td>\n",
       "    </tr>\n",
       "    <tr>\n",
       "      <th>...</th>\n",
       "      <td>...</td>\n",
       "      <td>...</td>\n",
       "      <td>...</td>\n",
       "      <td>...</td>\n",
       "      <td>...</td>\n",
       "      <td>...</td>\n",
       "      <td>...</td>\n",
       "      <td>...</td>\n",
       "      <td>...</td>\n",
       "      <td>...</td>\n",
       "      <td>...</td>\n",
       "      <td>...</td>\n",
       "    </tr>\n",
       "    <tr>\n",
       "      <th>1268463</th>\n",
       "      <td>dsgdb9nsd_133883</td>\n",
       "      <td>2</td>\n",
       "      <td>6</td>\n",
       "      <td>1.0</td>\n",
       "      <td>1.541542</td>\n",
       "      <td>0</td>\n",
       "      <td>1.0CC</td>\n",
       "      <td>68008</td>\n",
       "      <td>True</td>\n",
       "      <td>False</td>\n",
       "      <td>False</td>\n",
       "      <td>False</td>\n",
       "    </tr>\n",
       "    <tr>\n",
       "      <th>1268464</th>\n",
       "      <td>dsgdb9nsd_133883</td>\n",
       "      <td>3</td>\n",
       "      <td>4</td>\n",
       "      <td>1.0</td>\n",
       "      <td>1.482432</td>\n",
       "      <td>0</td>\n",
       "      <td>1.0CC</td>\n",
       "      <td>68008</td>\n",
       "      <td>True</td>\n",
       "      <td>False</td>\n",
       "      <td>False</td>\n",
       "      <td>False</td>\n",
       "    </tr>\n",
       "    <tr>\n",
       "      <th>1268465</th>\n",
       "      <td>dsgdb9nsd_133883</td>\n",
       "      <td>4</td>\n",
       "      <td>5</td>\n",
       "      <td>1.0</td>\n",
       "      <td>1.510342</td>\n",
       "      <td>0</td>\n",
       "      <td>1.0CC</td>\n",
       "      <td>68008</td>\n",
       "      <td>True</td>\n",
       "      <td>False</td>\n",
       "      <td>False</td>\n",
       "      <td>False</td>\n",
       "    </tr>\n",
       "    <tr>\n",
       "      <th>1268466</th>\n",
       "      <td>dsgdb9nsd_133883</td>\n",
       "      <td>5</td>\n",
       "      <td>6</td>\n",
       "      <td>1.0</td>\n",
       "      <td>1.541538</td>\n",
       "      <td>0</td>\n",
       "      <td>1.0CC</td>\n",
       "      <td>68008</td>\n",
       "      <td>True</td>\n",
       "      <td>False</td>\n",
       "      <td>False</td>\n",
       "      <td>False</td>\n",
       "    </tr>\n",
       "    <tr>\n",
       "      <th>1268467</th>\n",
       "      <td>dsgdb9nsd_133883</td>\n",
       "      <td>6</td>\n",
       "      <td>7</td>\n",
       "      <td>1.0</td>\n",
       "      <td>1.516990</td>\n",
       "      <td>0</td>\n",
       "      <td>1.0CC</td>\n",
       "      <td>68008</td>\n",
       "      <td>True</td>\n",
       "      <td>False</td>\n",
       "      <td>False</td>\n",
       "      <td>False</td>\n",
       "    </tr>\n",
       "  </tbody>\n",
       "</table>\n",
       "<p>1268468 rows × 12 columns</p>\n",
       "</div>"
      ],
      "text/plain": [
       "            molecule_name  atom_index_0  atom_index_1  nbond    L2dist  error  \\\n",
       "0        dsgdb9nsd_000001             0             1    1.0  1.091953      0   \n",
       "1        dsgdb9nsd_000001             0             2    1.0  1.091952      0   \n",
       "2        dsgdb9nsd_000001             0             3    1.0  1.091946      0   \n",
       "3        dsgdb9nsd_000001             0             4    1.0  1.091948      0   \n",
       "4        dsgdb9nsd_000002             0             1    1.0  1.017190      0   \n",
       "...                   ...           ...           ...    ...       ...    ...   \n",
       "1268463  dsgdb9nsd_133883             2             6    1.0  1.541542      0   \n",
       "1268464  dsgdb9nsd_133883             3             4    1.0  1.482432      0   \n",
       "1268465  dsgdb9nsd_133883             4             5    1.0  1.510342      0   \n",
       "1268466  dsgdb9nsd_133883             5             6    1.0  1.541538      0   \n",
       "1268467  dsgdb9nsd_133883             6             7    1.0  1.516990      0   \n",
       "\n",
       "        bond_type  molecule_index  nbond_1  nbond_1.5  nbond_2  nbond_3  \n",
       "0           1.0CH               0     True      False    False    False  \n",
       "1           1.0CH               0     True      False    False    False  \n",
       "2           1.0CH               0     True      False    False    False  \n",
       "3           1.0CH               0     True      False    False    False  \n",
       "4           1.0HN               1     True      False    False    False  \n",
       "...           ...             ...      ...        ...      ...      ...  \n",
       "1268463     1.0CC           68008     True      False    False    False  \n",
       "1268464     1.0CC           68008     True      False    False    False  \n",
       "1268465     1.0CC           68008     True      False    False    False  \n",
       "1268466     1.0CC           68008     True      False    False    False  \n",
       "1268467     1.0CC           68008     True      False    False    False  \n",
       "\n",
       "[1268468 rows x 12 columns]"
      ]
     },
     "execution_count": 5,
     "metadata": {},
     "output_type": "execute_result"
    }
   ],
   "source": [
    "train_bonds[\"molecule_index\"] = pd.factorize(train_bonds[\"molecule_name\"])[0]\n",
    "test_bonds[\"molecule_index\"] = pd.factorize(test_bonds[\"molecule_name\"])[0]\n",
    "train_bonds[['nbond_1', 'nbond_1.5', 'nbond_2', 'nbond_3']] = pd.get_dummies(train_bonds['nbond'])\n",
    "test_bonds[['nbond_1', 'nbond_1.5', 'nbond_2', 'nbond_3']] = pd.get_dummies(test_bonds['nbond'])\n",
    "train_bonds"
   ]
  },
  {
   "cell_type": "markdown",
   "id": "57fab953-fbcf-4c91-96cf-540a5009214a",
   "metadata": {},
   "source": [
    "First thing is to find the size of the ajdacency matrix which is the biggest number of atoms in a molecule in the dataset (size of the biggest molecule)."
   ]
  },
  {
   "cell_type": "code",
   "execution_count": 6,
   "id": "53ce04d5-8b0d-4ad4-b268-2ac1790a1aec",
   "metadata": {},
   "outputs": [
    {
     "name": "stdout",
     "output_type": "stream",
     "text": [
      "29\n"
     ]
    }
   ],
   "source": [
    "max_size_train = max(train_df.groupby('molecule_name')['atom_index_0'].max())\n",
    "max_size_test = max(test_df.groupby('molecule_name')['atom_index_0'].max())\n",
    "\n",
    "max_size = max(max_size_train, max_size_test) + 1 # We are given indexes so that goes from 0 to max_size_train or max_size_test\n",
    "print(max_size)"
   ]
  },
  {
   "cell_type": "markdown",
   "id": "488491ea-fb9b-41c9-b1f1-65706d405839",
   "metadata": {},
   "source": [
    "This means that :\n",
    "\n",
    "nodes_train.size = [nb_molecule_train, max_size, nb_features_nodes] = [68009, 29, 8]\n",
    "\n",
    "nodes_test.size = [nb_molecule_test, max_size, nb_features_nodes] = [17003, 29, 8]\n",
    "\n",
    "in_edges_train.size = [nb_molecule_train, max_size, max_size, nb_features_edges] = [68009, 29, 29, 16]\n",
    "\n",
    "in_edges_test.size = [nb_molecule_test, max_size, max_size, nb_features_edges] = [17003, 29, 29, 16]\n",
    "\n",
    "out_edges_train.size = [nb_molecule_train, max_size, max_size, 1] = [68009, 29, 29, 1]\n",
    "\n",
    "Because the features for the nodes are : the atome, its position (x,y,z).\n",
    "And the features for the edges are : the distance, dist_x, dist_y, dist_z, the type of the coupling. "
   ]
  },
  {
   "cell_type": "code",
   "execution_count": 7,
   "id": "3bb81129",
   "metadata": {},
   "outputs": [
    {
     "data": {
      "text/plain": [
       "(68009, 17003)"
      ]
     },
     "execution_count": 7,
     "metadata": {},
     "output_type": "execute_result"
    }
   ],
   "source": [
    "n_train = train_df['molecule_name'].nunique()\n",
    "n_test = test_df['molecule_name'].nunique()\n",
    "n_train, n_test"
   ]
  },
  {
   "cell_type": "code",
   "execution_count": 8,
   "id": "c5d4011b-b839-4207-ba55-9f95dc344de3",
   "metadata": {},
   "outputs": [],
   "source": [
    "def make_nodes(train_structures_df, test_structures_df):\n",
    "    nodes_train = np.zeros((n_train, max_size, 8), dtype=np.float32)\n",
    "    nodes_test = np.zeros((n_test, max_size, 8), dtype=np.float32)\n",
    "\n",
    "    for df, nodes in zip([train_structures_df, test_structures_df], [nodes_train, nodes_test]):\n",
    "        molecule_indices = df[\"molecule_index\"].values\n",
    "        atom_indices = df[\"atom_index\"].values\n",
    "        features = df[[\"x\", \"y\", \"z\", \"C\", \"F\", \"H\", \"N\", \"O\"]].values\n",
    "\n",
    "        nodes[molecule_indices, atom_indices] = features\n",
    " \n",
    "    return nodes_train, nodes_test\n",
    "    \n",
    "def make_in_edges(train_df, test_df, train_structures_df, test_structures_df, train_bonds, test_bonds):\n",
    "    in_edges_train = np.zeros((n_train, max_size, max_size, 16), dtype=np.float32)\n",
    "    in_edges_test = np.zeros((n_test, max_size, max_size, 16), dtype=np.float32)\n",
    "\n",
    "    # First, iterate through train_df and test_df\n",
    "    for df, in_edges in zip([train_df, test_df], [in_edges_train, in_edges_test]):\n",
    "        molecule_indices = df[\"molecule_index\"].values\n",
    "        atom_indices_0 = df[\"atom_index_0\"].values\n",
    "        atom_indices_1 = df[\"atom_index_1\"].values\n",
    "        features = df[[\"dist\", \"dist_x\", \"dist_y\", \"dist_z\", '1JHC', '1JHN', '2JHC', '2JHH', '2JHN', '3JHC', '3JHH', '3JHN']].values\n",
    "\n",
    "        in_edges[molecule_indices, atom_indices_0, atom_indices_1,:12] = features\n",
    "        in_edges[molecule_indices, atom_indices_1, atom_indices_0,:12] = features\n",
    "\n",
    "    # Then, iterate through train_structures_df and test_structures_df to complete the adjency matrix\n",
    "    for df, in_edges in zip([train_structures_df, test_structures_df], [in_edges_train, in_edges_test]):\n",
    "        for molecule_index, molecule_df in df.groupby(\"molecule_index\"):\n",
    "            features = np.zeros((max_size, max_size, 4))\n",
    "\n",
    "            for i, coords_df in enumerate([molecule_df[[\"x\", \"y\", \"z\"]], molecule_df[\"x\"], molecule_df[\"y\"], molecule_df[\"z\"]]):\n",
    "                coords = coords_df.values\n",
    "\n",
    "                if i != 0:\n",
    "                    coords = coords.reshape((len(coords), 1)) # Converts the 1D array into a 2D matrix\n",
    "\n",
    "                dist = distance_matrix(coords, coords)\n",
    "                features[:dist.shape[0], :dist.shape[1], i] = dist\n",
    "\n",
    "            in_edges[molecule_index, :, :, :4] = features\n",
    "\n",
    "    # Finally, add the bond features \n",
    "    for df, in_edges in zip([train_bonds, test_bonds], [in_edges_train, in_edges_test]):\n",
    "        molecule_indices = df[\"molecule_index\"].values\n",
    "        atom_indices_0 = df[\"atom_index_0\"].values\n",
    "        atom_indices_1 = df[\"atom_index_1\"].values\n",
    "        features = df[['nbond_1', 'nbond_1.5', 'nbond_2', 'nbond_3']].values\n",
    "\n",
    "        in_edges[molecule_indices, atom_indices_0, atom_indices_1,12:] = features\n",
    "        in_edges[molecule_indices, atom_indices_1, atom_indices_0,12:] = features\n",
    "\n",
    "    return in_edges_train, in_edges_test\n",
    "    \n",
    "def make_out_edges(train_df):\n",
    "\n",
    "    out_edges_train = np.zeros((n_train, max_size, max_size), dtype=np.float32)\n",
    "\n",
    "    molecule_indices = train_df[\"molecule_index\"].values\n",
    "    atom_indices_0 = train_df[\"atom_index_0\"].values\n",
    "    atom_indices_1 = train_df[\"atom_index_1\"].values\n",
    "    scc_values = train_df[\"scalar_coupling_constant\"].values\n",
    "\n",
    "    out_edges_train[molecule_indices, atom_indices_0, atom_indices_1] = scc_values\n",
    "    out_edges_train[molecule_indices, atom_indices_1, atom_indices_0] = scc_values\n",
    "\n",
    "    return out_edges_train\n"
   ]
  },
  {
   "cell_type": "code",
   "execution_count": 9,
   "id": "298d1659",
   "metadata": {},
   "outputs": [
    {
     "data": {
      "text/plain": [
       "array([ 0.00231072, -0.01915859,  0.00192873,  0.        ,  0.        ,\n",
       "        0.        ,  1.        ,  0.        ], dtype=float32)"
      ]
     },
     "execution_count": 9,
     "metadata": {},
     "output_type": "execute_result"
    }
   ],
   "source": [
    "nodes_train, nodes_test = make_nodes(train_structures_df, test_structures_df)\n",
    "nodes_train[3,1]"
   ]
  },
  {
   "cell_type": "code",
   "execution_count": 10,
   "id": "0edb7692",
   "metadata": {},
   "outputs": [
    {
     "data": {
      "text/plain": [
       "array([1.091953  , 0.01484855, 1.0918355 , 0.00602488, 1.        ,\n",
       "       0.        , 0.        , 0.        , 0.        , 0.        ,\n",
       "       0.        , 0.        , 1.        , 0.        , 0.        ,\n",
       "       0.        ], dtype=float32)"
      ]
     },
     "execution_count": 10,
     "metadata": {},
     "output_type": "execute_result"
    }
   ],
   "source": [
    "in_edges_train, in_edges_test = make_in_edges(train_df, test_df, train_structures_df, test_structures_df, train_bonds, test_bonds)\n",
    "in_edges_train[0,0,1]"
   ]
  },
  {
   "cell_type": "code",
   "execution_count": 11,
   "id": "8437afea",
   "metadata": {},
   "outputs": [
    {
     "data": {
      "text/plain": [
       "(array([1.7831198e+00, 1.0095804e+00, 1.4697825e+00, 1.6995457e-03,\n",
       "        0.0000000e+00, 0.0000000e+00, 0.0000000e+00, 1.0000000e+00,\n",
       "        0.0000000e+00, 0.0000000e+00, 0.0000000e+00, 0.0000000e+00,\n",
       "        0.0000000e+00, 0.0000000e+00, 0.0000000e+00, 0.0000000e+00],\n",
       "       dtype=float32),\n",
       " array([0., 0., 0., 0., 0., 0., 0., 0., 0., 0., 0., 0., 0., 0., 0., 0.],\n",
       "       dtype=float32))"
      ]
     },
     "execution_count": 11,
     "metadata": {},
     "output_type": "execute_result"
    }
   ],
   "source": [
    "in_edges_train[0,2,1], in_edges_train[0,0,5], "
   ]
  },
  {
   "cell_type": "code",
   "execution_count": 12,
   "id": "45a9e91d",
   "metadata": {},
   "outputs": [
    {
     "data": {
      "text/plain": [
       "(0.5962285, 0.51320297, 0.5132022, 0.5132097, 0.13271385, 0.13271385)"
      ]
     },
     "execution_count": 12,
     "metadata": {},
     "output_type": "execute_result"
    }
   ],
   "source": [
    "out_edges_train = make_out_edges(train_df)\n",
    "out_edges_train[-1,0,9], out_edges_train[0,1,0], out_edges_train[0,0,2], out_edges_train[0,3,0], out_edges_train[0,1,4], out_edges_train[0,3,4]"
   ]
  },
  {
   "cell_type": "markdown",
   "id": "4c425196-aa78-43f0-b454-f32bd4b07796",
   "metadata": {},
   "source": [
    "### Step 2 : train MPNN"
   ]
  },
  {
   "cell_type": "code",
   "execution_count": 13,
   "id": "72406995",
   "metadata": {},
   "outputs": [],
   "source": [
    "N_EPOCHS = 20\n",
    "LEARNING_RATE = 0.001\n",
    "BATCH_SIZE = 16\n",
    "\n",
    "RATIO_TRAIN_VAL = 0.8"
   ]
  },
  {
   "cell_type": "markdown",
   "id": "3cfc9331",
   "metadata": {},
   "source": [
    "#### Data processing"
   ]
  },
  {
   "cell_type": "code",
   "execution_count": 14,
   "id": "c58c4f2d",
   "metadata": {},
   "outputs": [
    {
     "name": "stdout",
     "output_type": "stream",
     "text": [
      "(68009, 29, 29)\n",
      "(68009, 29, 29, 16)\n",
      "(68009, 29, 8)\n",
      "(17003, 29, 8)\n",
      "(17003, 29, 29, 16)\n"
     ]
    }
   ],
   "source": [
    "print(out_edges_train.shape)\n",
    "print(in_edges_train.shape)\n",
    "print(nodes_train.shape)\n",
    "print(nodes_test.shape)\n",
    "print(in_edges_test.shape)"
   ]
  },
  {
   "cell_type": "code",
   "execution_count": 15,
   "id": "3664b5ae",
   "metadata": {},
   "outputs": [],
   "source": [
    "out_edges_train = out_edges_train.reshape(-1,out_edges_train.shape[1]*out_edges_train.shape[2],1)\n",
    "in_edges_train = in_edges_train.reshape(-1,in_edges_train.shape[1]*in_edges_train.shape[2],in_edges_train.shape[3])\n",
    "in_edges_test  = in_edges_test.reshape(-1,in_edges_test.shape[1]*in_edges_test.shape[2],in_edges_test.shape[3])\n",
    "\n",
    "nodes_train, in_edges_train, out_labels = shuffle(nodes_train, in_edges_train, out_edges_train)"
   ]
  },
  {
   "cell_type": "code",
   "execution_count": 16,
   "id": "c2126e17",
   "metadata": {},
   "outputs": [
    {
     "name": "stdout",
     "output_type": "stream",
     "text": [
      "(68009, 29, 8)\n",
      "(68009, 841, 16)\n",
      "(68009, 841, 1)\n",
      "(17003, 29, 8)\n",
      "(17003, 841, 16)\n"
     ]
    }
   ],
   "source": [
    "print(nodes_train.shape)\n",
    "print(in_edges_train.shape)\n",
    "print(out_labels.shape)\n",
    "print(nodes_test.shape)\n",
    "print(in_edges_test.shape)"
   ]
  },
  {
   "cell_type": "markdown",
   "id": "b8825a71",
   "metadata": {},
   "source": [
    "#### Dataset Definition"
   ]
  },
  {
   "cell_type": "code",
   "execution_count": 17,
   "id": "66d2fd69",
   "metadata": {},
   "outputs": [],
   "source": [
    "class Set(Dataset):\n",
    "    def __init__(self, in_nodes, in_edges, out_edges):\n",
    "        self.nodes = in_nodes\n",
    "        self.in_edges = in_edges\n",
    "        self.out_edges = out_edges\n",
    "        \n",
    "    def __len__(self):\n",
    "        return len(self.nodes)\n",
    "        \n",
    "    def __getitem__(self, idx):\n",
    "        s1 = self.nodes[idx]\n",
    "        s2 = self.in_edges[idx]\n",
    "        s3 = self.out_edges[idx]\n",
    "        return s1, s2, s3\n",
    "\n",
    "nb_train = int(len(nodes_train)*RATIO_TRAIN_VAL)\n",
    "train_set = Set(nodes_train[:nb_train], in_edges_train[:nb_train], out_labels[:nb_train]) \n",
    "val_set = Set(nodes_train[nb_train:], in_edges_train[nb_train:], out_labels[nb_train:]) \n",
    "\n",
    "train_loader = DataLoader(train_set, batch_size=BATCH_SIZE, shuffle=True)\n",
    "val_loader = DataLoader(val_set, batch_size=BATCH_SIZE, shuffle=True)"
   ]
  },
  {
   "cell_type": "markdown",
   "id": "f1500d93",
   "metadata": {},
   "source": [
    "#### Model"
   ]
  },
  {
   "cell_type": "code",
   "execution_count": 18,
   "id": "2926d56a-da0d-42eb-9914-a6ea95d715ca",
   "metadata": {},
   "outputs": [],
   "source": [
    "class Message_Passer_NNM(nn.Module):\n",
    "    def __init__(self, node_dim, nb_features):\n",
    "        super(Message_Passer_NNM, self).__init__()\n",
    "        self.nb_features = nb_features\n",
    "        self.node_dim = node_dim\n",
    "        self.nn = nn.Sequential(\n",
    "                    nn.Linear(in_features=self.nb_features, out_features=self.node_dim**2),\n",
    "                    nn.ReLU()\n",
    "                )\n",
    "      \n",
    "    def forward(self, node_j, edge_ij):\n",
    "        # Embed the edge as a matrix\n",
    "        A = self.nn(edge_ij)\n",
    "        \n",
    "        # Reshape so matrix mult can be done\n",
    "        A = A.view(-1, self.node_dim, self.node_dim)\n",
    "        node_j = node_j.view(-1, self.node_dim, 1)\n",
    "        \n",
    "        # Multiply edge matrix by node and shape into message list\n",
    "        messages = torch.matmul(A, node_j)\n",
    "        messages = messages.view(-1, edge_ij.shape[1], self.node_dim)\n",
    "\n",
    "        return messages"
   ]
  },
  {
   "cell_type": "code",
   "execution_count": 19,
   "id": "23afc1ed",
   "metadata": {},
   "outputs": [],
   "source": [
    "class Message_Agg(nn.Module):\n",
    "    def __init__(self):\n",
    "        super(Message_Agg, self).__init__()\n",
    "    \n",
    "    def forward(self, messages):\n",
    "        return torch.sum(messages, 2)"
   ]
  },
  {
   "cell_type": "code",
   "execution_count": 20,
   "id": "223bf27e",
   "metadata": {},
   "outputs": [],
   "source": [
    "class Update_Func_GRU(nn.Module):\n",
    "    def __init__(self, state_dim):\n",
    "        super(Update_Func_GRU, self).__init__()\n",
    "        self.state_dim = state_dim\n",
    "        self.GRU = nn.GRU(input_size=state_dim, hidden_size=state_dim, batch_first=True)\n",
    "        \n",
    "    def forward(self, old_state, agg_messages):\n",
    "        # Concat so old_state and messages are in sequence\n",
    "        n_nodes = old_state.shape[1]\n",
    "        \n",
    "        concat = torch.cat([old_state.view(-1, 1, self.state_dim), agg_messages.view(-1, 1, self.state_dim)], dim=1)\n",
    "        # Concat size 29*batch_size, 2, state_dim\n",
    "        \n",
    "        # Apply GRU\n",
    "        # print(\"Before GRU\", concat.shape)\n",
    "        activation, _ = self.GRU(concat)\n",
    "        # print(\"After GRU\", activation.shape)\n",
    "    \n",
    "        return activation[:, -1, :].view(-1, n_nodes, self.state_dim)"
   ]
  },
  {
   "cell_type": "code",
   "execution_count": 21,
   "id": "a19d05bd",
   "metadata": {},
   "outputs": [],
   "source": [
    "# Define the final output layer \n",
    "class Edge_Regressor(nn.Module):\n",
    "    def __init__(self, state_dim, nb_features_edge, intermediate_dim):\n",
    "        super(Edge_Regressor, self).__init__()\n",
    "        \n",
    "        self.hidden_layer_1 = nn.Sequential(\n",
    "                    nn.Linear(2*state_dim + nb_features_edge, intermediate_dim),\n",
    "                    nn.ReLU()\n",
    "                )\n",
    "        \n",
    "        self.hidden_layer_2 = nn.Sequential(\n",
    "                    nn.Linear(intermediate_dim, intermediate_dim),\n",
    "                    nn.ReLU()\n",
    "                )\n",
    "        \n",
    "        self.output_layer = nn.Linear(intermediate_dim, 1)\n",
    "\n",
    "    def forward(self, nodes, edges):\n",
    "        n_nodes = nodes.shape[1]\n",
    "        node_dim = nodes.shape[2]\n",
    "\n",
    "        state_i = nodes.repeat(1, 1, n_nodes).view(-1, n_nodes ** 2, node_dim)\n",
    "        state_j = nodes.repeat(1, n_nodes, 1)\n",
    "\n",
    "        concat = torch.cat([state_i, edges, state_j], dim=-1)\n",
    "        activation_1 = self.hidden_layer_1(concat)\n",
    "        activation_2 = self.hidden_layer_2(activation_1)\n",
    "\n",
    "        return self.output_layer(activation_2)"
   ]
  },
  {
   "cell_type": "code",
   "execution_count": 22,
   "id": "1dfb8114",
   "metadata": {},
   "outputs": [],
   "source": [
    "class MP_Layer(nn.Module):\n",
    "    def __init__(self, state_dim, nb_features_edge):\n",
    "        super(MP_Layer, self).__init__()\n",
    "        \n",
    "        self.message_passers = Message_Passer_NNM(node_dim=state_dim, nb_features=nb_features_edge)\n",
    "        self.message_aggs = Message_Agg()\n",
    "        self.update_functions = Update_Func_GRU(state_dim=state_dim)\n",
    "\n",
    "    def forward(self, nodes, edges, mask):\n",
    "        n_nodes = nodes.shape[1]\n",
    "        node_dim = nodes.shape[2]\n",
    "\n",
    "        state_j = nodes.repeat(1, n_nodes, 1)\n",
    "        messages = self.message_passers(state_j, edges)\n",
    "\n",
    "        # Multiply messages by the mask to ignore messages from non-existent nodes\n",
    "        masked = messages * mask\n",
    "        masked = masked.view(messages.shape[0], n_nodes, n_nodes, node_dim)\n",
    "\n",
    "        agg_m = self.message_aggs(masked)\n",
    "        nodes_out = self.update_functions(nodes, agg_m)\n",
    "        # Maybe add a batch norm.\n",
    "        return nodes_out"
   ]
  },
  {
   "cell_type": "code",
   "execution_count": 27,
   "id": "de4b68c9",
   "metadata": {},
   "outputs": [],
   "source": [
    "class MPNN(nn.Module):\n",
    "    def __init__(self, nb_features_node, nb_features_edge, out_int_dim, state_dim, T):\n",
    "        super(MPNN, self).__init__()\n",
    "\n",
    "        self.T = T\n",
    "        self.embed = nn.Sequential(\n",
    "                nn.Linear(nb_features_node, state_dim),\n",
    "                nn.ReLU()\n",
    "        )\n",
    "        self.MP = MP_Layer(state_dim, nb_features_edge)\n",
    "        self.edge_regressor = Edge_Regressor(state_dim, nb_features_edge, out_int_dim)\n",
    "        self.relu = nn.ReLU()\n",
    "\n",
    "    def forward(self, edges, nodes):\n",
    "        # Get distances, and create a mask wherever 0 (i.e., non-existent nodes)\n",
    "        # This also masks node self-interactions...\n",
    "        # This assumes distance is last\n",
    "        len_edges = edges.shape[-1]\n",
    "\n",
    "        x, _ = torch.split(edges, [1, len_edges - 1], dim=2)\n",
    "\n",
    "        mask = torch.where(x == 0, x, torch.ones_like(x))\n",
    "       \n",
    "        # Embed nodes to the chosen node dimension\n",
    "        nodes = self.embed(nodes)\n",
    "\n",
    "        # Run the T message-passing steps\n",
    "        for mp in range(self.T):\n",
    "            nodes = self.MP(nodes, edges, mask)\n",
    "\n",
    "        # Regress the output values\n",
    "        con_edges = self.edge_regressor(nodes, edges)\n",
    "\n",
    "        return con_edges"
   ]
  },
  {
   "cell_type": "markdown",
   "id": "af231810",
   "metadata": {},
   "source": [
    "### Training Loop"
   ]
  },
  {
   "cell_type": "code",
   "execution_count": 28,
   "id": "b51085ce",
   "metadata": {},
   "outputs": [],
   "source": [
    "mpnn = MPNN(nb_features_node = 8, nb_features_edge = 16, out_int_dim = 512, state_dim = 128, T = 4)\n",
    "device = 'cuda' if torch.cuda.is_available() else 'cpu'\n",
    "mpnn = mpnn.to(device)"
   ]
  },
  {
   "cell_type": "code",
   "execution_count": 29,
   "id": "98e9dfc2",
   "metadata": {},
   "outputs": [],
   "source": [
    "def log_mae(orig, preds):\n",
    "    # Mask values for which no scalar coupling exists\n",
    "    mask = orig != 0\n",
    "    nums = orig[mask]\n",
    "    preds = preds[mask]\n",
    "\n",
    "    reconstruction_error = torch.log(torch.mean(torch.abs(nums - preds)))\n",
    "\n",
    "    return reconstruction_error"
   ]
  },
  {
   "cell_type": "code",
   "execution_count": 30,
   "id": "42b04539",
   "metadata": {},
   "outputs": [
    {
     "name": "stdout",
     "output_type": "stream",
     "text": [
      "__________EPOCH 1__________\n"
     ]
    },
    {
     "data": {
      "application/vnd.jupyter.widget-view+json": {
       "model_id": "d33a722b184543b499423f5740631477",
       "version_major": 2,
       "version_minor": 0
      },
      "text/plain": [
       "  0%|          | 0/3401 [00:00<?, ?it/s]"
      ]
     },
     "metadata": {},
     "output_type": "display_data"
    },
    {
     "name": "stdout",
     "output_type": "stream",
     "text": [
      "average train loss over an epoch : -4.203890760535179\n"
     ]
    },
    {
     "data": {
      "application/vnd.jupyter.widget-view+json": {
       "model_id": "8ece9c4ebdc349d0b5550cc9f926ada4",
       "version_major": 2,
       "version_minor": 0
      },
      "text/plain": [
       "  0%|          | 0/851 [00:00<?, ?it/s]"
      ]
     },
     "metadata": {},
     "output_type": "display_data"
    },
    {
     "name": "stdout",
     "output_type": "stream",
     "text": [
      "average val loss -4.349680278051894\n",
      "__________EPOCH 2__________\n"
     ]
    },
    {
     "data": {
      "application/vnd.jupyter.widget-view+json": {
       "model_id": "d0235be0fa7443bcbd5a65b7c349b01f",
       "version_major": 2,
       "version_minor": 0
      },
      "text/plain": [
       "  0%|          | 0/3401 [00:00<?, ?it/s]"
      ]
     },
     "metadata": {},
     "output_type": "display_data"
    },
    {
     "name": "stdout",
     "output_type": "stream",
     "text": [
      "average train loss over an epoch : -4.4633750998248285\n"
     ]
    },
    {
     "data": {
      "application/vnd.jupyter.widget-view+json": {
       "model_id": "56611b49954d419b8d639af2c7b944bc",
       "version_major": 2,
       "version_minor": 0
      },
      "text/plain": [
       "  0%|          | 0/851 [00:00<?, ?it/s]"
      ]
     },
     "metadata": {},
     "output_type": "display_data"
    },
    {
     "name": "stdout",
     "output_type": "stream",
     "text": [
      "average val loss -4.464021510158947\n",
      "__________EPOCH 3__________\n"
     ]
    },
    {
     "data": {
      "application/vnd.jupyter.widget-view+json": {
       "model_id": "9c0b906a8ad0465b85e8d80ff9a30140",
       "version_major": 2,
       "version_minor": 0
      },
      "text/plain": [
       "  0%|          | 0/3401 [00:00<?, ?it/s]"
      ]
     },
     "metadata": {},
     "output_type": "display_data"
    },
    {
     "name": "stdout",
     "output_type": "stream",
     "text": [
      "average train loss over an epoch : -4.541327227497409\n"
     ]
    },
    {
     "data": {
      "application/vnd.jupyter.widget-view+json": {
       "model_id": "cdb017ec3e6e4291b538ec73ec1d82dc",
       "version_major": 2,
       "version_minor": 0
      },
      "text/plain": [
       "  0%|          | 0/851 [00:00<?, ?it/s]"
      ]
     },
     "metadata": {},
     "output_type": "display_data"
    },
    {
     "name": "stdout",
     "output_type": "stream",
     "text": [
      "average val loss -4.570086445007145\n",
      "__________EPOCH 4__________\n"
     ]
    },
    {
     "data": {
      "application/vnd.jupyter.widget-view+json": {
       "model_id": "1b4d7ede56d248c79c6ca0599942273b",
       "version_major": 2,
       "version_minor": 0
      },
      "text/plain": [
       "  0%|          | 0/3401 [00:00<?, ?it/s]"
      ]
     },
     "metadata": {},
     "output_type": "display_data"
    },
    {
     "name": "stdout",
     "output_type": "stream",
     "text": [
      "average train loss over an epoch : -4.593523566984352\n"
     ]
    },
    {
     "data": {
      "application/vnd.jupyter.widget-view+json": {
       "model_id": "d4e49d35a6d845ffbb1434302e86763d",
       "version_major": 2,
       "version_minor": 0
      },
      "text/plain": [
       "  0%|          | 0/851 [00:00<?, ?it/s]"
      ]
     },
     "metadata": {},
     "output_type": "display_data"
    },
    {
     "name": "stdout",
     "output_type": "stream",
     "text": [
      "average val loss -4.601840609809346\n",
      "__________EPOCH 5__________\n"
     ]
    },
    {
     "data": {
      "application/vnd.jupyter.widget-view+json": {
       "model_id": "e0939a3d676c4592bdaed16c3ff8477b",
       "version_major": 2,
       "version_minor": 0
      },
      "text/plain": [
       "  0%|          | 0/3401 [00:00<?, ?it/s]"
      ]
     },
     "metadata": {},
     "output_type": "display_data"
    },
    {
     "name": "stdout",
     "output_type": "stream",
     "text": [
      "average train loss over an epoch : -4.636577538482164\n"
     ]
    },
    {
     "data": {
      "application/vnd.jupyter.widget-view+json": {
       "model_id": "9a5510165ca74b0195b156da623eebbb",
       "version_major": 2,
       "version_minor": 0
      },
      "text/plain": [
       "  0%|          | 0/851 [00:00<?, ?it/s]"
      ]
     },
     "metadata": {},
     "output_type": "display_data"
    },
    {
     "name": "stdout",
     "output_type": "stream",
     "text": [
      "average val loss -4.620414332133202\n",
      "__________EPOCH 6__________\n"
     ]
    },
    {
     "data": {
      "application/vnd.jupyter.widget-view+json": {
       "model_id": "0b903314746e421ab46e1e2ba6fdbc3d",
       "version_major": 2,
       "version_minor": 0
      },
      "text/plain": [
       "  0%|          | 0/3401 [00:00<?, ?it/s]"
      ]
     },
     "metadata": {},
     "output_type": "display_data"
    },
    {
     "ename": "KeyboardInterrupt",
     "evalue": "",
     "output_type": "error",
     "traceback": [
      "\u001b[0;31m---------------------------------------------------------------------------\u001b[0m",
      "\u001b[0;31mKeyboardInterrupt\u001b[0m                         Traceback (most recent call last)",
      "Cell \u001b[0;32mIn[30], line 15\u001b[0m\n\u001b[1;32m     13\u001b[0m     loss\u001b[38;5;241m.\u001b[39mbackward()\n\u001b[1;32m     14\u001b[0m     optimizer\u001b[38;5;241m.\u001b[39mstep()\n\u001b[0;32m---> 15\u001b[0m     total_loss \u001b[38;5;241m+\u001b[39m\u001b[38;5;241m=\u001b[39m \u001b[43mloss\u001b[49m\u001b[38;5;241;43m.\u001b[39;49m\u001b[43mitem\u001b[49m\u001b[43m(\u001b[49m\u001b[43m)\u001b[49m\n\u001b[1;32m     16\u001b[0m average_loss \u001b[38;5;241m=\u001b[39m total_loss \u001b[38;5;241m/\u001b[39m \u001b[38;5;28mlen\u001b[39m(train_loader)\n\u001b[1;32m     17\u001b[0m \u001b[38;5;28mprint\u001b[39m(\u001b[38;5;124m\"\u001b[39m\u001b[38;5;124maverage train loss over an epoch :\u001b[39m\u001b[38;5;124m\"\u001b[39m, average_loss)\n",
      "\u001b[0;31mKeyboardInterrupt\u001b[0m: "
     ]
    }
   ],
   "source": [
    "optimizer = torch.optim.Adam(params = mpnn.parameters(), lr=LEARNING_RATE)\n",
    "\n",
    "for i in range(N_EPOCHS):\n",
    "    print(f\"__________EPOCH {i+1}__________\")\n",
    "    mpnn.train()\n",
    "    total_loss = 0\n",
    "    for batch in tqdm(train_loader):\n",
    "        nodes, in_edges, out_edges = batch\n",
    "        nodes, in_edges, out_edges = nodes.to(device), in_edges.to(device), out_edges.to(device)\n",
    "        out = mpnn(in_edges, nodes)\n",
    "        loss = log_mae(out_edges, out)\n",
    "        optimizer.zero_grad()\n",
    "        loss.backward()\n",
    "        optimizer.step()\n",
    "        total_loss += loss.item()\n",
    "    average_loss = total_loss / len(train_loader)\n",
    "    print(\"average train loss over an epoch :\", average_loss)\n",
    "\n",
    "    mpnn.eval()\n",
    "    val_loss = 0\n",
    "    with torch.no_grad():\n",
    "        for batch in tqdm(val_loader):\n",
    "            nodes, in_edges, out_edges = batch\n",
    "            nodes, in_edges, out_edges = nodes.to(device), in_edges.to(device), out_edges.to(device)\n",
    "            out = mpnn(in_edges, nodes)\n",
    "            loss = log_mae(out_edges, out)\n",
    "            val_loss += loss.item()\n",
    "    average_loss = val_loss / len(val_loader)\n",
    "    print(\"average val loss\", average_loss)"
   ]
  },
  {
   "cell_type": "code",
   "execution_count": null,
   "id": "09e978b6",
   "metadata": {},
   "outputs": [],
   "source": []
  },
  {
   "cell_type": "code",
   "execution_count": null,
   "id": "ca11d2ba",
   "metadata": {},
   "outputs": [],
   "source": []
  },
  {
   "cell_type": "code",
   "execution_count": null,
   "id": "840753a7",
   "metadata": {},
   "outputs": [],
   "source": []
  }
 ],
 "metadata": {
  "kernelspec": {
   "display_name": "Python 3 (ipykernel)",
   "language": "python",
   "name": "python3"
  },
  "language_info": {
   "codemirror_mode": {
    "name": "ipython",
    "version": 3
   },
   "file_extension": ".py",
   "mimetype": "text/x-python",
   "name": "python",
   "nbconvert_exporter": "python",
   "pygments_lexer": "ipython3",
   "version": "3.9.16"
  }
 },
 "nbformat": 4,
 "nbformat_minor": 5
}
