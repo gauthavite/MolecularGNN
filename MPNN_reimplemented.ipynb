{
 "cells": [
  {
   "cell_type": "code",
   "execution_count": 158,
   "id": "c1ab4fc9-f5d7-485b-a087-d38d25dea7ff",
   "metadata": {},
   "outputs": [],
   "source": [
    "import torch\n",
    "import torch.nn as nn\n",
    "import torch.nn.functional as F\n",
    "import numpy as np\n",
    "from sklearn.utils import shuffle\n",
    "from torch.utils.data import Dataset, DataLoader\n",
    "from tqdm import tqdm"
   ]
  },
  {
   "cell_type": "code",
   "execution_count": 19,
   "id": "037a2309-f785-4af8-98e6-7a6ad3407255",
   "metadata": {},
   "outputs": [],
   "source": [
    "datadir = \"champs-scalar-coupling/\"\n",
    "\n",
    "nodes_train     = np.load(datadir + \"champs-basic-graph/nodes_train.npz\" )['arr_0']\n",
    "in_edges_train  = np.load(datadir + \"champs-basic-graph/in_edges_train.npz\")['arr_0']\n",
    "out_edges_train = np.load(datadir + \"champs-basic-graph/out_edges_train.npz\" )['arr_0']\n",
    "\n",
    "nodes_test     = np.load(datadir + \"champs-basic-graph/nodes_test.npz\" )['arr_0']\n",
    "in_edges_test  = np.load(datadir + \"champs-basic-graph/in_edges_test.npz\")['arr_0']"
   ]
  },
  {
   "cell_type": "code",
   "execution_count": 20,
   "id": "48c11796-07cc-4299-a5bd-28d52d34beaf",
   "metadata": {},
   "outputs": [
    {
     "name": "stdout",
     "output_type": "stream",
     "text": [
      "(85003, 29, 5)\n",
      "(85003, 29, 29, 16)\n",
      "(85003, 29, 29, 1)\n",
      "(45772, 29, 5)\n",
      "(45772, 29, 29, 16)\n"
     ]
    }
   ],
   "source": [
    "print(nodes_train.shape)\n",
    "print(in_edges_train.shape)\n",
    "print(out_edges_train.shape)\n",
    "print(nodes_test.shape)\n",
    "print(in_edges_test.shape)"
   ]
  },
  {
   "cell_type": "code",
   "execution_count": 21,
   "id": "8969c7b7-eeae-47d0-bb58-0c8f7f46a73c",
   "metadata": {},
   "outputs": [],
   "source": [
    "out_labels = out_edges_train.reshape(-1,out_edges_train.shape[1]*out_edges_train.shape[2],1)\n",
    "in_edges_train = in_edges_train.reshape(-1,in_edges_train.shape[1]*in_edges_train.shape[2],in_edges_train.shape[3])\n",
    "in_edges_test  = in_edges_test.reshape(-1,in_edges_test.shape[1]*in_edges_test.shape[2],in_edges_test.shape[3])\n",
    "\n",
    "nodes_train, in_edges_train, out_labels = shuffle(nodes_train, in_edges_train, out_labels)"
   ]
  },
  {
   "cell_type": "code",
   "execution_count": 23,
   "id": "f95cd7b8-6166-4b1c-83ac-d8cc56368286",
   "metadata": {},
   "outputs": [
    {
     "name": "stdout",
     "output_type": "stream",
     "text": [
      "(85003, 29, 5)\n",
      "(85003, 841, 16)\n",
      "(85003, 841, 1)\n",
      "(45772, 29, 5)\n",
      "(45772, 841, 16)\n"
     ]
    }
   ],
   "source": [
    "print(nodes_train.shape)\n",
    "print(in_edges_train.shape)\n",
    "print(out_labels.shape)\n",
    "print(nodes_test.shape)\n",
    "print(in_edges_test.shape)"
   ]
  },
  {
   "cell_type": "code",
   "execution_count": 164,
   "id": "dda1873f-6be9-4f87-98ae-f4387f9057c1",
   "metadata": {},
   "outputs": [],
   "source": [
    "class Message_Passer_NNM(nn.Module):\n",
    "    def __init__(self, node_dim, nb_features_edge):\n",
    "        super(Message_Passer_NNM, self).__init__()\n",
    "        self.node_dim = node_dim\n",
    "        self.linear = nn.Sequential(nn.Linear(nb_features_edge, self.node_dim * self.node_dim), nn.ReLU())\n",
    "      \n",
    "    def forward(self, node_j, edge_ij):\n",
    "\n",
    "        #print(\"    ===== MESSAGE PASSER=========\")\n",
    "        #print('    node_j', node_j.shape)\n",
    "        #print('    edge_ij', edge_ij.shape)\n",
    "        A = self.linear(edge_ij)\n",
    "\n",
    "        #print('    edge_ij embedded', A.shape)\n",
    "\n",
    "        A = A.view(-1, self.node_dim, self.node_dim)\n",
    "\n",
    "        #print('    reshape A so that matrix can be done', A.shape)\n",
    "        \n",
    "        node_j = node_j.view(-1, self.node_dim, 1)\n",
    "\n",
    "        #print('    reshape node_j so that matrix can be done', node_j.shape)\n",
    "\n",
    "        messages = torch.matmul(A, node_j)\n",
    "\n",
    "        #print('    messages', messages.shape)\n",
    "        messages = messages.view(-1, edge_ij.size(1), self.node_dim)\n",
    "\n",
    "        #print('    messages reshaped', messages.shape)\n",
    "\n",
    "        return messages"
   ]
  },
  {
   "cell_type": "code",
   "execution_count": 165,
   "id": "f946748e-b75e-43d8-ae82-37f23b85898b",
   "metadata": {},
   "outputs": [],
   "source": [
    "class Message_Agg(nn.Module):\n",
    "    def __init__(self):\n",
    "        super(Message_Agg, self).__init__()\n",
    "\n",
    "    def forward(self, messages):\n",
    "        #print('    ==========MESSAGE AGREG==========')\n",
    "        s = torch.sum(messages, 2)\n",
    "        #print('    sum after agregation of messages', s.shape)\n",
    "        return s"
   ]
  },
  {
   "cell_type": "code",
   "execution_count": 166,
   "id": "4192770a-03ea-41a4-a124-2f85c84c92ec",
   "metadata": {},
   "outputs": [],
   "source": [
    "class Update_Func_GRU(nn.Module):\n",
    "    def __init__(self, state_dim):\n",
    "        super(Update_Func_GRU, self).__init__()\n",
    "        self.GRU = nn.GRU(state_dim, state_dim, batch_first=True)\n",
    "        \n",
    "    def forward(self, old_state, agg_messages):\n",
    "\n",
    "        #print('    ==========UPDATE GRU==========')\n",
    "\n",
    "        #print('    old state', old_state.shape)\n",
    "        #print('    agg_messages', agg_messages.shape)\n",
    "        \n",
    "        n_nodes, node_dim = old_state.size(1), old_state.size(2)\n",
    "\n",
    "        #print('    n_nodes', n_nodes)\n",
    "        #print('    node_dim', node_dim)\n",
    "        \n",
    "        old_state = old_state.view(-1, 1, old_state.size(-1))\n",
    "\n",
    "        #print('    old_state after reshape', old_state.shape)\n",
    "        agg_messages = agg_messages.view(-1, 1, agg_messages.size(-1))\n",
    "        #print('    agg_messages after reshape', agg_messages.shape)\n",
    "        concat = torch.cat((old_state, agg_messages), dim=1)\n",
    "        #print('    concat', concat.shape)\n",
    "        \n",
    "        activation, _ = self.GRU(concat)\n",
    "        activation = activation[:,-1,:]\n",
    "        #print('    activation', activation.shape)\n",
    "        activation = activation.view(-1, n_nodes, node_dim)\n",
    "        #print('    activation after reshape', activation.shape)\n",
    "        \n",
    "        return activation"
   ]
  },
  {
   "cell_type": "code",
   "execution_count": 167,
   "id": "ce75f0dd-c54f-4174-a7bd-63322b7c3d5c",
   "metadata": {},
   "outputs": [],
   "source": [
    "class Edge_Regressor(nn.Module):\n",
    "    def __init__(self, state_dim, nb_features_edge, intermediate_dim):\n",
    "        super(Edge_Regressor, self).__init__()\n",
    "        self.hidden_layer_1 = nn.Sequential(nn.Linear(2*state_dim + nb_features_edge, intermediate_dim), nn.ReLU())\n",
    "        self.hidden_layer_2 = nn.Sequential(nn.Linear(intermediate_dim, intermediate_dim), nn.ReLU())\n",
    "        self.output_layer = nn.Linear(intermediate_dim, 1)\n",
    "\n",
    "        #print(intermediate_dim)\n",
    "        \n",
    "    def forward(self, nodes, edges):\n",
    "        #print('  ============EDGE REGRESSOR===========')\n",
    "        \n",
    "        # Remember node dims\n",
    "        n_nodes, node_dim = nodes.size(1), nodes.size(2)\n",
    "        \n",
    "        # Tile and reshape to match edges\n",
    "        state_i = nodes.repeat(1, 1, n_nodes).view(-1, n_nodes * n_nodes, node_dim)\n",
    "        state_j = nodes.repeat(1, n_nodes, 1)\n",
    "\n",
    "        #print('state_i', state_i.shape)\n",
    "        #print('state_j', state_j.shape)\n",
    "        \n",
    "        # Concatenate edges and nodes and apply MLP\n",
    "        concat = torch.cat((state_i, edges, state_j), dim=2)\n",
    "\n",
    "        #print('concat', concat.shape)\n",
    "        \n",
    "        activation_1 = self.hidden_layer_1(concat)  \n",
    "\n",
    "        #print('activation_1', activation_1.shape)\n",
    "        \n",
    "        activation_2 = self.hidden_layer_2(activation_1)\n",
    "\n",
    "        #print('activation_2', activation_2.shape)\n",
    "\n",
    "        return self.output_layer(activation_2)"
   ]
  },
  {
   "cell_type": "code",
   "execution_count": 168,
   "id": "658d1319-4414-4898-944d-b14455e40a15",
   "metadata": {},
   "outputs": [],
   "source": [
    "class MP_Layer(nn.Module):\n",
    "    def __init__(self, state_dim, nb_features_edge):\n",
    "        super(MP_Layer, self).__init__()\n",
    "        self.message_passers = Message_Passer_NNM(node_dim=state_dim, nb_features_edge=nb_features_edge)\n",
    "        self.message_aggs = Message_Agg()\n",
    "        self.update_functions = Update_Func_GRU(state_dim=state_dim)\n",
    "        self.state_dim = state_dim\n",
    "\n",
    "    def forward(self, nodes, edges, mask):\n",
    "\n",
    "        #print('  ============MP LAYER===========')\n",
    "        \n",
    "        n_nodes, node_dim = nodes.size(1), nodes.size(2)\n",
    "        state_j = nodes.repeat(1, n_nodes, 1)\n",
    "\n",
    "        #print('  n_nodes', n_nodes)\n",
    "        #print('  node_dim', node_dim)\n",
    "        #print('  state_j', state_j.shape)\n",
    "\n",
    "        messages = self.message_passers(state_j, edges)\n",
    "\n",
    "        # Multiply messages by the mask to ignore messages from non-existent nodes\n",
    "        masked = messages * mask\n",
    "\n",
    "        #print('  masked', masked.shape)\n",
    "\n",
    "        masked = masked.view(messages.size(0), n_nodes, n_nodes, node_dim)\n",
    "\n",
    "        #print('  masked after reshape', masked.shape)\n",
    "\n",
    "        agg_m = self.message_aggs(masked)\n",
    "\n",
    "        #print('  agg messages', agg_m.shape)\n",
    "\n",
    "        updated_nodes = self.update_functions(nodes, agg_m)\n",
    "\n",
    "        #print('  updated_nodes are nodes out', updated_nodes.shape)\n",
    "\n",
    "        nodes_out = updated_nodes\n",
    "\n",
    "        return nodes_out"
   ]
  },
  {
   "cell_type": "code",
   "execution_count": 183,
   "id": "71c89383-9068-4f74-8853-18ee72f039bb",
   "metadata": {},
   "outputs": [],
   "source": [
    "class MPNN(nn.Module):\n",
    "    def __init__(self, nb_features_node, nb_features_edge, out_int_dim, state_dim, T):\n",
    "        super(MPNN, self).__init__()\n",
    "        self.T = T\n",
    "        self.embed = nn.Sequential(nn.Linear(nb_features_node, state_dim), nn.ReLU())\n",
    "        self.MP = MP_Layer(state_dim, nb_features_edge)\n",
    "        self.edge_regressor = Edge_Regressor(state_dim, nb_features_edge, out_int_dim)\n",
    "\n",
    "    def forward(self, adj_input, nod_input):\n",
    "\n",
    "        #print(\"=========MPNN=========\")\n",
    "        nodes = nod_input\n",
    "        edges = adj_input\n",
    "\n",
    "        #print('nodes input : ', nodes.shape)\n",
    "        #print('edges input : ', edges.shape)\n",
    "\n",
    "        # Get distances, and create a mask wherever 0 (i.e., non-existent nodes)\n",
    "        # This also masks node self-interactions...\n",
    "        # This assumes distance is last\n",
    "        len_edges = edges.shape[-1]\n",
    "\n",
    "        _, x = torch.split(edges, [len_edges - 1, 1], dim=2)\n",
    "\n",
    "        #print('x', x.shape)\n",
    "        \n",
    "        mask = torch.where(x == 0, x, torch.ones_like(x))\n",
    "\n",
    "        #print('mask', mask.shape)\n",
    "\n",
    "        # Embed nodes to the chosen node dimension\n",
    "        nodes = self.embed(nodes)\n",
    "\n",
    "        #print('nodes before the MP layers', nodes.shape)\n",
    "        #print('edges before the MP layers', edges.shape)\n",
    "\n",
    "        # Run the T message-passing steps\n",
    "        for mp in range(self.T):\n",
    "            nodes = self.MP(nodes, edges, mask)\n",
    "\n",
    "        #print('nodes after the MP layers', nodes.shape)\n",
    "\n",
    "        # Regress the output values\n",
    "        con_edges = self.edge_regressor(nodes, edges)\n",
    "\n",
    "        return con_edges"
   ]
  },
  {
   "cell_type": "code",
   "execution_count": 184,
   "id": "7f63f297-ef07-412d-9c84-6dfd794e7f79",
   "metadata": {},
   "outputs": [],
   "source": [
    "input_edges = in_edges_train[:10]\n",
    "input_nodes = nodes_train[:10]"
   ]
  },
  {
   "cell_type": "code",
   "execution_count": 185,
   "id": "edb9c4a9-fdff-4c74-97db-6fea383d9563",
   "metadata": {},
   "outputs": [],
   "source": [
    "mpnn = MPNN(nb_features_node = 5, nb_features_edge = 16, out_int_dim = 512, state_dim = 128, T = 4)"
   ]
  },
  {
   "cell_type": "code",
   "execution_count": 186,
   "id": "63540a89-2098-4937-8c89-c1434ea9fe91",
   "metadata": {},
   "outputs": [],
   "source": [
    "out = mpnn(torch.Tensor(input_edges), torch.Tensor(input_nodes))"
   ]
  },
  {
   "cell_type": "code",
   "execution_count": 187,
   "id": "17637b38-a167-49a9-ba17-55ce51e80566",
   "metadata": {},
   "outputs": [
    {
     "data": {
      "text/plain": [
       "torch.Size([10, 841, 1])"
      ]
     },
     "execution_count": 187,
     "metadata": {},
     "output_type": "execute_result"
    }
   ],
   "source": [
    "out.shape"
   ]
  },
  {
   "cell_type": "code",
   "execution_count": 188,
   "id": "422210b3-2843-480d-8b3e-2bba74b2594a",
   "metadata": {},
   "outputs": [],
   "source": [
    "def log_mae(orig, preds):\n",
    "    # Mask values for which no scalar coupling exists\n",
    "    mask = orig != 0\n",
    "    nums = orig[mask]\n",
    "    preds = preds[mask]\n",
    "\n",
    "    reconstruction_error = torch.log(torch.mean(torch.abs(nums - preds)))\n",
    "\n",
    "    return reconstruction_error"
   ]
  },
  {
   "cell_type": "code",
   "execution_count": 189,
   "id": "58ed57a7-bf92-49f6-a12c-9869ae701c25",
   "metadata": {},
   "outputs": [],
   "source": [
    "class Set(Dataset):\n",
    "    def __init__(self, in_nodes, in_edges, out_edges):\n",
    "        self.nodes = in_nodes\n",
    "        self.in_edges = in_edges\n",
    "        self.out_edges = out_edges\n",
    "    def __len__(self):\n",
    "        return len(self.nodes)\n",
    "    def __getitem__(self, idx):\n",
    "        s1 = self.nodes[idx]\n",
    "        s2 = self.in_edges[idx]\n",
    "        s3 = self.out_edges[idx]\n",
    "        return s1, s2, s3\n",
    "\n",
    "train_set = Set(in_edges_train[:60000], nodes_train[:60000], out_labels[:60000]) \n",
    "val_set = Set(in_edges_train[60000:], nodes_train[60000:], out_labels[60000:]) \n",
    "\n",
    "train_loader = DataLoader(train_set, batch_size=16, shuffle=True)\n",
    "val_loader = DataLoader(train_set, batch_size=16, shuffle=True)"
   ]
  },
  {
   "cell_type": "code",
   "execution_count": 190,
   "id": "790f3136-c800-451b-b159-5c1c472a7c6c",
   "metadata": {},
   "outputs": [
    {
     "name": "stderr",
     "output_type": "stream",
     "text": [
      "  0%|                                        | 4/3750 [00:13<3:29:49,  3.36s/it]\n"
     ]
    },
    {
     "ename": "KeyboardInterrupt",
     "evalue": "",
     "output_type": "error",
     "traceback": [
      "\u001b[0;31m---------------------------------------------------------------------------\u001b[0m",
      "\u001b[0;31mKeyboardInterrupt\u001b[0m                         Traceback (most recent call last)",
      "Cell \u001b[0;32mIn[190], line 10\u001b[0m\n\u001b[1;32m      8\u001b[0m \u001b[38;5;28;01mfor\u001b[39;00m batch \u001b[38;5;129;01min\u001b[39;00m tqdm(train_loader):\n\u001b[1;32m      9\u001b[0m     nodes, in_edges, out_edges \u001b[38;5;241m=\u001b[39m batch\n\u001b[0;32m---> 10\u001b[0m     out \u001b[38;5;241m=\u001b[39m \u001b[43mmpnn\u001b[49m\u001b[43m(\u001b[49m\u001b[43mnodes\u001b[49m\u001b[43m,\u001b[49m\u001b[43m \u001b[49m\u001b[43min_edges\u001b[49m\u001b[43m)\u001b[49m\n\u001b[1;32m     11\u001b[0m     loss \u001b[38;5;241m=\u001b[39m log_mae(out_edges, out)\n\u001b[1;32m     12\u001b[0m     loss\u001b[38;5;241m.\u001b[39mbackward()\n",
      "File \u001b[0;32m~/anaconda3/envs/kaggle/lib/python3.11/site-packages/torch/nn/modules/module.py:1501\u001b[0m, in \u001b[0;36mModule._call_impl\u001b[0;34m(self, *args, **kwargs)\u001b[0m\n\u001b[1;32m   1496\u001b[0m \u001b[38;5;66;03m# If we don't have any hooks, we want to skip the rest of the logic in\u001b[39;00m\n\u001b[1;32m   1497\u001b[0m \u001b[38;5;66;03m# this function, and just call forward.\u001b[39;00m\n\u001b[1;32m   1498\u001b[0m \u001b[38;5;28;01mif\u001b[39;00m \u001b[38;5;129;01mnot\u001b[39;00m (\u001b[38;5;28mself\u001b[39m\u001b[38;5;241m.\u001b[39m_backward_hooks \u001b[38;5;129;01mor\u001b[39;00m \u001b[38;5;28mself\u001b[39m\u001b[38;5;241m.\u001b[39m_backward_pre_hooks \u001b[38;5;129;01mor\u001b[39;00m \u001b[38;5;28mself\u001b[39m\u001b[38;5;241m.\u001b[39m_forward_hooks \u001b[38;5;129;01mor\u001b[39;00m \u001b[38;5;28mself\u001b[39m\u001b[38;5;241m.\u001b[39m_forward_pre_hooks\n\u001b[1;32m   1499\u001b[0m         \u001b[38;5;129;01mor\u001b[39;00m _global_backward_pre_hooks \u001b[38;5;129;01mor\u001b[39;00m _global_backward_hooks\n\u001b[1;32m   1500\u001b[0m         \u001b[38;5;129;01mor\u001b[39;00m _global_forward_hooks \u001b[38;5;129;01mor\u001b[39;00m _global_forward_pre_hooks):\n\u001b[0;32m-> 1501\u001b[0m     \u001b[38;5;28;01mreturn\u001b[39;00m \u001b[43mforward_call\u001b[49m\u001b[43m(\u001b[49m\u001b[38;5;241;43m*\u001b[39;49m\u001b[43margs\u001b[49m\u001b[43m,\u001b[49m\u001b[43m \u001b[49m\u001b[38;5;241;43m*\u001b[39;49m\u001b[38;5;241;43m*\u001b[39;49m\u001b[43mkwargs\u001b[49m\u001b[43m)\u001b[49m\n\u001b[1;32m   1502\u001b[0m \u001b[38;5;66;03m# Do not call functions when jit is used\u001b[39;00m\n\u001b[1;32m   1503\u001b[0m full_backward_hooks, non_full_backward_hooks \u001b[38;5;241m=\u001b[39m [], []\n",
      "Cell \u001b[0;32mIn[183], line 39\u001b[0m, in \u001b[0;36mMPNN.forward\u001b[0;34m(self, adj_input, nod_input)\u001b[0m\n\u001b[1;32m     34\u001b[0m \u001b[38;5;66;03m#print('nodes before the MP layers', nodes.shape)\u001b[39;00m\n\u001b[1;32m     35\u001b[0m \u001b[38;5;66;03m#print('edges before the MP layers', edges.shape)\u001b[39;00m\n\u001b[1;32m     36\u001b[0m \n\u001b[1;32m     37\u001b[0m \u001b[38;5;66;03m# Run the T message-passing steps\u001b[39;00m\n\u001b[1;32m     38\u001b[0m \u001b[38;5;28;01mfor\u001b[39;00m mp \u001b[38;5;129;01min\u001b[39;00m \u001b[38;5;28mrange\u001b[39m(\u001b[38;5;28mself\u001b[39m\u001b[38;5;241m.\u001b[39mT):\n\u001b[0;32m---> 39\u001b[0m     nodes \u001b[38;5;241m=\u001b[39m \u001b[38;5;28;43mself\u001b[39;49m\u001b[38;5;241;43m.\u001b[39;49m\u001b[43mMP\u001b[49m\u001b[43m(\u001b[49m\u001b[43mnodes\u001b[49m\u001b[43m,\u001b[49m\u001b[43m \u001b[49m\u001b[43medges\u001b[49m\u001b[43m,\u001b[49m\u001b[43m \u001b[49m\u001b[43mmask\u001b[49m\u001b[43m)\u001b[49m\n\u001b[1;32m     41\u001b[0m \u001b[38;5;66;03m#print('nodes after the MP layers', nodes.shape)\u001b[39;00m\n\u001b[1;32m     42\u001b[0m \n\u001b[1;32m     43\u001b[0m \u001b[38;5;66;03m# Regress the output values\u001b[39;00m\n\u001b[1;32m     44\u001b[0m con_edges \u001b[38;5;241m=\u001b[39m \u001b[38;5;28mself\u001b[39m\u001b[38;5;241m.\u001b[39medge_regressor(nodes, edges)\n",
      "File \u001b[0;32m~/anaconda3/envs/kaggle/lib/python3.11/site-packages/torch/nn/modules/module.py:1501\u001b[0m, in \u001b[0;36mModule._call_impl\u001b[0;34m(self, *args, **kwargs)\u001b[0m\n\u001b[1;32m   1496\u001b[0m \u001b[38;5;66;03m# If we don't have any hooks, we want to skip the rest of the logic in\u001b[39;00m\n\u001b[1;32m   1497\u001b[0m \u001b[38;5;66;03m# this function, and just call forward.\u001b[39;00m\n\u001b[1;32m   1498\u001b[0m \u001b[38;5;28;01mif\u001b[39;00m \u001b[38;5;129;01mnot\u001b[39;00m (\u001b[38;5;28mself\u001b[39m\u001b[38;5;241m.\u001b[39m_backward_hooks \u001b[38;5;129;01mor\u001b[39;00m \u001b[38;5;28mself\u001b[39m\u001b[38;5;241m.\u001b[39m_backward_pre_hooks \u001b[38;5;129;01mor\u001b[39;00m \u001b[38;5;28mself\u001b[39m\u001b[38;5;241m.\u001b[39m_forward_hooks \u001b[38;5;129;01mor\u001b[39;00m \u001b[38;5;28mself\u001b[39m\u001b[38;5;241m.\u001b[39m_forward_pre_hooks\n\u001b[1;32m   1499\u001b[0m         \u001b[38;5;129;01mor\u001b[39;00m _global_backward_pre_hooks \u001b[38;5;129;01mor\u001b[39;00m _global_backward_hooks\n\u001b[1;32m   1500\u001b[0m         \u001b[38;5;129;01mor\u001b[39;00m _global_forward_hooks \u001b[38;5;129;01mor\u001b[39;00m _global_forward_pre_hooks):\n\u001b[0;32m-> 1501\u001b[0m     \u001b[38;5;28;01mreturn\u001b[39;00m \u001b[43mforward_call\u001b[49m\u001b[43m(\u001b[49m\u001b[38;5;241;43m*\u001b[39;49m\u001b[43margs\u001b[49m\u001b[43m,\u001b[49m\u001b[43m \u001b[49m\u001b[38;5;241;43m*\u001b[39;49m\u001b[38;5;241;43m*\u001b[39;49m\u001b[43mkwargs\u001b[49m\u001b[43m)\u001b[49m\n\u001b[1;32m   1502\u001b[0m \u001b[38;5;66;03m# Do not call functions when jit is used\u001b[39;00m\n\u001b[1;32m   1503\u001b[0m full_backward_hooks, non_full_backward_hooks \u001b[38;5;241m=\u001b[39m [], []\n",
      "Cell \u001b[0;32mIn[168], line 20\u001b[0m, in \u001b[0;36mMP_Layer.forward\u001b[0;34m(self, nodes, edges, mask)\u001b[0m\n\u001b[1;32m     14\u001b[0m state_j \u001b[38;5;241m=\u001b[39m nodes\u001b[38;5;241m.\u001b[39mrepeat(\u001b[38;5;241m1\u001b[39m, n_nodes, \u001b[38;5;241m1\u001b[39m)\n\u001b[1;32m     16\u001b[0m \u001b[38;5;66;03m#print('  n_nodes', n_nodes)\u001b[39;00m\n\u001b[1;32m     17\u001b[0m \u001b[38;5;66;03m#print('  node_dim', node_dim)\u001b[39;00m\n\u001b[1;32m     18\u001b[0m \u001b[38;5;66;03m#print('  state_j', state_j.shape)\u001b[39;00m\n\u001b[0;32m---> 20\u001b[0m messages \u001b[38;5;241m=\u001b[39m \u001b[38;5;28;43mself\u001b[39;49m\u001b[38;5;241;43m.\u001b[39;49m\u001b[43mmessage_passers\u001b[49m\u001b[43m(\u001b[49m\u001b[43mstate_j\u001b[49m\u001b[43m,\u001b[49m\u001b[43m \u001b[49m\u001b[43medges\u001b[49m\u001b[43m)\u001b[49m\n\u001b[1;32m     22\u001b[0m \u001b[38;5;66;03m# Multiply messages by the mask to ignore messages from non-existent nodes\u001b[39;00m\n\u001b[1;32m     23\u001b[0m masked \u001b[38;5;241m=\u001b[39m messages \u001b[38;5;241m*\u001b[39m mask\n",
      "File \u001b[0;32m~/anaconda3/envs/kaggle/lib/python3.11/site-packages/torch/nn/modules/module.py:1501\u001b[0m, in \u001b[0;36mModule._call_impl\u001b[0;34m(self, *args, **kwargs)\u001b[0m\n\u001b[1;32m   1496\u001b[0m \u001b[38;5;66;03m# If we don't have any hooks, we want to skip the rest of the logic in\u001b[39;00m\n\u001b[1;32m   1497\u001b[0m \u001b[38;5;66;03m# this function, and just call forward.\u001b[39;00m\n\u001b[1;32m   1498\u001b[0m \u001b[38;5;28;01mif\u001b[39;00m \u001b[38;5;129;01mnot\u001b[39;00m (\u001b[38;5;28mself\u001b[39m\u001b[38;5;241m.\u001b[39m_backward_hooks \u001b[38;5;129;01mor\u001b[39;00m \u001b[38;5;28mself\u001b[39m\u001b[38;5;241m.\u001b[39m_backward_pre_hooks \u001b[38;5;129;01mor\u001b[39;00m \u001b[38;5;28mself\u001b[39m\u001b[38;5;241m.\u001b[39m_forward_hooks \u001b[38;5;129;01mor\u001b[39;00m \u001b[38;5;28mself\u001b[39m\u001b[38;5;241m.\u001b[39m_forward_pre_hooks\n\u001b[1;32m   1499\u001b[0m         \u001b[38;5;129;01mor\u001b[39;00m _global_backward_pre_hooks \u001b[38;5;129;01mor\u001b[39;00m _global_backward_hooks\n\u001b[1;32m   1500\u001b[0m         \u001b[38;5;129;01mor\u001b[39;00m _global_forward_hooks \u001b[38;5;129;01mor\u001b[39;00m _global_forward_pre_hooks):\n\u001b[0;32m-> 1501\u001b[0m     \u001b[38;5;28;01mreturn\u001b[39;00m \u001b[43mforward_call\u001b[49m\u001b[43m(\u001b[49m\u001b[38;5;241;43m*\u001b[39;49m\u001b[43margs\u001b[49m\u001b[43m,\u001b[49m\u001b[43m \u001b[49m\u001b[38;5;241;43m*\u001b[39;49m\u001b[38;5;241;43m*\u001b[39;49m\u001b[43mkwargs\u001b[49m\u001b[43m)\u001b[49m\n\u001b[1;32m   1502\u001b[0m \u001b[38;5;66;03m# Do not call functions when jit is used\u001b[39;00m\n\u001b[1;32m   1503\u001b[0m full_backward_hooks, non_full_backward_hooks \u001b[38;5;241m=\u001b[39m [], []\n",
      "Cell \u001b[0;32mIn[164], line 12\u001b[0m, in \u001b[0;36mMessage_Passer_NNM.forward\u001b[0;34m(self, node_j, edge_ij)\u001b[0m\n\u001b[1;32m      7\u001b[0m \u001b[38;5;28;01mdef\u001b[39;00m \u001b[38;5;21mforward\u001b[39m(\u001b[38;5;28mself\u001b[39m, node_j, edge_ij):\n\u001b[1;32m      8\u001b[0m \n\u001b[1;32m      9\u001b[0m     \u001b[38;5;66;03m#print(\"    ===== MESSAGE PASSER=========\")\u001b[39;00m\n\u001b[1;32m     10\u001b[0m     \u001b[38;5;66;03m#print('    node_j', node_j.shape)\u001b[39;00m\n\u001b[1;32m     11\u001b[0m     \u001b[38;5;66;03m#print('    edge_ij', edge_ij.shape)\u001b[39;00m\n\u001b[0;32m---> 12\u001b[0m     A \u001b[38;5;241m=\u001b[39m \u001b[38;5;28;43mself\u001b[39;49m\u001b[38;5;241;43m.\u001b[39;49m\u001b[43mlinear\u001b[49m\u001b[43m(\u001b[49m\u001b[43medge_ij\u001b[49m\u001b[43m)\u001b[49m\n\u001b[1;32m     14\u001b[0m     \u001b[38;5;66;03m#print('    edge_ij embedded', A.shape)\u001b[39;00m\n\u001b[1;32m     16\u001b[0m     A \u001b[38;5;241m=\u001b[39m A\u001b[38;5;241m.\u001b[39mview(\u001b[38;5;241m-\u001b[39m\u001b[38;5;241m1\u001b[39m, \u001b[38;5;28mself\u001b[39m\u001b[38;5;241m.\u001b[39mnode_dim, \u001b[38;5;28mself\u001b[39m\u001b[38;5;241m.\u001b[39mnode_dim)\n",
      "File \u001b[0;32m~/anaconda3/envs/kaggle/lib/python3.11/site-packages/torch/nn/modules/module.py:1501\u001b[0m, in \u001b[0;36mModule._call_impl\u001b[0;34m(self, *args, **kwargs)\u001b[0m\n\u001b[1;32m   1496\u001b[0m \u001b[38;5;66;03m# If we don't have any hooks, we want to skip the rest of the logic in\u001b[39;00m\n\u001b[1;32m   1497\u001b[0m \u001b[38;5;66;03m# this function, and just call forward.\u001b[39;00m\n\u001b[1;32m   1498\u001b[0m \u001b[38;5;28;01mif\u001b[39;00m \u001b[38;5;129;01mnot\u001b[39;00m (\u001b[38;5;28mself\u001b[39m\u001b[38;5;241m.\u001b[39m_backward_hooks \u001b[38;5;129;01mor\u001b[39;00m \u001b[38;5;28mself\u001b[39m\u001b[38;5;241m.\u001b[39m_backward_pre_hooks \u001b[38;5;129;01mor\u001b[39;00m \u001b[38;5;28mself\u001b[39m\u001b[38;5;241m.\u001b[39m_forward_hooks \u001b[38;5;129;01mor\u001b[39;00m \u001b[38;5;28mself\u001b[39m\u001b[38;5;241m.\u001b[39m_forward_pre_hooks\n\u001b[1;32m   1499\u001b[0m         \u001b[38;5;129;01mor\u001b[39;00m _global_backward_pre_hooks \u001b[38;5;129;01mor\u001b[39;00m _global_backward_hooks\n\u001b[1;32m   1500\u001b[0m         \u001b[38;5;129;01mor\u001b[39;00m _global_forward_hooks \u001b[38;5;129;01mor\u001b[39;00m _global_forward_pre_hooks):\n\u001b[0;32m-> 1501\u001b[0m     \u001b[38;5;28;01mreturn\u001b[39;00m \u001b[43mforward_call\u001b[49m\u001b[43m(\u001b[49m\u001b[38;5;241;43m*\u001b[39;49m\u001b[43margs\u001b[49m\u001b[43m,\u001b[49m\u001b[43m \u001b[49m\u001b[38;5;241;43m*\u001b[39;49m\u001b[38;5;241;43m*\u001b[39;49m\u001b[43mkwargs\u001b[49m\u001b[43m)\u001b[49m\n\u001b[1;32m   1502\u001b[0m \u001b[38;5;66;03m# Do not call functions when jit is used\u001b[39;00m\n\u001b[1;32m   1503\u001b[0m full_backward_hooks, non_full_backward_hooks \u001b[38;5;241m=\u001b[39m [], []\n",
      "File \u001b[0;32m~/anaconda3/envs/kaggle/lib/python3.11/site-packages/torch/nn/modules/container.py:217\u001b[0m, in \u001b[0;36mSequential.forward\u001b[0;34m(self, input)\u001b[0m\n\u001b[1;32m    215\u001b[0m \u001b[38;5;28;01mdef\u001b[39;00m \u001b[38;5;21mforward\u001b[39m(\u001b[38;5;28mself\u001b[39m, \u001b[38;5;28minput\u001b[39m):\n\u001b[1;32m    216\u001b[0m     \u001b[38;5;28;01mfor\u001b[39;00m module \u001b[38;5;129;01min\u001b[39;00m \u001b[38;5;28mself\u001b[39m:\n\u001b[0;32m--> 217\u001b[0m         \u001b[38;5;28minput\u001b[39m \u001b[38;5;241m=\u001b[39m \u001b[43mmodule\u001b[49m\u001b[43m(\u001b[49m\u001b[38;5;28;43minput\u001b[39;49m\u001b[43m)\u001b[49m\n\u001b[1;32m    218\u001b[0m     \u001b[38;5;28;01mreturn\u001b[39;00m \u001b[38;5;28minput\u001b[39m\n",
      "File \u001b[0;32m~/anaconda3/envs/kaggle/lib/python3.11/site-packages/torch/nn/modules/module.py:1501\u001b[0m, in \u001b[0;36mModule._call_impl\u001b[0;34m(self, *args, **kwargs)\u001b[0m\n\u001b[1;32m   1496\u001b[0m \u001b[38;5;66;03m# If we don't have any hooks, we want to skip the rest of the logic in\u001b[39;00m\n\u001b[1;32m   1497\u001b[0m \u001b[38;5;66;03m# this function, and just call forward.\u001b[39;00m\n\u001b[1;32m   1498\u001b[0m \u001b[38;5;28;01mif\u001b[39;00m \u001b[38;5;129;01mnot\u001b[39;00m (\u001b[38;5;28mself\u001b[39m\u001b[38;5;241m.\u001b[39m_backward_hooks \u001b[38;5;129;01mor\u001b[39;00m \u001b[38;5;28mself\u001b[39m\u001b[38;5;241m.\u001b[39m_backward_pre_hooks \u001b[38;5;129;01mor\u001b[39;00m \u001b[38;5;28mself\u001b[39m\u001b[38;5;241m.\u001b[39m_forward_hooks \u001b[38;5;129;01mor\u001b[39;00m \u001b[38;5;28mself\u001b[39m\u001b[38;5;241m.\u001b[39m_forward_pre_hooks\n\u001b[1;32m   1499\u001b[0m         \u001b[38;5;129;01mor\u001b[39;00m _global_backward_pre_hooks \u001b[38;5;129;01mor\u001b[39;00m _global_backward_hooks\n\u001b[1;32m   1500\u001b[0m         \u001b[38;5;129;01mor\u001b[39;00m _global_forward_hooks \u001b[38;5;129;01mor\u001b[39;00m _global_forward_pre_hooks):\n\u001b[0;32m-> 1501\u001b[0m     \u001b[38;5;28;01mreturn\u001b[39;00m \u001b[43mforward_call\u001b[49m\u001b[43m(\u001b[49m\u001b[38;5;241;43m*\u001b[39;49m\u001b[43margs\u001b[49m\u001b[43m,\u001b[49m\u001b[43m \u001b[49m\u001b[38;5;241;43m*\u001b[39;49m\u001b[38;5;241;43m*\u001b[39;49m\u001b[43mkwargs\u001b[49m\u001b[43m)\u001b[49m\n\u001b[1;32m   1502\u001b[0m \u001b[38;5;66;03m# Do not call functions when jit is used\u001b[39;00m\n\u001b[1;32m   1503\u001b[0m full_backward_hooks, non_full_backward_hooks \u001b[38;5;241m=\u001b[39m [], []\n",
      "File \u001b[0;32m~/anaconda3/envs/kaggle/lib/python3.11/site-packages/torch/nn/modules/linear.py:114\u001b[0m, in \u001b[0;36mLinear.forward\u001b[0;34m(self, input)\u001b[0m\n\u001b[1;32m    113\u001b[0m \u001b[38;5;28;01mdef\u001b[39;00m \u001b[38;5;21mforward\u001b[39m(\u001b[38;5;28mself\u001b[39m, \u001b[38;5;28minput\u001b[39m: Tensor) \u001b[38;5;241m-\u001b[39m\u001b[38;5;241m>\u001b[39m Tensor:\n\u001b[0;32m--> 114\u001b[0m     \u001b[38;5;28;01mreturn\u001b[39;00m \u001b[43mF\u001b[49m\u001b[38;5;241;43m.\u001b[39;49m\u001b[43mlinear\u001b[49m\u001b[43m(\u001b[49m\u001b[38;5;28;43minput\u001b[39;49m\u001b[43m,\u001b[49m\u001b[43m \u001b[49m\u001b[38;5;28;43mself\u001b[39;49m\u001b[38;5;241;43m.\u001b[39;49m\u001b[43mweight\u001b[49m\u001b[43m,\u001b[49m\u001b[43m \u001b[49m\u001b[38;5;28;43mself\u001b[39;49m\u001b[38;5;241;43m.\u001b[39;49m\u001b[43mbias\u001b[49m\u001b[43m)\u001b[49m\n",
      "\u001b[0;31mKeyboardInterrupt\u001b[0m: "
     ]
    }
   ],
   "source": [
    "n_epochs = 10\n",
    "learning_rate = 0.001\n",
    "optimizer = torch.optim.Adam(params = mpnn.parameters(), lr=learning_rate)\n",
    "\n",
    "for i in range(n_epochs):\n",
    "    mpnn.train()\n",
    "    total_loss = 0\n",
    "    for batch in tqdm(train_loader):\n",
    "        nodes, in_edges, out_edges = batch\n",
    "        out = mpnn(nodes, in_edges)\n",
    "        loss = log_mae(out_edges, out)\n",
    "        loss.backward()\n",
    "        optimizer.step()\n",
    "        total_loss += loss.item()\n",
    "    average_loss = total_loss / len(train_loader)\n",
    "    print(\"average train loss over an epoch :\", average_loss)\n",
    "\n",
    "    mpnn.eval()\n",
    "    val_loss = 0\n",
    "    with torch.no_grad():\n",
    "        for batch in tqdm(val_loader):\n",
    "            nodes, in_edges, out_edges = batch\n",
    "            out = model(nodes, in_edges)\n",
    "            loss = log_mae(out_edges, out)\n",
    "            total_loss += loss.item()\n",
    "    average_loss = total_loss / len(train_loader)\n",
    "    print(\"average val loss\", val_loss)"
   ]
  },
  {
   "cell_type": "code",
   "execution_count": null,
   "id": "d73e3cee-5243-43a1-86f2-b2df83cc7a3c",
   "metadata": {},
   "outputs": [],
   "source": []
  },
  {
   "cell_type": "code",
   "execution_count": null,
   "id": "a5f80cd7-5dc9-4603-b8b3-178a5ea6b641",
   "metadata": {},
   "outputs": [],
   "source": []
  }
 ],
 "metadata": {
  "kernelspec": {
   "display_name": "Python 3 (ipykernel)",
   "language": "python",
   "name": "python3"
  },
  "language_info": {
   "codemirror_mode": {
    "name": "ipython",
    "version": 3
   },
   "file_extension": ".py",
   "mimetype": "text/x-python",
   "name": "python",
   "nbconvert_exporter": "python",
   "pygments_lexer": "ipython3",
   "version": "3.11.4"
  }
 },
 "nbformat": 4,
 "nbformat_minor": 5
}
