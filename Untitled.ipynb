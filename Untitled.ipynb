{
 "cells": [
  {
   "cell_type": "markdown",
   "id": "5080a591-e0e9-4747-8359-42bf89392de1",
   "metadata": {},
   "source": [
    "# Scalar Coupling Constant Prediction : Baseline Notebook"
   ]
  },
  {
   "cell_type": "markdown",
   "id": "49e73d08-ff8f-4eda-a9a9-fa03e810b507",
   "metadata": {},
   "source": [
    "### Imports"
   ]
  },
  {
   "cell_type": "code",
   "execution_count": 64,
   "id": "cc3ff96a-1c1d-4e5e-a3d9-ab91d7b50fdf",
   "metadata": {},
   "outputs": [],
   "source": [
    "import os\n",
    "import pandas as pd\n",
    "import numpy as np\n",
    "import random\n",
    "import plotly.graph_objs as go\n",
    "from plotly.offline import init_notebook_mode, iplot\n",
    "import matplotlib.pyplot as plt\n",
    "from sklearn.model_selection import train_test_split\n",
    "import lightgbm as lgb\n",
    "import xgboost as xgb \n",
    "import catboost as cbt \n",
    "\n",
    "plt.style.use('seaborn-v0_8-bright')\n",
    "%config InlineBackend.figure_format = 'svg'"
   ]
  },
  {
   "cell_type": "code",
   "execution_count": 65,
   "id": "2fc14666-99a1-4e0f-bcae-7b1bb8d0323f",
   "metadata": {},
   "outputs": [
    {
     "name": "stdout",
     "output_type": "stream",
     "text": [
      "['scalar_coupling_contributions.csv', '.DS_Store', 'mulliken_charges.csv', 'structures', 'structures.csv', 'test.csv', 'train.csv', 'magnetic_shielding_tensors.csv', 'dipole_moments.csv', 'sample_submission.csv', 'potential_energy.csv']\n"
     ]
    }
   ],
   "source": [
    "FOLDER_PATH = './champs-scalar-coupling/'\n",
    "files = os.listdir(FOLDER_PATH)\n",
    "print(files)"
   ]
  },
  {
   "cell_type": "code",
   "execution_count": 66,
   "id": "e342ee0a-e1d6-4307-9255-99a8af3ebfa3",
   "metadata": {},
   "outputs": [
    {
     "name": "stdout",
     "output_type": "stream",
     "text": [
      "-----------------\n",
      "scalar_coupling_contributions\n",
      "-----------------\n",
      "      molecule_name  atom_index_0  atom_index_1  type       fc        sd  \\\n",
      "0  dsgdb9nsd_000001             1             0  1JHC  83.0224  0.254579   \n",
      "1  dsgdb9nsd_000001             1             2  2JHH -11.0347  0.352978   \n",
      "2  dsgdb9nsd_000001             1             3  2JHH -11.0325  0.352944   \n",
      "3  dsgdb9nsd_000001             1             4  2JHH -11.0319  0.352934   \n",
      "4  dsgdb9nsd_000001             2             0  1JHC  83.0222  0.254585   \n",
      "5  dsgdb9nsd_000001             2             3  2JHH -11.0317  0.352932   \n",
      "6  dsgdb9nsd_000001             2             4  2JHH -11.0324  0.352943   \n",
      "7  dsgdb9nsd_000001             3             0  1JHC  83.0241  0.254634   \n",
      "8  dsgdb9nsd_000001             3             4  2JHH -11.0319  0.352943   \n",
      "9  dsgdb9nsd_000001             4             0  1JHC  83.0243  0.254628   \n",
      "\n",
      "       pso       dso  \n",
      "0  1.25862  0.272010  \n",
      "1  2.85839 -3.433600  \n",
      "2  2.85852 -3.433870  \n",
      "3  2.85855 -3.433930  \n",
      "4  1.25861  0.272013  \n",
      "5  2.85856 -3.433950  \n",
      "6  2.85853 -3.433870  \n",
      "7  1.25856  0.272012  \n",
      "8  2.85856 -3.433930  \n",
      "9  1.25856  0.272012  \n",
      "(4659076, 8)\n",
      "-----------------\n",
      "mulliken_charges\n",
      "-----------------\n",
      "      molecule_name  atom_index  mulliken_charge\n",
      "0  dsgdb9nsd_000001           0        -0.535689\n",
      "1  dsgdb9nsd_000001           1         0.133921\n",
      "2  dsgdb9nsd_000001           2         0.133922\n",
      "3  dsgdb9nsd_000001           3         0.133923\n",
      "4  dsgdb9nsd_000001           4         0.133923\n",
      "5  dsgdb9nsd_000002           0        -0.707143\n",
      "6  dsgdb9nsd_000002           1         0.235712\n",
      "7  dsgdb9nsd_000002           2         0.235712\n",
      "8  dsgdb9nsd_000002           3         0.235720\n",
      "9  dsgdb9nsd_000003           0        -0.589706\n",
      "(2358875, 3)\n",
      "-----------------\n",
      "structures\n",
      "-----------------\n",
      "      molecule_name  atom_index atom         x         y         z\n",
      "0  dsgdb9nsd_000001           0    C -0.012698  1.085804  0.008001\n",
      "1  dsgdb9nsd_000001           1    H  0.002150 -0.006031  0.001976\n",
      "2  dsgdb9nsd_000001           2    H  1.011731  1.463751  0.000277\n",
      "3  dsgdb9nsd_000001           3    H -0.540815  1.447527 -0.876644\n",
      "4  dsgdb9nsd_000001           4    H -0.523814  1.437933  0.906397\n",
      "5  dsgdb9nsd_000002           0    N -0.040426  1.024108  0.062564\n",
      "6  dsgdb9nsd_000002           1    H  0.017257  0.012545 -0.027377\n",
      "7  dsgdb9nsd_000002           2    H  0.915789  1.358745 -0.028758\n",
      "8  dsgdb9nsd_000002           3    H -0.520278  1.343532 -0.775543\n",
      "9  dsgdb9nsd_000003           0    O -0.034360  0.977540  0.007602\n",
      "(2358875, 6)\n",
      "-----------------\n",
      "test\n",
      "-----------------\n",
      "        id     molecule_name  atom_index_0  atom_index_1  type\n",
      "0  4659076  dsgdb9nsd_000004             2             0  2JHC\n",
      "1  4659077  dsgdb9nsd_000004             2             1  1JHC\n",
      "2  4659078  dsgdb9nsd_000004             2             3  3JHH\n",
      "3  4659079  dsgdb9nsd_000004             3             0  1JHC\n",
      "4  4659080  dsgdb9nsd_000004             3             1  2JHC\n",
      "5  4659081  dsgdb9nsd_000014             3             0  1JHC\n",
      "6  4659082  dsgdb9nsd_000014             3             1  2JHC\n",
      "7  4659083  dsgdb9nsd_000014             3             4  2JHH\n",
      "8  4659084  dsgdb9nsd_000014             3             5  2JHH\n",
      "9  4659085  dsgdb9nsd_000014             3             6  3JHH\n",
      "(2505190, 5)\n",
      "-----------------\n",
      "train\n",
      "-----------------\n",
      "   id     molecule_name  atom_index_0  atom_index_1  type  \\\n",
      "0   0  dsgdb9nsd_000001             1             0  1JHC   \n",
      "1   1  dsgdb9nsd_000001             1             2  2JHH   \n",
      "2   2  dsgdb9nsd_000001             1             3  2JHH   \n",
      "3   3  dsgdb9nsd_000001             1             4  2JHH   \n",
      "4   4  dsgdb9nsd_000001             2             0  1JHC   \n",
      "5   5  dsgdb9nsd_000001             2             3  2JHH   \n",
      "6   6  dsgdb9nsd_000001             2             4  2JHH   \n",
      "7   7  dsgdb9nsd_000001             3             0  1JHC   \n",
      "8   8  dsgdb9nsd_000001             3             4  2JHH   \n",
      "9   9  dsgdb9nsd_000001             4             0  1JHC   \n",
      "\n",
      "   scalar_coupling_constant  \n",
      "0                   84.8076  \n",
      "1                  -11.2570  \n",
      "2                  -11.2548  \n",
      "3                  -11.2543  \n",
      "4                   84.8074  \n",
      "5                  -11.2541  \n",
      "6                  -11.2548  \n",
      "7                   84.8093  \n",
      "8                  -11.2543  \n",
      "9                   84.8095  \n",
      "(4659076, 6)\n",
      "-----------------\n",
      "magnetic_shielding_tensors\n",
      "-----------------\n",
      "      molecule_name  atom_index        XX      YX      ZX      XY        YY  \\\n",
      "0  dsgdb9nsd_000001           0  195.3147  0.0000 -0.0001  0.0000  195.3171   \n",
      "1  dsgdb9nsd_000001           1   31.3410 -1.2317  4.0544 -1.2317   28.9546   \n",
      "2  dsgdb9nsd_000001           2   31.5814  1.2173 -4.1474  1.2173   28.9036   \n",
      "3  dsgdb9nsd_000001           3   31.5172  4.1086  1.2723  4.1088   33.9068   \n",
      "4  dsgdb9nsd_000001           4   31.4029 -4.0942 -1.1793 -4.0944   34.0776   \n",
      "5  dsgdb9nsd_000002           0  275.6345  0.0003  0.0133  0.0003  275.6364   \n",
      "6  dsgdb9nsd_000002           1   31.2593  5.6126 -2.1025  5.6136   37.4364   \n",
      "7  dsgdb9nsd_000002           2   31.0341 -5.4827 -2.0299 -5.4837   37.6618   \n",
      "8  dsgdb9nsd_000002           3   40.7507 -0.1300  4.1318 -0.1300   27.9413   \n",
      "9  dsgdb9nsd_000003           0  310.0958  0.0000  0.0000  0.0000  355.7733   \n",
      "\n",
      "       ZY      XZ      YZ        ZZ  \n",
      "0  0.0007 -0.0001  0.0007  195.3169  \n",
      "1 -1.7173  4.0546 -1.7173   34.0861  \n",
      "2 -1.6036 -4.1476 -1.6036   33.8967  \n",
      "3  1.6950  1.2724  1.6951   28.9579  \n",
      "4  1.6259 -1.1795  1.6260   28.9013  \n",
      "5 -0.0003  0.0161 -0.0004  237.4966  \n",
      "6 -3.5567 -2.4461 -4.1372   27.9884  \n",
      "7  3.5987 -2.3616  4.1861   27.9885  \n",
      "8 -0.0419  4.8083 -0.0488   27.9889  \n",
      "9  0.0000  0.0000  0.0000  324.1551  \n",
      "(2358875, 11)\n",
      "-----------------\n",
      "dipole_moments\n",
      "-----------------\n",
      "      molecule_name       X       Y       Z\n",
      "0  dsgdb9nsd_000001  0.0000  0.0000  0.0000\n",
      "1  dsgdb9nsd_000002 -0.0002  0.0000  1.6256\n",
      "2  dsgdb9nsd_000003  0.0000  0.0000 -1.8511\n",
      "3  dsgdb9nsd_000004  0.0000  0.0000  0.0000\n",
      "4  dsgdb9nsd_000005  0.0000  0.0000 -2.8937\n",
      "5  dsgdb9nsd_000006 -2.1089  0.0000  0.0000\n",
      "6  dsgdb9nsd_000007  0.0000  0.0000  0.0000\n",
      "7  dsgdb9nsd_000008  0.6506 -1.3801 -0.0002\n",
      "8  dsgdb9nsd_000009  0.7156  0.0004 -0.0004\n",
      "9  dsgdb9nsd_000010  3.8266  0.0000 -0.0001\n",
      "(130789, 4)\n",
      "-----------------\n",
      "sample_submission\n",
      "-----------------\n",
      "        id  scalar_coupling_constant\n",
      "0  4659076                         0\n",
      "1  4659077                         0\n",
      "2  4659078                         0\n",
      "3  4659079                         0\n",
      "4  4659080                         0\n",
      "5  4659081                         0\n",
      "6  4659082                         0\n",
      "7  4659083                         0\n",
      "8  4659084                         0\n",
      "9  4659085                         0\n",
      "(2505190, 2)\n",
      "-----------------\n",
      "potential_energy\n",
      "-----------------\n",
      "      molecule_name  potential_energy\n",
      "0  dsgdb9nsd_000001        -40.523680\n",
      "1  dsgdb9nsd_000002        -56.560246\n",
      "2  dsgdb9nsd_000003        -76.426077\n",
      "3  dsgdb9nsd_000004        -77.335268\n",
      "4  dsgdb9nsd_000005        -93.428488\n",
      "5  dsgdb9nsd_000006       -114.510216\n",
      "6  dsgdb9nsd_000007        -79.838694\n",
      "7  dsgdb9nsd_000008       -115.730344\n",
      "8  dsgdb9nsd_000009       -116.664959\n",
      "9  dsgdb9nsd_000010       -132.763436\n",
      "(130789, 2)\n"
     ]
    }
   ],
   "source": [
    "for file in files:\n",
    "    if file.endswith('.csv'):\n",
    "        print('-----------------')\n",
    "        print(file.split('.')[0])\n",
    "        print('-----------------')\n",
    "        df = pd.read_csv(os.path.join(FOLDER_PATH, file))\n",
    "        print(df.head(10))\n",
    "        print(df.shape)"
   ]
  },
  {
   "cell_type": "code",
   "execution_count": 67,
   "id": "135b745e-eed0-46bf-a0ef-fccfcbf82247",
   "metadata": {},
   "outputs": [
    {
     "name": "stdout",
     "output_type": "stream",
     "text": [
      "Nombre de molécules dans le train set : 85012\n",
      "Nombre de structures données : 130789\n",
      "Nombre de types de constantes de couplages différents dans le train set : 8 ['1JHC' '2JHH' '1JHN' '2JHN' '2JHC' '3JHH' '3JHC' '3JHN']\n",
      "Atomes présents dans les molécules : ['C' 'H' 'N' 'O' 'F']\n"
     ]
    }
   ],
   "source": [
    "df = pd.read_csv(os.path.join(FOLDER_PATH, 'train.csv'))\n",
    "structures_df = pd.read_csv(os.path.join(FOLDER_PATH, 'structures.csv'))\n",
    "print('Nombre de molécules dans le train set :', df['molecule_name'].nunique())\n",
    "print('Nombre de structures données :', structures_df['molecule_name'].nunique())\n",
    "print('Nombre de types de constantes de couplages différents dans le train set :', df['type'].nunique(), df['type'].unique())\n",
    "print('Atomes présents dans les molécules :', structures_df['atom'].unique())"
   ]
  },
  {
   "cell_type": "markdown",
   "id": "5d72181a-f28f-49da-b153-abbf98910db6",
   "metadata": {},
   "source": [
    "### Molecule Visualisation "
   ]
  },
  {
   "cell_type": "code",
   "execution_count": 68,
   "id": "3ae6a076-e604-45b9-93ae-80ebb575e5b9",
   "metadata": {},
   "outputs": [],
   "source": [
    "def plot_molecule(molecule_name, structures_df):\n",
    "    \"\"\"Creates a 3D plot of the molecule\"\"\"\n",
    "    \n",
    "    atomic_radii = dict(C=0.77, F=0.71, H=0.38, N=0.75, O=0.73)  \n",
    "    cpk_colors = dict(C='black', F='green', H='white', N='blue', O='red')\n",
    "\n",
    "    molecule = structures_df[structures_df.molecule_name == molecule_name]\n",
    "    coordinates = molecule[['x', 'y', 'z']].values\n",
    "    x_coordinates = coordinates[:, 0]\n",
    "    y_coordinates = coordinates[:, 1]\n",
    "    z_coordinates = coordinates[:, 2]\n",
    "    elements = molecule.atom.tolist()\n",
    "    radii = [atomic_radii[element] for element in elements]\n",
    "    \n",
    "    def get_bonds():\n",
    "        \"\"\"Generates a set of bonds from atomic cartesian coordinates\"\"\"\n",
    "        ids = np.arange(coordinates.shape[0])\n",
    "        bonds = dict()\n",
    "        coordinates_compare, radii_compare, ids_compare = coordinates, radii, ids\n",
    "        \n",
    "        for _ in range(len(ids)):\n",
    "            coordinates_compare = np.roll(coordinates_compare, -1, axis=0)\n",
    "            radii_compare = np.roll(radii_compare, -1, axis=0)\n",
    "            ids_compare = np.roll(ids_compare, -1, axis=0)\n",
    "            distances = np.linalg.norm(coordinates - coordinates_compare, axis=1)\n",
    "            bond_distances = (radii + radii_compare) * 1.3\n",
    "            mask = np.logical_and(distances > 0.1, distances <  bond_distances)\n",
    "            distances = distances.round(2)\n",
    "            new_bonds = {frozenset([i, j]): dist for i, j, dist in zip(ids[mask], ids_compare[mask], distances[mask])}\n",
    "            bonds.update(new_bonds)\n",
    "        return bonds            \n",
    "    def atom_trace():\n",
    "        \"\"\"Creates an atom trace for the plot\"\"\"\n",
    "        colors = [cpk_colors[element] for element in elements]\n",
    "        markers = dict(color=colors, line=dict(color='lightgray', width=2), size=5, symbol='circle', opacity=0.8)\n",
    "        trace = go.Scatter3d(x=x_coordinates, y=y_coordinates, z=z_coordinates, mode='markers', marker=markers,\n",
    "                             text=elements, name='')\n",
    "        return trace\n",
    "    def bond_trace():\n",
    "        \"\"\"\"Creates a bond trace for the plot\"\"\"\n",
    "        trace = go.Scatter3d(x=[], y=[], z=[], hoverinfo='none', mode='lines',\n",
    "                             marker=dict(color='grey', size=7, opacity=1))\n",
    "        for i, j in bonds.keys():\n",
    "            trace['x'] += (x_coordinates[i], x_coordinates[j], None)\n",
    "            trace['y'] += (y_coordinates[i], y_coordinates[j], None)\n",
    "            trace['z'] += (z_coordinates[i], z_coordinates[j], None)\n",
    "        return trace\n",
    "    \n",
    "    bonds = get_bonds()\n",
    "    \n",
    "    zipped = zip(range(len(elements)), x_coordinates, y_coordinates, z_coordinates)\n",
    "    annotations_id = [dict(text=num, x=x, y=y, z=z, showarrow=False, yshift=15, font = dict(color = \"blue\"))\n",
    "                   for num, x, y, z in zipped]\n",
    "    \n",
    "    annotations_length = []\n",
    "    for (i, j), dist in bonds.items():\n",
    "        x_middle, y_middle, z_middle = (coordinates[i] + coordinates[j])/2\n",
    "        annotation = dict(text=dist, x=x_middle, y=y_middle, z=z_middle, showarrow=False, yshift=15)\n",
    "        annotations_length.append(annotation)   \n",
    "    \n",
    "    updatemenus = list([\n",
    "        dict(buttons=list([\n",
    "                 dict(label = 'Atom indices',\n",
    "                      method = 'relayout',\n",
    "                      args = [{'scene.annotations': annotations_id}]),\n",
    "                 dict(label = 'Bond lengths',\n",
    "                      method = 'relayout',\n",
    "                      args = [{'scene.annotations': annotations_length}]),\n",
    "                 dict(label = 'Atom indices & Bond lengths',\n",
    "                      method = 'relayout',\n",
    "                      args = [{'scene.annotations': annotations_id + annotations_length}]),\n",
    "                 dict(label = 'Hide all',\n",
    "                      method = 'relayout',\n",
    "                      args = [{'scene.annotations': []}])\n",
    "                 ]),\n",
    "                 direction='down',\n",
    "                 xanchor = 'left',\n",
    "                 yanchor = 'top'\n",
    "            ),        \n",
    "    ])\n",
    "    \n",
    "    data = [atom_trace(), bond_trace()]\n",
    "    axis_params = dict(showgrid=False, showbackground=False, showticklabels=False, zeroline=False, titlefont=dict(color='white'))\n",
    "    layout = dict(scene=dict(xaxis=axis_params, yaxis=axis_params, zaxis=axis_params, annotations=annotations_id), \n",
    "                  margin=dict(r=0, l=0, b=0, t=0), showlegend=False, updatemenus=updatemenus)\n",
    "\n",
    "    fig = go.Figure(data=data, layout=layout)\n",
    "    iplot(fig)"
   ]
  },
  {
   "cell_type": "code",
   "execution_count": 69,
   "id": "51d1ff72-ef0b-47df-bb1d-5eae1780c6aa",
   "metadata": {},
   "outputs": [
    {
     "data": {
      "text/html": [
       "        <script type=\"text/javascript\">\n",
       "        window.PlotlyConfig = {MathJaxConfig: 'local'};\n",
       "        if (window.MathJax && window.MathJax.Hub && window.MathJax.Hub.Config) {window.MathJax.Hub.Config({SVG: {font: \"STIX-Web\"}});}\n",
       "        if (typeof require !== 'undefined') {\n",
       "        require.undef(\"plotly\");\n",
       "        requirejs.config({\n",
       "            paths: {\n",
       "                'plotly': ['https://cdn.plot.ly/plotly-2.26.0.min']\n",
       "            }\n",
       "        });\n",
       "        require(['plotly'], function(Plotly) {\n",
       "            window._Plotly = Plotly;\n",
       "        });\n",
       "        }\n",
       "        </script>\n",
       "        "
      ]
     },
     "metadata": {},
     "output_type": "display_data"
    },
    {
     "data": {
      "application/vnd.plotly.v1+json": {
       "config": {
        "linkText": "Export to plot.ly",
        "plotlyServerURL": "https://plot.ly",
        "showLink": false
       },
       "data": [
        {
         "marker": {
          "color": [
           "black",
           "black",
           "black",
           "black",
           "black",
           "black",
           "black",
           "blue",
           "black",
           "white",
           "white",
           "white",
           "white",
           "white",
           "white",
           "white",
           "white",
           "white",
           "white",
           "white",
           "white",
           "white"
          ],
          "line": {
           "color": "lightgray",
           "width": 2
          },
          "opacity": 0.8,
          "size": 5,
          "symbol": "circle"
         },
         "mode": "markers",
         "name": "",
         "text": [
          "C",
          "C",
          "C",
          "C",
          "C",
          "C",
          "C",
          "N",
          "C",
          "H",
          "H",
          "H",
          "H",
          "H",
          "H",
          "H",
          "H",
          "H",
          "H",
          "H",
          "H",
          "H"
         ],
         "type": "scatter3d",
         "x": [
          -0.0064387147,
          0.0322176866,
          -1.3337114456,
          -1.9184453899,
          -1.0637045499,
          -2.3503401455,
          -2.4750839418,
          -2.8333948446,
          -1.4497339480000002,
          0.9839913474,
          -0.3514497440999999,
          -0.6875754717,
          0.7418713726,
          0.4186584201,
          -2.0670240766,
          -2.3065728114,
          -0.0666638983,
          -2.8279613743,
          -1.9925010388,
          -3.529578324,
          -2.0126341387,
          -1.276450479
         ],
         "y": [
          1.6423050963,
          0.1483774736,
          -0.5142757936,
          -0.8901384270999999,
          -2.1858896635,
          -2.9699653152,
          -4.4361349944,
          -1.9681137938,
          -2.0446153492,
          2.0978426096,
          1.805358197,
          2.1826457525,
          -0.3631250290999999,
          0.0182045602,
          -0.0356106423,
          -0.2580884323999999,
          -2.2971570189,
          -2.7717426866,
          -4.6659686151,
          -4.7210846251,
          -5.063277458,
          -2.7545413047000005
         ],
         "z": [
          -0.1255950609,
          0.2175460943,
          0.1207778714,
          -1.2495127903,
          -1.4040788193,
          -1.6618754031999998,
          -1.2992666514,
          -0.6077850665,
          0.1029274047,
          -0.0309112233,
          -1.1523042841,
          0.5408669198,
          -0.4449625479,
          1.2368788245,
          0.7819940805,
          -2.0516250612,
          -1.8443527732,
          -2.6307791076,
          -0.3445338343,
          -1.2222638212,
          -2.0692996089,
          0.9133417981
         ]
        },
        {
         "hoverinfo": "none",
         "marker": {
          "color": "grey",
          "opacity": 1,
          "size": 7
         },
         "mode": "lines",
         "type": "scatter3d",
         "x": [
          -0.0064387147,
          0.0322176866,
          null,
          0.0322176866,
          -1.3337114456,
          null,
          -1.3337114456,
          -1.9184453899,
          null,
          -1.9184453899,
          -1.0637045499,
          null,
          -1.0637045499,
          -2.3503401455,
          null,
          -2.3503401455,
          -2.4750839418,
          null,
          -1.4497339480000002,
          -2.8333948446,
          null,
          -2.3503401455,
          -2.8333948446,
          null,
          -1.0637045499,
          -2.8333948446,
          null,
          -1.9184453899,
          -2.8333948446,
          null,
          -1.4497339480000002,
          -1.0637045499,
          null,
          -1.4497339480000002,
          -1.9184453899,
          null,
          -1.4497339480000002,
          -1.3337114456,
          null,
          -2.0126341387,
          -2.4750839418,
          null,
          -0.0064387147,
          0.9839913474,
          null,
          -3.529578324,
          -2.4750839418,
          null,
          -1.4497339480000002,
          -1.276450479,
          null,
          -0.0064387147,
          -0.3514497440999999,
          null,
          0.0322176866,
          0.4186584201,
          null,
          -1.3337114456,
          -2.0670240766,
          null,
          -1.9184453899,
          -2.3065728114,
          null,
          -0.0666638983,
          -1.0637045499,
          null,
          -2.8279613743,
          -2.3503401455,
          null,
          -1.9925010388,
          -2.4750839418,
          null,
          -0.0064387147,
          -0.6875754717,
          null,
          0.0322176866,
          0.7418713726,
          null
         ],
         "y": [
          1.6423050963,
          0.1483774736,
          null,
          0.1483774736,
          -0.5142757936,
          null,
          -0.5142757936,
          -0.8901384270999999,
          null,
          -0.8901384270999999,
          -2.1858896635,
          null,
          -2.1858896635,
          -2.9699653152,
          null,
          -2.9699653152,
          -4.4361349944,
          null,
          -2.0446153492,
          -1.9681137938,
          null,
          -2.9699653152,
          -1.9681137938,
          null,
          -2.1858896635,
          -1.9681137938,
          null,
          -0.8901384270999999,
          -1.9681137938,
          null,
          -2.0446153492,
          -2.1858896635,
          null,
          -2.0446153492,
          -0.8901384270999999,
          null,
          -2.0446153492,
          -0.5142757936,
          null,
          -5.063277458,
          -4.4361349944,
          null,
          1.6423050963,
          2.0978426096,
          null,
          -4.7210846251,
          -4.4361349944,
          null,
          -2.0446153492,
          -2.7545413047000005,
          null,
          1.6423050963,
          1.805358197,
          null,
          0.1483774736,
          0.0182045602,
          null,
          -0.5142757936,
          -0.0356106423,
          null,
          -0.8901384270999999,
          -0.2580884323999999,
          null,
          -2.2971570189,
          -2.1858896635,
          null,
          -2.7717426866,
          -2.9699653152,
          null,
          -4.6659686151,
          -4.4361349944,
          null,
          1.6423050963,
          2.1826457525,
          null,
          0.1483774736,
          -0.3631250290999999,
          null
         ],
         "z": [
          -0.1255950609,
          0.2175460943,
          null,
          0.2175460943,
          0.1207778714,
          null,
          0.1207778714,
          -1.2495127903,
          null,
          -1.2495127903,
          -1.4040788193,
          null,
          -1.4040788193,
          -1.6618754031999998,
          null,
          -1.6618754031999998,
          -1.2992666514,
          null,
          0.1029274047,
          -0.6077850665,
          null,
          -1.6618754031999998,
          -0.6077850665,
          null,
          -1.4040788193,
          -0.6077850665,
          null,
          -1.2495127903,
          -0.6077850665,
          null,
          0.1029274047,
          -1.4040788193,
          null,
          0.1029274047,
          -1.2495127903,
          null,
          0.1029274047,
          0.1207778714,
          null,
          -2.0692996089,
          -1.2992666514,
          null,
          -0.1255950609,
          -0.0309112233,
          null,
          -1.2222638212,
          -1.2992666514,
          null,
          0.1029274047,
          0.9133417981,
          null,
          -0.1255950609,
          -1.1523042841,
          null,
          0.2175460943,
          1.2368788245,
          null,
          0.1207778714,
          0.7819940805,
          null,
          -1.2495127903,
          -2.0516250612,
          null,
          -1.8443527732,
          -1.4040788193,
          null,
          -2.6307791076,
          -1.6618754031999998,
          null,
          -0.3445338343,
          -1.2992666514,
          null,
          -0.1255950609,
          0.5408669198,
          null,
          0.2175460943,
          -0.4449625479,
          null
         ]
        }
       ],
       "layout": {
        "autosize": true,
        "margin": {
         "b": 0,
         "l": 0,
         "r": 0,
         "t": 0
        },
        "scene": {
         "annotations": [
          {
           "font": {
            "color": "blue"
           },
           "showarrow": false,
           "text": "0",
           "x": -0.0064387147,
           "y": 1.6423050963,
           "yshift": 15,
           "z": -0.1255950609
          },
          {
           "font": {
            "color": "blue"
           },
           "showarrow": false,
           "text": "1",
           "x": 0.0322176866,
           "y": 0.1483774736,
           "yshift": 15,
           "z": 0.2175460943
          },
          {
           "font": {
            "color": "blue"
           },
           "showarrow": false,
           "text": "2",
           "x": -1.3337114456,
           "y": -0.5142757936,
           "yshift": 15,
           "z": 0.1207778714
          },
          {
           "font": {
            "color": "blue"
           },
           "showarrow": false,
           "text": "3",
           "x": -1.9184453899,
           "y": -0.8901384270999999,
           "yshift": 15,
           "z": -1.2495127903
          },
          {
           "font": {
            "color": "blue"
           },
           "showarrow": false,
           "text": "4",
           "x": -1.0637045499,
           "y": -2.1858896635,
           "yshift": 15,
           "z": -1.4040788193
          },
          {
           "font": {
            "color": "blue"
           },
           "showarrow": false,
           "text": "5",
           "x": -2.3503401455,
           "y": -2.9699653152,
           "yshift": 15,
           "z": -1.6618754031999998
          },
          {
           "font": {
            "color": "blue"
           },
           "showarrow": false,
           "text": "6",
           "x": -2.4750839418,
           "y": -4.4361349944,
           "yshift": 15,
           "z": -1.2992666514
          },
          {
           "font": {
            "color": "blue"
           },
           "showarrow": false,
           "text": "7",
           "x": -2.8333948446,
           "y": -1.9681137938,
           "yshift": 15,
           "z": -0.6077850665
          },
          {
           "font": {
            "color": "blue"
           },
           "showarrow": false,
           "text": "8",
           "x": -1.4497339480000002,
           "y": -2.0446153492,
           "yshift": 15,
           "z": 0.1029274047
          },
          {
           "font": {
            "color": "blue"
           },
           "showarrow": false,
           "text": "9",
           "x": 0.9839913474,
           "y": 2.0978426096,
           "yshift": 15,
           "z": -0.0309112233
          },
          {
           "font": {
            "color": "blue"
           },
           "showarrow": false,
           "text": "10",
           "x": -0.3514497440999999,
           "y": 1.805358197,
           "yshift": 15,
           "z": -1.1523042841
          },
          {
           "font": {
            "color": "blue"
           },
           "showarrow": false,
           "text": "11",
           "x": -0.6875754717,
           "y": 2.1826457525,
           "yshift": 15,
           "z": 0.5408669198
          },
          {
           "font": {
            "color": "blue"
           },
           "showarrow": false,
           "text": "12",
           "x": 0.7418713726,
           "y": -0.3631250290999999,
           "yshift": 15,
           "z": -0.4449625479
          },
          {
           "font": {
            "color": "blue"
           },
           "showarrow": false,
           "text": "13",
           "x": 0.4186584201,
           "y": 0.0182045602,
           "yshift": 15,
           "z": 1.2368788245
          },
          {
           "font": {
            "color": "blue"
           },
           "showarrow": false,
           "text": "14",
           "x": -2.0670240766,
           "y": -0.0356106423,
           "yshift": 15,
           "z": 0.7819940805
          },
          {
           "font": {
            "color": "blue"
           },
           "showarrow": false,
           "text": "15",
           "x": -2.3065728114,
           "y": -0.2580884323999999,
           "yshift": 15,
           "z": -2.0516250612
          },
          {
           "font": {
            "color": "blue"
           },
           "showarrow": false,
           "text": "16",
           "x": -0.0666638983,
           "y": -2.2971570189,
           "yshift": 15,
           "z": -1.8443527732
          },
          {
           "font": {
            "color": "blue"
           },
           "showarrow": false,
           "text": "17",
           "x": -2.8279613743,
           "y": -2.7717426866,
           "yshift": 15,
           "z": -2.6307791076
          },
          {
           "font": {
            "color": "blue"
           },
           "showarrow": false,
           "text": "18",
           "x": -1.9925010388,
           "y": -4.6659686151,
           "yshift": 15,
           "z": -0.3445338343
          },
          {
           "font": {
            "color": "blue"
           },
           "showarrow": false,
           "text": "19",
           "x": -3.529578324,
           "y": -4.7210846251,
           "yshift": 15,
           "z": -1.2222638212
          },
          {
           "font": {
            "color": "blue"
           },
           "showarrow": false,
           "text": "20",
           "x": -2.0126341387,
           "y": -5.063277458,
           "yshift": 15,
           "z": -2.0692996089
          },
          {
           "font": {
            "color": "blue"
           },
           "showarrow": false,
           "text": "21",
           "x": -1.276450479,
           "y": -2.7545413047000005,
           "yshift": 15,
           "z": 0.9133417981
          }
         ],
         "aspectmode": "auto",
         "aspectratio": {
          "x": 0.899151429524406,
          "y": 1.4434655244668675,
          "z": 0.7704788918170068
         },
         "camera": {
          "center": {
           "x": 0,
           "y": 0,
           "z": 0
          },
          "eye": {
           "x": -0.8507711122777639,
           "y": 0.20650833048464665,
           "z": 1.715902951725645
          },
          "projection": {
           "type": "perspective"
          },
          "up": {
           "x": 0.0017275106671316143,
           "y": 0.007354072883973244,
           "z": 0.9999714662523688
          }
         },
         "xaxis": {
          "showbackground": false,
          "showgrid": false,
          "showticklabels": false,
          "title": {
           "font": {
            "color": "white"
           }
          },
          "type": "linear",
          "zeroline": false
         },
         "yaxis": {
          "showbackground": false,
          "showgrid": false,
          "showticklabels": false,
          "title": {
           "font": {
            "color": "white"
           }
          },
          "type": "linear",
          "zeroline": false
         },
         "zaxis": {
          "showbackground": false,
          "showgrid": false,
          "showticklabels": false,
          "title": {
           "font": {
            "color": "white"
           }
          },
          "type": "linear",
          "zeroline": false
         }
        },
        "showlegend": false,
        "template": {
         "data": {
          "bar": [
           {
            "error_x": {
             "color": "#2a3f5f"
            },
            "error_y": {
             "color": "#2a3f5f"
            },
            "marker": {
             "line": {
              "color": "#E5ECF6",
              "width": 0.5
             },
             "pattern": {
              "fillmode": "overlay",
              "size": 10,
              "solidity": 0.2
             }
            },
            "type": "bar"
           }
          ],
          "barpolar": [
           {
            "marker": {
             "line": {
              "color": "#E5ECF6",
              "width": 0.5
             },
             "pattern": {
              "fillmode": "overlay",
              "size": 10,
              "solidity": 0.2
             }
            },
            "type": "barpolar"
           }
          ],
          "carpet": [
           {
            "aaxis": {
             "endlinecolor": "#2a3f5f",
             "gridcolor": "white",
             "linecolor": "white",
             "minorgridcolor": "white",
             "startlinecolor": "#2a3f5f"
            },
            "baxis": {
             "endlinecolor": "#2a3f5f",
             "gridcolor": "white",
             "linecolor": "white",
             "minorgridcolor": "white",
             "startlinecolor": "#2a3f5f"
            },
            "type": "carpet"
           }
          ],
          "choropleth": [
           {
            "colorbar": {
             "outlinewidth": 0,
             "ticks": ""
            },
            "type": "choropleth"
           }
          ],
          "contour": [
           {
            "colorbar": {
             "outlinewidth": 0,
             "ticks": ""
            },
            "colorscale": [
             [
              0,
              "#0d0887"
             ],
             [
              0.1111111111111111,
              "#46039f"
             ],
             [
              0.2222222222222222,
              "#7201a8"
             ],
             [
              0.3333333333333333,
              "#9c179e"
             ],
             [
              0.4444444444444444,
              "#bd3786"
             ],
             [
              0.5555555555555556,
              "#d8576b"
             ],
             [
              0.6666666666666666,
              "#ed7953"
             ],
             [
              0.7777777777777778,
              "#fb9f3a"
             ],
             [
              0.8888888888888888,
              "#fdca26"
             ],
             [
              1,
              "#f0f921"
             ]
            ],
            "type": "contour"
           }
          ],
          "contourcarpet": [
           {
            "colorbar": {
             "outlinewidth": 0,
             "ticks": ""
            },
            "type": "contourcarpet"
           }
          ],
          "heatmap": [
           {
            "colorbar": {
             "outlinewidth": 0,
             "ticks": ""
            },
            "colorscale": [
             [
              0,
              "#0d0887"
             ],
             [
              0.1111111111111111,
              "#46039f"
             ],
             [
              0.2222222222222222,
              "#7201a8"
             ],
             [
              0.3333333333333333,
              "#9c179e"
             ],
             [
              0.4444444444444444,
              "#bd3786"
             ],
             [
              0.5555555555555556,
              "#d8576b"
             ],
             [
              0.6666666666666666,
              "#ed7953"
             ],
             [
              0.7777777777777778,
              "#fb9f3a"
             ],
             [
              0.8888888888888888,
              "#fdca26"
             ],
             [
              1,
              "#f0f921"
             ]
            ],
            "type": "heatmap"
           }
          ],
          "heatmapgl": [
           {
            "colorbar": {
             "outlinewidth": 0,
             "ticks": ""
            },
            "colorscale": [
             [
              0,
              "#0d0887"
             ],
             [
              0.1111111111111111,
              "#46039f"
             ],
             [
              0.2222222222222222,
              "#7201a8"
             ],
             [
              0.3333333333333333,
              "#9c179e"
             ],
             [
              0.4444444444444444,
              "#bd3786"
             ],
             [
              0.5555555555555556,
              "#d8576b"
             ],
             [
              0.6666666666666666,
              "#ed7953"
             ],
             [
              0.7777777777777778,
              "#fb9f3a"
             ],
             [
              0.8888888888888888,
              "#fdca26"
             ],
             [
              1,
              "#f0f921"
             ]
            ],
            "type": "heatmapgl"
           }
          ],
          "histogram": [
           {
            "marker": {
             "pattern": {
              "fillmode": "overlay",
              "size": 10,
              "solidity": 0.2
             }
            },
            "type": "histogram"
           }
          ],
          "histogram2d": [
           {
            "colorbar": {
             "outlinewidth": 0,
             "ticks": ""
            },
            "colorscale": [
             [
              0,
              "#0d0887"
             ],
             [
              0.1111111111111111,
              "#46039f"
             ],
             [
              0.2222222222222222,
              "#7201a8"
             ],
             [
              0.3333333333333333,
              "#9c179e"
             ],
             [
              0.4444444444444444,
              "#bd3786"
             ],
             [
              0.5555555555555556,
              "#d8576b"
             ],
             [
              0.6666666666666666,
              "#ed7953"
             ],
             [
              0.7777777777777778,
              "#fb9f3a"
             ],
             [
              0.8888888888888888,
              "#fdca26"
             ],
             [
              1,
              "#f0f921"
             ]
            ],
            "type": "histogram2d"
           }
          ],
          "histogram2dcontour": [
           {
            "colorbar": {
             "outlinewidth": 0,
             "ticks": ""
            },
            "colorscale": [
             [
              0,
              "#0d0887"
             ],
             [
              0.1111111111111111,
              "#46039f"
             ],
             [
              0.2222222222222222,
              "#7201a8"
             ],
             [
              0.3333333333333333,
              "#9c179e"
             ],
             [
              0.4444444444444444,
              "#bd3786"
             ],
             [
              0.5555555555555556,
              "#d8576b"
             ],
             [
              0.6666666666666666,
              "#ed7953"
             ],
             [
              0.7777777777777778,
              "#fb9f3a"
             ],
             [
              0.8888888888888888,
              "#fdca26"
             ],
             [
              1,
              "#f0f921"
             ]
            ],
            "type": "histogram2dcontour"
           }
          ],
          "mesh3d": [
           {
            "colorbar": {
             "outlinewidth": 0,
             "ticks": ""
            },
            "type": "mesh3d"
           }
          ],
          "parcoords": [
           {
            "line": {
             "colorbar": {
              "outlinewidth": 0,
              "ticks": ""
             }
            },
            "type": "parcoords"
           }
          ],
          "pie": [
           {
            "automargin": true,
            "type": "pie"
           }
          ],
          "scatter": [
           {
            "fillpattern": {
             "fillmode": "overlay",
             "size": 10,
             "solidity": 0.2
            },
            "type": "scatter"
           }
          ],
          "scatter3d": [
           {
            "line": {
             "colorbar": {
              "outlinewidth": 0,
              "ticks": ""
             }
            },
            "marker": {
             "colorbar": {
              "outlinewidth": 0,
              "ticks": ""
             }
            },
            "type": "scatter3d"
           }
          ],
          "scattercarpet": [
           {
            "marker": {
             "colorbar": {
              "outlinewidth": 0,
              "ticks": ""
             }
            },
            "type": "scattercarpet"
           }
          ],
          "scattergeo": [
           {
            "marker": {
             "colorbar": {
              "outlinewidth": 0,
              "ticks": ""
             }
            },
            "type": "scattergeo"
           }
          ],
          "scattergl": [
           {
            "marker": {
             "colorbar": {
              "outlinewidth": 0,
              "ticks": ""
             }
            },
            "type": "scattergl"
           }
          ],
          "scattermapbox": [
           {
            "marker": {
             "colorbar": {
              "outlinewidth": 0,
              "ticks": ""
             }
            },
            "type": "scattermapbox"
           }
          ],
          "scatterpolar": [
           {
            "marker": {
             "colorbar": {
              "outlinewidth": 0,
              "ticks": ""
             }
            },
            "type": "scatterpolar"
           }
          ],
          "scatterpolargl": [
           {
            "marker": {
             "colorbar": {
              "outlinewidth": 0,
              "ticks": ""
             }
            },
            "type": "scatterpolargl"
           }
          ],
          "scatterternary": [
           {
            "marker": {
             "colorbar": {
              "outlinewidth": 0,
              "ticks": ""
             }
            },
            "type": "scatterternary"
           }
          ],
          "surface": [
           {
            "colorbar": {
             "outlinewidth": 0,
             "ticks": ""
            },
            "colorscale": [
             [
              0,
              "#0d0887"
             ],
             [
              0.1111111111111111,
              "#46039f"
             ],
             [
              0.2222222222222222,
              "#7201a8"
             ],
             [
              0.3333333333333333,
              "#9c179e"
             ],
             [
              0.4444444444444444,
              "#bd3786"
             ],
             [
              0.5555555555555556,
              "#d8576b"
             ],
             [
              0.6666666666666666,
              "#ed7953"
             ],
             [
              0.7777777777777778,
              "#fb9f3a"
             ],
             [
              0.8888888888888888,
              "#fdca26"
             ],
             [
              1,
              "#f0f921"
             ]
            ],
            "type": "surface"
           }
          ],
          "table": [
           {
            "cells": {
             "fill": {
              "color": "#EBF0F8"
             },
             "line": {
              "color": "white"
             }
            },
            "header": {
             "fill": {
              "color": "#C8D4E3"
             },
             "line": {
              "color": "white"
             }
            },
            "type": "table"
           }
          ]
         },
         "layout": {
          "annotationdefaults": {
           "arrowcolor": "#2a3f5f",
           "arrowhead": 0,
           "arrowwidth": 1
          },
          "autotypenumbers": "strict",
          "coloraxis": {
           "colorbar": {
            "outlinewidth": 0,
            "ticks": ""
           }
          },
          "colorscale": {
           "diverging": [
            [
             0,
             "#8e0152"
            ],
            [
             0.1,
             "#c51b7d"
            ],
            [
             0.2,
             "#de77ae"
            ],
            [
             0.3,
             "#f1b6da"
            ],
            [
             0.4,
             "#fde0ef"
            ],
            [
             0.5,
             "#f7f7f7"
            ],
            [
             0.6,
             "#e6f5d0"
            ],
            [
             0.7,
             "#b8e186"
            ],
            [
             0.8,
             "#7fbc41"
            ],
            [
             0.9,
             "#4d9221"
            ],
            [
             1,
             "#276419"
            ]
           ],
           "sequential": [
            [
             0,
             "#0d0887"
            ],
            [
             0.1111111111111111,
             "#46039f"
            ],
            [
             0.2222222222222222,
             "#7201a8"
            ],
            [
             0.3333333333333333,
             "#9c179e"
            ],
            [
             0.4444444444444444,
             "#bd3786"
            ],
            [
             0.5555555555555556,
             "#d8576b"
            ],
            [
             0.6666666666666666,
             "#ed7953"
            ],
            [
             0.7777777777777778,
             "#fb9f3a"
            ],
            [
             0.8888888888888888,
             "#fdca26"
            ],
            [
             1,
             "#f0f921"
            ]
           ],
           "sequentialminus": [
            [
             0,
             "#0d0887"
            ],
            [
             0.1111111111111111,
             "#46039f"
            ],
            [
             0.2222222222222222,
             "#7201a8"
            ],
            [
             0.3333333333333333,
             "#9c179e"
            ],
            [
             0.4444444444444444,
             "#bd3786"
            ],
            [
             0.5555555555555556,
             "#d8576b"
            ],
            [
             0.6666666666666666,
             "#ed7953"
            ],
            [
             0.7777777777777778,
             "#fb9f3a"
            ],
            [
             0.8888888888888888,
             "#fdca26"
            ],
            [
             1,
             "#f0f921"
            ]
           ]
          },
          "colorway": [
           "#636efa",
           "#EF553B",
           "#00cc96",
           "#ab63fa",
           "#FFA15A",
           "#19d3f3",
           "#FF6692",
           "#B6E880",
           "#FF97FF",
           "#FECB52"
          ],
          "font": {
           "color": "#2a3f5f"
          },
          "geo": {
           "bgcolor": "white",
           "lakecolor": "white",
           "landcolor": "#E5ECF6",
           "showlakes": true,
           "showland": true,
           "subunitcolor": "white"
          },
          "hoverlabel": {
           "align": "left"
          },
          "hovermode": "closest",
          "mapbox": {
           "style": "light"
          },
          "paper_bgcolor": "white",
          "plot_bgcolor": "#E5ECF6",
          "polar": {
           "angularaxis": {
            "gridcolor": "white",
            "linecolor": "white",
            "ticks": ""
           },
           "bgcolor": "#E5ECF6",
           "radialaxis": {
            "gridcolor": "white",
            "linecolor": "white",
            "ticks": ""
           }
          },
          "scene": {
           "xaxis": {
            "backgroundcolor": "#E5ECF6",
            "gridcolor": "white",
            "gridwidth": 2,
            "linecolor": "white",
            "showbackground": true,
            "ticks": "",
            "zerolinecolor": "white"
           },
           "yaxis": {
            "backgroundcolor": "#E5ECF6",
            "gridcolor": "white",
            "gridwidth": 2,
            "linecolor": "white",
            "showbackground": true,
            "ticks": "",
            "zerolinecolor": "white"
           },
           "zaxis": {
            "backgroundcolor": "#E5ECF6",
            "gridcolor": "white",
            "gridwidth": 2,
            "linecolor": "white",
            "showbackground": true,
            "ticks": "",
            "zerolinecolor": "white"
           }
          },
          "shapedefaults": {
           "line": {
            "color": "#2a3f5f"
           }
          },
          "ternary": {
           "aaxis": {
            "gridcolor": "white",
            "linecolor": "white",
            "ticks": ""
           },
           "baxis": {
            "gridcolor": "white",
            "linecolor": "white",
            "ticks": ""
           },
           "bgcolor": "#E5ECF6",
           "caxis": {
            "gridcolor": "white",
            "linecolor": "white",
            "ticks": ""
           }
          },
          "title": {
           "x": 0.05
          },
          "xaxis": {
           "automargin": true,
           "gridcolor": "white",
           "linecolor": "white",
           "ticks": "",
           "title": {
            "standoff": 15
           },
           "zerolinecolor": "white",
           "zerolinewidth": 2
          },
          "yaxis": {
           "automargin": true,
           "gridcolor": "white",
           "linecolor": "white",
           "ticks": "",
           "title": {
            "standoff": 15
           },
           "zerolinecolor": "white",
           "zerolinewidth": 2
          }
         }
        },
        "updatemenus": [
         {
          "buttons": [
           {
            "args": [
             {
              "scene.annotations": [
               {
                "font": {
                 "color": "blue"
                },
                "showarrow": false,
                "text": 0,
                "x": -0.0064387147,
                "y": 1.6423050963,
                "yshift": 15,
                "z": -0.1255950609
               },
               {
                "font": {
                 "color": "blue"
                },
                "showarrow": false,
                "text": 1,
                "x": 0.0322176866,
                "y": 0.1483774736,
                "yshift": 15,
                "z": 0.2175460943
               },
               {
                "font": {
                 "color": "blue"
                },
                "showarrow": false,
                "text": 2,
                "x": -1.3337114456,
                "y": -0.5142757936,
                "yshift": 15,
                "z": 0.1207778714
               },
               {
                "font": {
                 "color": "blue"
                },
                "showarrow": false,
                "text": 3,
                "x": -1.9184453899,
                "y": -0.8901384270999999,
                "yshift": 15,
                "z": -1.2495127903
               },
               {
                "font": {
                 "color": "blue"
                },
                "showarrow": false,
                "text": 4,
                "x": -1.0637045499,
                "y": -2.1858896635,
                "yshift": 15,
                "z": -1.4040788193
               },
               {
                "font": {
                 "color": "blue"
                },
                "showarrow": false,
                "text": 5,
                "x": -2.3503401455,
                "y": -2.9699653152,
                "yshift": 15,
                "z": -1.6618754031999998
               },
               {
                "font": {
                 "color": "blue"
                },
                "showarrow": false,
                "text": 6,
                "x": -2.4750839418,
                "y": -4.4361349944,
                "yshift": 15,
                "z": -1.2992666514
               },
               {
                "font": {
                 "color": "blue"
                },
                "showarrow": false,
                "text": 7,
                "x": -2.8333948446,
                "y": -1.9681137938,
                "yshift": 15,
                "z": -0.6077850665
               },
               {
                "font": {
                 "color": "blue"
                },
                "showarrow": false,
                "text": 8,
                "x": -1.4497339480000002,
                "y": -2.0446153492,
                "yshift": 15,
                "z": 0.1029274047
               },
               {
                "font": {
                 "color": "blue"
                },
                "showarrow": false,
                "text": 9,
                "x": 0.9839913474,
                "y": 2.0978426096,
                "yshift": 15,
                "z": -0.0309112233
               },
               {
                "font": {
                 "color": "blue"
                },
                "showarrow": false,
                "text": 10,
                "x": -0.3514497440999999,
                "y": 1.805358197,
                "yshift": 15,
                "z": -1.1523042841
               },
               {
                "font": {
                 "color": "blue"
                },
                "showarrow": false,
                "text": 11,
                "x": -0.6875754717,
                "y": 2.1826457525,
                "yshift": 15,
                "z": 0.5408669198
               },
               {
                "font": {
                 "color": "blue"
                },
                "showarrow": false,
                "text": 12,
                "x": 0.7418713726,
                "y": -0.3631250290999999,
                "yshift": 15,
                "z": -0.4449625479
               },
               {
                "font": {
                 "color": "blue"
                },
                "showarrow": false,
                "text": 13,
                "x": 0.4186584201,
                "y": 0.0182045602,
                "yshift": 15,
                "z": 1.2368788245
               },
               {
                "font": {
                 "color": "blue"
                },
                "showarrow": false,
                "text": 14,
                "x": -2.0670240766,
                "y": -0.0356106423,
                "yshift": 15,
                "z": 0.7819940805
               },
               {
                "font": {
                 "color": "blue"
                },
                "showarrow": false,
                "text": 15,
                "x": -2.3065728114,
                "y": -0.2580884323999999,
                "yshift": 15,
                "z": -2.0516250612
               },
               {
                "font": {
                 "color": "blue"
                },
                "showarrow": false,
                "text": 16,
                "x": -0.0666638983,
                "y": -2.2971570189,
                "yshift": 15,
                "z": -1.8443527732
               },
               {
                "font": {
                 "color": "blue"
                },
                "showarrow": false,
                "text": 17,
                "x": -2.8279613743,
                "y": -2.7717426866,
                "yshift": 15,
                "z": -2.6307791076
               },
               {
                "font": {
                 "color": "blue"
                },
                "showarrow": false,
                "text": 18,
                "x": -1.9925010388,
                "y": -4.6659686151,
                "yshift": 15,
                "z": -0.3445338343
               },
               {
                "font": {
                 "color": "blue"
                },
                "showarrow": false,
                "text": 19,
                "x": -3.529578324,
                "y": -4.7210846251,
                "yshift": 15,
                "z": -1.2222638212
               },
               {
                "font": {
                 "color": "blue"
                },
                "showarrow": false,
                "text": 20,
                "x": -2.0126341387,
                "y": -5.063277458,
                "yshift": 15,
                "z": -2.0692996089
               },
               {
                "font": {
                 "color": "blue"
                },
                "showarrow": false,
                "text": 21,
                "x": -1.276450479,
                "y": -2.7545413047000005,
                "yshift": 15,
                "z": 0.9133417981
               }
              ]
             }
            ],
            "label": "Atom indices",
            "method": "relayout"
           },
           {
            "args": [
             {
              "scene.annotations": [
               {
                "showarrow": false,
                "text": 1.53,
                "x": 0.012889485950000001,
                "y": 0.8953412849500001,
                "yshift": 15,
                "z": 0.045975516699999996
               },
               {
                "showarrow": false,
                "text": 1.52,
                "x": -0.6507468795000001,
                "y": -0.18294916,
                "yshift": 15,
                "z": 0.16916198285
               },
               {
                "showarrow": false,
                "text": 1.54,
                "x": -1.62607841775,
                "y": -0.7022071103499999,
                "yshift": 15,
                "z": -0.56436745945
               },
               {
                "showarrow": false,
                "text": 1.56,
                "x": -1.4910749699,
                "y": -1.5380140452999997,
                "yshift": 15,
                "z": -1.3267958048000001
               },
               {
                "showarrow": false,
                "text": 1.53,
                "x": -1.7070223477000002,
                "y": -2.57792748935,
                "yshift": 15,
                "z": -1.53297711125
               },
               {
                "showarrow": false,
                "text": 1.52,
                "x": -2.41271204365,
                "y": -3.7030501547999997,
                "yshift": 15,
                "z": -1.4805710273
               },
               {
                "showarrow": false,
                "text": 1.56,
                "x": -2.1415643963,
                "y": -2.0063645715,
                "yshift": 15,
                "z": -0.2524288309
               },
               {
                "showarrow": false,
                "text": 1.53,
                "x": -2.59186749505,
                "y": -2.4690395545,
                "yshift": 15,
                "z": -1.13483023485
               },
               {
                "showarrow": false,
                "text": 1.95,
                "x": -1.9485496972499998,
                "y": -2.07700172865,
                "yshift": 15,
                "z": -1.0059319429
               },
               {
                "showarrow": false,
                "text": 1.55,
                "x": -2.3759201172499997,
                "y": -1.42912611045,
                "yshift": 15,
                "z": -0.9286489284
               },
               {
                "showarrow": false,
                "text": 1.56,
                "x": -1.25671924895,
                "y": -2.11525250635,
                "yshift": 15,
                "z": -0.6505757073
               },
               {
                "showarrow": false,
                "text": 1.84,
                "x": -1.68408966895,
                "y": -1.46737688815,
                "yshift": 15,
                "z": -0.5732926928000001
               },
               {
                "showarrow": false,
                "text": 1.53,
                "x": -1.3917226968,
                "y": -1.2794455714,
                "yshift": 15,
                "z": 0.11185263805000001
               },
               {
                "showarrow": false,
                "text": 1.1,
                "x": -2.2438590402500003,
                "y": -4.7497062262,
                "yshift": 15,
                "z": -1.68428313015
               },
               {
                "showarrow": false,
                "text": 1.09,
                "x": 0.48877631635,
                "y": 1.87007385295,
                "yshift": 15,
                "z": -0.0782531421
               },
               {
                "showarrow": false,
                "text": 1.1,
                "x": -3.0023311329,
                "y": -4.57860980975,
                "yshift": 15,
                "z": -1.2607652363000001
               },
               {
                "showarrow": false,
                "text": 1.09,
                "x": -1.3630922135,
                "y": -2.3995783269500004,
                "yshift": 15,
                "z": 0.5081346014
               },
               {
                "showarrow": false,
                "text": 1.1,
                "x": -0.17894422939999996,
                "y": 1.72383164665,
                "yshift": 15,
                "z": -0.6389496725
               },
               {
                "showarrow": false,
                "text": 1.1,
                "x": 0.22543805335,
                "y": 0.0832910169,
                "yshift": 15,
                "z": 0.7272124594
               },
               {
                "showarrow": false,
                "text": 1.1,
                "x": -1.7003677611,
                "y": -0.27494321795,
                "yshift": 15,
                "z": 0.45138597594999996
               },
               {
                "showarrow": false,
                "text": 1.09,
                "x": -2.11250910065,
                "y": -0.5741134297499999,
                "yshift": 15,
                "z": -1.65056892575
               },
               {
                "showarrow": false,
                "text": 1.1,
                "x": -0.5651842241,
                "y": -2.2415233411999997,
                "yshift": 15,
                "z": -1.6242157962500001
               },
               {
                "showarrow": false,
                "text": 1.1,
                "x": -2.5891507599,
                "y": -2.8708540009,
                "yshift": 15,
                "z": -2.1463272554
               },
               {
                "showarrow": false,
                "text": 1.09,
                "x": -2.2337924903,
                "y": -4.551051804749999,
                "yshift": 15,
                "z": -0.82190024285
               },
               {
                "showarrow": false,
                "text": 1.1,
                "x": -0.3470070932,
                "y": 1.9124754244000002,
                "yshift": 15,
                "z": 0.20763592945
               },
               {
                "showarrow": false,
                "text": 1.1,
                "x": 0.3870445296,
                "y": -0.10737377774999994,
                "yshift": 15,
                "z": -0.1137082268
               }
              ]
             }
            ],
            "label": "Bond lengths",
            "method": "relayout"
           },
           {
            "args": [
             {
              "scene.annotations": [
               {
                "font": {
                 "color": "blue"
                },
                "showarrow": false,
                "text": 0,
                "x": -0.0064387147,
                "y": 1.6423050963,
                "yshift": 15,
                "z": -0.1255950609
               },
               {
                "font": {
                 "color": "blue"
                },
                "showarrow": false,
                "text": 1,
                "x": 0.0322176866,
                "y": 0.1483774736,
                "yshift": 15,
                "z": 0.2175460943
               },
               {
                "font": {
                 "color": "blue"
                },
                "showarrow": false,
                "text": 2,
                "x": -1.3337114456,
                "y": -0.5142757936,
                "yshift": 15,
                "z": 0.1207778714
               },
               {
                "font": {
                 "color": "blue"
                },
                "showarrow": false,
                "text": 3,
                "x": -1.9184453899,
                "y": -0.8901384270999999,
                "yshift": 15,
                "z": -1.2495127903
               },
               {
                "font": {
                 "color": "blue"
                },
                "showarrow": false,
                "text": 4,
                "x": -1.0637045499,
                "y": -2.1858896635,
                "yshift": 15,
                "z": -1.4040788193
               },
               {
                "font": {
                 "color": "blue"
                },
                "showarrow": false,
                "text": 5,
                "x": -2.3503401455,
                "y": -2.9699653152,
                "yshift": 15,
                "z": -1.6618754031999998
               },
               {
                "font": {
                 "color": "blue"
                },
                "showarrow": false,
                "text": 6,
                "x": -2.4750839418,
                "y": -4.4361349944,
                "yshift": 15,
                "z": -1.2992666514
               },
               {
                "font": {
                 "color": "blue"
                },
                "showarrow": false,
                "text": 7,
                "x": -2.8333948446,
                "y": -1.9681137938,
                "yshift": 15,
                "z": -0.6077850665
               },
               {
                "font": {
                 "color": "blue"
                },
                "showarrow": false,
                "text": 8,
                "x": -1.4497339480000002,
                "y": -2.0446153492,
                "yshift": 15,
                "z": 0.1029274047
               },
               {
                "font": {
                 "color": "blue"
                },
                "showarrow": false,
                "text": 9,
                "x": 0.9839913474,
                "y": 2.0978426096,
                "yshift": 15,
                "z": -0.0309112233
               },
               {
                "font": {
                 "color": "blue"
                },
                "showarrow": false,
                "text": 10,
                "x": -0.3514497440999999,
                "y": 1.805358197,
                "yshift": 15,
                "z": -1.1523042841
               },
               {
                "font": {
                 "color": "blue"
                },
                "showarrow": false,
                "text": 11,
                "x": -0.6875754717,
                "y": 2.1826457525,
                "yshift": 15,
                "z": 0.5408669198
               },
               {
                "font": {
                 "color": "blue"
                },
                "showarrow": false,
                "text": 12,
                "x": 0.7418713726,
                "y": -0.3631250290999999,
                "yshift": 15,
                "z": -0.4449625479
               },
               {
                "font": {
                 "color": "blue"
                },
                "showarrow": false,
                "text": 13,
                "x": 0.4186584201,
                "y": 0.0182045602,
                "yshift": 15,
                "z": 1.2368788245
               },
               {
                "font": {
                 "color": "blue"
                },
                "showarrow": false,
                "text": 14,
                "x": -2.0670240766,
                "y": -0.0356106423,
                "yshift": 15,
                "z": 0.7819940805
               },
               {
                "font": {
                 "color": "blue"
                },
                "showarrow": false,
                "text": 15,
                "x": -2.3065728114,
                "y": -0.2580884323999999,
                "yshift": 15,
                "z": -2.0516250612
               },
               {
                "font": {
                 "color": "blue"
                },
                "showarrow": false,
                "text": 16,
                "x": -0.0666638983,
                "y": -2.2971570189,
                "yshift": 15,
                "z": -1.8443527732
               },
               {
                "font": {
                 "color": "blue"
                },
                "showarrow": false,
                "text": 17,
                "x": -2.8279613743,
                "y": -2.7717426866,
                "yshift": 15,
                "z": -2.6307791076
               },
               {
                "font": {
                 "color": "blue"
                },
                "showarrow": false,
                "text": 18,
                "x": -1.9925010388,
                "y": -4.6659686151,
                "yshift": 15,
                "z": -0.3445338343
               },
               {
                "font": {
                 "color": "blue"
                },
                "showarrow": false,
                "text": 19,
                "x": -3.529578324,
                "y": -4.7210846251,
                "yshift": 15,
                "z": -1.2222638212
               },
               {
                "font": {
                 "color": "blue"
                },
                "showarrow": false,
                "text": 20,
                "x": -2.0126341387,
                "y": -5.063277458,
                "yshift": 15,
                "z": -2.0692996089
               },
               {
                "font": {
                 "color": "blue"
                },
                "showarrow": false,
                "text": 21,
                "x": -1.276450479,
                "y": -2.7545413047000005,
                "yshift": 15,
                "z": 0.9133417981
               },
               {
                "showarrow": false,
                "text": 1.53,
                "x": 0.012889485950000001,
                "y": 0.8953412849500001,
                "yshift": 15,
                "z": 0.045975516699999996
               },
               {
                "showarrow": false,
                "text": 1.52,
                "x": -0.6507468795000001,
                "y": -0.18294916,
                "yshift": 15,
                "z": 0.16916198285
               },
               {
                "showarrow": false,
                "text": 1.54,
                "x": -1.62607841775,
                "y": -0.7022071103499999,
                "yshift": 15,
                "z": -0.56436745945
               },
               {
                "showarrow": false,
                "text": 1.56,
                "x": -1.4910749699,
                "y": -1.5380140452999997,
                "yshift": 15,
                "z": -1.3267958048000001
               },
               {
                "showarrow": false,
                "text": 1.53,
                "x": -1.7070223477000002,
                "y": -2.57792748935,
                "yshift": 15,
                "z": -1.53297711125
               },
               {
                "showarrow": false,
                "text": 1.52,
                "x": -2.41271204365,
                "y": -3.7030501547999997,
                "yshift": 15,
                "z": -1.4805710273
               },
               {
                "showarrow": false,
                "text": 1.56,
                "x": -2.1415643963,
                "y": -2.0063645715,
                "yshift": 15,
                "z": -0.2524288309
               },
               {
                "showarrow": false,
                "text": 1.53,
                "x": -2.59186749505,
                "y": -2.4690395545,
                "yshift": 15,
                "z": -1.13483023485
               },
               {
                "showarrow": false,
                "text": 1.95,
                "x": -1.9485496972499998,
                "y": -2.07700172865,
                "yshift": 15,
                "z": -1.0059319429
               },
               {
                "showarrow": false,
                "text": 1.55,
                "x": -2.3759201172499997,
                "y": -1.42912611045,
                "yshift": 15,
                "z": -0.9286489284
               },
               {
                "showarrow": false,
                "text": 1.56,
                "x": -1.25671924895,
                "y": -2.11525250635,
                "yshift": 15,
                "z": -0.6505757073
               },
               {
                "showarrow": false,
                "text": 1.84,
                "x": -1.68408966895,
                "y": -1.46737688815,
                "yshift": 15,
                "z": -0.5732926928000001
               },
               {
                "showarrow": false,
                "text": 1.53,
                "x": -1.3917226968,
                "y": -1.2794455714,
                "yshift": 15,
                "z": 0.11185263805000001
               },
               {
                "showarrow": false,
                "text": 1.1,
                "x": -2.2438590402500003,
                "y": -4.7497062262,
                "yshift": 15,
                "z": -1.68428313015
               },
               {
                "showarrow": false,
                "text": 1.09,
                "x": 0.48877631635,
                "y": 1.87007385295,
                "yshift": 15,
                "z": -0.0782531421
               },
               {
                "showarrow": false,
                "text": 1.1,
                "x": -3.0023311329,
                "y": -4.57860980975,
                "yshift": 15,
                "z": -1.2607652363000001
               },
               {
                "showarrow": false,
                "text": 1.09,
                "x": -1.3630922135,
                "y": -2.3995783269500004,
                "yshift": 15,
                "z": 0.5081346014
               },
               {
                "showarrow": false,
                "text": 1.1,
                "x": -0.17894422939999996,
                "y": 1.72383164665,
                "yshift": 15,
                "z": -0.6389496725
               },
               {
                "showarrow": false,
                "text": 1.1,
                "x": 0.22543805335,
                "y": 0.0832910169,
                "yshift": 15,
                "z": 0.7272124594
               },
               {
                "showarrow": false,
                "text": 1.1,
                "x": -1.7003677611,
                "y": -0.27494321795,
                "yshift": 15,
                "z": 0.45138597594999996
               },
               {
                "showarrow": false,
                "text": 1.09,
                "x": -2.11250910065,
                "y": -0.5741134297499999,
                "yshift": 15,
                "z": -1.65056892575
               },
               {
                "showarrow": false,
                "text": 1.1,
                "x": -0.5651842241,
                "y": -2.2415233411999997,
                "yshift": 15,
                "z": -1.6242157962500001
               },
               {
                "showarrow": false,
                "text": 1.1,
                "x": -2.5891507599,
                "y": -2.8708540009,
                "yshift": 15,
                "z": -2.1463272554
               },
               {
                "showarrow": false,
                "text": 1.09,
                "x": -2.2337924903,
                "y": -4.551051804749999,
                "yshift": 15,
                "z": -0.82190024285
               },
               {
                "showarrow": false,
                "text": 1.1,
                "x": -0.3470070932,
                "y": 1.9124754244000002,
                "yshift": 15,
                "z": 0.20763592945
               },
               {
                "showarrow": false,
                "text": 1.1,
                "x": 0.3870445296,
                "y": -0.10737377774999994,
                "yshift": 15,
                "z": -0.1137082268
               }
              ]
             }
            ],
            "label": "Atom indices & Bond lengths",
            "method": "relayout"
           },
           {
            "args": [
             {
              "scene.annotations": []
             }
            ],
            "label": "Hide all",
            "method": "relayout"
           }
          ],
          "direction": "down",
          "xanchor": "left",
          "yanchor": "top"
         }
        ]
       }
      },
      "image/png": "[encoded data removed]",
      "text/html": [
       "<div>                            <div id=\"78927b3c-e09f-489c-bc36-7a7a85795f30\" class=\"plotly-graph-div\" style=\"height:525px; width:100%;\"></div>            <script type=\"text/javascript\">                require([\"plotly\"], function(Plotly) {                    window.PLOTLYENV=window.PLOTLYENV || {};                                    if (document.getElementById(\"78927b3c-e09f-489c-bc36-7a7a85795f30\")) {                    Plotly.newPlot(                        \"78927b3c-e09f-489c-bc36-7a7a85795f30\",                        [{\"marker\":{\"color\":[\"black\",\"black\",\"black\",\"black\",\"black\",\"black\",\"black\",\"blue\",\"black\",\"white\",\"white\",\"white\",\"white\",\"white\",\"white\",\"white\",\"white\",\"white\",\"white\",\"white\",\"white\",\"white\"],\"line\":{\"color\":\"lightgray\",\"width\":2},\"opacity\":0.8,\"size\":5,\"symbol\":\"circle\"},\"mode\":\"markers\",\"name\":\"\",\"text\":[\"C\",\"C\",\"C\",\"C\",\"C\",\"C\",\"C\",\"N\",\"C\",\"H\",\"H\",\"H\",\"H\",\"H\",\"H\",\"H\",\"H\",\"H\",\"H\",\"H\",\"H\",\"H\"],\"x\":[-0.0064387147,0.0322176866,-1.3337114456,-1.9184453899,-1.0637045499,-2.3503401455,-2.4750839418,-2.8333948446,-1.4497339480000002,0.9839913474,-0.3514497440999999,-0.6875754717,0.7418713726,0.4186584201,-2.0670240766,-2.3065728114,-0.0666638983,-2.8279613743,-1.9925010388,-3.529578324,-2.0126341387,-1.276450479],\"y\":[1.6423050963,0.1483774736,-0.5142757936,-0.8901384270999999,-2.1858896635,-2.9699653152,-4.4361349944,-1.9681137938,-2.0446153492,2.0978426096,1.805358197,2.1826457525,-0.3631250290999999,0.0182045602,-0.0356106423,-0.2580884323999999,-2.2971570189,-2.7717426866,-4.6659686151,-4.7210846251,-5.063277458,-2.7545413047000005],\"z\":[-0.1255950609,0.2175460943,0.1207778714,-1.2495127903,-1.4040788193,-1.6618754031999998,-1.2992666514,-0.6077850665,0.1029274047,-0.0309112233,-1.1523042841,0.5408669198,-0.4449625479,1.2368788245,0.7819940805,-2.0516250612,-1.8443527732,-2.6307791076,-0.3445338343,-1.2222638212,-2.0692996089,0.9133417981],\"type\":\"scatter3d\"},{\"hoverinfo\":\"none\",\"marker\":{\"color\":\"grey\",\"opacity\":1,\"size\":7},\"mode\":\"lines\",\"x\":[-0.0064387147,0.0322176866,null,0.0322176866,-1.3337114456,null,-1.3337114456,-1.9184453899,null,-1.9184453899,-1.0637045499,null,-1.0637045499,-2.3503401455,null,-2.3503401455,-2.4750839418,null,-1.4497339480000002,-2.8333948446,null,-2.3503401455,-2.8333948446,null,-1.0637045499,-2.8333948446,null,-1.9184453899,-2.8333948446,null,-1.4497339480000002,-1.0637045499,null,-1.4497339480000002,-1.9184453899,null,-1.4497339480000002,-1.3337114456,null,-2.0126341387,-2.4750839418,null,-0.0064387147,0.9839913474,null,-3.529578324,-2.4750839418,null,-1.4497339480000002,-1.276450479,null,-0.0064387147,-0.3514497440999999,null,0.0322176866,0.4186584201,null,-1.3337114456,-2.0670240766,null,-1.9184453899,-2.3065728114,null,-0.0666638983,-1.0637045499,null,-2.8279613743,-2.3503401455,null,-1.9925010388,-2.4750839418,null,-0.0064387147,-0.6875754717,null,0.0322176866,0.7418713726,null],\"y\":[1.6423050963,0.1483774736,null,0.1483774736,-0.5142757936,null,-0.5142757936,-0.8901384270999999,null,-0.8901384270999999,-2.1858896635,null,-2.1858896635,-2.9699653152,null,-2.9699653152,-4.4361349944,null,-2.0446153492,-1.9681137938,null,-2.9699653152,-1.9681137938,null,-2.1858896635,-1.9681137938,null,-0.8901384270999999,-1.9681137938,null,-2.0446153492,-2.1858896635,null,-2.0446153492,-0.8901384270999999,null,-2.0446153492,-0.5142757936,null,-5.063277458,-4.4361349944,null,1.6423050963,2.0978426096,null,-4.7210846251,-4.4361349944,null,-2.0446153492,-2.7545413047000005,null,1.6423050963,1.805358197,null,0.1483774736,0.0182045602,null,-0.5142757936,-0.0356106423,null,-0.8901384270999999,-0.2580884323999999,null,-2.2971570189,-2.1858896635,null,-2.7717426866,-2.9699653152,null,-4.6659686151,-4.4361349944,null,1.6423050963,2.1826457525,null,0.1483774736,-0.3631250290999999,null],\"z\":[-0.1255950609,0.2175460943,null,0.2175460943,0.1207778714,null,0.1207778714,-1.2495127903,null,-1.2495127903,-1.4040788193,null,-1.4040788193,-1.6618754031999998,null,-1.6618754031999998,-1.2992666514,null,0.1029274047,-0.6077850665,null,-1.6618754031999998,-0.6077850665,null,-1.4040788193,-0.6077850665,null,-1.2495127903,-0.6077850665,null,0.1029274047,-1.4040788193,null,0.1029274047,-1.2495127903,null,0.1029274047,0.1207778714,null,-2.0692996089,-1.2992666514,null,-0.1255950609,-0.0309112233,null,-1.2222638212,-1.2992666514,null,0.1029274047,0.9133417981,null,-0.1255950609,-1.1523042841,null,0.2175460943,1.2368788245,null,0.1207778714,0.7819940805,null,-1.2495127903,-2.0516250612,null,-1.8443527732,-1.4040788193,null,-2.6307791076,-1.6618754031999998,null,-0.3445338343,-1.2992666514,null,-0.1255950609,0.5408669198,null,0.2175460943,-0.4449625479,null],\"type\":\"scatter3d\"}],                        {\"margin\":{\"b\":0,\"l\":0,\"r\":0,\"t\":0},\"scene\":{\"annotations\":[{\"font\":{\"color\":\"blue\"},\"showarrow\":false,\"text\":\"0\",\"x\":-0.0064387147,\"y\":1.6423050963,\"yshift\":15,\"z\":-0.1255950609},{\"font\":{\"color\":\"blue\"},\"showarrow\":false,\"text\":\"1\",\"x\":0.0322176866,\"y\":0.1483774736,\"yshift\":15,\"z\":0.2175460943},{\"font\":{\"color\":\"blue\"},\"showarrow\":false,\"text\":\"2\",\"x\":-1.3337114456,\"y\":-0.5142757936,\"yshift\":15,\"z\":0.1207778714},{\"font\":{\"color\":\"blue\"},\"showarrow\":false,\"text\":\"3\",\"x\":-1.9184453899,\"y\":-0.8901384270999999,\"yshift\":15,\"z\":-1.2495127903},{\"font\":{\"color\":\"blue\"},\"showarrow\":false,\"text\":\"4\",\"x\":-1.0637045499,\"y\":-2.1858896635,\"yshift\":15,\"z\":-1.4040788193},{\"font\":{\"color\":\"blue\"},\"showarrow\":false,\"text\":\"5\",\"x\":-2.3503401455,\"y\":-2.9699653152,\"yshift\":15,\"z\":-1.6618754031999998},{\"font\":{\"color\":\"blue\"},\"showarrow\":false,\"text\":\"6\",\"x\":-2.4750839418,\"y\":-4.4361349944,\"yshift\":15,\"z\":-1.2992666514},{\"font\":{\"color\":\"blue\"},\"showarrow\":false,\"text\":\"7\",\"x\":-2.8333948446,\"y\":-1.9681137938,\"yshift\":15,\"z\":-0.6077850665},{\"font\":{\"color\":\"blue\"},\"showarrow\":false,\"text\":\"8\",\"x\":-1.4497339480000002,\"y\":-2.0446153492,\"yshift\":15,\"z\":0.1029274047},{\"font\":{\"color\":\"blue\"},\"showarrow\":false,\"text\":\"9\",\"x\":0.9839913474,\"y\":2.0978426096,\"yshift\":15,\"z\":-0.0309112233},{\"font\":{\"color\":\"blue\"},\"showarrow\":false,\"text\":\"10\",\"x\":-0.3514497440999999,\"y\":1.805358197,\"yshift\":15,\"z\":-1.1523042841},{\"font\":{\"color\":\"blue\"},\"showarrow\":false,\"text\":\"11\",\"x\":-0.6875754717,\"y\":2.1826457525,\"yshift\":15,\"z\":0.5408669198},{\"font\":{\"color\":\"blue\"},\"showarrow\":false,\"text\":\"12\",\"x\":0.7418713726,\"y\":-0.3631250290999999,\"yshift\":15,\"z\":-0.4449625479},{\"font\":{\"color\":\"blue\"},\"showarrow\":false,\"text\":\"13\",\"x\":0.4186584201,\"y\":0.0182045602,\"yshift\":15,\"z\":1.2368788245},{\"font\":{\"color\":\"blue\"},\"showarrow\":false,\"text\":\"14\",\"x\":-2.0670240766,\"y\":-0.0356106423,\"yshift\":15,\"z\":0.7819940805},{\"font\":{\"color\":\"blue\"},\"showarrow\":false,\"text\":\"15\",\"x\":-2.3065728114,\"y\":-0.2580884323999999,\"yshift\":15,\"z\":-2.0516250612},{\"font\":{\"color\":\"blue\"},\"showarrow\":false,\"text\":\"16\",\"x\":-0.0666638983,\"y\":-2.2971570189,\"yshift\":15,\"z\":-1.8443527732},{\"font\":{\"color\":\"blue\"},\"showarrow\":false,\"text\":\"17\",\"x\":-2.8279613743,\"y\":-2.7717426866,\"yshift\":15,\"z\":-2.6307791076},{\"font\":{\"color\":\"blue\"},\"showarrow\":false,\"text\":\"18\",\"x\":-1.9925010388,\"y\":-4.6659686151,\"yshift\":15,\"z\":-0.3445338343},{\"font\":{\"color\":\"blue\"},\"showarrow\":false,\"text\":\"19\",\"x\":-3.529578324,\"y\":-4.7210846251,\"yshift\":15,\"z\":-1.2222638212},{\"font\":{\"color\":\"blue\"},\"showarrow\":false,\"text\":\"20\",\"x\":-2.0126341387,\"y\":-5.063277458,\"yshift\":15,\"z\":-2.0692996089},{\"font\":{\"color\":\"blue\"},\"showarrow\":false,\"text\":\"21\",\"x\":-1.276450479,\"y\":-2.7545413047000005,\"yshift\":15,\"z\":0.9133417981}],\"xaxis\":{\"showbackground\":false,\"showgrid\":false,\"showticklabels\":false,\"title\":{\"font\":{\"color\":\"white\"}},\"zeroline\":false},\"yaxis\":{\"showbackground\":false,\"showgrid\":false,\"showticklabels\":false,\"title\":{\"font\":{\"color\":\"white\"}},\"zeroline\":false},\"zaxis\":{\"showbackground\":false,\"showgrid\":false,\"showticklabels\":false,\"title\":{\"font\":{\"color\":\"white\"}},\"zeroline\":false}},\"showlegend\":false,\"template\":{\"data\":{\"barpolar\":[{\"marker\":{\"line\":{\"color\":\"#E5ECF6\",\"width\":0.5},\"pattern\":{\"fillmode\":\"overlay\",\"size\":10,\"solidity\":0.2}},\"type\":\"barpolar\"}],\"bar\":[{\"error_x\":{\"color\":\"#2a3f5f\"},\"error_y\":{\"color\":\"#2a3f5f\"},\"marker\":{\"line\":{\"color\":\"#E5ECF6\",\"width\":0.5},\"pattern\":{\"fillmode\":\"overlay\",\"size\":10,\"solidity\":0.2}},\"type\":\"bar\"}],\"carpet\":[{\"aaxis\":{\"endlinecolor\":\"#2a3f5f\",\"gridcolor\":\"white\",\"linecolor\":\"white\",\"minorgridcolor\":\"white\",\"startlinecolor\":\"#2a3f5f\"},\"baxis\":{\"endlinecolor\":\"#2a3f5f\",\"gridcolor\":\"white\",\"linecolor\":\"white\",\"minorgridcolor\":\"white\",\"startlinecolor\":\"#2a3f5f\"},\"type\":\"carpet\"}],\"choropleth\":[{\"colorbar\":{\"outlinewidth\":0,\"ticks\":\"\"},\"type\":\"choropleth\"}],\"contourcarpet\":[{\"colorbar\":{\"outlinewidth\":0,\"ticks\":\"\"},\"type\":\"contourcarpet\"}],\"contour\":[{\"colorbar\":{\"outlinewidth\":0,\"ticks\":\"\"},\"colorscale\":[[0.0,\"#0d0887\"],[0.1111111111111111,\"#46039f\"],[0.2222222222222222,\"#7201a8\"],[0.3333333333333333,\"#9c179e\"],[0.4444444444444444,\"#bd3786\"],[0.5555555555555556,\"#d8576b\"],[0.6666666666666666,\"#ed7953\"],[0.7777777777777778,\"#fb9f3a\"],[0.8888888888888888,\"#fdca26\"],[1.0,\"#f0f921\"]],\"type\":\"contour\"}],\"heatmapgl\":[{\"colorbar\":{\"outlinewidth\":0,\"ticks\":\"\"},\"colorscale\":[[0.0,\"#0d0887\"],[0.1111111111111111,\"#46039f\"],[0.2222222222222222,\"#7201a8\"],[0.3333333333333333,\"#9c179e\"],[0.4444444444444444,\"#bd3786\"],[0.5555555555555556,\"#d8576b\"],[0.6666666666666666,\"#ed7953\"],[0.7777777777777778,\"#fb9f3a\"],[0.8888888888888888,\"#fdca26\"],[1.0,\"#f0f921\"]],\"type\":\"heatmapgl\"}],\"heatmap\":[{\"colorbar\":{\"outlinewidth\":0,\"ticks\":\"\"},\"colorscale\":[[0.0,\"#0d0887\"],[0.1111111111111111,\"#46039f\"],[0.2222222222222222,\"#7201a8\"],[0.3333333333333333,\"#9c179e\"],[0.4444444444444444,\"#bd3786\"],[0.5555555555555556,\"#d8576b\"],[0.6666666666666666,\"#ed7953\"],[0.7777777777777778,\"#fb9f3a\"],[0.8888888888888888,\"#fdca26\"],[1.0,\"#f0f921\"]],\"type\":\"heatmap\"}],\"histogram2dcontour\":[{\"colorbar\":{\"outlinewidth\":0,\"ticks\":\"\"},\"colorscale\":[[0.0,\"#0d0887\"],[0.1111111111111111,\"#46039f\"],[0.2222222222222222,\"#7201a8\"],[0.3333333333333333,\"#9c179e\"],[0.4444444444444444,\"#bd3786\"],[0.5555555555555556,\"#d8576b\"],[0.6666666666666666,\"#ed7953\"],[0.7777777777777778,\"#fb9f3a\"],[0.8888888888888888,\"#fdca26\"],[1.0,\"#f0f921\"]],\"type\":\"histogram2dcontour\"}],\"histogram2d\":[{\"colorbar\":{\"outlinewidth\":0,\"ticks\":\"\"},\"colorscale\":[[0.0,\"#0d0887\"],[0.1111111111111111,\"#46039f\"],[0.2222222222222222,\"#7201a8\"],[0.3333333333333333,\"#9c179e\"],[0.4444444444444444,\"#bd3786\"],[0.5555555555555556,\"#d8576b\"],[0.6666666666666666,\"#ed7953\"],[0.7777777777777778,\"#fb9f3a\"],[0.8888888888888888,\"#fdca26\"],[1.0,\"#f0f921\"]],\"type\":\"histogram2d\"}],\"histogram\":[{\"marker\":{\"pattern\":{\"fillmode\":\"overlay\",\"size\":10,\"solidity\":0.2}},\"type\":\"histogram\"}],\"mesh3d\":[{\"colorbar\":{\"outlinewidth\":0,\"ticks\":\"\"},\"type\":\"mesh3d\"}],\"parcoords\":[{\"line\":{\"colorbar\":{\"outlinewidth\":0,\"ticks\":\"\"}},\"type\":\"parcoords\"}],\"pie\":[{\"automargin\":true,\"type\":\"pie\"}],\"scatter3d\":[{\"line\":{\"colorbar\":{\"outlinewidth\":0,\"ticks\":\"\"}},\"marker\":{\"colorbar\":{\"outlinewidth\":0,\"ticks\":\"\"}},\"type\":\"scatter3d\"}],\"scattercarpet\":[{\"marker\":{\"colorbar\":{\"outlinewidth\":0,\"ticks\":\"\"}},\"type\":\"scattercarpet\"}],\"scattergeo\":[{\"marker\":{\"colorbar\":{\"outlinewidth\":0,\"ticks\":\"\"}},\"type\":\"scattergeo\"}],\"scattergl\":[{\"marker\":{\"colorbar\":{\"outlinewidth\":0,\"ticks\":\"\"}},\"type\":\"scattergl\"}],\"scattermapbox\":[{\"marker\":{\"colorbar\":{\"outlinewidth\":0,\"ticks\":\"\"}},\"type\":\"scattermapbox\"}],\"scatterpolargl\":[{\"marker\":{\"colorbar\":{\"outlinewidth\":0,\"ticks\":\"\"}},\"type\":\"scatterpolargl\"}],\"scatterpolar\":[{\"marker\":{\"colorbar\":{\"outlinewidth\":0,\"ticks\":\"\"}},\"type\":\"scatterpolar\"}],\"scatter\":[{\"fillpattern\":{\"fillmode\":\"overlay\",\"size\":10,\"solidity\":0.2},\"type\":\"scatter\"}],\"scatterternary\":[{\"marker\":{\"colorbar\":{\"outlinewidth\":0,\"ticks\":\"\"}},\"type\":\"scatterternary\"}],\"surface\":[{\"colorbar\":{\"outlinewidth\":0,\"ticks\":\"\"},\"colorscale\":[[0.0,\"#0d0887\"],[0.1111111111111111,\"#46039f\"],[0.2222222222222222,\"#7201a8\"],[0.3333333333333333,\"#9c179e\"],[0.4444444444444444,\"#bd3786\"],[0.5555555555555556,\"#d8576b\"],[0.6666666666666666,\"#ed7953\"],[0.7777777777777778,\"#fb9f3a\"],[0.8888888888888888,\"#fdca26\"],[1.0,\"#f0f921\"]],\"type\":\"surface\"}],\"table\":[{\"cells\":{\"fill\":{\"color\":\"#EBF0F8\"},\"line\":{\"color\":\"white\"}},\"header\":{\"fill\":{\"color\":\"#C8D4E3\"},\"line\":{\"color\":\"white\"}},\"type\":\"table\"}]},\"layout\":{\"annotationdefaults\":{\"arrowcolor\":\"#2a3f5f\",\"arrowhead\":0,\"arrowwidth\":1},\"autotypenumbers\":\"strict\",\"coloraxis\":{\"colorbar\":{\"outlinewidth\":0,\"ticks\":\"\"}},\"colorscale\":{\"diverging\":[[0,\"#8e0152\"],[0.1,\"#c51b7d\"],[0.2,\"#de77ae\"],[0.3,\"#f1b6da\"],[0.4,\"#fde0ef\"],[0.5,\"#f7f7f7\"],[0.6,\"#e6f5d0\"],[0.7,\"#b8e186\"],[0.8,\"#7fbc41\"],[0.9,\"#4d9221\"],[1,\"#276419\"]],\"sequential\":[[0.0,\"#0d0887\"],[0.1111111111111111,\"#46039f\"],[0.2222222222222222,\"#7201a8\"],[0.3333333333333333,\"#9c179e\"],[0.4444444444444444,\"#bd3786\"],[0.5555555555555556,\"#d8576b\"],[0.6666666666666666,\"#ed7953\"],[0.7777777777777778,\"#fb9f3a\"],[0.8888888888888888,\"#fdca26\"],[1.0,\"#f0f921\"]],\"sequentialminus\":[[0.0,\"#0d0887\"],[0.1111111111111111,\"#46039f\"],[0.2222222222222222,\"#7201a8\"],[0.3333333333333333,\"#9c179e\"],[0.4444444444444444,\"#bd3786\"],[0.5555555555555556,\"#d8576b\"],[0.6666666666666666,\"#ed7953\"],[0.7777777777777778,\"#fb9f3a\"],[0.8888888888888888,\"#fdca26\"],[1.0,\"#f0f921\"]]},\"colorway\":[\"#636efa\",\"#EF553B\",\"#00cc96\",\"#ab63fa\",\"#FFA15A\",\"#19d3f3\",\"#FF6692\",\"#B6E880\",\"#FF97FF\",\"#FECB52\"],\"font\":{\"color\":\"#2a3f5f\"},\"geo\":{\"bgcolor\":\"white\",\"lakecolor\":\"white\",\"landcolor\":\"#E5ECF6\",\"showlakes\":true,\"showland\":true,\"subunitcolor\":\"white\"},\"hoverlabel\":{\"align\":\"left\"},\"hovermode\":\"closest\",\"mapbox\":{\"style\":\"light\"},\"paper_bgcolor\":\"white\",\"plot_bgcolor\":\"#E5ECF6\",\"polar\":{\"angularaxis\":{\"gridcolor\":\"white\",\"linecolor\":\"white\",\"ticks\":\"\"},\"bgcolor\":\"#E5ECF6\",\"radialaxis\":{\"gridcolor\":\"white\",\"linecolor\":\"white\",\"ticks\":\"\"}},\"scene\":{\"xaxis\":{\"backgroundcolor\":\"#E5ECF6\",\"gridcolor\":\"white\",\"gridwidth\":2,\"linecolor\":\"white\",\"showbackground\":true,\"ticks\":\"\",\"zerolinecolor\":\"white\"},\"yaxis\":{\"backgroundcolor\":\"#E5ECF6\",\"gridcolor\":\"white\",\"gridwidth\":2,\"linecolor\":\"white\",\"showbackground\":true,\"ticks\":\"\",\"zerolinecolor\":\"white\"},\"zaxis\":{\"backgroundcolor\":\"#E5ECF6\",\"gridcolor\":\"white\",\"gridwidth\":2,\"linecolor\":\"white\",\"showbackground\":true,\"ticks\":\"\",\"zerolinecolor\":\"white\"}},\"shapedefaults\":{\"line\":{\"color\":\"#2a3f5f\"}},\"ternary\":{\"aaxis\":{\"gridcolor\":\"white\",\"linecolor\":\"white\",\"ticks\":\"\"},\"baxis\":{\"gridcolor\":\"white\",\"linecolor\":\"white\",\"ticks\":\"\"},\"bgcolor\":\"#E5ECF6\",\"caxis\":{\"gridcolor\":\"white\",\"linecolor\":\"white\",\"ticks\":\"\"}},\"title\":{\"x\":0.05},\"xaxis\":{\"automargin\":true,\"gridcolor\":\"white\",\"linecolor\":\"white\",\"ticks\":\"\",\"title\":{\"standoff\":15},\"zerolinecolor\":\"white\",\"zerolinewidth\":2},\"yaxis\":{\"automargin\":true,\"gridcolor\":\"white\",\"linecolor\":\"white\",\"ticks\":\"\",\"title\":{\"standoff\":15},\"zerolinecolor\":\"white\",\"zerolinewidth\":2}}},\"updatemenus\":[{\"buttons\":[{\"args\":[{\"scene.annotations\":[{\"text\":0,\"x\":-0.0064387147,\"y\":1.6423050963,\"z\":-0.1255950609,\"showarrow\":false,\"yshift\":15,\"font\":{\"color\":\"blue\"}},{\"text\":1,\"x\":0.0322176866,\"y\":0.1483774736,\"z\":0.2175460943,\"showarrow\":false,\"yshift\":15,\"font\":{\"color\":\"blue\"}},{\"text\":2,\"x\":-1.3337114456,\"y\":-0.5142757936,\"z\":0.1207778714,\"showarrow\":false,\"yshift\":15,\"font\":{\"color\":\"blue\"}},{\"text\":3,\"x\":-1.9184453899,\"y\":-0.8901384270999999,\"z\":-1.2495127903,\"showarrow\":false,\"yshift\":15,\"font\":{\"color\":\"blue\"}},{\"text\":4,\"x\":-1.0637045499,\"y\":-2.1858896635,\"z\":-1.4040788193,\"showarrow\":false,\"yshift\":15,\"font\":{\"color\":\"blue\"}},{\"text\":5,\"x\":-2.3503401455,\"y\":-2.9699653152,\"z\":-1.6618754031999998,\"showarrow\":false,\"yshift\":15,\"font\":{\"color\":\"blue\"}},{\"text\":6,\"x\":-2.4750839418,\"y\":-4.4361349944,\"z\":-1.2992666514,\"showarrow\":false,\"yshift\":15,\"font\":{\"color\":\"blue\"}},{\"text\":7,\"x\":-2.8333948446,\"y\":-1.9681137938,\"z\":-0.6077850665,\"showarrow\":false,\"yshift\":15,\"font\":{\"color\":\"blue\"}},{\"text\":8,\"x\":-1.4497339480000002,\"y\":-2.0446153492,\"z\":0.1029274047,\"showarrow\":false,\"yshift\":15,\"font\":{\"color\":\"blue\"}},{\"text\":9,\"x\":0.9839913474,\"y\":2.0978426096,\"z\":-0.0309112233,\"showarrow\":false,\"yshift\":15,\"font\":{\"color\":\"blue\"}},{\"text\":10,\"x\":-0.3514497440999999,\"y\":1.805358197,\"z\":-1.1523042841,\"showarrow\":false,\"yshift\":15,\"font\":{\"color\":\"blue\"}},{\"text\":11,\"x\":-0.6875754717,\"y\":2.1826457525,\"z\":0.5408669198,\"showarrow\":false,\"yshift\":15,\"font\":{\"color\":\"blue\"}},{\"text\":12,\"x\":0.7418713726,\"y\":-0.3631250290999999,\"z\":-0.4449625479,\"showarrow\":false,\"yshift\":15,\"font\":{\"color\":\"blue\"}},{\"text\":13,\"x\":0.4186584201,\"y\":0.0182045602,\"z\":1.2368788245,\"showarrow\":false,\"yshift\":15,\"font\":{\"color\":\"blue\"}},{\"text\":14,\"x\":-2.0670240766,\"y\":-0.0356106423,\"z\":0.7819940805,\"showarrow\":false,\"yshift\":15,\"font\":{\"color\":\"blue\"}},{\"text\":15,\"x\":-2.3065728114,\"y\":-0.2580884323999999,\"z\":-2.0516250612,\"showarrow\":false,\"yshift\":15,\"font\":{\"color\":\"blue\"}},{\"text\":16,\"x\":-0.0666638983,\"y\":-2.2971570189,\"z\":-1.8443527732,\"showarrow\":false,\"yshift\":15,\"font\":{\"color\":\"blue\"}},{\"text\":17,\"x\":-2.8279613743,\"y\":-2.7717426866,\"z\":-2.6307791076,\"showarrow\":false,\"yshift\":15,\"font\":{\"color\":\"blue\"}},{\"text\":18,\"x\":-1.9925010388,\"y\":-4.6659686151,\"z\":-0.3445338343,\"showarrow\":false,\"yshift\":15,\"font\":{\"color\":\"blue\"}},{\"text\":19,\"x\":-3.529578324,\"y\":-4.7210846251,\"z\":-1.2222638212,\"showarrow\":false,\"yshift\":15,\"font\":{\"color\":\"blue\"}},{\"text\":20,\"x\":-2.0126341387,\"y\":-5.063277458,\"z\":-2.0692996089,\"showarrow\":false,\"yshift\":15,\"font\":{\"color\":\"blue\"}},{\"text\":21,\"x\":-1.276450479,\"y\":-2.7545413047000005,\"z\":0.9133417981,\"showarrow\":false,\"yshift\":15,\"font\":{\"color\":\"blue\"}}]}],\"label\":\"Atom indices\",\"method\":\"relayout\"},{\"args\":[{\"scene.annotations\":[{\"text\":1.53,\"x\":0.012889485950000001,\"y\":0.8953412849500001,\"z\":0.045975516699999996,\"showarrow\":false,\"yshift\":15},{\"text\":1.52,\"x\":-0.6507468795000001,\"y\":-0.18294916,\"z\":0.16916198285,\"showarrow\":false,\"yshift\":15},{\"text\":1.54,\"x\":-1.62607841775,\"y\":-0.7022071103499999,\"z\":-0.56436745945,\"showarrow\":false,\"yshift\":15},{\"text\":1.56,\"x\":-1.4910749699,\"y\":-1.5380140452999997,\"z\":-1.3267958048000001,\"showarrow\":false,\"yshift\":15},{\"text\":1.53,\"x\":-1.7070223477000002,\"y\":-2.57792748935,\"z\":-1.53297711125,\"showarrow\":false,\"yshift\":15},{\"text\":1.52,\"x\":-2.41271204365,\"y\":-3.7030501547999997,\"z\":-1.4805710273,\"showarrow\":false,\"yshift\":15},{\"text\":1.56,\"x\":-2.1415643963,\"y\":-2.0063645715,\"z\":-0.2524288309,\"showarrow\":false,\"yshift\":15},{\"text\":1.53,\"x\":-2.59186749505,\"y\":-2.4690395545,\"z\":-1.13483023485,\"showarrow\":false,\"yshift\":15},{\"text\":1.95,\"x\":-1.9485496972499998,\"y\":-2.07700172865,\"z\":-1.0059319429,\"showarrow\":false,\"yshift\":15},{\"text\":1.55,\"x\":-2.3759201172499997,\"y\":-1.42912611045,\"z\":-0.9286489284,\"showarrow\":false,\"yshift\":15},{\"text\":1.56,\"x\":-1.25671924895,\"y\":-2.11525250635,\"z\":-0.6505757073,\"showarrow\":false,\"yshift\":15},{\"text\":1.84,\"x\":-1.68408966895,\"y\":-1.46737688815,\"z\":-0.5732926928000001,\"showarrow\":false,\"yshift\":15},{\"text\":1.53,\"x\":-1.3917226968,\"y\":-1.2794455714,\"z\":0.11185263805000001,\"showarrow\":false,\"yshift\":15},{\"text\":1.1,\"x\":-2.2438590402500003,\"y\":-4.7497062262,\"z\":-1.68428313015,\"showarrow\":false,\"yshift\":15},{\"text\":1.09,\"x\":0.48877631635,\"y\":1.87007385295,\"z\":-0.0782531421,\"showarrow\":false,\"yshift\":15},{\"text\":1.1,\"x\":-3.0023311329,\"y\":-4.57860980975,\"z\":-1.2607652363000001,\"showarrow\":false,\"yshift\":15},{\"text\":1.09,\"x\":-1.3630922135,\"y\":-2.3995783269500004,\"z\":0.5081346014,\"showarrow\":false,\"yshift\":15},{\"text\":1.1,\"x\":-0.17894422939999996,\"y\":1.72383164665,\"z\":-0.6389496725,\"showarrow\":false,\"yshift\":15},{\"text\":1.1,\"x\":0.22543805335,\"y\":0.0832910169,\"z\":0.7272124594,\"showarrow\":false,\"yshift\":15},{\"text\":1.1,\"x\":-1.7003677611,\"y\":-0.27494321795,\"z\":0.45138597594999996,\"showarrow\":false,\"yshift\":15},{\"text\":1.09,\"x\":-2.11250910065,\"y\":-0.5741134297499999,\"z\":-1.65056892575,\"showarrow\":false,\"yshift\":15},{\"text\":1.1,\"x\":-0.5651842241,\"y\":-2.2415233411999997,\"z\":-1.6242157962500001,\"showarrow\":false,\"yshift\":15},{\"text\":1.1,\"x\":-2.5891507599,\"y\":-2.8708540009,\"z\":-2.1463272554,\"showarrow\":false,\"yshift\":15},{\"text\":1.09,\"x\":-2.2337924903,\"y\":-4.551051804749999,\"z\":-0.82190024285,\"showarrow\":false,\"yshift\":15},{\"text\":1.1,\"x\":-0.3470070932,\"y\":1.9124754244000002,\"z\":0.20763592945,\"showarrow\":false,\"yshift\":15},{\"text\":1.1,\"x\":0.3870445296,\"y\":-0.10737377774999994,\"z\":-0.1137082268,\"showarrow\":false,\"yshift\":15}]}],\"label\":\"Bond lengths\",\"method\":\"relayout\"},{\"args\":[{\"scene.annotations\":[{\"text\":0,\"x\":-0.0064387147,\"y\":1.6423050963,\"z\":-0.1255950609,\"showarrow\":false,\"yshift\":15,\"font\":{\"color\":\"blue\"}},{\"text\":1,\"x\":0.0322176866,\"y\":0.1483774736,\"z\":0.2175460943,\"showarrow\":false,\"yshift\":15,\"font\":{\"color\":\"blue\"}},{\"text\":2,\"x\":-1.3337114456,\"y\":-0.5142757936,\"z\":0.1207778714,\"showarrow\":false,\"yshift\":15,\"font\":{\"color\":\"blue\"}},{\"text\":3,\"x\":-1.9184453899,\"y\":-0.8901384270999999,\"z\":-1.2495127903,\"showarrow\":false,\"yshift\":15,\"font\":{\"color\":\"blue\"}},{\"text\":4,\"x\":-1.0637045499,\"y\":-2.1858896635,\"z\":-1.4040788193,\"showarrow\":false,\"yshift\":15,\"font\":{\"color\":\"blue\"}},{\"text\":5,\"x\":-2.3503401455,\"y\":-2.9699653152,\"z\":-1.6618754031999998,\"showarrow\":false,\"yshift\":15,\"font\":{\"color\":\"blue\"}},{\"text\":6,\"x\":-2.4750839418,\"y\":-4.4361349944,\"z\":-1.2992666514,\"showarrow\":false,\"yshift\":15,\"font\":{\"color\":\"blue\"}},{\"text\":7,\"x\":-2.8333948446,\"y\":-1.9681137938,\"z\":-0.6077850665,\"showarrow\":false,\"yshift\":15,\"font\":{\"color\":\"blue\"}},{\"text\":8,\"x\":-1.4497339480000002,\"y\":-2.0446153492,\"z\":0.1029274047,\"showarrow\":false,\"yshift\":15,\"font\":{\"color\":\"blue\"}},{\"text\":9,\"x\":0.9839913474,\"y\":2.0978426096,\"z\":-0.0309112233,\"showarrow\":false,\"yshift\":15,\"font\":{\"color\":\"blue\"}},{\"text\":10,\"x\":-0.3514497440999999,\"y\":1.805358197,\"z\":-1.1523042841,\"showarrow\":false,\"yshift\":15,\"font\":{\"color\":\"blue\"}},{\"text\":11,\"x\":-0.6875754717,\"y\":2.1826457525,\"z\":0.5408669198,\"showarrow\":false,\"yshift\":15,\"font\":{\"color\":\"blue\"}},{\"text\":12,\"x\":0.7418713726,\"y\":-0.3631250290999999,\"z\":-0.4449625479,\"showarrow\":false,\"yshift\":15,\"font\":{\"color\":\"blue\"}},{\"text\":13,\"x\":0.4186584201,\"y\":0.0182045602,\"z\":1.2368788245,\"showarrow\":false,\"yshift\":15,\"font\":{\"color\":\"blue\"}},{\"text\":14,\"x\":-2.0670240766,\"y\":-0.0356106423,\"z\":0.7819940805,\"showarrow\":false,\"yshift\":15,\"font\":{\"color\":\"blue\"}},{\"text\":15,\"x\":-2.3065728114,\"y\":-0.2580884323999999,\"z\":-2.0516250612,\"showarrow\":false,\"yshift\":15,\"font\":{\"color\":\"blue\"}},{\"text\":16,\"x\":-0.0666638983,\"y\":-2.2971570189,\"z\":-1.8443527732,\"showarrow\":false,\"yshift\":15,\"font\":{\"color\":\"blue\"}},{\"text\":17,\"x\":-2.8279613743,\"y\":-2.7717426866,\"z\":-2.6307791076,\"showarrow\":false,\"yshift\":15,\"font\":{\"color\":\"blue\"}},{\"text\":18,\"x\":-1.9925010388,\"y\":-4.6659686151,\"z\":-0.3445338343,\"showarrow\":false,\"yshift\":15,\"font\":{\"color\":\"blue\"}},{\"text\":19,\"x\":-3.529578324,\"y\":-4.7210846251,\"z\":-1.2222638212,\"showarrow\":false,\"yshift\":15,\"font\":{\"color\":\"blue\"}},{\"text\":20,\"x\":-2.0126341387,\"y\":-5.063277458,\"z\":-2.0692996089,\"showarrow\":false,\"yshift\":15,\"font\":{\"color\":\"blue\"}},{\"text\":21,\"x\":-1.276450479,\"y\":-2.7545413047000005,\"z\":0.9133417981,\"showarrow\":false,\"yshift\":15,\"font\":{\"color\":\"blue\"}},{\"text\":1.53,\"x\":0.012889485950000001,\"y\":0.8953412849500001,\"z\":0.045975516699999996,\"showarrow\":false,\"yshift\":15},{\"text\":1.52,\"x\":-0.6507468795000001,\"y\":-0.18294916,\"z\":0.16916198285,\"showarrow\":false,\"yshift\":15},{\"text\":1.54,\"x\":-1.62607841775,\"y\":-0.7022071103499999,\"z\":-0.56436745945,\"showarrow\":false,\"yshift\":15},{\"text\":1.56,\"x\":-1.4910749699,\"y\":-1.5380140452999997,\"z\":-1.3267958048000001,\"showarrow\":false,\"yshift\":15},{\"text\":1.53,\"x\":-1.7070223477000002,\"y\":-2.57792748935,\"z\":-1.53297711125,\"showarrow\":false,\"yshift\":15},{\"text\":1.52,\"x\":-2.41271204365,\"y\":-3.7030501547999997,\"z\":-1.4805710273,\"showarrow\":false,\"yshift\":15},{\"text\":1.56,\"x\":-2.1415643963,\"y\":-2.0063645715,\"z\":-0.2524288309,\"showarrow\":false,\"yshift\":15},{\"text\":1.53,\"x\":-2.59186749505,\"y\":-2.4690395545,\"z\":-1.13483023485,\"showarrow\":false,\"yshift\":15},{\"text\":1.95,\"x\":-1.9485496972499998,\"y\":-2.07700172865,\"z\":-1.0059319429,\"showarrow\":false,\"yshift\":15},{\"text\":1.55,\"x\":-2.3759201172499997,\"y\":-1.42912611045,\"z\":-0.9286489284,\"showarrow\":false,\"yshift\":15},{\"text\":1.56,\"x\":-1.25671924895,\"y\":-2.11525250635,\"z\":-0.6505757073,\"showarrow\":false,\"yshift\":15},{\"text\":1.84,\"x\":-1.68408966895,\"y\":-1.46737688815,\"z\":-0.5732926928000001,\"showarrow\":false,\"yshift\":15},{\"text\":1.53,\"x\":-1.3917226968,\"y\":-1.2794455714,\"z\":0.11185263805000001,\"showarrow\":false,\"yshift\":15},{\"text\":1.1,\"x\":-2.2438590402500003,\"y\":-4.7497062262,\"z\":-1.68428313015,\"showarrow\":false,\"yshift\":15},{\"text\":1.09,\"x\":0.48877631635,\"y\":1.87007385295,\"z\":-0.0782531421,\"showarrow\":false,\"yshift\":15},{\"text\":1.1,\"x\":-3.0023311329,\"y\":-4.57860980975,\"z\":-1.2607652363000001,\"showarrow\":false,\"yshift\":15},{\"text\":1.09,\"x\":-1.3630922135,\"y\":-2.3995783269500004,\"z\":0.5081346014,\"showarrow\":false,\"yshift\":15},{\"text\":1.1,\"x\":-0.17894422939999996,\"y\":1.72383164665,\"z\":-0.6389496725,\"showarrow\":false,\"yshift\":15},{\"text\":1.1,\"x\":0.22543805335,\"y\":0.0832910169,\"z\":0.7272124594,\"showarrow\":false,\"yshift\":15},{\"text\":1.1,\"x\":-1.7003677611,\"y\":-0.27494321795,\"z\":0.45138597594999996,\"showarrow\":false,\"yshift\":15},{\"text\":1.09,\"x\":-2.11250910065,\"y\":-0.5741134297499999,\"z\":-1.65056892575,\"showarrow\":false,\"yshift\":15},{\"text\":1.1,\"x\":-0.5651842241,\"y\":-2.2415233411999997,\"z\":-1.6242157962500001,\"showarrow\":false,\"yshift\":15},{\"text\":1.1,\"x\":-2.5891507599,\"y\":-2.8708540009,\"z\":-2.1463272554,\"showarrow\":false,\"yshift\":15},{\"text\":1.09,\"x\":-2.2337924903,\"y\":-4.551051804749999,\"z\":-0.82190024285,\"showarrow\":false,\"yshift\":15},{\"text\":1.1,\"x\":-0.3470070932,\"y\":1.9124754244000002,\"z\":0.20763592945,\"showarrow\":false,\"yshift\":15},{\"text\":1.1,\"x\":0.3870445296,\"y\":-0.10737377774999994,\"z\":-0.1137082268,\"showarrow\":false,\"yshift\":15}]}],\"label\":\"Atom indices & Bond lengths\",\"method\":\"relayout\"},{\"args\":[{\"scene.annotations\":[]}],\"label\":\"Hide all\",\"method\":\"relayout\"}],\"direction\":\"down\",\"xanchor\":\"left\",\"yanchor\":\"top\"}]},                        {\"responsive\": true}                    ).then(function(){\n",
       "                            \n",
       "var gd = document.getElementById('78927b3c-e09f-489c-bc36-7a7a85795f30');\n",
       "var x = new MutationObserver(function (mutations, observer) {{\n",
       "        var display = window.getComputedStyle(gd).display;\n",
       "        if (!display || display === 'none') {{\n",
       "            console.log([gd, 'removed!']);\n",
       "            Plotly.purge(gd);\n",
       "            observer.disconnect();\n",
       "        }}\n",
       "}});\n",
       "\n",
       "// Listen for the removal of the full notebook cells\n",
       "var notebookContainer = gd.closest('#notebook-container');\n",
       "if (notebookContainer) {{\n",
       "    x.observe(notebookContainer, {childList: true});\n",
       "}}\n",
       "\n",
       "// Listen for the clearing of the current output cell\n",
       "var outputEl = gd.closest('.output');\n",
       "if (outputEl) {{\n",
       "    x.observe(outputEl, {childList: true});\n",
       "}}\n",
       "\n",
       "                        })                };                });            </script>        </div>"
      ]
     },
     "metadata": {},
     "output_type": "display_data"
    }
   ],
   "source": [
    "molecule_names = structures_df.molecule_name.unique()\n",
    "\n",
    "# initiate the plotly notebook mode\n",
    "init_notebook_mode(connected=True)\n",
    "\n",
    "molecule_name = random.choice(molecule_names)\n",
    "plot_molecule(molecule_name, structures_df)"
   ]
  },
  {
   "cell_type": "markdown",
   "id": "52200b26-ebf9-4e9d-bb78-1370fbc74440",
   "metadata": {},
   "source": [
    "### Métrique"
   ]
  },
  {
   "cell_type": "markdown",
   "id": "3325b646-ddb7-489c-bd02-929ffc41d87c",
   "metadata": {},
   "source": [
    "Submissions are evaluated on the Log of the Mean Absolute Error, calculated for each scalar coupling type, and then averaged across types, so that a 1% decrease in MAE for one type provides the same improvement in score as a 1% decrease for another type.\n",
    "\n",
    "$$score = \\frac{1}{T} \\sum_{t=1}^{T} log(\\frac{1}{n_t} \\sum_{i=1}^{n_t}|y_i - \\hat{y_i}|)$$\n",
    "\n",
    "Avec :\n",
    "- $T$ le nombre de constantes de couplages (8)\n",
    "- $n_t$ le nombre d'observations pour le type $t$\n",
    "- $y_i$ la constante de couplage réelle\n",
    "- $\\hat{y_i}$ la constante de couplage prédite  "
   ]
  },
  {
   "cell_type": "markdown",
   "id": "76cbcebd-4092-4989-8d72-346235fa62bb",
   "metadata": {},
   "source": [
    "### Feature engineering "
   ]
  },
  {
   "cell_type": "markdown",
   "id": "7e1f2411-5b09-427c-919e-8e4ca5708e2b",
   "metadata": {},
   "source": [
    "First let's add the position of the atoms and the distances between them as new features on the train dataframe."
   ]
  },
  {
   "cell_type": "code",
   "execution_count": 70,
   "id": "8209b712-fecf-45b3-b68b-598ff3504f39",
   "metadata": {},
   "outputs": [],
   "source": [
    "for atom_idx in [0,1]:\n",
    "    \n",
    "    df = pd.merge(df, structures_df, how = 'left',\n",
    "                      left_on  = ['molecule_name', f'atom_index_{atom_idx}'],\n",
    "                      right_on = ['molecule_name',  'atom_index'])\n",
    "        \n",
    "    df = df.drop('atom_index', axis=1)\n",
    "    df = df.rename(columns={'atom': f'atom_{atom_idx}',\n",
    "                                'x': f'x{atom_idx}',\n",
    "                                'y': f'y{atom_idx}',\n",
    "                                'z': f'z{atom_idx}'})\n",
    "\n",
    "p0 = df[['x0', 'y0', 'z0']].values\n",
    "p1 = df[['x1', 'y1', 'z1']].values\n",
    "\n",
    "df['dist'] = np.linalg.norm(p0 - p1, axis=1)\n",
    "df['dist_x'] = np.sqrt((df['x0'] - df['x1']) ** 2)\n",
    "df['dist_y'] = np.sqrt((df['y0'] - df['y1']) ** 2)\n",
    "df['dist_z'] = np.sqrt((df['z0'] - df['z1']) ** 2)"
   ]
  },
  {
   "cell_type": "code",
   "execution_count": 71,
   "id": "cee9435d-9874-42a1-8900-3b903b9b260e",
   "metadata": {},
   "outputs": [
    {
     "name": "stdout",
     "output_type": "stream",
     "text": [
      "   id     molecule_name  atom_index_0  atom_index_1  type  \\\n",
      "0   0  dsgdb9nsd_000001             1             0  1JHC   \n",
      "1   1  dsgdb9nsd_000001             1             2  2JHH   \n",
      "\n",
      "   scalar_coupling_constant atom_0       x0        y0        z0 atom_1  \\\n",
      "0                   84.8076      H  0.00215 -0.006031  0.001976      C   \n",
      "1                  -11.2570      H  0.00215 -0.006031  0.001976      H   \n",
      "\n",
      "         x1        y1        z1      dist    dist_x    dist_y    dist_z  \n",
      "0 -0.012698  1.085804  0.008001  1.091953  0.014849  1.091835  0.006025  \n",
      "1  1.011731  1.463751  0.000277  1.783120  1.009580  1.469782  0.001700  \n"
     ]
    }
   ],
   "source": [
    "print(df.head(2))"
   ]
  },
  {
   "cell_type": "markdown",
   "id": "4286a1f6-802e-4fdf-9365-9ee58b145c35",
   "metadata": {},
   "source": [
    "Replace atom names and coupling types by numbers with the following mapping :"
   ]
  },
  {
   "cell_type": "code",
   "execution_count": 73,
   "id": "cc706cb2-9064-4e5d-b050-8309e59d22aa",
   "metadata": {},
   "outputs": [],
   "source": [
    "map_atoms = {'H': 0, 'C': 1, 'N': 2, 'O': 3, 'F': 4}\n",
    "map_types = {'1JHC': 0, '2JHH': 1, '1JHN': 2, '2JHN': 3, '2JHC': 4, '3JHH': 5, '3JHC': 6, '3JHN': 7}\n",
    "\n",
    "df['atom_0'] = df['atom_0'].replace(map_atoms)\n",
    "df['atom_1'] = df['atom_1'].replace(map_atoms)\n",
    "df['type'] = df['type'].replace(map_types)"
   ]
  },
  {
   "cell_type": "markdown",
   "id": "7f89d520-c8d0-43e4-8af0-db3cdd9050aa",
   "metadata": {},
   "source": [
    "### Generate train and test split"
   ]
  },
  {
   "cell_type": "code",
   "execution_count": 74,
   "id": "b953cbc7-8aee-4e33-89b4-4b86ccb986c9",
   "metadata": {},
   "outputs": [],
   "source": [
    "train_molecule_names, test_molecule_names = train_test_split(df['molecule_name'].unique(), test_size=0.2, random_state=42)\n",
    "\n",
    "train_df = df[df['molecule_name'].isin(train_molecule_names)]\n",
    "test_df = df[df['molecule_name'].isin(test_molecule_names)]\n",
    "\n",
    "train_df.reset_index(drop=True, inplace=True)\n",
    "test_df.reset_index(drop=True, inplace=True)"
   ]
  },
  {
   "cell_type": "code",
   "execution_count": 75,
   "id": "42a53931-acb5-41c0-956b-b8aaf95ae9ea",
   "metadata": {},
   "outputs": [
    {
     "name": "stdout",
     "output_type": "stream",
     "text": [
      "(3724011, 18)\n",
      "(935065, 18)\n"
     ]
    }
   ],
   "source": [
    "print(train_df.shape)\n",
    "print(test_df.shape)"
   ]
  },
  {
   "cell_type": "code",
   "execution_count": 78,
   "id": "4efdb924-a0eb-4222-82e1-bc508db2dac6",
   "metadata": {},
   "outputs": [],
   "source": [
    "X = train_df.drop('scalar_coupling_constant', axis=1)\n",
    "X = train_df.drop('molecule_name', axis=1)\n",
    "Y = train_df['scalar_coupling_constant']"
   ]
  },
  {
   "cell_type": "markdown",
   "id": "e4057459-9531-4d37-a0fe-af050b61ac5b",
   "metadata": {},
   "source": [
    "### Train models (5 folds ensemble method on CatBoost, XGB and LGBM)"
   ]
  },
  {
   "cell_type": "code",
   "execution_count": 79,
   "id": "17fc9ff7-ec74-43e7-bf8c-656e9db2f8dc",
   "metadata": {},
   "outputs": [
    {
     "name": "stdout",
     "output_type": "stream",
     "text": [
      "-------------------------\n",
      "LGBMRegressor(learning_rate=0.01, max_depth=2, n_estimators=200, num_leaves=35,\n",
      "              objective='regression_l1')\n"
     ]
    },
    {
     "name": "stderr",
     "output_type": "stream",
     "text": [
      "/Users/juliengenzling/anaconda3/envs/kaggle/lib/python3.11/site-packages/lightgbm/sklearn.py:726: UserWarning:\n",
      "\n",
      "'early_stopping_rounds' argument is deprecated and will be removed in a future release of LightGBM. Pass 'early_stopping()' callback via 'callbacks' argument instead.\n",
      "\n",
      "/Users/juliengenzling/anaconda3/envs/kaggle/lib/python3.11/site-packages/lightgbm/sklearn.py:736: UserWarning:\n",
      "\n",
      "'verbose' argument is deprecated and will be removed in a future release of LightGBM. Pass 'log_evaluation()' callback via 'callbacks' argument instead.\n",
      "\n"
     ]
    },
    {
     "name": "stdout",
     "output_type": "stream",
     "text": [
      "[2]\tvalid_0's l1: 17.7816\n",
      "[4]\tvalid_0's l1: 17.7063\n",
      "[6]\tvalid_0's l1: 17.6316\n",
      "[8]\tvalid_0's l1: 17.5579\n",
      "[10]\tvalid_0's l1: 17.4849\n",
      "[12]\tvalid_0's l1: 17.4126\n",
      "[14]\tvalid_0's l1: 17.3409\n",
      "[16]\tvalid_0's l1: 17.2698\n",
      "[18]\tvalid_0's l1: 17.1991\n",
      "[20]\tvalid_0's l1: 17.1298\n",
      "[22]\tvalid_0's l1: 17.0602\n",
      "[24]\tvalid_0's l1: 16.99\n",
      "[26]\tvalid_0's l1: 16.9204\n",
      "[28]\tvalid_0's l1: 16.851\n",
      "[30]\tvalid_0's l1: 16.7812\n",
      "[32]\tvalid_0's l1: 16.7108\n",
      "[34]\tvalid_0's l1: 16.6399\n",
      "[36]\tvalid_0's l1: 16.5702\n",
      "[38]\tvalid_0's l1: 16.4996\n",
      "[40]\tvalid_0's l1: 16.4274\n",
      "[42]\tvalid_0's l1: 16.3555\n",
      "[44]\tvalid_0's l1: 16.2807\n",
      "[46]\tvalid_0's l1: 16.1748\n",
      "[48]\tvalid_0's l1: 15.912\n",
      "[50]\tvalid_0's l1: 15.5139\n",
      "[52]\tvalid_0's l1: 15.1684\n",
      "[54]\tvalid_0's l1: 14.8553\n",
      "[56]\tvalid_0's l1: 14.5681\n",
      "[58]\tvalid_0's l1: 14.3015\n",
      "[60]\tvalid_0's l1: 14.0423\n",
      "[62]\tvalid_0's l1: 13.7909\n",
      "[64]\tvalid_0's l1: 13.5457\n",
      "[66]\tvalid_0's l1: 13.3053\n",
      "[68]\tvalid_0's l1: 13.0695\n",
      "[70]\tvalid_0's l1: 12.8383\n",
      "[72]\tvalid_0's l1: 12.6117\n",
      "[74]\tvalid_0's l1: 12.3894\n",
      "[76]\tvalid_0's l1: 12.1715\n",
      "[78]\tvalid_0's l1: 11.9579\n",
      "[80]\tvalid_0's l1: 11.7494\n",
      "[82]\tvalid_0's l1: 11.5454\n",
      "[84]\tvalid_0's l1: 11.3456\n",
      "[86]\tvalid_0's l1: 11.1507\n",
      "[88]\tvalid_0's l1: 10.9602\n",
      "[90]\tvalid_0's l1: 10.7735\n",
      "[92]\tvalid_0's l1: 10.5904\n",
      "[94]\tvalid_0's l1: 10.4108\n",
      "[96]\tvalid_0's l1: 10.2347\n",
      "[98]\tvalid_0's l1: 10.0625\n",
      "[100]\tvalid_0's l1: 9.8957\n",
      "[102]\tvalid_0's l1: 9.73197\n",
      "[104]\tvalid_0's l1: 9.57143\n",
      "[106]\tvalid_0's l1: 9.41382\n",
      "[108]\tvalid_0's l1: 9.259\n",
      "[110]\tvalid_0's l1: 9.10709\n",
      "[112]\tvalid_0's l1: 8.95779\n",
      "[114]\tvalid_0's l1: 8.81126\n",
      "[116]\tvalid_0's l1: 8.66739\n",
      "[118]\tvalid_0's l1: 8.52622\n",
      "[120]\tvalid_0's l1: 8.38759\n",
      "[122]\tvalid_0's l1: 8.2515\n",
      "[124]\tvalid_0's l1: 8.11787\n",
      "[126]\tvalid_0's l1: 7.98667\n",
      "[128]\tvalid_0's l1: 7.85787\n",
      "[130]\tvalid_0's l1: 7.73138\n",
      "[132]\tvalid_0's l1: 7.60719\n",
      "[134]\tvalid_0's l1: 7.48545\n",
      "[136]\tvalid_0's l1: 7.36583\n",
      "[138]\tvalid_0's l1: 7.2484\n",
      "[140]\tvalid_0's l1: 7.13331\n",
      "[142]\tvalid_0's l1: 7.02143\n",
      "[144]\tvalid_0's l1: 6.91148\n",
      "[146]\tvalid_0's l1: 6.80341\n",
      "[148]\tvalid_0's l1: 6.6972\n",
      "[150]\tvalid_0's l1: 6.59281\n",
      "[152]\tvalid_0's l1: 6.49045\n",
      "[154]\tvalid_0's l1: 6.38964\n",
      "[156]\tvalid_0's l1: 6.29043\n",
      "[158]\tvalid_0's l1: 6.19273\n",
      "[160]\tvalid_0's l1: 6.09643\n",
      "[162]\tvalid_0's l1: 6.00144\n",
      "[164]\tvalid_0's l1: 5.90764\n",
      "[166]\tvalid_0's l1: 5.81488\n",
      "[168]\tvalid_0's l1: 5.72251\n",
      "[170]\tvalid_0's l1: 5.63133\n",
      "[172]\tvalid_0's l1: 5.53998\n",
      "[174]\tvalid_0's l1: 5.44974\n",
      "[176]\tvalid_0's l1: 5.36127\n",
      "[178]\tvalid_0's l1: 5.27437\n",
      "[180]\tvalid_0's l1: 5.18916\n",
      "[182]\tvalid_0's l1: 5.10585\n",
      "[184]\tvalid_0's l1: 5.02407\n",
      "[186]\tvalid_0's l1: 4.94394\n",
      "[188]\tvalid_0's l1: 4.86523\n",
      "[190]\tvalid_0's l1: 4.78828\n",
      "[192]\tvalid_0's l1: 4.71298\n",
      "[194]\tvalid_0's l1: 4.63918\n",
      "[196]\tvalid_0's l1: 4.56716\n",
      "[198]\tvalid_0's l1: 4.49673\n",
      "[200]\tvalid_0's l1: 4.42801\n",
      "-------------------------\n",
      "XGBRegressor(base_score=None, booster=None, callbacks=None,\n",
      "             colsample_bylevel=None, colsample_bynode=None,\n",
      "             colsample_bytree=None, device=None, early_stopping_rounds=None,\n",
      "             enable_categorical=False, eval_metric=None, feature_types=None,\n",
      "             gamma=None, grow_policy=None, importance_type=None,\n",
      "             interaction_constraints=None, learning_rate=None, max_bin=None,\n",
      "             max_cat_threshold=None, max_cat_to_onehot=None,\n",
      "             max_delta_step=None, max_depth=5, max_leaves=None,\n",
      "             min_child_weight=None, missing=nan, monotone_constraints=None,\n",
      "             multi_strategy=None, n_estimators=100, n_jobs=None, num_leaves=10,\n",
      "             num_parallel_tree=None, ...)\n"
     ]
    },
    {
     "name": "stderr",
     "output_type": "stream",
     "text": [
      "/Users/juliengenzling/anaconda3/envs/kaggle/lib/python3.11/site-packages/xgboost/sklearn.py:885: UserWarning:\n",
      "\n",
      "`early_stopping_rounds` in `fit` method is deprecated for better compatibility with scikit-learn, use `early_stopping_rounds` in constructor or`set_params` instead.\n",
      "\n",
      "/Users/juliengenzling/anaconda3/envs/kaggle/lib/python3.11/site-packages/xgboost/core.py:160: UserWarning:\n",
      "\n",
      "[14:44:50] WARNING: /Users/runner/work/xgboost/xgboost/src/learner.cc:742: \n",
      "Parameters: { \"num_leaves\" } are not used.\n",
      "\n",
      "\n"
     ]
    },
    {
     "name": "stdout",
     "output_type": "stream",
     "text": [
      "[0]\tvalidation_0-mae:16.93505\n",
      "[2]\tvalidation_0-mae:14.47706\n",
      "[4]\tvalidation_0-mae:7.96512\n",
      "[6]\tvalidation_0-mae:4.63983\n",
      "[8]\tvalidation_0-mae:2.92240\n",
      "[10]\tvalidation_0-mae:2.12415\n",
      "[12]\tvalidation_0-mae:1.56213\n",
      "[14]\tvalidation_0-mae:1.09798\n",
      "[16]\tvalidation_0-mae:0.83202\n",
      "[18]\tvalidation_0-mae:0.66367\n",
      "[20]\tvalidation_0-mae:0.56318\n",
      "[22]\tvalidation_0-mae:0.49724\n",
      "[24]\tvalidation_0-mae:0.43625\n",
      "[26]\tvalidation_0-mae:0.42567\n",
      "[28]\tvalidation_0-mae:0.40685\n",
      "[30]\tvalidation_0-mae:0.39765\n",
      "[32]\tvalidation_0-mae:0.39119\n",
      "[34]\tvalidation_0-mae:0.38628\n",
      "[36]\tvalidation_0-mae:0.37725\n",
      "[38]\tvalidation_0-mae:0.36615\n",
      "[40]\tvalidation_0-mae:0.36230\n",
      "[42]\tvalidation_0-mae:0.35735\n",
      "[44]\tvalidation_0-mae:0.31973\n",
      "[46]\tvalidation_0-mae:0.30783\n",
      "[48]\tvalidation_0-mae:0.30463\n",
      "[50]\tvalidation_0-mae:0.30306\n",
      "[52]\tvalidation_0-mae:0.30202\n",
      "[54]\tvalidation_0-mae:0.25179\n",
      "[56]\tvalidation_0-mae:0.22870\n",
      "[58]\tvalidation_0-mae:0.21859\n",
      "[60]\tvalidation_0-mae:0.20999\n",
      "[62]\tvalidation_0-mae:0.20363\n",
      "[64]\tvalidation_0-mae:0.20300\n",
      "[66]\tvalidation_0-mae:0.19909\n",
      "[68]\tvalidation_0-mae:0.18683\n",
      "[70]\tvalidation_0-mae:0.18502\n",
      "[72]\tvalidation_0-mae:0.18442\n",
      "[74]\tvalidation_0-mae:0.18400\n",
      "[76]\tvalidation_0-mae:0.17779\n",
      "[78]\tvalidation_0-mae:0.17099\n",
      "[80]\tvalidation_0-mae:0.16356\n",
      "[82]\tvalidation_0-mae:0.16113\n",
      "[84]\tvalidation_0-mae:0.16060\n",
      "[86]\tvalidation_0-mae:0.15871\n",
      "[88]\tvalidation_0-mae:0.15840\n",
      "[90]\tvalidation_0-mae:0.15714\n",
      "[92]\tvalidation_0-mae:0.15610\n",
      "[94]\tvalidation_0-mae:0.15597\n",
      "[96]\tvalidation_0-mae:0.15551\n",
      "[98]\tvalidation_0-mae:0.15424\n",
      "[99]\tvalidation_0-mae:0.15390\n",
      "-------------------------\n",
      "<catboost.core.CatBoostRegressor object at 0x126214b50>\n",
      "0:\tlearn: 17.8549426\ttest: 17.8098140\tbest: 17.8098140 (0)\ttotal: 212ms\tremaining: 42.2s\n",
      "2:\tlearn: 17.7141538\ttest: 17.6691634\tbest: 17.6691634 (2)\ttotal: 448ms\tremaining: 29.4s\n",
      "4:\tlearn: 17.5228738\ttest: 17.4783814\tbest: 17.4783814 (4)\ttotal: 675ms\tremaining: 26.3s\n",
      "6:\tlearn: 17.4208307\ttest: 17.3763750\tbest: 17.3763750 (6)\ttotal: 906ms\tremaining: 25s\n",
      "8:\tlearn: 17.3266237\ttest: 17.2822499\tbest: 17.2822499 (8)\ttotal: 1.13s\tremaining: 24s\n",
      "10:\tlearn: 17.2327889\ttest: 17.1885306\tbest: 17.1885306 (10)\ttotal: 1.37s\tremaining: 23.5s\n",
      "12:\tlearn: 17.1305143\ttest: 17.0864895\tbest: 17.0864895 (12)\ttotal: 1.59s\tremaining: 22.9s\n",
      "14:\tlearn: 17.0375308\ttest: 16.9936407\tbest: 16.9936407 (14)\ttotal: 1.81s\tremaining: 22.3s\n",
      "16:\tlearn: 16.9413028\ttest: 16.8975143\tbest: 16.8975143 (16)\ttotal: 2.03s\tremaining: 21.9s\n",
      "18:\tlearn: 16.8273820\ttest: 16.7837582\tbest: 16.7837582 (18)\ttotal: 2.25s\tremaining: 21.4s\n",
      "20:\tlearn: 16.5897158\ttest: 16.5466293\tbest: 16.5466293 (20)\ttotal: 2.46s\tremaining: 21s\n",
      "22:\tlearn: 16.1675944\ttest: 16.1254624\tbest: 16.1254624 (22)\ttotal: 2.68s\tremaining: 20.7s\n",
      "24:\tlearn: 15.7704588\ttest: 15.7299353\tbest: 15.7299353 (24)\ttotal: 2.9s\tremaining: 20.3s\n",
      "26:\tlearn: 15.4239859\ttest: 15.3848605\tbest: 15.3848605 (26)\ttotal: 3.12s\tremaining: 20s\n",
      "28:\tlearn: 15.1175494\ttest: 15.0793301\tbest: 15.0793301 (28)\ttotal: 3.35s\tremaining: 19.7s\n",
      "30:\tlearn: 14.8365067\ttest: 14.7990236\tbest: 14.7990236 (30)\ttotal: 3.56s\tremaining: 19.4s\n",
      "32:\tlearn: 14.5668718\ttest: 14.5300014\tbest: 14.5300014 (32)\ttotal: 3.79s\tremaining: 19.2s\n",
      "34:\tlearn: 14.3049632\ttest: 14.2687845\tbest: 14.2687845 (34)\ttotal: 4.01s\tremaining: 18.9s\n",
      "36:\tlearn: 14.0494668\ttest: 14.0140518\tbest: 14.0140518 (36)\ttotal: 4.23s\tremaining: 18.6s\n",
      "38:\tlearn: 13.8003307\ttest: 13.7656964\tbest: 13.7656964 (38)\ttotal: 4.45s\tremaining: 18.4s\n",
      "40:\tlearn: 13.5580499\ttest: 13.5241640\tbest: 13.5241640 (40)\ttotal: 4.67s\tremaining: 18.1s\n",
      "42:\tlearn: 13.3091741\ttest: 13.2759411\tbest: 13.2759411 (42)\ttotal: 4.9s\tremaining: 17.9s\n",
      "44:\tlearn: 13.0657174\ttest: 13.0330893\tbest: 13.0330893 (44)\ttotal: 5.12s\tremaining: 17.6s\n",
      "46:\tlearn: 12.8270026\ttest: 12.7949687\tbest: 12.7949687 (46)\ttotal: 5.33s\tremaining: 17.4s\n",
      "48:\tlearn: 12.5930682\ttest: 12.5616126\tbest: 12.5616126 (48)\ttotal: 5.56s\tremaining: 17.1s\n",
      "50:\tlearn: 12.3635416\ttest: 12.3326632\tbest: 12.3326632 (50)\ttotal: 5.8s\tremaining: 16.9s\n",
      "52:\tlearn: 12.1387138\ttest: 12.1083980\tbest: 12.1083980 (52)\ttotal: 6.03s\tremaining: 16.7s\n",
      "54:\tlearn: 11.9159942\ttest: 11.8862534\tbest: 11.8862534 (54)\ttotal: 6.25s\tremaining: 16.5s\n",
      "56:\tlearn: 11.7002931\ttest: 11.6710873\tbest: 11.6710873 (56)\ttotal: 6.48s\tremaining: 16.3s\n",
      "58:\tlearn: 11.4892200\ttest: 11.4605192\tbest: 11.4605192 (58)\ttotal: 6.71s\tremaining: 16s\n",
      "60:\tlearn: 11.2815479\ttest: 11.2533933\tbest: 11.2533933 (60)\ttotal: 6.92s\tremaining: 15.8s\n",
      "62:\tlearn: 11.0801566\ttest: 11.0524708\tbest: 11.0524708 (62)\ttotal: 7.15s\tremaining: 15.5s\n",
      "64:\tlearn: 10.8825298\ttest: 10.8554020\tbest: 10.8554020 (64)\ttotal: 7.37s\tremaining: 15.3s\n",
      "66:\tlearn: 10.6896721\ttest: 10.6630464\tbest: 10.6630464 (66)\ttotal: 7.59s\tremaining: 15.1s\n",
      "68:\tlearn: 10.4990897\ttest: 10.4729260\tbest: 10.4729260 (68)\ttotal: 7.8s\tremaining: 14.8s\n",
      "70:\tlearn: 10.3126569\ttest: 10.2869414\tbest: 10.2869414 (70)\ttotal: 8.02s\tremaining: 14.6s\n",
      "72:\tlearn: 10.1313966\ttest: 10.1061450\tbest: 10.1061450 (72)\ttotal: 8.24s\tremaining: 14.3s\n",
      "74:\tlearn: 9.9523681\ttest: 9.9275447\tbest: 9.9275447 (74)\ttotal: 8.46s\tremaining: 14.1s\n",
      "76:\tlearn: 9.7767975\ttest: 9.7523960\tbest: 9.7523960 (76)\ttotal: 8.69s\tremaining: 13.9s\n",
      "78:\tlearn: 9.6065416\ttest: 9.5825837\tbest: 9.5825837 (78)\ttotal: 8.93s\tremaining: 13.7s\n",
      "80:\tlearn: 9.4382625\ttest: 9.4147108\tbest: 9.4147108 (80)\ttotal: 9.16s\tremaining: 13.5s\n",
      "82:\tlearn: 9.2748781\ttest: 9.2517092\tbest: 9.2517092 (82)\ttotal: 9.4s\tremaining: 13.3s\n",
      "84:\tlearn: 9.1130789\ttest: 9.0902951\tbest: 9.0902951 (84)\ttotal: 9.63s\tremaining: 13s\n",
      "86:\tlearn: 8.9546047\ttest: 8.9322071\tbest: 8.9322071 (86)\ttotal: 9.85s\tremaining: 12.8s\n",
      "88:\tlearn: 8.7996853\ttest: 8.7776702\tbest: 8.7776702 (88)\ttotal: 10.1s\tremaining: 12.6s\n",
      "90:\tlearn: 8.6481568\ttest: 8.6265151\tbest: 8.6265151 (90)\ttotal: 10.3s\tremaining: 12.3s\n",
      "92:\tlearn: 8.4999140\ttest: 8.4786801\tbest: 8.4786801 (92)\ttotal: 10.5s\tremaining: 12.1s\n",
      "94:\tlearn: 8.3548742\ttest: 8.3340867\tbest: 8.3340867 (94)\ttotal: 10.8s\tremaining: 11.9s\n",
      "96:\tlearn: 8.2129450\ttest: 8.1926010\tbest: 8.1926010 (96)\ttotal: 11s\tremaining: 11.7s\n",
      "98:\tlearn: 8.0744401\ttest: 8.0544840\tbest: 8.0544840 (98)\ttotal: 11.2s\tremaining: 11.4s\n",
      "100:\tlearn: 7.9393930\ttest: 7.9198412\tbest: 7.9198412 (100)\ttotal: 11.4s\tremaining: 11.2s\n",
      "102:\tlearn: 7.8063101\ttest: 7.7871627\tbest: 7.7871627 (102)\ttotal: 11.7s\tremaining: 11s\n",
      "104:\tlearn: 7.6764735\ttest: 7.6576341\tbest: 7.6576341 (104)\ttotal: 11.9s\tremaining: 10.8s\n",
      "106:\tlearn: 7.5500630\ttest: 7.5315348\tbest: 7.5315348 (106)\ttotal: 12.1s\tremaining: 10.5s\n",
      "108:\tlearn: 7.4251901\ttest: 7.4069775\tbest: 7.4069775 (108)\ttotal: 12.3s\tremaining: 10.3s\n",
      "110:\tlearn: 7.3028727\ttest: 7.2849867\tbest: 7.2849867 (110)\ttotal: 12.6s\tremaining: 10.1s\n",
      "112:\tlearn: 7.1839035\ttest: 7.1663151\tbest: 7.1663151 (112)\ttotal: 12.8s\tremaining: 9.85s\n",
      "114:\tlearn: 7.0665223\ttest: 7.0492197\tbest: 7.0492197 (114)\ttotal: 13s\tremaining: 9.62s\n",
      "116:\tlearn: 6.9535547\ttest: 6.9365846\tbest: 6.9365846 (116)\ttotal: 13.2s\tremaining: 9.4s\n",
      "118:\tlearn: 6.8431135\ttest: 6.8264627\tbest: 6.8264627 (118)\ttotal: 13.5s\tremaining: 9.18s\n",
      "120:\tlearn: 6.7342482\ttest: 6.7179002\tbest: 6.7179002 (120)\ttotal: 13.7s\tremaining: 8.95s\n",
      "122:\tlearn: 6.6288912\ttest: 6.6128532\tbest: 6.6128532 (122)\ttotal: 13.9s\tremaining: 8.73s\n",
      "124:\tlearn: 6.5257150\ttest: 6.5099849\tbest: 6.5099849 (124)\ttotal: 14.2s\tremaining: 8.51s\n",
      "126:\tlearn: 6.4243333\ttest: 6.4088874\tbest: 6.4088874 (126)\ttotal: 14.4s\tremaining: 8.29s\n",
      "128:\tlearn: 6.3252007\ttest: 6.3100510\tbest: 6.3100510 (128)\ttotal: 14.7s\tremaining: 8.06s\n",
      "130:\tlearn: 6.2274548\ttest: 6.2125740\tbest: 6.2125740 (130)\ttotal: 14.9s\tremaining: 7.84s\n",
      "132:\tlearn: 6.1344975\ttest: 6.1198625\tbest: 6.1198625 (132)\ttotal: 15.1s\tremaining: 7.62s\n",
      "134:\tlearn: 6.0428616\ttest: 6.0284055\tbest: 6.0284055 (134)\ttotal: 15.4s\tremaining: 7.39s\n",
      "136:\tlearn: 5.9533619\ttest: 5.9390472\tbest: 5.9390472 (136)\ttotal: 15.6s\tremaining: 7.16s\n",
      "138:\tlearn: 5.8640621\ttest: 5.8498534\tbest: 5.8498534 (138)\ttotal: 15.8s\tremaining: 6.94s\n",
      "140:\tlearn: 5.7788879\ttest: 5.7648424\tbest: 5.7648424 (140)\ttotal: 16.1s\tremaining: 6.71s\n",
      "142:\tlearn: 5.6926057\ttest: 5.6786798\tbest: 5.6786798 (142)\ttotal: 16.3s\tremaining: 6.49s\n",
      "144:\tlearn: 5.6080841\ttest: 5.5942846\tbest: 5.5942846 (144)\ttotal: 16.5s\tremaining: 6.26s\n",
      "146:\tlearn: 5.5234629\ttest: 5.5099284\tbest: 5.5099284 (146)\ttotal: 16.8s\tremaining: 6.04s\n",
      "148:\tlearn: 5.4407526\ttest: 5.4274787\tbest: 5.4274787 (148)\ttotal: 17s\tremaining: 5.81s\n",
      "150:\tlearn: 5.3597317\ttest: 5.3467182\tbest: 5.3467182 (150)\ttotal: 17.2s\tremaining: 5.59s\n",
      "152:\tlearn: 5.2801731\ttest: 5.2674136\tbest: 5.2674136 (152)\ttotal: 17.5s\tremaining: 5.37s\n",
      "154:\tlearn: 5.2024532\ttest: 5.1898899\tbest: 5.1898899 (154)\ttotal: 17.7s\tremaining: 5.14s\n",
      "156:\tlearn: 5.1258827\ttest: 5.1135599\tbest: 5.1135599 (156)\ttotal: 18s\tremaining: 4.92s\n",
      "158:\tlearn: 5.0508351\ttest: 5.0387477\tbest: 5.0387477 (158)\ttotal: 18.2s\tremaining: 4.69s\n",
      "160:\tlearn: 4.9771390\ttest: 4.9652787\tbest: 4.9652787 (160)\ttotal: 18.4s\tremaining: 4.47s\n",
      "162:\tlearn: 4.9048152\ttest: 4.8931821\tbest: 4.8931821 (162)\ttotal: 18.7s\tremaining: 4.24s\n",
      "164:\tlearn: 4.8341740\ttest: 4.8227612\tbest: 4.8227612 (164)\ttotal: 18.9s\tremaining: 4.02s\n",
      "166:\tlearn: 4.7647518\ttest: 4.7535586\tbest: 4.7535586 (166)\ttotal: 19.2s\tremaining: 3.79s\n",
      "168:\tlearn: 4.6967677\ttest: 4.6857903\tbest: 4.6857903 (168)\ttotal: 19.4s\tremaining: 3.56s\n",
      "170:\tlearn: 4.6299480\ttest: 4.6191906\tbest: 4.6191906 (170)\ttotal: 19.7s\tremaining: 3.33s\n",
      "172:\tlearn: 4.5646434\ttest: 4.5541020\tbest: 4.5541020 (172)\ttotal: 19.9s\tremaining: 3.11s\n",
      "174:\tlearn: 4.5010531\ttest: 4.4907219\tbest: 4.4907219 (174)\ttotal: 20.2s\tremaining: 2.88s\n",
      "176:\tlearn: 4.4383013\ttest: 4.4281812\tbest: 4.4281812 (176)\ttotal: 20.4s\tremaining: 2.65s\n",
      "178:\tlearn: 4.3766358\ttest: 4.3667185\tbest: 4.3667185 (178)\ttotal: 20.6s\tremaining: 2.42s\n",
      "180:\tlearn: 4.3167787\ttest: 4.3070591\tbest: 4.3070591 (180)\ttotal: 20.9s\tremaining: 2.19s\n",
      "182:\tlearn: 4.2579778\ttest: 4.2484579\tbest: 4.2484579 (182)\ttotal: 21.1s\tremaining: 1.96s\n",
      "184:\tlearn: 4.2006004\ttest: 4.1912755\tbest: 4.1912755 (184)\ttotal: 21.3s\tremaining: 1.73s\n",
      "186:\tlearn: 4.1436655\ttest: 4.1345329\tbest: 4.1345329 (186)\ttotal: 21.6s\tremaining: 1.5s\n",
      "188:\tlearn: 4.0880985\ttest: 4.0791558\tbest: 4.0791558 (188)\ttotal: 21.8s\tremaining: 1.27s\n",
      "190:\tlearn: 4.0335461\ttest: 4.0247865\tbest: 4.0247865 (190)\ttotal: 22s\tremaining: 1.04s\n",
      "192:\tlearn: 3.9810187\ttest: 3.9724383\tbest: 3.9724383 (192)\ttotal: 22.3s\tremaining: 808ms\n",
      "194:\tlearn: 3.9286507\ttest: 3.9202468\tbest: 3.9202468 (194)\ttotal: 22.5s\tremaining: 577ms\n",
      "196:\tlearn: 3.8773641\ttest: 3.8691377\tbest: 3.8691377 (196)\ttotal: 22.7s\tremaining: 346ms\n",
      "198:\tlearn: 3.8269687\ttest: 3.8189185\tbest: 3.8189185 (198)\ttotal: 23s\tremaining: 115ms\n",
      "199:\tlearn: 3.8021404\ttest: 3.7941757\tbest: 3.7941757 (199)\ttotal: 23.1s\tremaining: 0us\n",
      "\n",
      "bestTest = 3.794175741\n",
      "bestIteration = 199\n",
      "\n",
      "-------------------------\n",
      "LGBMRegressor(learning_rate=0.01, max_depth=2, n_estimators=200, num_leaves=35,\n",
      "              objective='regression_l1')\n"
     ]
    },
    {
     "name": "stderr",
     "output_type": "stream",
     "text": [
      "/Users/juliengenzling/anaconda3/envs/kaggle/lib/python3.11/site-packages/lightgbm/sklearn.py:726: UserWarning:\n",
      "\n",
      "'early_stopping_rounds' argument is deprecated and will be removed in a future release of LightGBM. Pass 'early_stopping()' callback via 'callbacks' argument instead.\n",
      "\n",
      "/Users/juliengenzling/anaconda3/envs/kaggle/lib/python3.11/site-packages/lightgbm/sklearn.py:736: UserWarning:\n",
      "\n",
      "'verbose' argument is deprecated and will be removed in a future release of LightGBM. Pass 'log_evaluation()' callback via 'callbacks' argument instead.\n",
      "\n"
     ]
    },
    {
     "name": "stdout",
     "output_type": "stream",
     "text": [
      "[2]\tvalid_0's l1: 17.8096\n",
      "[4]\tvalid_0's l1: 17.7342\n",
      "[6]\tvalid_0's l1: 17.6594\n",
      "[8]\tvalid_0's l1: 17.5856\n",
      "[10]\tvalid_0's l1: 17.5125\n",
      "[12]\tvalid_0's l1: 17.4401\n",
      "[14]\tvalid_0's l1: 17.3685\n",
      "[16]\tvalid_0's l1: 17.2974\n",
      "[18]\tvalid_0's l1: 17.2267\n",
      "[20]\tvalid_0's l1: 17.1563\n",
      "[22]\tvalid_0's l1: 17.0862\n",
      "[24]\tvalid_0's l1: 17.0161\n",
      "[26]\tvalid_0's l1: 16.9463\n",
      "[28]\tvalid_0's l1: 16.8769\n",
      "[30]\tvalid_0's l1: 16.807\n",
      "[32]\tvalid_0's l1: 16.7364\n",
      "[34]\tvalid_0's l1: 16.6661\n",
      "[36]\tvalid_0's l1: 16.5961\n",
      "[38]\tvalid_0's l1: 16.5249\n",
      "[40]\tvalid_0's l1: 16.4527\n",
      "[42]\tvalid_0's l1: 16.3806\n",
      "[44]\tvalid_0's l1: 16.3059\n",
      "[46]\tvalid_0's l1: 16.2023\n",
      "[48]\tvalid_0's l1: 15.9385\n",
      "[50]\tvalid_0's l1: 15.5417\n",
      "[52]\tvalid_0's l1: 15.1943\n",
      "[54]\tvalid_0's l1: 14.8802\n",
      "[56]\tvalid_0's l1: 14.5923\n",
      "[58]\tvalid_0's l1: 14.325\n",
      "[60]\tvalid_0's l1: 14.0658\n",
      "[62]\tvalid_0's l1: 13.8126\n",
      "[64]\tvalid_0's l1: 13.5662\n",
      "[66]\tvalid_0's l1: 13.3246\n",
      "[68]\tvalid_0's l1: 13.0877\n",
      "[70]\tvalid_0's l1: 12.8557\n",
      "[72]\tvalid_0's l1: 12.6286\n",
      "[74]\tvalid_0's l1: 12.4061\n",
      "[76]\tvalid_0's l1: 12.1892\n",
      "[78]\tvalid_0's l1: 11.9766\n",
      "[80]\tvalid_0's l1: 11.7682\n",
      "[82]\tvalid_0's l1: 11.5638\n",
      "[84]\tvalid_0's l1: 11.3634\n",
      "[86]\tvalid_0's l1: 11.1678\n",
      "[88]\tvalid_0's l1: 10.9764\n",
      "[90]\tvalid_0's l1: 10.7888\n",
      "[92]\tvalid_0's l1: 10.6049\n",
      "[94]\tvalid_0's l1: 10.4246\n",
      "[96]\tvalid_0's l1: 10.2494\n",
      "[98]\tvalid_0's l1: 10.0786\n",
      "[100]\tvalid_0's l1: 9.91096\n",
      "[102]\tvalid_0's l1: 9.74659\n",
      "[104]\tvalid_0's l1: 9.58543\n",
      "[106]\tvalid_0's l1: 9.4272\n",
      "[108]\tvalid_0's l1: 9.27176\n",
      "[110]\tvalid_0's l1: 9.11926\n",
      "[112]\tvalid_0's l1: 8.96938\n",
      "[114]\tvalid_0's l1: 8.82227\n",
      "[116]\tvalid_0's l1: 8.67786\n",
      "[118]\tvalid_0's l1: 8.53613\n",
      "[120]\tvalid_0's l1: 8.39696\n",
      "[122]\tvalid_0's l1: 8.26009\n",
      "[124]\tvalid_0's l1: 8.12572\n",
      "[126]\tvalid_0's l1: 7.994\n",
      "[128]\tvalid_0's l1: 7.86466\n",
      "[130]\tvalid_0's l1: 7.73763\n",
      "[132]\tvalid_0's l1: 7.61296\n",
      "[134]\tvalid_0's l1: 7.49073\n",
      "[136]\tvalid_0's l1: 7.37111\n",
      "[138]\tvalid_0's l1: 7.25425\n",
      "[140]\tvalid_0's l1: 7.13988\n",
      "[142]\tvalid_0's l1: 7.02777\n",
      "[144]\tvalid_0's l1: 6.91751\n",
      "[146]\tvalid_0's l1: 6.80908\n",
      "[148]\tvalid_0's l1: 6.70252\n",
      "[150]\tvalid_0's l1: 6.5978\n",
      "[152]\tvalid_0's l1: 6.49482\n",
      "[154]\tvalid_0's l1: 6.39352\n",
      "[156]\tvalid_0's l1: 6.2938\n",
      "[158]\tvalid_0's l1: 6.19551\n",
      "[160]\tvalid_0's l1: 6.09867\n",
      "[162]\tvalid_0's l1: 6.00308\n",
      "[164]\tvalid_0's l1: 5.90862\n",
      "[166]\tvalid_0's l1: 5.81512\n",
      "[168]\tvalid_0's l1: 5.72213\n",
      "[170]\tvalid_0's l1: 5.63002\n",
      "[172]\tvalid_0's l1: 5.53865\n",
      "[174]\tvalid_0's l1: 5.44838\n",
      "[176]\tvalid_0's l1: 5.35963\n",
      "[178]\tvalid_0's l1: 5.27265\n",
      "[180]\tvalid_0's l1: 5.18754\n",
      "[182]\tvalid_0's l1: 5.10406\n",
      "[184]\tvalid_0's l1: 5.02239\n",
      "[186]\tvalid_0's l1: 4.94217\n",
      "[188]\tvalid_0's l1: 4.86356\n",
      "[190]\tvalid_0's l1: 4.78649\n",
      "[192]\tvalid_0's l1: 4.7112\n",
      "[194]\tvalid_0's l1: 4.6375\n",
      "[196]\tvalid_0's l1: 4.56546\n",
      "[198]\tvalid_0's l1: 4.49506\n",
      "[200]\tvalid_0's l1: 4.42621\n",
      "-------------------------\n",
      "XGBRegressor(base_score=None, booster=None, callbacks=None,\n",
      "             colsample_bylevel=None, colsample_bynode=None,\n",
      "             colsample_bytree=None, device=None, early_stopping_rounds=None,\n",
      "             enable_categorical=False, eval_metric=None, feature_types=None,\n",
      "             gamma=None, grow_policy=None, importance_type=None,\n",
      "             interaction_constraints=None, learning_rate=None, max_bin=None,\n",
      "             max_cat_threshold=None, max_cat_to_onehot=None,\n",
      "             max_delta_step=None, max_depth=5, max_leaves=None,\n",
      "             min_child_weight=None, missing=nan, monotone_constraints=None,\n",
      "             multi_strategy=None, n_estimators=100, n_jobs=None, num_leaves=10,\n",
      "             num_parallel_tree=None, ...)\n"
     ]
    },
    {
     "name": "stderr",
     "output_type": "stream",
     "text": [
      "/Users/juliengenzling/anaconda3/envs/kaggle/lib/python3.11/site-packages/xgboost/sklearn.py:885: UserWarning:\n",
      "\n",
      "`early_stopping_rounds` in `fit` method is deprecated for better compatibility with scikit-learn, use `early_stopping_rounds` in constructor or`set_params` instead.\n",
      "\n",
      "/Users/juliengenzling/anaconda3/envs/kaggle/lib/python3.11/site-packages/xgboost/core.py:160: UserWarning:\n",
      "\n",
      "[14:46:21] WARNING: /Users/runner/work/xgboost/xgboost/src/learner.cc:742: \n",
      "Parameters: { \"num_leaves\" } are not used.\n",
      "\n",
      "\n"
     ]
    },
    {
     "name": "stdout",
     "output_type": "stream",
     "text": [
      "[0]\tvalidation_0-mae:16.96613\n",
      "[2]\tvalidation_0-mae:14.49788\n",
      "[4]\tvalidation_0-mae:7.97108\n",
      "[6]\tvalidation_0-mae:4.61959\n",
      "[8]\tvalidation_0-mae:2.90482\n",
      "[10]\tvalidation_0-mae:2.14957\n",
      "[12]\tvalidation_0-mae:1.54766\n",
      "[14]\tvalidation_0-mae:1.08184\n",
      "[16]\tvalidation_0-mae:0.82430\n",
      "[18]\tvalidation_0-mae:0.66663\n",
      "[20]\tvalidation_0-mae:0.55901\n",
      "[22]\tvalidation_0-mae:0.48681\n",
      "[24]\tvalidation_0-mae:0.42974\n",
      "[26]\tvalidation_0-mae:0.40779\n",
      "[28]\tvalidation_0-mae:0.39245\n",
      "[30]\tvalidation_0-mae:0.38009\n",
      "[32]\tvalidation_0-mae:0.36847\n",
      "[34]\tvalidation_0-mae:0.36302\n",
      "[36]\tvalidation_0-mae:0.35967\n",
      "[38]\tvalidation_0-mae:0.32080\n",
      "[40]\tvalidation_0-mae:0.31553\n",
      "[42]\tvalidation_0-mae:0.31344\n",
      "[44]\tvalidation_0-mae:0.30142\n",
      "[46]\tvalidation_0-mae:0.27913\n",
      "[48]\tvalidation_0-mae:0.23943\n",
      "[50]\tvalidation_0-mae:0.23733\n",
      "[52]\tvalidation_0-mae:0.22325\n",
      "[54]\tvalidation_0-mae:0.22176\n",
      "[56]\tvalidation_0-mae:0.21176\n",
      "[58]\tvalidation_0-mae:0.21045\n",
      "[60]\tvalidation_0-mae:0.20411\n",
      "[62]\tvalidation_0-mae:0.19310\n",
      "[64]\tvalidation_0-mae:0.18645\n",
      "[66]\tvalidation_0-mae:0.18490\n",
      "[68]\tvalidation_0-mae:0.18279\n",
      "[70]\tvalidation_0-mae:0.18139\n",
      "[72]\tvalidation_0-mae:0.18072\n",
      "[74]\tvalidation_0-mae:0.17285\n",
      "[76]\tvalidation_0-mae:0.17217\n",
      "[78]\tvalidation_0-mae:0.16970\n",
      "[80]\tvalidation_0-mae:0.16827\n",
      "[82]\tvalidation_0-mae:0.16204\n",
      "[84]\tvalidation_0-mae:0.15907\n",
      "[86]\tvalidation_0-mae:0.15663\n",
      "[88]\tvalidation_0-mae:0.15559\n",
      "[90]\tvalidation_0-mae:0.15533\n",
      "[92]\tvalidation_0-mae:0.15475\n",
      "[94]\tvalidation_0-mae:0.15378\n",
      "[96]\tvalidation_0-mae:0.15246\n",
      "[98]\tvalidation_0-mae:0.15152\n",
      "[99]\tvalidation_0-mae:0.15145\n",
      "-------------------------\n",
      "<catboost.core.CatBoostRegressor object at 0x126214b50>\n",
      "0:\tlearn: 17.8134013\ttest: 17.8031944\tbest: 17.8031944 (0)\ttotal: 163ms\tremaining: 32.5s\n",
      "2:\tlearn: 17.5873109\ttest: 17.5771150\tbest: 17.5771150 (2)\ttotal: 410ms\tremaining: 26.9s\n",
      "4:\tlearn: 17.3560506\ttest: 17.3463724\tbest: 17.3463724 (4)\ttotal: 646ms\tremaining: 25.2s\n",
      "6:\tlearn: 17.0336745\ttest: 17.0238156\tbest: 17.0238156 (6)\ttotal: 924ms\tremaining: 25.5s\n",
      "8:\tlearn: 16.6808048\ttest: 16.6707063\tbest: 16.6707063 (8)\ttotal: 1.17s\tremaining: 24.7s\n",
      "10:\tlearn: 16.3297920\ttest: 16.3193022\tbest: 16.3193022 (10)\ttotal: 1.4s\tremaining: 24.1s\n",
      "12:\tlearn: 16.0100786\ttest: 15.9995166\tbest: 15.9995166 (12)\ttotal: 1.65s\tremaining: 23.7s\n",
      "14:\tlearn: 15.7017715\ttest: 15.6912609\tbest: 15.6912609 (14)\ttotal: 1.88s\tremaining: 23.2s\n",
      "16:\tlearn: 15.4047510\ttest: 15.3943191\tbest: 15.3943191 (16)\ttotal: 2.14s\tremaining: 23s\n",
      "18:\tlearn: 15.1194264\ttest: 15.1091588\tbest: 15.1091588 (18)\ttotal: 2.37s\tremaining: 22.5s\n",
      "20:\tlearn: 14.8436760\ttest: 14.8336511\tbest: 14.8336511 (20)\ttotal: 2.6s\tremaining: 22.1s\n",
      "22:\tlearn: 14.5729742\ttest: 14.5631584\tbest: 14.5631584 (22)\ttotal: 2.85s\tremaining: 21.9s\n",
      "24:\tlearn: 14.3053248\ttest: 14.2956973\tbest: 14.2956973 (24)\ttotal: 3.09s\tremaining: 21.6s\n",
      "26:\tlearn: 14.0452741\ttest: 14.0357193\tbest: 14.0357193 (26)\ttotal: 3.34s\tremaining: 21.4s\n",
      "28:\tlearn: 13.7891353\ttest: 13.7797232\tbest: 13.7797232 (28)\ttotal: 3.57s\tremaining: 21.1s\n",
      "30:\tlearn: 13.5432221\ttest: 13.5339711\tbest: 13.5339711 (30)\ttotal: 3.82s\tremaining: 20.8s\n",
      "32:\tlearn: 13.2991735\ttest: 13.2901186\tbest: 13.2901186 (32)\ttotal: 4.06s\tremaining: 20.5s\n",
      "34:\tlearn: 13.0581135\ttest: 13.0490137\tbest: 13.0490137 (34)\ttotal: 4.3s\tremaining: 20.3s\n",
      "36:\tlearn: 12.8245216\ttest: 12.8154730\tbest: 12.8154730 (36)\ttotal: 4.52s\tremaining: 19.9s\n",
      "38:\tlearn: 12.5931553\ttest: 12.5842423\tbest: 12.5842423 (38)\ttotal: 4.76s\tremaining: 19.6s\n",
      "40:\tlearn: 12.3680662\ttest: 12.3592263\tbest: 12.3592263 (40)\ttotal: 4.99s\tremaining: 19.4s\n",
      "42:\tlearn: 12.1447709\ttest: 12.1361050\tbest: 12.1361050 (42)\ttotal: 5.23s\tremaining: 19.1s\n",
      "44:\tlearn: 11.9229292\ttest: 11.9144805\tbest: 11.9144805 (44)\ttotal: 5.46s\tremaining: 18.8s\n",
      "46:\tlearn: 11.7114419\ttest: 11.7031646\tbest: 11.7031646 (46)\ttotal: 5.68s\tremaining: 18.5s\n",
      "48:\tlearn: 11.5031254\ttest: 11.4950089\tbest: 11.4950089 (48)\ttotal: 5.92s\tremaining: 18.2s\n",
      "50:\tlearn: 11.2999207\ttest: 11.2919211\tbest: 11.2919211 (50)\ttotal: 6.14s\tremaining: 17.9s\n",
      "52:\tlearn: 11.1020380\ttest: 11.0941770\tbest: 11.0941770 (52)\ttotal: 6.36s\tremaining: 17.7s\n",
      "54:\tlearn: 10.9113169\ttest: 10.9034493\tbest: 10.9034493 (54)\ttotal: 6.6s\tremaining: 17.4s\n",
      "56:\tlearn: 10.7221489\ttest: 10.7143678\tbest: 10.7143678 (56)\ttotal: 6.83s\tremaining: 17.1s\n",
      "58:\tlearn: 10.5965168\ttest: 10.5888706\tbest: 10.5888706 (58)\ttotal: 7.06s\tremaining: 16.9s\n",
      "60:\tlearn: 10.4165278\ttest: 10.4088371\tbest: 10.4088371 (60)\ttotal: 7.28s\tremaining: 16.6s\n",
      "62:\tlearn: 10.2410546\ttest: 10.2333994\tbest: 10.2333994 (62)\ttotal: 7.5s\tremaining: 16.3s\n",
      "64:\tlearn: 10.0655312\ttest: 10.0579462\tbest: 10.0579462 (64)\ttotal: 7.73s\tremaining: 16.1s\n",
      "66:\tlearn: 9.8957420\ttest: 9.8882297\tbest: 9.8882297 (66)\ttotal: 7.96s\tremaining: 15.8s\n",
      "68:\tlearn: 9.7293725\ttest: 9.7219279\tbest: 9.7219279 (68)\ttotal: 8.19s\tremaining: 15.5s\n",
      "70:\tlearn: 9.5663910\ttest: 9.5589516\tbest: 9.5589516 (70)\ttotal: 8.41s\tremaining: 15.3s\n",
      "72:\tlearn: 9.4598725\ttest: 9.4524084\tbest: 9.4524084 (72)\ttotal: 8.65s\tremaining: 15s\n",
      "74:\tlearn: 9.3022522\ttest: 9.2948087\tbest: 9.2948087 (74)\ttotal: 8.88s\tremaining: 14.8s\n",
      "76:\tlearn: 9.1474775\ttest: 9.1400764\tbest: 9.1400764 (76)\ttotal: 9.11s\tremaining: 14.6s\n",
      "78:\tlearn: 8.9955402\ttest: 8.9881901\tbest: 8.9881901 (78)\ttotal: 9.34s\tremaining: 14.3s\n",
      "80:\tlearn: 8.8466530\ttest: 8.8393437\tbest: 8.8393437 (80)\ttotal: 9.57s\tremaining: 14.1s\n",
      "82:\tlearn: 8.7484263\ttest: 8.7410545\tbest: 8.7410545 (82)\ttotal: 9.8s\tremaining: 13.8s\n",
      "84:\tlearn: 8.6530222\ttest: 8.6455444\tbest: 8.6455444 (84)\ttotal: 10s\tremaining: 13.6s\n",
      "86:\tlearn: 8.6071256\ttest: 8.5993834\tbest: 8.5993834 (86)\ttotal: 10.3s\tremaining: 13.3s\n",
      "88:\tlearn: 8.5605977\ttest: 8.5525775\tbest: 8.5525775 (88)\ttotal: 10.5s\tremaining: 13.1s\n",
      "90:\tlearn: 8.5159705\ttest: 8.5076596\tbest: 8.5076596 (90)\ttotal: 10.8s\tremaining: 12.9s\n",
      "92:\tlearn: 8.4709623\ttest: 8.4623974\tbest: 8.4623974 (92)\ttotal: 11s\tremaining: 12.7s\n",
      "94:\tlearn: 8.4274486\ttest: 8.4186560\tbest: 8.4186560 (94)\ttotal: 11.3s\tremaining: 12.4s\n",
      "96:\tlearn: 8.3828104\ttest: 8.3738271\tbest: 8.3738271 (96)\ttotal: 11.5s\tremaining: 12.2s\n",
      "98:\tlearn: 8.3392326\ttest: 8.3300341\tbest: 8.3300341 (98)\ttotal: 11.7s\tremaining: 12s\n",
      "100:\tlearn: 8.2967250\ttest: 8.2873413\tbest: 8.2873413 (100)\ttotal: 12s\tremaining: 11.8s\n",
      "102:\tlearn: 8.2542309\ttest: 8.2446666\tbest: 8.2446666 (102)\ttotal: 12.2s\tremaining: 11.5s\n",
      "104:\tlearn: 8.2124255\ttest: 8.2026915\tbest: 8.2026915 (104)\ttotal: 12.5s\tremaining: 11.3s\n",
      "106:\tlearn: 8.1705202\ttest: 8.1606270\tbest: 8.1606270 (106)\ttotal: 12.7s\tremaining: 11.1s\n",
      "108:\tlearn: 8.1292011\ttest: 8.1191111\tbest: 8.1191111 (108)\ttotal: 13s\tremaining: 10.8s\n",
      "110:\tlearn: 8.0876730\ttest: 8.0773962\tbest: 8.0773962 (110)\ttotal: 13.2s\tremaining: 10.6s\n",
      "112:\tlearn: 8.0464749\ttest: 8.0359655\tbest: 8.0359655 (112)\ttotal: 13.4s\tremaining: 10.3s\n",
      "114:\tlearn: 8.0064666\ttest: 7.9957579\tbest: 7.9957579 (114)\ttotal: 13.7s\tremaining: 10.1s\n",
      "116:\tlearn: 7.9663207\ttest: 7.9554141\tbest: 7.9554141 (116)\ttotal: 13.9s\tremaining: 9.86s\n",
      "118:\tlearn: 7.9270396\ttest: 7.9159412\tbest: 7.9159412 (118)\ttotal: 14.1s\tremaining: 9.63s\n",
      "120:\tlearn: 7.8858940\ttest: 7.8745708\tbest: 7.8745708 (120)\ttotal: 14.4s\tremaining: 9.39s\n",
      "122:\tlearn: 7.8420479\ttest: 7.8305397\tbest: 7.8305397 (122)\ttotal: 14.6s\tremaining: 9.15s\n",
      "124:\tlearn: 7.7593020\ttest: 7.7477671\tbest: 7.7477671 (124)\ttotal: 14.8s\tremaining: 8.9s\n",
      "126:\tlearn: 7.7204063\ttest: 7.7086911\tbest: 7.7086911 (126)\ttotal: 15.1s\tremaining: 8.66s\n",
      "128:\tlearn: 7.6401185\ttest: 7.6283525\tbest: 7.6283525 (128)\ttotal: 15.3s\tremaining: 8.42s\n",
      "130:\tlearn: 7.5236567\ttest: 7.5120165\tbest: 7.5120165 (130)\ttotal: 15.5s\tremaining: 8.18s\n",
      "132:\tlearn: 7.4435047\ttest: 7.4318447\tbest: 7.4318447 (132)\ttotal: 15.8s\tremaining: 7.93s\n",
      "134:\tlearn: 7.3569224\ttest: 7.3452220\tbest: 7.3452220 (134)\ttotal: 16s\tremaining: 7.7s\n",
      "136:\tlearn: 7.2406632\ttest: 7.2290612\tbest: 7.2290612 (136)\ttotal: 16.2s\tremaining: 7.46s\n",
      "138:\tlearn: 7.1213487\ttest: 7.1098019\tbest: 7.1098019 (138)\ttotal: 16.5s\tremaining: 7.22s\n",
      "140:\tlearn: 7.0044352\ttest: 6.9929465\tbest: 6.9929465 (140)\ttotal: 16.7s\tremaining: 6.98s\n",
      "142:\tlearn: 6.8910064\ttest: 6.8795934\tbest: 6.8795934 (142)\ttotal: 16.9s\tremaining: 6.74s\n",
      "144:\tlearn: 6.7788037\ttest: 6.7674632\tbest: 6.7674632 (144)\ttotal: 17.2s\tremaining: 6.51s\n",
      "146:\tlearn: 6.6711673\ttest: 6.6599441\tbest: 6.6599441 (146)\ttotal: 17.4s\tremaining: 6.27s\n",
      "148:\tlearn: 6.5657368\ttest: 6.5546249\tbest: 6.5546249 (148)\ttotal: 17.6s\tremaining: 6.03s\n",
      "150:\tlearn: 6.4607672\ttest: 6.4496977\tbest: 6.4496977 (150)\ttotal: 17.8s\tremaining: 5.79s\n",
      "152:\tlearn: 6.3577462\ttest: 6.3467521\tbest: 6.3467521 (152)\ttotal: 18.1s\tremaining: 5.55s\n",
      "154:\tlearn: 6.2570496\ttest: 6.2460901\tbest: 6.2460901 (154)\ttotal: 18.3s\tremaining: 5.31s\n",
      "156:\tlearn: 6.1576095\ttest: 6.1466906\tbest: 6.1466906 (156)\ttotal: 18.5s\tremaining: 5.07s\n",
      "158:\tlearn: 6.0605594\ttest: 6.0496796\tbest: 6.0496796 (158)\ttotal: 18.8s\tremaining: 4.84s\n",
      "160:\tlearn: 6.0271471\ttest: 6.0161121\tbest: 6.0161121 (160)\ttotal: 19s\tremaining: 4.6s\n",
      "162:\tlearn: 5.9322903\ttest: 5.9212767\tbest: 5.9212767 (162)\ttotal: 19.2s\tremaining: 4.36s\n",
      "164:\tlearn: 5.8395681\ttest: 5.8285693\tbest: 5.8285693 (164)\ttotal: 19.4s\tremaining: 4.13s\n",
      "166:\tlearn: 5.7484975\ttest: 5.7375200\tbest: 5.7375200 (166)\ttotal: 19.7s\tremaining: 3.89s\n",
      "168:\tlearn: 5.6592154\ttest: 5.6482724\tbest: 5.6482724 (168)\ttotal: 19.9s\tremaining: 3.65s\n",
      "170:\tlearn: 5.5717920\ttest: 5.5608772\tbest: 5.5608772 (170)\ttotal: 20.2s\tremaining: 3.42s\n",
      "172:\tlearn: 5.4859392\ttest: 5.4750575\tbest: 5.4750575 (172)\ttotal: 20.4s\tremaining: 3.19s\n",
      "174:\tlearn: 5.4035684\ttest: 5.3928000\tbest: 5.3928000 (174)\ttotal: 20.7s\tremaining: 2.95s\n",
      "176:\tlearn: 5.3220849\ttest: 5.3113951\tbest: 5.3113951 (176)\ttotal: 20.9s\tremaining: 2.71s\n",
      "178:\tlearn: 5.2435985\ttest: 5.2330191\tbest: 5.2330191 (178)\ttotal: 21.1s\tremaining: 2.48s\n",
      "180:\tlearn: 5.1672039\ttest: 5.1567420\tbest: 5.1567420 (180)\ttotal: 21.4s\tremaining: 2.24s\n",
      "182:\tlearn: 5.0918268\ttest: 5.0814682\tbest: 5.0814682 (182)\ttotal: 21.6s\tremaining: 2.01s\n",
      "184:\tlearn: 5.0173886\ttest: 5.0070999\tbest: 5.0070999 (184)\ttotal: 21.9s\tremaining: 1.77s\n",
      "186:\tlearn: 4.9452392\ttest: 4.9350438\tbest: 4.9350438 (186)\ttotal: 22.1s\tremaining: 1.53s\n",
      "188:\tlearn: 4.8747892\ttest: 4.8647207\tbest: 4.8647207 (188)\ttotal: 22.3s\tremaining: 1.3s\n",
      "190:\tlearn: 4.8057580\ttest: 4.7958050\tbest: 4.7958050 (190)\ttotal: 22.5s\tremaining: 1.06s\n",
      "192:\tlearn: 4.7377631\ttest: 4.7278974\tbest: 4.7278974 (192)\ttotal: 22.8s\tremaining: 825ms\n",
      "194:\tlearn: 4.6709466\ttest: 4.6611439\tbest: 4.6611439 (194)\ttotal: 23s\tremaining: 589ms\n",
      "196:\tlearn: 4.6064350\ttest: 4.5967630\tbest: 4.5967630 (196)\ttotal: 23.2s\tremaining: 354ms\n",
      "198:\tlearn: 4.5435464\ttest: 4.5340126\tbest: 4.5340126 (198)\ttotal: 23.4s\tremaining: 118ms\n",
      "199:\tlearn: 4.5126615\ttest: 4.5032010\tbest: 4.5032010 (199)\ttotal: 23.6s\tremaining: 0us\n",
      "\n",
      "bestTest = 4.503200971\n",
      "bestIteration = 199\n",
      "\n",
      "-------------------------\n",
      "LGBMRegressor(learning_rate=0.01, max_depth=2, n_estimators=200, num_leaves=35,\n",
      "              objective='regression_l1')\n"
     ]
    },
    {
     "name": "stderr",
     "output_type": "stream",
     "text": [
      "/Users/juliengenzling/anaconda3/envs/kaggle/lib/python3.11/site-packages/lightgbm/sklearn.py:726: UserWarning:\n",
      "\n",
      "'early_stopping_rounds' argument is deprecated and will be removed in a future release of LightGBM. Pass 'early_stopping()' callback via 'callbacks' argument instead.\n",
      "\n",
      "/Users/juliengenzling/anaconda3/envs/kaggle/lib/python3.11/site-packages/lightgbm/sklearn.py:736: UserWarning:\n",
      "\n",
      "'verbose' argument is deprecated and will be removed in a future release of LightGBM. Pass 'log_evaluation()' callback via 'callbacks' argument instead.\n",
      "\n"
     ]
    },
    {
     "name": "stdout",
     "output_type": "stream",
     "text": [
      "[2]\tvalid_0's l1: 17.8884\n",
      "[4]\tvalid_0's l1: 17.8131\n",
      "[6]\tvalid_0's l1: 17.7384\n",
      "[8]\tvalid_0's l1: 17.6647\n",
      "[10]\tvalid_0's l1: 17.5917\n",
      "[12]\tvalid_0's l1: 17.5195\n",
      "[14]\tvalid_0's l1: 17.4479\n",
      "[16]\tvalid_0's l1: 17.3769\n",
      "[18]\tvalid_0's l1: 17.3064\n",
      "[20]\tvalid_0's l1: 17.2361\n",
      "[22]\tvalid_0's l1: 17.1661\n",
      "[24]\tvalid_0's l1: 17.096\n",
      "[26]\tvalid_0's l1: 17.0257\n",
      "[28]\tvalid_0's l1: 16.9564\n",
      "[30]\tvalid_0's l1: 16.8865\n",
      "[32]\tvalid_0's l1: 16.8158\n",
      "[34]\tvalid_0's l1: 16.7461\n",
      "[36]\tvalid_0's l1: 16.6759\n",
      "[38]\tvalid_0's l1: 16.6046\n",
      "[40]\tvalid_0's l1: 16.5322\n",
      "[42]\tvalid_0's l1: 16.4609\n",
      "[44]\tvalid_0's l1: 16.387\n",
      "[46]\tvalid_0's l1: 16.2854\n",
      "[48]\tvalid_0's l1: 16.0212\n",
      "[50]\tvalid_0's l1: 15.6223\n",
      "[52]\tvalid_0's l1: 15.2734\n",
      "[54]\tvalid_0's l1: 14.9579\n",
      "[56]\tvalid_0's l1: 14.6686\n",
      "[58]\tvalid_0's l1: 14.4\n",
      "[60]\tvalid_0's l1: 14.1398\n",
      "[62]\tvalid_0's l1: 13.8864\n",
      "[64]\tvalid_0's l1: 13.6383\n",
      "[66]\tvalid_0's l1: 13.3951\n",
      "[68]\tvalid_0's l1: 13.1574\n",
      "[70]\tvalid_0's l1: 12.9244\n",
      "[72]\tvalid_0's l1: 12.696\n",
      "[74]\tvalid_0's l1: 12.4736\n",
      "[76]\tvalid_0's l1: 12.255\n",
      "[78]\tvalid_0's l1: 12.0413\n",
      "[80]\tvalid_0's l1: 11.8312\n",
      "[82]\tvalid_0's l1: 11.6258\n",
      "[84]\tvalid_0's l1: 11.4246\n",
      "[86]\tvalid_0's l1: 11.2283\n",
      "[88]\tvalid_0's l1: 11.0356\n",
      "[90]\tvalid_0's l1: 10.8468\n",
      "[92]\tvalid_0's l1: 10.6618\n",
      "[94]\tvalid_0's l1: 10.4821\n",
      "[96]\tvalid_0's l1: 10.307\n",
      "[98]\tvalid_0's l1: 10.1354\n",
      "[100]\tvalid_0's l1: 9.96703\n",
      "[102]\tvalid_0's l1: 9.80178\n",
      "[104]\tvalid_0's l1: 9.63975\n",
      "[106]\tvalid_0's l1: 9.48067\n",
      "[108]\tvalid_0's l1: 9.3244\n",
      "[110]\tvalid_0's l1: 9.17108\n",
      "[112]\tvalid_0's l1: 9.02062\n",
      "[114]\tvalid_0's l1: 8.87273\n",
      "[116]\tvalid_0's l1: 8.72754\n",
      "[118]\tvalid_0's l1: 8.58503\n",
      "[120]\tvalid_0's l1: 8.44512\n",
      "[122]\tvalid_0's l1: 8.30775\n",
      "[124]\tvalid_0's l1: 8.17286\n",
      "[126]\tvalid_0's l1: 8.04043\n",
      "[128]\tvalid_0's l1: 7.91051\n",
      "[130]\tvalid_0's l1: 7.78315\n",
      "[132]\tvalid_0's l1: 7.65853\n",
      "[134]\tvalid_0's l1: 7.53717\n",
      "[136]\tvalid_0's l1: 7.41796\n",
      "[138]\tvalid_0's l1: 7.30111\n",
      "[140]\tvalid_0's l1: 7.18628\n",
      "[142]\tvalid_0's l1: 7.07349\n",
      "[144]\tvalid_0's l1: 6.96267\n",
      "[146]\tvalid_0's l1: 6.85377\n",
      "[148]\tvalid_0's l1: 6.74674\n",
      "[150]\tvalid_0's l1: 6.64155\n",
      "[152]\tvalid_0's l1: 6.53812\n",
      "[154]\tvalid_0's l1: 6.43639\n",
      "[156]\tvalid_0's l1: 6.33657\n",
      "[158]\tvalid_0's l1: 6.23825\n",
      "[160]\tvalid_0's l1: 6.14138\n",
      "[162]\tvalid_0's l1: 6.0458\n",
      "[164]\tvalid_0's l1: 5.9514\n",
      "[166]\tvalid_0's l1: 5.85807\n",
      "[168]\tvalid_0's l1: 5.76506\n",
      "[170]\tvalid_0's l1: 5.67326\n",
      "[172]\tvalid_0's l1: 5.5813\n",
      "[174]\tvalid_0's l1: 5.49058\n",
      "[176]\tvalid_0's l1: 5.4017\n",
      "[178]\tvalid_0's l1: 5.31439\n",
      "[180]\tvalid_0's l1: 5.22881\n",
      "[182]\tvalid_0's l1: 5.14495\n",
      "[184]\tvalid_0's l1: 5.06284\n",
      "[186]\tvalid_0's l1: 4.98242\n",
      "[188]\tvalid_0's l1: 4.90339\n",
      "[190]\tvalid_0's l1: 4.82617\n",
      "[192]\tvalid_0's l1: 4.75055\n",
      "[194]\tvalid_0's l1: 4.67646\n",
      "[196]\tvalid_0's l1: 4.60414\n",
      "[198]\tvalid_0's l1: 4.53334\n",
      "[200]\tvalid_0's l1: 4.46423\n",
      "-------------------------\n",
      "XGBRegressor(base_score=None, booster=None, callbacks=None,\n",
      "             colsample_bylevel=None, colsample_bynode=None,\n",
      "             colsample_bytree=None, device=None, early_stopping_rounds=None,\n",
      "             enable_categorical=False, eval_metric=None, feature_types=None,\n",
      "             gamma=None, grow_policy=None, importance_type=None,\n",
      "             interaction_constraints=None, learning_rate=None, max_bin=None,\n",
      "             max_cat_threshold=None, max_cat_to_onehot=None,\n",
      "             max_delta_step=None, max_depth=5, max_leaves=None,\n",
      "             min_child_weight=None, missing=nan, monotone_constraints=None,\n",
      "             multi_strategy=None, n_estimators=100, n_jobs=None, num_leaves=10,\n",
      "             num_parallel_tree=None, ...)\n"
     ]
    },
    {
     "name": "stderr",
     "output_type": "stream",
     "text": [
      "/Users/juliengenzling/anaconda3/envs/kaggle/lib/python3.11/site-packages/xgboost/sklearn.py:885: UserWarning:\n",
      "\n",
      "`early_stopping_rounds` in `fit` method is deprecated for better compatibility with scikit-learn, use `early_stopping_rounds` in constructor or`set_params` instead.\n",
      "\n",
      "/Users/juliengenzling/anaconda3/envs/kaggle/lib/python3.11/site-packages/xgboost/core.py:160: UserWarning:\n",
      "\n",
      "[14:47:53] WARNING: /Users/runner/work/xgboost/xgboost/src/learner.cc:742: \n",
      "Parameters: { \"num_leaves\" } are not used.\n",
      "\n",
      "\n"
     ]
    },
    {
     "name": "stdout",
     "output_type": "stream",
     "text": [
      "[0]\tvalidation_0-mae:17.04594\n",
      "[2]\tvalidation_0-mae:14.55759\n",
      "[4]\tvalidation_0-mae:8.01452\n",
      "[6]\tvalidation_0-mae:4.65377\n",
      "[8]\tvalidation_0-mae:2.93606\n",
      "[10]\tvalidation_0-mae:2.17612\n",
      "[12]\tvalidation_0-mae:1.57223\n",
      "[14]\tvalidation_0-mae:1.10337\n",
      "[16]\tvalidation_0-mae:0.84394\n",
      "[18]\tvalidation_0-mae:0.68488\n",
      "[20]\tvalidation_0-mae:0.57828\n",
      "[22]\tvalidation_0-mae:0.50469\n",
      "[24]\tvalidation_0-mae:0.43847\n",
      "[26]\tvalidation_0-mae:0.42226\n",
      "[28]\tvalidation_0-mae:0.39912\n",
      "[30]\tvalidation_0-mae:0.38094\n",
      "[32]\tvalidation_0-mae:0.36848\n",
      "[34]\tvalidation_0-mae:0.36132\n",
      "[36]\tvalidation_0-mae:0.32935\n",
      "[38]\tvalidation_0-mae:0.32482\n",
      "[40]\tvalidation_0-mae:0.31903\n",
      "[42]\tvalidation_0-mae:0.31431\n",
      "[44]\tvalidation_0-mae:0.28330\n",
      "[46]\tvalidation_0-mae:0.25955\n",
      "[48]\tvalidation_0-mae:0.24561\n",
      "[50]\tvalidation_0-mae:0.23405\n",
      "[52]\tvalidation_0-mae:0.22436\n",
      "[54]\tvalidation_0-mae:0.22329\n",
      "[56]\tvalidation_0-mae:0.21626\n",
      "[58]\tvalidation_0-mae:0.21153\n",
      "[60]\tvalidation_0-mae:0.20196\n",
      "[62]\tvalidation_0-mae:0.19503\n",
      "[64]\tvalidation_0-mae:0.19402\n",
      "[66]\tvalidation_0-mae:0.19083\n",
      "[68]\tvalidation_0-mae:0.18562\n",
      "[70]\tvalidation_0-mae:0.18492\n",
      "[72]\tvalidation_0-mae:0.18345\n",
      "[74]\tvalidation_0-mae:0.18268\n",
      "[76]\tvalidation_0-mae:0.18209\n",
      "[78]\tvalidation_0-mae:0.18158\n",
      "[80]\tvalidation_0-mae:0.18123\n",
      "[82]\tvalidation_0-mae:0.18086\n",
      "[84]\tvalidation_0-mae:0.18057\n",
      "[86]\tvalidation_0-mae:0.17793\n",
      "[88]\tvalidation_0-mae:0.17545\n",
      "[90]\tvalidation_0-mae:0.17056\n",
      "[92]\tvalidation_0-mae:0.16913\n",
      "[94]\tvalidation_0-mae:0.16248\n",
      "[96]\tvalidation_0-mae:0.15993\n",
      "[98]\tvalidation_0-mae:0.15876\n",
      "[99]\tvalidation_0-mae:0.15865\n",
      "-------------------------\n",
      "<catboost.core.CatBoostRegressor object at 0x126214b50>\n",
      "0:\tlearn: 17.7946994\ttest: 17.8828460\tbest: 17.8828460 (0)\ttotal: 159ms\tremaining: 31.7s\n",
      "2:\tlearn: 17.5296387\ttest: 17.6168852\tbest: 17.6168852 (2)\ttotal: 409ms\tremaining: 26.9s\n",
      "4:\tlearn: 17.2809192\ttest: 17.3672815\tbest: 17.3672815 (4)\ttotal: 638ms\tremaining: 24.9s\n",
      "6:\tlearn: 16.9617629\ttest: 17.0465567\tbest: 17.0465567 (6)\ttotal: 869ms\tremaining: 24s\n",
      "8:\tlearn: 16.5748473\ttest: 16.6580430\tbest: 16.6580430 (8)\ttotal: 1.09s\tremaining: 23.1s\n",
      "10:\tlearn: 16.2305519\ttest: 16.3121941\tbest: 16.3121941 (10)\ttotal: 1.34s\tremaining: 23s\n",
      "12:\tlearn: 15.9100018\ttest: 15.9900221\tbest: 15.9900221 (12)\ttotal: 1.56s\tremaining: 22.5s\n",
      "14:\tlearn: 15.6091591\ttest: 15.6876193\tbest: 15.6876193 (14)\ttotal: 1.79s\tremaining: 22.1s\n",
      "16:\tlearn: 15.3200861\ttest: 15.3973593\tbest: 15.3973593 (16)\ttotal: 2.02s\tremaining: 21.8s\n",
      "18:\tlearn: 15.0362443\ttest: 15.1123427\tbest: 15.1123427 (18)\ttotal: 2.25s\tremaining: 21.4s\n",
      "20:\tlearn: 14.7657661\ttest: 14.8406992\tbest: 14.8406992 (20)\ttotal: 2.48s\tremaining: 21.1s\n",
      "22:\tlearn: 14.4956377\ttest: 14.5694389\tbest: 14.5694389 (22)\ttotal: 2.71s\tremaining: 20.8s\n",
      "24:\tlearn: 14.2317474\ttest: 14.3043869\tbest: 14.3043869 (24)\ttotal: 2.94s\tremaining: 20.6s\n",
      "26:\tlearn: 13.9707687\ttest: 14.0422862\tbest: 14.0422862 (26)\ttotal: 3.18s\tremaining: 20.4s\n",
      "28:\tlearn: 13.7231456\ttest: 13.7935310\tbest: 13.7935310 (28)\ttotal: 3.41s\tremaining: 20.1s\n",
      "30:\tlearn: 13.4705016\ttest: 13.5397729\tbest: 13.5397729 (30)\ttotal: 3.66s\tremaining: 20s\n",
      "32:\tlearn: 13.2254735\ttest: 13.2936484\tbest: 13.2936484 (32)\ttotal: 3.9s\tremaining: 19.7s\n",
      "34:\tlearn: 12.9866097\ttest: 13.0538008\tbest: 13.0538008 (34)\ttotal: 4.15s\tremaining: 19.6s\n",
      "36:\tlearn: 12.7559393\ttest: 12.8221503\tbest: 12.8221503 (36)\ttotal: 4.39s\tremaining: 19.3s\n",
      "38:\tlearn: 12.5272414\ttest: 12.5924303\tbest: 12.5924303 (38)\ttotal: 4.63s\tremaining: 19.1s\n",
      "40:\tlearn: 12.3047096\ttest: 12.3689228\tbest: 12.3689228 (40)\ttotal: 4.87s\tremaining: 18.9s\n",
      "42:\tlearn: 12.0873530\ttest: 12.1505851\tbest: 12.1505851 (42)\ttotal: 5.12s\tremaining: 18.7s\n",
      "44:\tlearn: 11.8676194\ttest: 11.9298733\tbest: 11.9298733 (44)\ttotal: 5.38s\tremaining: 18.5s\n",
      "46:\tlearn: 11.6516702\ttest: 11.7129873\tbest: 11.7129873 (46)\ttotal: 5.63s\tremaining: 18.3s\n",
      "48:\tlearn: 11.4490467\ttest: 11.5095113\tbest: 11.5095113 (48)\ttotal: 5.87s\tremaining: 18.1s\n",
      "50:\tlearn: 11.3046390\ttest: 11.3645202\tbest: 11.3645202 (50)\ttotal: 6.1s\tremaining: 17.8s\n",
      "52:\tlearn: 11.1064462\ttest: 11.1655231\tbest: 11.1655231 (52)\ttotal: 6.33s\tremaining: 17.6s\n",
      "54:\tlearn: 10.9156112\ttest: 10.9739603\tbest: 10.9739603 (54)\ttotal: 6.56s\tremaining: 17.3s\n",
      "56:\tlearn: 10.7289839\ttest: 10.7866700\tbest: 10.7866700 (56)\ttotal: 6.79s\tremaining: 17s\n",
      "58:\tlearn: 10.5464085\ttest: 10.6034312\tbest: 10.6034312 (58)\ttotal: 7.03s\tremaining: 16.8s\n",
      "60:\tlearn: 10.3677417\ttest: 10.4241140\tbest: 10.4241140 (60)\ttotal: 7.28s\tremaining: 16.6s\n",
      "62:\tlearn: 10.1931862\ttest: 10.2488847\tbest: 10.2488847 (62)\ttotal: 7.51s\tremaining: 16.3s\n",
      "64:\tlearn: 10.0173233\ttest: 10.0723911\tbest: 10.0723911 (64)\ttotal: 7.75s\tremaining: 16.1s\n",
      "66:\tlearn: 9.8489701\ttest: 9.9033758\tbest: 9.9033758 (66)\ttotal: 8s\tremaining: 15.9s\n",
      "68:\tlearn: 9.6843030\ttest: 9.7381190\tbest: 9.7381190 (68)\ttotal: 8.25s\tremaining: 15.7s\n",
      "70:\tlearn: 9.5731136\ttest: 9.6264313\tbest: 9.6264313 (70)\ttotal: 8.48s\tremaining: 15.4s\n",
      "72:\tlearn: 9.4134009\ttest: 9.4660871\tbest: 9.4660871 (72)\ttotal: 8.71s\tremaining: 15.2s\n",
      "74:\tlearn: 9.3068349\ttest: 9.3590342\tbest: 9.3590342 (74)\ttotal: 8.94s\tremaining: 14.9s\n",
      "76:\tlearn: 9.2531782\ttest: 9.3050341\tbest: 9.3050341 (76)\ttotal: 9.18s\tremaining: 14.7s\n",
      "78:\tlearn: 9.1984327\ttest: 9.2499951\tbest: 9.2499951 (78)\ttotal: 9.42s\tremaining: 14.4s\n",
      "80:\tlearn: 9.1469294\ttest: 9.1982062\tbest: 9.1982062 (80)\ttotal: 9.65s\tremaining: 14.2s\n",
      "82:\tlearn: 9.0957996\ttest: 9.1468030\tbest: 9.1468030 (82)\ttotal: 9.89s\tremaining: 13.9s\n",
      "84:\tlearn: 9.0457648\ttest: 9.0964995\tbest: 9.0964995 (84)\ttotal: 10.1s\tremaining: 13.7s\n",
      "86:\tlearn: 8.9957819\ttest: 9.0462518\tbest: 9.0462518 (86)\ttotal: 10.4s\tremaining: 13.5s\n",
      "88:\tlearn: 8.9463600\ttest: 8.9965474\tbest: 8.9965474 (88)\ttotal: 10.6s\tremaining: 13.2s\n",
      "90:\tlearn: 8.8989225\ttest: 8.9489123\tbest: 8.9489123 (90)\ttotal: 10.9s\tremaining: 13s\n",
      "92:\tlearn: 8.8503712\ttest: 8.9000814\tbest: 8.9000814 (92)\ttotal: 11.1s\tremaining: 12.8s\n",
      "94:\tlearn: 8.8025067\ttest: 8.8519275\tbest: 8.8519275 (94)\ttotal: 11.4s\tremaining: 12.6s\n",
      "96:\tlearn: 8.7551375\ttest: 8.8042104\tbest: 8.8042104 (96)\ttotal: 11.6s\tremaining: 12.3s\n",
      "98:\tlearn: 8.7082593\ttest: 8.7569709\tbest: 8.7569709 (98)\ttotal: 11.9s\tremaining: 12.1s\n",
      "100:\tlearn: 8.6630815\ttest: 8.7114695\tbest: 8.7114695 (100)\ttotal: 12.1s\tremaining: 11.9s\n",
      "102:\tlearn: 8.6175958\ttest: 8.6656780\tbest: 8.6656780 (102)\ttotal: 12.3s\tremaining: 11.6s\n",
      "104:\tlearn: 8.5733932\ttest: 8.6212096\tbest: 8.6212096 (104)\ttotal: 12.6s\tremaining: 11.4s\n",
      "106:\tlearn: 8.4793573\ttest: 8.5268227\tbest: 8.5268227 (106)\ttotal: 12.8s\tremaining: 11.1s\n",
      "108:\tlearn: 8.3430178\ttest: 8.3901094\tbest: 8.3901094 (108)\ttotal: 13.1s\tremaining: 10.9s\n",
      "110:\tlearn: 8.3014174\ttest: 8.3482771\tbest: 8.3482771 (110)\ttotal: 13.3s\tremaining: 10.7s\n",
      "112:\tlearn: 8.2608578\ttest: 8.3074635\tbest: 8.3074635 (112)\ttotal: 13.5s\tremaining: 10.4s\n",
      "114:\tlearn: 8.1748760\ttest: 8.2211334\tbest: 8.2211334 (114)\ttotal: 13.8s\tremaining: 10.2s\n",
      "116:\tlearn: 8.0912679\ttest: 8.1371966\tbest: 8.1371966 (116)\ttotal: 14s\tremaining: 9.93s\n",
      "118:\tlearn: 8.0087872\ttest: 8.0544009\tbest: 8.0544009 (118)\ttotal: 14.2s\tremaining: 9.69s\n",
      "120:\tlearn: 7.9675720\ttest: 8.0129181\tbest: 8.0129181 (120)\ttotal: 14.5s\tremaining: 9.45s\n",
      "122:\tlearn: 7.9265887\ttest: 7.9716785\tbest: 7.9716785 (122)\ttotal: 14.7s\tremaining: 9.22s\n",
      "124:\tlearn: 7.8471442\ttest: 7.8919468\tbest: 7.8919468 (124)\ttotal: 15s\tremaining: 8.97s\n",
      "126:\tlearn: 7.8094350\ttest: 7.8540187\tbest: 7.8540187 (126)\ttotal: 15.2s\tremaining: 8.74s\n",
      "128:\tlearn: 7.7309233\ttest: 7.7751952\tbest: 7.7751952 (128)\ttotal: 15.4s\tremaining: 8.5s\n",
      "130:\tlearn: 7.6154845\ttest: 7.6594173\tbest: 7.6594173 (130)\ttotal: 15.7s\tremaining: 8.26s\n",
      "132:\tlearn: 7.5471066\ttest: 7.5907766\tbest: 7.5907766 (132)\ttotal: 15.9s\tremaining: 8.02s\n",
      "134:\tlearn: 7.5080717\ttest: 7.5514781\tbest: 7.5514781 (134)\ttotal: 16.2s\tremaining: 7.78s\n",
      "136:\tlearn: 7.4697542\ttest: 7.5129118\tbest: 7.5129118 (136)\ttotal: 16.4s\tremaining: 7.55s\n",
      "138:\tlearn: 7.4315382\ttest: 7.4744343\tbest: 7.4744343 (138)\ttotal: 16.6s\tremaining: 7.3s\n",
      "140:\tlearn: 7.3946655\ttest: 7.4372915\tbest: 7.4372915 (140)\ttotal: 16.9s\tremaining: 7.06s\n",
      "142:\tlearn: 7.3562994\ttest: 7.3986796\tbest: 7.3986796 (142)\ttotal: 17.1s\tremaining: 6.82s\n",
      "144:\tlearn: 7.2799305\ttest: 7.3220454\tbest: 7.3220454 (144)\ttotal: 17.4s\tremaining: 6.58s\n",
      "146:\tlearn: 7.2083559\ttest: 7.2501941\tbest: 7.2501941 (146)\ttotal: 17.6s\tremaining: 6.34s\n",
      "148:\tlearn: 7.1682492\ttest: 7.2098837\tbest: 7.2098837 (148)\ttotal: 17.8s\tremaining: 6.1s\n",
      "150:\tlearn: 7.0983355\ttest: 7.1397096\tbest: 7.1397096 (150)\ttotal: 18.1s\tremaining: 5.86s\n",
      "152:\tlearn: 7.0621764\ttest: 7.1033473\tbest: 7.1033473 (152)\ttotal: 18.3s\tremaining: 5.62s\n",
      "154:\tlearn: 6.9791709\ttest: 7.0200769\tbest: 7.0200769 (154)\ttotal: 18.5s\tremaining: 5.38s\n",
      "156:\tlearn: 6.9071275\ttest: 6.9478080\tbest: 6.9478080 (156)\ttotal: 18.8s\tremaining: 5.13s\n",
      "158:\tlearn: 6.7955926\ttest: 6.8359098\tbest: 6.8359098 (158)\ttotal: 19s\tremaining: 4.89s\n",
      "160:\tlearn: 6.6863425\ttest: 6.7262956\tbest: 6.7262956 (160)\ttotal: 19.2s\tremaining: 4.65s\n",
      "162:\tlearn: 6.5793084\ttest: 6.6189004\tbest: 6.6189004 (162)\ttotal: 19.4s\tremaining: 4.41s\n",
      "164:\tlearn: 6.4757174\ttest: 6.5149399\tbest: 6.5149399 (164)\ttotal: 19.7s\tremaining: 4.17s\n",
      "166:\tlearn: 6.3732982\ttest: 6.4121499\tbest: 6.4121499 (166)\ttotal: 19.9s\tremaining: 3.93s\n",
      "168:\tlearn: 6.2713856\ttest: 6.3098772\tbest: 6.3098772 (168)\ttotal: 20.1s\tremaining: 3.69s\n",
      "170:\tlearn: 6.1741067\ttest: 6.2124481\tbest: 6.2124481 (170)\ttotal: 20.4s\tremaining: 3.45s\n",
      "172:\tlearn: 6.0776887\ttest: 6.1157570\tbest: 6.1157570 (172)\ttotal: 20.6s\tremaining: 3.21s\n",
      "174:\tlearn: 5.9846781\ttest: 6.0226099\tbest: 6.0226099 (174)\ttotal: 20.8s\tremaining: 2.97s\n",
      "176:\tlearn: 5.8913765\ttest: 5.9289356\tbest: 5.9289356 (176)\ttotal: 21.1s\tremaining: 2.74s\n",
      "178:\tlearn: 5.8201483\ttest: 5.8574270\tbest: 5.8574270 (178)\ttotal: 21.3s\tremaining: 2.5s\n",
      "180:\tlearn: 5.7312995\ttest: 5.7682214\tbest: 5.7682214 (180)\ttotal: 21.5s\tremaining: 2.26s\n",
      "182:\tlearn: 5.6424838\ttest: 5.6790502\tbest: 5.6790502 (182)\ttotal: 21.8s\tremaining: 2.02s\n",
      "184:\tlearn: 5.5556820\ttest: 5.5919221\tbest: 5.5919221 (184)\ttotal: 22s\tremaining: 1.78s\n",
      "186:\tlearn: 5.4705436\ttest: 5.5064687\tbest: 5.5064687 (186)\ttotal: 22.2s\tremaining: 1.54s\n",
      "188:\tlearn: 5.3872762\ttest: 5.4229010\tbest: 5.4229010 (188)\ttotal: 22.5s\tremaining: 1.31s\n",
      "190:\tlearn: 5.3156747\ttest: 5.3510693\tbest: 5.3510693 (190)\ttotal: 22.7s\tremaining: 1.07s\n",
      "192:\tlearn: 5.2552593\ttest: 5.2905036\tbest: 5.2905036 (192)\ttotal: 22.9s\tremaining: 832ms\n",
      "194:\tlearn: 5.1768807\ttest: 5.2118454\tbest: 5.2118454 (194)\ttotal: 23.2s\tremaining: 594ms\n",
      "196:\tlearn: 5.1003711\ttest: 5.1350503\tbest: 5.1350503 (196)\ttotal: 23.4s\tremaining: 357ms\n",
      "198:\tlearn: 5.0256328\ttest: 5.0600304\tbest: 5.0600304 (198)\ttotal: 23.6s\tremaining: 119ms\n",
      "199:\tlearn: 4.9887681\ttest: 5.0230260\tbest: 5.0230260 (199)\ttotal: 23.8s\tremaining: 0us\n",
      "\n",
      "bestTest = 5.02302596\n",
      "bestIteration = 199\n",
      "\n",
      "-------------------------\n",
      "LGBMRegressor(learning_rate=0.01, max_depth=2, n_estimators=200, num_leaves=35,\n",
      "              objective='regression_l1')\n"
     ]
    },
    {
     "name": "stderr",
     "output_type": "stream",
     "text": [
      "/Users/juliengenzling/anaconda3/envs/kaggle/lib/python3.11/site-packages/lightgbm/sklearn.py:726: UserWarning:\n",
      "\n",
      "'early_stopping_rounds' argument is deprecated and will be removed in a future release of LightGBM. Pass 'early_stopping()' callback via 'callbacks' argument instead.\n",
      "\n",
      "/Users/juliengenzling/anaconda3/envs/kaggle/lib/python3.11/site-packages/lightgbm/sklearn.py:736: UserWarning:\n",
      "\n",
      "'verbose' argument is deprecated and will be removed in a future release of LightGBM. Pass 'log_evaluation()' callback via 'callbacks' argument instead.\n",
      "\n"
     ]
    },
    {
     "name": "stdout",
     "output_type": "stream",
     "text": [
      "[2]\tvalid_0's l1: 17.7975\n",
      "[4]\tvalid_0's l1: 17.722\n",
      "[6]\tvalid_0's l1: 17.6474\n",
      "[8]\tvalid_0's l1: 17.5737\n",
      "[10]\tvalid_0's l1: 17.5009\n",
      "[12]\tvalid_0's l1: 17.4287\n",
      "[14]\tvalid_0's l1: 17.3572\n",
      "[16]\tvalid_0's l1: 17.2863\n",
      "[18]\tvalid_0's l1: 17.2159\n",
      "[20]\tvalid_0's l1: 17.1459\n",
      "[22]\tvalid_0's l1: 17.076\n",
      "[24]\tvalid_0's l1: 17.006\n",
      "[26]\tvalid_0's l1: 16.9359\n",
      "[28]\tvalid_0's l1: 16.8654\n",
      "[30]\tvalid_0's l1: 16.7959\n",
      "[32]\tvalid_0's l1: 16.7256\n",
      "[34]\tvalid_0's l1: 16.6547\n",
      "[36]\tvalid_0's l1: 16.5833\n",
      "[38]\tvalid_0's l1: 16.5125\n",
      "[40]\tvalid_0's l1: 16.4405\n",
      "[42]\tvalid_0's l1: 16.3675\n",
      "[44]\tvalid_0's l1: 16.2859\n",
      "[46]\tvalid_0's l1: 16.1447\n",
      "[48]\tvalid_0's l1: 15.7936\n",
      "[50]\tvalid_0's l1: 15.4135\n",
      "[52]\tvalid_0's l1: 15.0787\n",
      "[54]\tvalid_0's l1: 14.7755\n",
      "[56]\tvalid_0's l1: 14.4963\n",
      "[58]\tvalid_0's l1: 14.2319\n",
      "[60]\tvalid_0's l1: 13.976\n",
      "[62]\tvalid_0's l1: 13.7262\n",
      "[64]\tvalid_0's l1: 13.4812\n",
      "[66]\tvalid_0's l1: 13.241\n",
      "[68]\tvalid_0's l1: 13.0056\n",
      "[70]\tvalid_0's l1: 12.7748\n",
      "[72]\tvalid_0's l1: 12.5498\n",
      "[74]\tvalid_0's l1: 12.33\n",
      "[76]\tvalid_0's l1: 12.1144\n",
      "[78]\tvalid_0's l1: 11.9031\n",
      "[80]\tvalid_0's l1: 11.6959\n",
      "[82]\tvalid_0's l1: 11.4914\n",
      "[84]\tvalid_0's l1: 11.2925\n",
      "[86]\tvalid_0's l1: 11.0988\n",
      "[88]\tvalid_0's l1: 10.9087\n",
      "[90]\tvalid_0's l1: 10.7223\n",
      "[92]\tvalid_0's l1: 10.5396\n",
      "[94]\tvalid_0's l1: 10.3608\n",
      "[96]\tvalid_0's l1: 10.1878\n",
      "[98]\tvalid_0's l1: 10.0182\n",
      "[100]\tvalid_0's l1: 9.85189\n",
      "[102]\tvalid_0's l1: 9.68861\n",
      "[104]\tvalid_0's l1: 9.52851\n",
      "[106]\tvalid_0's l1: 9.37131\n",
      "[108]\tvalid_0's l1: 9.2168\n",
      "[110]\tvalid_0's l1: 9.06521\n",
      "[112]\tvalid_0's l1: 8.91625\n",
      "[114]\tvalid_0's l1: 8.77005\n",
      "[116]\tvalid_0's l1: 8.62655\n",
      "[118]\tvalid_0's l1: 8.48571\n",
      "[120]\tvalid_0's l1: 8.34743\n",
      "[122]\tvalid_0's l1: 8.21143\n",
      "[124]\tvalid_0's l1: 8.07812\n",
      "[126]\tvalid_0's l1: 7.94723\n",
      "[128]\tvalid_0's l1: 7.8187\n",
      "[130]\tvalid_0's l1: 7.69247\n",
      "[132]\tvalid_0's l1: 7.56857\n",
      "[134]\tvalid_0's l1: 7.44732\n",
      "[136]\tvalid_0's l1: 7.32844\n",
      "[138]\tvalid_0's l1: 7.21274\n",
      "[140]\tvalid_0's l1: 7.0991\n",
      "[142]\tvalid_0's l1: 6.98771\n",
      "[144]\tvalid_0's l1: 6.87824\n",
      "[146]\tvalid_0's l1: 6.7707\n",
      "[148]\tvalid_0's l1: 6.66499\n",
      "[150]\tvalid_0's l1: 6.56111\n",
      "[152]\tvalid_0's l1: 6.45898\n",
      "[154]\tvalid_0's l1: 6.35851\n",
      "[156]\tvalid_0's l1: 6.25959\n",
      "[158]\tvalid_0's l1: 6.16212\n",
      "[160]\tvalid_0's l1: 6.06601\n",
      "[162]\tvalid_0's l1: 5.9712\n",
      "[164]\tvalid_0's l1: 5.87756\n",
      "[166]\tvalid_0's l1: 5.78489\n",
      "[168]\tvalid_0's l1: 5.69265\n",
      "[170]\tvalid_0's l1: 5.60131\n",
      "[172]\tvalid_0's l1: 5.51066\n",
      "[174]\tvalid_0's l1: 5.42102\n",
      "[176]\tvalid_0's l1: 5.33281\n",
      "[178]\tvalid_0's l1: 5.24625\n",
      "[180]\tvalid_0's l1: 5.16155\n",
      "[182]\tvalid_0's l1: 5.07851\n",
      "[184]\tvalid_0's l1: 4.99732\n",
      "[186]\tvalid_0's l1: 4.91761\n",
      "[188]\tvalid_0's l1: 4.83949\n",
      "[190]\tvalid_0's l1: 4.76284\n",
      "[192]\tvalid_0's l1: 4.68795\n",
      "[194]\tvalid_0's l1: 4.61463\n",
      "[196]\tvalid_0's l1: 4.54291\n",
      "[198]\tvalid_0's l1: 4.47289\n",
      "[200]\tvalid_0's l1: 4.40435\n",
      "-------------------------\n",
      "XGBRegressor(base_score=None, booster=None, callbacks=None,\n",
      "             colsample_bylevel=None, colsample_bynode=None,\n",
      "             colsample_bytree=None, device=None, early_stopping_rounds=None,\n",
      "             enable_categorical=False, eval_metric=None, feature_types=None,\n",
      "             gamma=None, grow_policy=None, importance_type=None,\n",
      "             interaction_constraints=None, learning_rate=None, max_bin=None,\n",
      "             max_cat_threshold=None, max_cat_to_onehot=None,\n",
      "             max_delta_step=None, max_depth=5, max_leaves=None,\n",
      "             min_child_weight=None, missing=nan, monotone_constraints=None,\n",
      "             multi_strategy=None, n_estimators=100, n_jobs=None, num_leaves=10,\n",
      "             num_parallel_tree=None, ...)\n"
     ]
    },
    {
     "name": "stderr",
     "output_type": "stream",
     "text": [
      "/Users/juliengenzling/anaconda3/envs/kaggle/lib/python3.11/site-packages/xgboost/sklearn.py:885: UserWarning:\n",
      "\n",
      "`early_stopping_rounds` in `fit` method is deprecated for better compatibility with scikit-learn, use `early_stopping_rounds` in constructor or`set_params` instead.\n",
      "\n",
      "/Users/juliengenzling/anaconda3/envs/kaggle/lib/python3.11/site-packages/xgboost/core.py:160: UserWarning:\n",
      "\n",
      "[14:49:26] WARNING: /Users/runner/work/xgboost/xgboost/src/learner.cc:742: \n",
      "Parameters: { \"num_leaves\" } are not used.\n",
      "\n",
      "\n"
     ]
    },
    {
     "name": "stdout",
     "output_type": "stream",
     "text": [
      "[0]\tvalidation_0-mae:16.94990\n",
      "[2]\tvalidation_0-mae:14.49565\n",
      "[4]\tvalidation_0-mae:7.97019\n",
      "[6]\tvalidation_0-mae:4.63603\n",
      "[8]\tvalidation_0-mae:2.91356\n",
      "[10]\tvalidation_0-mae:2.11363\n",
      "[12]\tvalidation_0-mae:1.55060\n",
      "[14]\tvalidation_0-mae:1.07698\n",
      "[16]\tvalidation_0-mae:0.82497\n",
      "[18]\tvalidation_0-mae:0.66882\n",
      "[20]\tvalidation_0-mae:0.55838\n",
      "[22]\tvalidation_0-mae:0.48895\n",
      "[24]\tvalidation_0-mae:0.43094\n",
      "[26]\tvalidation_0-mae:0.41599\n",
      "[28]\tvalidation_0-mae:0.40021\n",
      "[30]\tvalidation_0-mae:0.39047\n",
      "[32]\tvalidation_0-mae:0.37871\n",
      "[34]\tvalidation_0-mae:0.37055\n",
      "[36]\tvalidation_0-mae:0.32772\n",
      "[38]\tvalidation_0-mae:0.32059\n",
      "[40]\tvalidation_0-mae:0.31692\n",
      "[42]\tvalidation_0-mae:0.31123\n",
      "[44]\tvalidation_0-mae:0.30878\n",
      "[46]\tvalidation_0-mae:0.29454\n",
      "[48]\tvalidation_0-mae:0.26509\n",
      "[50]\tvalidation_0-mae:0.24747\n",
      "[52]\tvalidation_0-mae:0.23670\n",
      "[54]\tvalidation_0-mae:0.22428\n",
      "[56]\tvalidation_0-mae:0.22199\n",
      "[58]\tvalidation_0-mae:0.21098\n",
      "[60]\tvalidation_0-mae:0.20920\n",
      "[62]\tvalidation_0-mae:0.20207\n",
      "[64]\tvalidation_0-mae:0.19133\n",
      "[66]\tvalidation_0-mae:0.18834\n",
      "[68]\tvalidation_0-mae:0.18065\n",
      "[70]\tvalidation_0-mae:0.17968\n",
      "[72]\tvalidation_0-mae:0.17932\n",
      "[74]\tvalidation_0-mae:0.17331\n",
      "[76]\tvalidation_0-mae:0.17037\n",
      "[78]\tvalidation_0-mae:0.16997\n",
      "[80]\tvalidation_0-mae:0.16923\n",
      "[82]\tvalidation_0-mae:0.16444\n",
      "[84]\tvalidation_0-mae:0.15910\n",
      "[86]\tvalidation_0-mae:0.15887\n",
      "[88]\tvalidation_0-mae:0.15772\n",
      "[90]\tvalidation_0-mae:0.15614\n",
      "[92]\tvalidation_0-mae:0.15474\n",
      "[94]\tvalidation_0-mae:0.15318\n",
      "[96]\tvalidation_0-mae:0.15261\n",
      "[98]\tvalidation_0-mae:0.15173\n",
      "[99]\tvalidation_0-mae:0.15167\n",
      "-------------------------\n",
      "<catboost.core.CatBoostRegressor object at 0x126214b50>\n",
      "0:\tlearn: 17.8175876\ttest: 17.7924224\tbest: 17.7924224 (0)\ttotal: 200ms\tremaining: 39.7s\n",
      "2:\tlearn: 17.5518306\ttest: 17.5267098\tbest: 17.5267098 (2)\ttotal: 442ms\tremaining: 29s\n",
      "4:\tlearn: 17.2979711\ttest: 17.2728667\tbest: 17.2728667 (4)\ttotal: 686ms\tremaining: 26.8s\n",
      "6:\tlearn: 16.9784550\ttest: 16.9539227\tbest: 16.9539227 (6)\ttotal: 913ms\tremaining: 25.2s\n",
      "8:\tlearn: 16.6001206\ttest: 16.5761590\tbest: 16.5761590 (8)\ttotal: 1.13s\tremaining: 24s\n",
      "10:\tlearn: 16.2554833\ttest: 16.2325243\tbest: 16.2325243 (10)\ttotal: 1.39s\tremaining: 23.9s\n",
      "12:\tlearn: 15.9348647\ttest: 15.9127015\tbest: 15.9127015 (12)\ttotal: 1.61s\tremaining: 23.2s\n",
      "14:\tlearn: 15.6336145\ttest: 15.6119032\tbest: 15.6119032 (14)\ttotal: 1.84s\tremaining: 22.7s\n",
      "16:\tlearn: 15.3472684\ttest: 15.3256632\tbest: 15.3256632 (16)\ttotal: 2.06s\tremaining: 22.1s\n",
      "18:\tlearn: 15.0651749\ttest: 15.0435982\tbest: 15.0435982 (18)\ttotal: 2.28s\tremaining: 21.7s\n",
      "20:\tlearn: 14.7883113\ttest: 14.7668991\tbest: 14.7668991 (20)\ttotal: 2.5s\tremaining: 21.4s\n",
      "22:\tlearn: 14.5195759\ttest: 14.4981949\tbest: 14.4981949 (22)\ttotal: 2.73s\tremaining: 21s\n",
      "24:\tlearn: 14.2525564\ttest: 14.2313378\tbest: 14.2313378 (24)\ttotal: 2.97s\tremaining: 20.8s\n",
      "26:\tlearn: 13.9909686\ttest: 13.9698447\tbest: 13.9698447 (26)\ttotal: 3.19s\tremaining: 20.5s\n",
      "28:\tlearn: 13.7387963\ttest: 13.7178478\tbest: 13.7178478 (28)\ttotal: 3.42s\tremaining: 20.2s\n",
      "30:\tlearn: 13.4910464\ttest: 13.4702840\tbest: 13.4702840 (30)\ttotal: 3.67s\tremaining: 20s\n",
      "32:\tlearn: 13.2455376\ttest: 13.2249218\tbest: 13.2249218 (32)\ttotal: 3.9s\tremaining: 19.8s\n",
      "34:\tlearn: 13.0104487\ttest: 12.9899356\tbest: 12.9899356 (34)\ttotal: 4.13s\tremaining: 19.5s\n",
      "36:\tlearn: 12.7797765\ttest: 12.7593168\tbest: 12.7593168 (36)\ttotal: 4.38s\tremaining: 19.3s\n",
      "38:\tlearn: 12.5485218\ttest: 12.5282030\tbest: 12.5282030 (38)\ttotal: 4.6s\tremaining: 19s\n",
      "40:\tlearn: 12.3260351\ttest: 12.3058306\tbest: 12.3058306 (40)\ttotal: 4.83s\tremaining: 18.8s\n",
      "42:\tlearn: 12.1089883\ttest: 12.0888594\tbest: 12.0888594 (42)\ttotal: 5.06s\tremaining: 18.5s\n",
      "44:\tlearn: 11.9562360\ttest: 11.9360633\tbest: 11.9360633 (44)\ttotal: 5.29s\tremaining: 18.2s\n",
      "46:\tlearn: 11.7402566\ttest: 11.7201988\tbest: 11.7201988 (46)\ttotal: 5.52s\tremaining: 18s\n",
      "48:\tlearn: 11.5387366\ttest: 11.5188030\tbest: 11.5188030 (48)\ttotal: 5.74s\tremaining: 17.7s\n",
      "50:\tlearn: 11.3371508\ttest: 11.3171949\tbest: 11.3171949 (50)\ttotal: 5.96s\tremaining: 17.4s\n",
      "52:\tlearn: 11.1423921\ttest: 11.1225712\tbest: 11.1225712 (52)\ttotal: 6.18s\tremaining: 17.1s\n",
      "54:\tlearn: 10.9516535\ttest: 10.9319701\tbest: 10.9319701 (54)\ttotal: 6.4s\tremaining: 16.9s\n",
      "56:\tlearn: 10.7643159\ttest: 10.7448266\tbest: 10.7448266 (56)\ttotal: 6.62s\tremaining: 16.6s\n",
      "58:\tlearn: 10.5816511\ttest: 10.5623175\tbest: 10.5623175 (58)\ttotal: 6.84s\tremaining: 16.4s\n",
      "60:\tlearn: 10.4022089\ttest: 10.3830258\tbest: 10.3830258 (60)\ttotal: 7.07s\tremaining: 16.1s\n",
      "62:\tlearn: 10.2263467\ttest: 10.2073359\tbest: 10.2073359 (62)\ttotal: 7.29s\tremaining: 15.9s\n",
      "64:\tlearn: 10.1082072\ttest: 10.0893006\tbest: 10.0893006 (64)\ttotal: 7.52s\tremaining: 15.6s\n",
      "66:\tlearn: 9.9386389\ttest: 9.9199545\tbest: 9.9199545 (66)\ttotal: 7.74s\tremaining: 15.4s\n",
      "68:\tlearn: 9.7728468\ttest: 9.7542715\tbest: 9.7542715 (68)\ttotal: 7.97s\tremaining: 15.1s\n",
      "70:\tlearn: 9.6616668\ttest: 9.6432280\tbest: 9.6432280 (70)\ttotal: 8.2s\tremaining: 14.9s\n",
      "72:\tlearn: 9.5536006\ttest: 9.5353250\tbest: 9.5353250 (72)\ttotal: 8.42s\tremaining: 14.7s\n",
      "74:\tlearn: 9.3948052\ttest: 9.3766254\tbest: 9.3766254 (74)\ttotal: 8.65s\tremaining: 14.4s\n",
      "76:\tlearn: 9.3418388\ttest: 9.3238512\tbest: 9.3238512 (76)\ttotal: 8.89s\tremaining: 14.2s\n",
      "78:\tlearn: 9.2874357\ttest: 9.2695404\tbest: 9.2695404 (78)\ttotal: 9.12s\tremaining: 14s\n",
      "80:\tlearn: 9.1850656\ttest: 9.1672626\tbest: 9.1672626 (80)\ttotal: 9.35s\tremaining: 13.7s\n",
      "82:\tlearn: 9.1338813\ttest: 9.1161429\tbest: 9.1161429 (82)\ttotal: 9.59s\tremaining: 13.5s\n",
      "84:\tlearn: 9.0348606\ttest: 9.0171627\tbest: 9.0171627 (84)\ttotal: 9.82s\tremaining: 13.3s\n",
      "86:\tlearn: 8.9847201\ttest: 8.9670762\tbest: 8.9670762 (86)\ttotal: 10s\tremaining: 13s\n",
      "88:\tlearn: 8.9349754\ttest: 8.9173940\tbest: 8.9173940 (88)\ttotal: 10.3s\tremaining: 12.8s\n",
      "90:\tlearn: 8.8872769\ttest: 8.8697568\tbest: 8.8697568 (90)\ttotal: 10.5s\tremaining: 12.6s\n",
      "92:\tlearn: 8.8392064\ttest: 8.8217606\tbest: 8.8217606 (92)\ttotal: 10.7s\tremaining: 12.4s\n",
      "94:\tlearn: 8.7912702\ttest: 8.7739014\tbest: 8.7739014 (94)\ttotal: 11s\tremaining: 12.1s\n",
      "96:\tlearn: 8.7441175\ttest: 8.7268584\tbest: 8.7268584 (96)\ttotal: 11.2s\tremaining: 11.9s\n",
      "98:\tlearn: 8.6974485\ttest: 8.6803468\tbest: 8.6803468 (98)\ttotal: 11.4s\tremaining: 11.7s\n",
      "100:\tlearn: 8.6518347\ttest: 8.6348762\tbest: 8.6348762 (100)\ttotal: 11.7s\tremaining: 11.4s\n",
      "102:\tlearn: 8.6065407\ttest: 8.5897253\tbest: 8.5897253 (102)\ttotal: 11.9s\tremaining: 11.2s\n",
      "104:\tlearn: 8.5624834\ttest: 8.5457925\tbest: 8.5457925 (104)\ttotal: 12.1s\tremaining: 11s\n",
      "106:\tlearn: 8.4683684\ttest: 8.4517746\tbest: 8.4517746 (106)\ttotal: 12.3s\tremaining: 10.7s\n",
      "108:\tlearn: 8.4250678\ttest: 8.4085946\tbest: 8.4085946 (108)\ttotal: 12.6s\tremaining: 10.5s\n",
      "110:\tlearn: 8.3822428\ttest: 8.3658999\tbest: 8.3658999 (110)\ttotal: 12.8s\tremaining: 10.3s\n",
      "112:\tlearn: 8.2952832\ttest: 8.2790239\tbest: 8.2790239 (112)\ttotal: 13s\tremaining: 10s\n",
      "114:\tlearn: 8.1671966\ttest: 8.1509926\tbest: 8.1509926 (114)\ttotal: 13.2s\tremaining: 9.79s\n",
      "116:\tlearn: 8.0838134\ttest: 8.0676946\tbest: 8.0676946 (116)\ttotal: 13.5s\tremaining: 9.55s\n",
      "118:\tlearn: 7.9602270\ttest: 7.9441599\tbest: 7.9441599 (118)\ttotal: 13.7s\tremaining: 9.32s\n",
      "120:\tlearn: 7.8391370\ttest: 7.8231305\tbest: 7.8231305 (120)\ttotal: 13.9s\tremaining: 9.09s\n",
      "122:\tlearn: 7.7592807\ttest: 7.7433616\tbest: 7.7433616 (122)\ttotal: 14.1s\tremaining: 8.85s\n",
      "124:\tlearn: 7.6811563\ttest: 7.6653369\tbest: 7.6653369 (124)\ttotal: 14.4s\tremaining: 8.62s\n",
      "126:\tlearn: 7.6041774\ttest: 7.5884381\tbest: 7.5884381 (126)\ttotal: 14.6s\tremaining: 8.39s\n",
      "128:\tlearn: 7.5286809\ttest: 7.5130416\tbest: 7.5130416 (128)\ttotal: 14.8s\tremaining: 8.15s\n",
      "130:\tlearn: 7.4533645\ttest: 7.4377960\tbest: 7.4377960 (130)\ttotal: 15s\tremaining: 7.92s\n",
      "132:\tlearn: 7.3789819\ttest: 7.3634766\tbest: 7.3634766 (132)\ttotal: 15.3s\tremaining: 7.69s\n",
      "134:\tlearn: 7.3404194\ttest: 7.3250079\tbest: 7.3250079 (134)\ttotal: 15.5s\tremaining: 7.46s\n",
      "136:\tlearn: 7.3029141\ttest: 7.2876013\tbest: 7.2876013 (136)\ttotal: 15.7s\tremaining: 7.23s\n",
      "138:\tlearn: 7.2380103\ttest: 7.2227202\tbest: 7.2227202 (138)\ttotal: 15.9s\tremaining: 7s\n",
      "140:\tlearn: 7.2010852\ttest: 7.1859228\tbest: 7.1859228 (140)\ttotal: 16.2s\tremaining: 6.77s\n",
      "142:\tlearn: 7.1645804\ttest: 7.1495479\tbest: 7.1495479 (142)\ttotal: 16.4s\tremaining: 6.54s\n",
      "144:\tlearn: 7.1280662\ttest: 7.1131673\tbest: 7.1131673 (144)\ttotal: 16.6s\tremaining: 6.31s\n",
      "146:\tlearn: 7.0918741\ttest: 7.0771149\tbest: 7.0771149 (146)\ttotal: 16.9s\tremaining: 6.08s\n",
      "148:\tlearn: 7.0554912\ttest: 7.0408637\tbest: 7.0408637 (148)\ttotal: 17.1s\tremaining: 5.85s\n",
      "150:\tlearn: 7.0183583\ttest: 7.0038259\tbest: 7.0038259 (150)\ttotal: 17.3s\tremaining: 5.62s\n",
      "152:\tlearn: 6.9814858\ttest: 6.9670631\tbest: 6.9670631 (152)\ttotal: 17.5s\tremaining: 5.39s\n",
      "154:\tlearn: 6.9407574\ttest: 6.9264307\tbest: 6.9264307 (154)\ttotal: 17.8s\tremaining: 5.16s\n",
      "156:\tlearn: 6.8960074\ttest: 6.8817965\tbest: 6.8817965 (156)\ttotal: 18s\tremaining: 4.93s\n",
      "158:\tlearn: 6.7835732\ttest: 6.7694398\tbest: 6.7694398 (158)\ttotal: 18.2s\tremaining: 4.7s\n",
      "160:\tlearn: 6.7065344\ttest: 6.6924878\tbest: 6.6924878 (160)\ttotal: 18.4s\tremaining: 4.47s\n",
      "162:\tlearn: 6.5979503\ttest: 6.5839795\tbest: 6.5839795 (162)\ttotal: 18.7s\tremaining: 4.24s\n",
      "164:\tlearn: 6.4914835\ttest: 6.4775756\tbest: 6.4775756 (164)\ttotal: 18.9s\tremaining: 4.01s\n",
      "166:\tlearn: 6.3889659\ttest: 6.3751487\tbest: 6.3751487 (166)\ttotal: 19.1s\tremaining: 3.78s\n",
      "168:\tlearn: 6.2885905\ttest: 6.2748587\tbest: 6.2748587 (168)\ttotal: 19.3s\tremaining: 3.55s\n",
      "170:\tlearn: 6.1886102\ttest: 6.1749578\tbest: 6.1749578 (170)\ttotal: 19.6s\tremaining: 3.32s\n",
      "172:\tlearn: 6.0905612\ttest: 6.0769850\tbest: 6.0769850 (172)\ttotal: 19.8s\tremaining: 3.09s\n",
      "174:\tlearn: 5.9943948\ttest: 5.9808899\tbest: 5.9808899 (174)\ttotal: 20s\tremaining: 2.86s\n",
      "176:\tlearn: 5.9002635\ttest: 5.8868217\tbest: 5.8868217 (176)\ttotal: 20.2s\tremaining: 2.63s\n",
      "178:\tlearn: 5.8098265\ttest: 5.7964670\tbest: 5.7964670 (178)\ttotal: 20.5s\tremaining: 2.4s\n",
      "180:\tlearn: 5.7196853\ttest: 5.7063916\tbest: 5.7063916 (180)\ttotal: 20.7s\tremaining: 2.17s\n",
      "182:\tlearn: 5.6311916\ttest: 5.6179583\tbest: 5.6179583 (182)\ttotal: 20.9s\tremaining: 1.94s\n",
      "184:\tlearn: 5.5446286\ttest: 5.5314482\tbest: 5.5314482 (184)\ttotal: 21.2s\tremaining: 1.72s\n",
      "186:\tlearn: 5.4600488\ttest: 5.4469027\tbest: 5.4469027 (186)\ttotal: 21.4s\tremaining: 1.49s\n",
      "188:\tlearn: 5.3772760\ttest: 5.3641759\tbest: 5.3641759 (188)\ttotal: 21.6s\tremaining: 1.26s\n",
      "190:\tlearn: 5.2964627\ttest: 5.2833928\tbest: 5.2833928 (190)\ttotal: 21.8s\tremaining: 1.03s\n",
      "192:\tlearn: 5.2175112\ttest: 5.2044850\tbest: 5.2044850 (192)\ttotal: 22.1s\tremaining: 800ms\n",
      "194:\tlearn: 5.1404214\ttest: 5.1274284\tbest: 5.1274284 (194)\ttotal: 22.3s\tremaining: 571ms\n",
      "196:\tlearn: 5.0653498\ttest: 5.0523681\tbest: 5.0523681 (196)\ttotal: 22.5s\tremaining: 343ms\n",
      "198:\tlearn: 4.9922573\ttest: 4.9792934\tbest: 4.9792934 (198)\ttotal: 22.7s\tremaining: 114ms\n",
      "199:\tlearn: 4.9564416\ttest: 4.9434999\tbest: 4.9434999 (199)\ttotal: 22.8s\tremaining: 0us\n",
      "\n",
      "bestTest = 4.943499911\n",
      "bestIteration = 199\n",
      "\n",
      "-------------------------\n",
      "LGBMRegressor(learning_rate=0.01, max_depth=2, n_estimators=200, num_leaves=35,\n",
      "              objective='regression_l1')\n"
     ]
    },
    {
     "name": "stderr",
     "output_type": "stream",
     "text": [
      "/Users/juliengenzling/anaconda3/envs/kaggle/lib/python3.11/site-packages/lightgbm/sklearn.py:726: UserWarning:\n",
      "\n",
      "'early_stopping_rounds' argument is deprecated and will be removed in a future release of LightGBM. Pass 'early_stopping()' callback via 'callbacks' argument instead.\n",
      "\n",
      "/Users/juliengenzling/anaconda3/envs/kaggle/lib/python3.11/site-packages/lightgbm/sklearn.py:736: UserWarning:\n",
      "\n",
      "'verbose' argument is deprecated and will be removed in a future release of LightGBM. Pass 'log_evaluation()' callback via 'callbacks' argument instead.\n",
      "\n"
     ]
    },
    {
     "name": "stdout",
     "output_type": "stream",
     "text": [
      "[2]\tvalid_0's l1: 17.8113\n",
      "[4]\tvalid_0's l1: 17.7359\n",
      "[6]\tvalid_0's l1: 17.6613\n",
      "[8]\tvalid_0's l1: 17.5878\n",
      "[10]\tvalid_0's l1: 17.5151\n",
      "[12]\tvalid_0's l1: 17.4431\n",
      "[14]\tvalid_0's l1: 17.3716\n",
      "[16]\tvalid_0's l1: 17.3009\n",
      "[18]\tvalid_0's l1: 17.2307\n",
      "[20]\tvalid_0's l1: 17.1608\n",
      "[22]\tvalid_0's l1: 17.0912\n",
      "[24]\tvalid_0's l1: 17.0215\n",
      "[26]\tvalid_0's l1: 16.9515\n",
      "[28]\tvalid_0's l1: 16.8812\n",
      "[30]\tvalid_0's l1: 16.8114\n",
      "[32]\tvalid_0's l1: 16.7415\n",
      "[34]\tvalid_0's l1: 16.6709\n",
      "[36]\tvalid_0's l1: 16.5998\n",
      "[38]\tvalid_0's l1: 16.5286\n",
      "[40]\tvalid_0's l1: 16.4568\n",
      "[42]\tvalid_0's l1: 16.3841\n",
      "[44]\tvalid_0's l1: 16.3046\n",
      "[46]\tvalid_0's l1: 16.1688\n",
      "[48]\tvalid_0's l1: 15.82\n",
      "[50]\tvalid_0's l1: 15.4382\n",
      "[52]\tvalid_0's l1: 15.1029\n",
      "[54]\tvalid_0's l1: 14.7982\n",
      "[56]\tvalid_0's l1: 14.5181\n",
      "[58]\tvalid_0's l1: 14.2533\n",
      "[60]\tvalid_0's l1: 13.9973\n",
      "[62]\tvalid_0's l1: 13.7463\n",
      "[64]\tvalid_0's l1: 13.5002\n",
      "[66]\tvalid_0's l1: 13.2602\n",
      "[68]\tvalid_0's l1: 13.0272\n",
      "[70]\tvalid_0's l1: 12.7986\n",
      "[72]\tvalid_0's l1: 12.5745\n",
      "[74]\tvalid_0's l1: 12.3548\n",
      "[76]\tvalid_0's l1: 12.1393\n",
      "[78]\tvalid_0's l1: 11.9279\n",
      "[80]\tvalid_0's l1: 11.7208\n",
      "[82]\tvalid_0's l1: 11.5171\n",
      "[84]\tvalid_0's l1: 11.3182\n",
      "[86]\tvalid_0's l1: 11.1236\n",
      "[88]\tvalid_0's l1: 10.9311\n",
      "[90]\tvalid_0's l1: 10.7436\n",
      "[92]\tvalid_0's l1: 10.5629\n",
      "[94]\tvalid_0's l1: 10.3859\n",
      "[96]\tvalid_0's l1: 10.2123\n",
      "[98]\tvalid_0's l1: 10.042\n",
      "[100]\tvalid_0's l1: 9.87487\n",
      "[102]\tvalid_0's l1: 9.71103\n",
      "[104]\tvalid_0's l1: 9.55023\n",
      "[106]\tvalid_0's l1: 9.39251\n",
      "[108]\tvalid_0's l1: 9.23758\n",
      "[110]\tvalid_0's l1: 9.0856\n",
      "[112]\tvalid_0's l1: 8.93623\n",
      "[114]\tvalid_0's l1: 8.78963\n",
      "[116]\tvalid_0's l1: 8.64574\n",
      "[118]\tvalid_0's l1: 8.5045\n",
      "[120]\tvalid_0's l1: 8.36584\n",
      "[122]\tvalid_0's l1: 8.22974\n",
      "[124]\tvalid_0's l1: 8.09628\n",
      "[126]\tvalid_0's l1: 7.96542\n",
      "[128]\tvalid_0's l1: 7.83759\n",
      "[130]\tvalid_0's l1: 7.71256\n",
      "[132]\tvalid_0's l1: 7.5898\n",
      "[134]\tvalid_0's l1: 7.46946\n",
      "[136]\tvalid_0's l1: 7.35126\n",
      "[138]\tvalid_0's l1: 7.23516\n",
      "[140]\tvalid_0's l1: 7.12112\n",
      "[142]\tvalid_0's l1: 7.00933\n",
      "[144]\tvalid_0's l1: 6.89949\n",
      "[146]\tvalid_0's l1: 6.79159\n",
      "[148]\tvalid_0's l1: 6.6856\n",
      "[150]\tvalid_0's l1: 6.58145\n",
      "[152]\tvalid_0's l1: 6.47905\n",
      "[154]\tvalid_0's l1: 6.37831\n",
      "[156]\tvalid_0's l1: 6.27911\n",
      "[158]\tvalid_0's l1: 6.18139\n",
      "[160]\tvalid_0's l1: 6.08507\n",
      "[162]\tvalid_0's l1: 5.99007\n",
      "[164]\tvalid_0's l1: 5.89625\n",
      "[166]\tvalid_0's l1: 5.80354\n",
      "[168]\tvalid_0's l1: 5.7112\n",
      "[170]\tvalid_0's l1: 5.6197\n",
      "[172]\tvalid_0's l1: 5.52887\n",
      "[174]\tvalid_0's l1: 5.43908\n",
      "[176]\tvalid_0's l1: 5.35073\n",
      "[178]\tvalid_0's l1: 5.26401\n",
      "[180]\tvalid_0's l1: 5.17917\n",
      "[182]\tvalid_0's l1: 5.09596\n",
      "[184]\tvalid_0's l1: 5.01431\n",
      "[186]\tvalid_0's l1: 4.93437\n",
      "[188]\tvalid_0's l1: 4.85602\n",
      "[190]\tvalid_0's l1: 4.77913\n",
      "[192]\tvalid_0's l1: 4.70403\n",
      "[194]\tvalid_0's l1: 4.63054\n",
      "[196]\tvalid_0's l1: 4.55864\n",
      "[198]\tvalid_0's l1: 4.48843\n",
      "[200]\tvalid_0's l1: 4.41974\n",
      "-------------------------\n",
      "XGBRegressor(base_score=None, booster=None, callbacks=None,\n",
      "             colsample_bylevel=None, colsample_bynode=None,\n",
      "             colsample_bytree=None, device=None, early_stopping_rounds=None,\n",
      "             enable_categorical=False, eval_metric=None, feature_types=None,\n",
      "             gamma=None, grow_policy=None, importance_type=None,\n",
      "             interaction_constraints=None, learning_rate=None, max_bin=None,\n",
      "             max_cat_threshold=None, max_cat_to_onehot=None,\n",
      "             max_delta_step=None, max_depth=5, max_leaves=None,\n",
      "             min_child_weight=None, missing=nan, monotone_constraints=None,\n",
      "             multi_strategy=None, n_estimators=100, n_jobs=None, num_leaves=10,\n",
      "             num_parallel_tree=None, ...)\n"
     ]
    },
    {
     "name": "stderr",
     "output_type": "stream",
     "text": [
      "/Users/juliengenzling/anaconda3/envs/kaggle/lib/python3.11/site-packages/xgboost/sklearn.py:885: UserWarning:\n",
      "\n",
      "`early_stopping_rounds` in `fit` method is deprecated for better compatibility with scikit-learn, use `early_stopping_rounds` in constructor or`set_params` instead.\n",
      "\n",
      "/Users/juliengenzling/anaconda3/envs/kaggle/lib/python3.11/site-packages/xgboost/core.py:160: UserWarning:\n",
      "\n",
      "[14:50:56] WARNING: /Users/runner/work/xgboost/xgboost/src/learner.cc:742: \n",
      "Parameters: { \"num_leaves\" } are not used.\n",
      "\n",
      "\n"
     ]
    },
    {
     "name": "stdout",
     "output_type": "stream",
     "text": [
      "[0]\tvalidation_0-mae:16.96361\n",
      "[2]\tvalidation_0-mae:14.50541\n",
      "[4]\tvalidation_0-mae:7.97898\n",
      "[6]\tvalidation_0-mae:4.64049\n",
      "[8]\tvalidation_0-mae:2.91877\n",
      "[10]\tvalidation_0-mae:2.11981\n",
      "[12]\tvalidation_0-mae:1.55819\n",
      "[14]\tvalidation_0-mae:1.08093\n",
      "[16]\tvalidation_0-mae:0.82639\n",
      "[18]\tvalidation_0-mae:0.65891\n",
      "[20]\tvalidation_0-mae:0.55833\n",
      "[22]\tvalidation_0-mae:0.49049\n",
      "[24]\tvalidation_0-mae:0.43384\n",
      "[26]\tvalidation_0-mae:0.42275\n",
      "[28]\tvalidation_0-mae:0.39712\n",
      "[30]\tvalidation_0-mae:0.38689\n",
      "[32]\tvalidation_0-mae:0.37237\n",
      "[34]\tvalidation_0-mae:0.36744\n",
      "[36]\tvalidation_0-mae:0.36203\n",
      "[38]\tvalidation_0-mae:0.32250\n",
      "[40]\tvalidation_0-mae:0.31727\n",
      "[42]\tvalidation_0-mae:0.30823\n",
      "[44]\tvalidation_0-mae:0.30030\n",
      "[46]\tvalidation_0-mae:0.29820\n",
      "[48]\tvalidation_0-mae:0.29538\n",
      "[50]\tvalidation_0-mae:0.26818\n",
      "[52]\tvalidation_0-mae:0.26643\n",
      "[54]\tvalidation_0-mae:0.23983\n",
      "[56]\tvalidation_0-mae:0.23848\n",
      "[58]\tvalidation_0-mae:0.22475\n",
      "[60]\tvalidation_0-mae:0.21220\n",
      "[62]\tvalidation_0-mae:0.19688\n",
      "[64]\tvalidation_0-mae:0.18956\n",
      "[66]\tvalidation_0-mae:0.18739\n",
      "[68]\tvalidation_0-mae:0.17865\n",
      "[70]\tvalidation_0-mae:0.17671\n",
      "[72]\tvalidation_0-mae:0.17543\n",
      "[74]\tvalidation_0-mae:0.17495\n",
      "[76]\tvalidation_0-mae:0.16952\n",
      "[78]\tvalidation_0-mae:0.16288\n",
      "[80]\tvalidation_0-mae:0.15669\n",
      "[82]\tvalidation_0-mae:0.15563\n",
      "[84]\tvalidation_0-mae:0.15504\n",
      "[86]\tvalidation_0-mae:0.15331\n",
      "[88]\tvalidation_0-mae:0.15245\n",
      "[90]\tvalidation_0-mae:0.15195\n",
      "[92]\tvalidation_0-mae:0.15072\n",
      "[94]\tvalidation_0-mae:0.15037\n",
      "[96]\tvalidation_0-mae:0.14957\n",
      "[98]\tvalidation_0-mae:0.14907\n",
      "[99]\tvalidation_0-mae:0.14773\n",
      "-------------------------\n",
      "<catboost.core.CatBoostRegressor object at 0x126214b50>\n",
      "0:\tlearn: 17.8135825\ttest: 17.8059157\tbest: 17.8059157 (0)\ttotal: 195ms\tremaining: 38.9s\n",
      "2:\tlearn: 17.5478804\ttest: 17.5401602\tbest: 17.5401602 (2)\ttotal: 462ms\tremaining: 30.3s\n",
      "4:\tlearn: 17.2989001\ttest: 17.2911749\tbest: 17.2911749 (4)\ttotal: 700ms\tremaining: 27.3s\n",
      "6:\tlearn: 16.9760006\ttest: 16.9685426\tbest: 16.9685426 (6)\ttotal: 933ms\tremaining: 25.7s\n",
      "8:\tlearn: 16.6113010\ttest: 16.6035621\tbest: 16.6035621 (8)\ttotal: 1.15s\tremaining: 24.5s\n",
      "10:\tlearn: 16.2592272\ttest: 16.2515446\tbest: 16.2515446 (10)\ttotal: 1.41s\tremaining: 24.3s\n",
      "12:\tlearn: 15.9386077\ttest: 15.9312085\tbest: 15.9312085 (12)\ttotal: 1.66s\tremaining: 23.9s\n",
      "14:\tlearn: 15.6374930\ttest: 15.6304045\tbest: 15.6304045 (14)\ttotal: 1.89s\tremaining: 23.3s\n",
      "16:\tlearn: 15.3512410\ttest: 15.3444541\tbest: 15.3444541 (16)\ttotal: 2.13s\tremaining: 22.9s\n",
      "18:\tlearn: 15.0692377\ttest: 15.0626543\tbest: 15.0626543 (18)\ttotal: 2.36s\tremaining: 22.5s\n",
      "20:\tlearn: 14.7923266\ttest: 14.7860669\tbest: 14.7860669 (20)\ttotal: 2.59s\tremaining: 22.1s\n",
      "22:\tlearn: 14.5230461\ttest: 14.5170064\tbest: 14.5170064 (22)\ttotal: 2.84s\tremaining: 21.9s\n",
      "24:\tlearn: 14.2556236\ttest: 14.2498157\tbest: 14.2498157 (24)\ttotal: 3.08s\tremaining: 21.6s\n",
      "26:\tlearn: 13.9941808\ttest: 13.9885360\tbest: 13.9885360 (26)\ttotal: 3.32s\tremaining: 21.3s\n",
      "28:\tlearn: 13.7449508\ttest: 13.7394841\tbest: 13.7394841 (28)\ttotal: 3.58s\tremaining: 21.1s\n",
      "30:\tlearn: 13.5000671\ttest: 13.4947863\tbest: 13.4947863 (30)\ttotal: 3.81s\tremaining: 20.8s\n",
      "32:\tlearn: 13.2542478\ttest: 13.2491295\tbest: 13.2491295 (32)\ttotal: 4.05s\tremaining: 20.5s\n",
      "34:\tlearn: 13.0175657\ttest: 13.0125993\tbest: 13.0125993 (34)\ttotal: 4.3s\tremaining: 20.3s\n",
      "36:\tlearn: 12.8586271\ttest: 12.8541284\tbest: 12.8541284 (36)\ttotal: 4.54s\tremaining: 20s\n",
      "38:\tlearn: 12.6323349\ttest: 12.6279828\tbest: 12.6279828 (38)\ttotal: 4.78s\tremaining: 19.7s\n",
      "40:\tlearn: 12.4103242\ttest: 12.4060891\tbest: 12.4060891 (40)\ttotal: 5.02s\tremaining: 19.5s\n",
      "42:\tlearn: 12.1899119\ttest: 12.1857831\tbest: 12.1857831 (42)\ttotal: 5.26s\tremaining: 19.2s\n",
      "44:\tlearn: 11.9764333\ttest: 11.9724223\tbest: 11.9724223 (44)\ttotal: 5.5s\tremaining: 18.9s\n",
      "46:\tlearn: 11.7580680\ttest: 11.7541757\tbest: 11.7541757 (46)\ttotal: 5.74s\tremaining: 18.7s\n",
      "48:\tlearn: 11.5518554\ttest: 11.5480476\tbest: 11.5480476 (48)\ttotal: 5.99s\tremaining: 18.5s\n",
      "50:\tlearn: 11.3466173\ttest: 11.3428843\tbest: 11.3428843 (50)\ttotal: 6.22s\tremaining: 18.2s\n",
      "52:\tlearn: 11.1465705\ttest: 11.1428867\tbest: 11.1428867 (52)\ttotal: 6.46s\tremaining: 17.9s\n",
      "54:\tlearn: 11.0128581\ttest: 11.0093787\tbest: 11.0093787 (54)\ttotal: 6.7s\tremaining: 17.7s\n",
      "56:\tlearn: 10.8253058\ttest: 10.8218823\tbest: 10.8218823 (56)\ttotal: 6.95s\tremaining: 17.4s\n",
      "58:\tlearn: 10.6420661\ttest: 10.6386646\tbest: 10.6386646 (58)\ttotal: 7.18s\tremaining: 17.2s\n",
      "60:\tlearn: 10.4630724\ttest: 10.4596791\tbest: 10.4596791 (60)\ttotal: 7.41s\tremaining: 16.9s\n",
      "62:\tlearn: 10.2861759\ttest: 10.2827296\tbest: 10.2827296 (62)\ttotal: 7.66s\tremaining: 16.7s\n",
      "64:\tlearn: 10.1126601\ttest: 10.1091693\tbest: 10.1091693 (64)\ttotal: 7.9s\tremaining: 16.4s\n",
      "66:\tlearn: 9.9425778\ttest: 9.9390763\tbest: 9.9390763 (66)\ttotal: 8.13s\tremaining: 16.1s\n",
      "68:\tlearn: 9.7759917\ttest: 9.7724645\tbest: 9.7724645 (68)\ttotal: 8.36s\tremaining: 15.9s\n",
      "70:\tlearn: 9.6671566\ttest: 9.6637243\tbest: 9.6637243 (70)\ttotal: 8.6s\tremaining: 15.6s\n",
      "72:\tlearn: 9.5061787\ttest: 9.5027341\tbest: 9.5027341 (72)\ttotal: 8.82s\tremaining: 15.3s\n",
      "74:\tlearn: 9.3987398\ttest: 9.3952725\tbest: 9.3952725 (74)\ttotal: 9.06s\tremaining: 15.1s\n",
      "76:\tlearn: 9.3451606\ttest: 9.3417919\tbest: 9.3417919 (76)\ttotal: 9.29s\tremaining: 14.8s\n",
      "78:\tlearn: 9.2910890\ttest: 9.2878140\tbest: 9.2878140 (78)\ttotal: 9.53s\tremaining: 14.6s\n",
      "80:\tlearn: 9.2392353\ttest: 9.2361146\tbest: 9.2361146 (80)\ttotal: 9.77s\tremaining: 14.4s\n",
      "82:\tlearn: 9.1872905\ttest: 9.1842545\tbest: 9.1842545 (82)\ttotal: 10s\tremaining: 14.1s\n",
      "84:\tlearn: 9.1363265\ttest: 9.1333697\tbest: 9.1333697 (84)\ttotal: 10.2s\tremaining: 13.9s\n",
      "86:\tlearn: 9.0858982\ttest: 9.0830932\tbest: 9.0830932 (86)\ttotal: 10.5s\tremaining: 13.6s\n",
      "88:\tlearn: 9.0365854\ttest: 9.0338849\tbest: 9.0338849 (88)\ttotal: 10.7s\tremaining: 13.4s\n",
      "90:\tlearn: 8.9883829\ttest: 8.9858663\tbest: 8.9858663 (90)\ttotal: 10.9s\tremaining: 13.1s\n",
      "92:\tlearn: 8.9398750\ttest: 8.9374809\tbest: 8.9374809 (92)\ttotal: 11.2s\tremaining: 12.8s\n",
      "94:\tlearn: 8.8915517\ttest: 8.8893440\tbest: 8.8893440 (94)\ttotal: 11.4s\tremaining: 12.6s\n",
      "96:\tlearn: 8.8441016\ttest: 8.8420912\tbest: 8.8420912 (96)\ttotal: 11.6s\tremaining: 12.4s\n",
      "98:\tlearn: 8.7971342\ttest: 8.7953259\tbest: 8.7953259 (98)\ttotal: 11.9s\tremaining: 12.1s\n",
      "100:\tlearn: 8.7000393\ttest: 8.6983051\tbest: 8.6983051 (100)\ttotal: 12.1s\tremaining: 11.8s\n",
      "102:\tlearn: 8.6546525\ttest: 8.6531054\tbest: 8.6531054 (102)\ttotal: 12.3s\tremaining: 11.6s\n",
      "104:\tlearn: 8.6101096\ttest: 8.6087625\tbest: 8.6087625 (104)\ttotal: 12.5s\tremaining: 11.3s\n",
      "106:\tlearn: 8.5650810\ttest: 8.5639249\tbest: 8.5639249 (106)\ttotal: 12.8s\tremaining: 11.1s\n",
      "108:\tlearn: 8.5197905\ttest: 8.5187846\tbest: 8.5187846 (108)\ttotal: 13s\tremaining: 10.8s\n",
      "110:\tlearn: 8.4321001\ttest: 8.4311729\tbest: 8.4311729 (110)\ttotal: 13.2s\tremaining: 10.6s\n",
      "112:\tlearn: 8.3451347\ttest: 8.3442661\tbest: 8.3442661 (112)\ttotal: 13.4s\tremaining: 10.4s\n",
      "114:\tlearn: 8.2168538\ttest: 8.2159668\tbest: 8.2159668 (114)\ttotal: 13.7s\tremaining: 10.1s\n",
      "116:\tlearn: 8.1329252\ttest: 8.1321228\tbest: 8.1321228 (116)\ttotal: 13.9s\tremaining: 9.87s\n",
      "118:\tlearn: 8.0090464\ttest: 8.0082157\tbest: 8.0082157 (118)\ttotal: 14.2s\tremaining: 9.63s\n",
      "120:\tlearn: 7.9272392\ttest: 7.9264517\tbest: 7.9264517 (120)\ttotal: 14.4s\tremaining: 9.39s\n",
      "122:\tlearn: 7.8859197\ttest: 7.8852748\tbest: 7.8852748 (122)\ttotal: 14.6s\tremaining: 9.15s\n",
      "124:\tlearn: 7.7672858\ttest: 7.7666011\tbest: 7.7666011 (124)\ttotal: 14.9s\tremaining: 8.91s\n",
      "126:\tlearn: 7.6896615\ttest: 7.6890373\tbest: 7.6890373 (126)\ttotal: 15.1s\tremaining: 8.68s\n",
      "128:\tlearn: 7.5750308\ttest: 7.5743462\tbest: 7.5743462 (128)\ttotal: 15.3s\tremaining: 8.43s\n",
      "130:\tlearn: 7.4992639\ttest: 7.4985976\tbest: 7.4985976 (130)\ttotal: 15.5s\tremaining: 8.18s\n",
      "132:\tlearn: 7.4245200\ttest: 7.4238566\tbest: 7.4238566 (132)\ttotal: 15.8s\tremaining: 7.94s\n",
      "134:\tlearn: 7.3506637\ttest: 7.3500084\tbest: 7.3500084 (134)\ttotal: 16s\tremaining: 7.7s\n",
      "136:\tlearn: 7.3130373\ttest: 7.3124527\tbest: 7.3124527 (136)\ttotal: 16.2s\tremaining: 7.46s\n",
      "138:\tlearn: 7.2064543\ttest: 7.2058307\tbest: 7.2058307 (138)\ttotal: 16.4s\tremaining: 7.22s\n",
      "140:\tlearn: 7.1019852\ttest: 7.1013149\tbest: 7.1013149 (140)\ttotal: 16.7s\tremaining: 6.98s\n",
      "142:\tlearn: 7.0328968\ttest: 7.0322442\tbest: 7.0322442 (142)\ttotal: 16.9s\tremaining: 6.74s\n",
      "144:\tlearn: 6.9714356\ttest: 6.9708082\tbest: 6.9708082 (144)\ttotal: 17.1s\tremaining: 6.5s\n",
      "146:\tlearn: 6.9363198\ttest: 6.9357554\tbest: 6.9357554 (146)\ttotal: 17.4s\tremaining: 6.27s\n",
      "148:\tlearn: 6.9018883\ttest: 6.9014075\tbest: 6.9014075 (148)\ttotal: 17.6s\tremaining: 6.03s\n",
      "150:\tlearn: 6.8673048\ttest: 6.8669065\tbest: 6.8669065 (150)\ttotal: 17.9s\tremaining: 5.8s\n",
      "152:\tlearn: 6.8332092\ttest: 6.8328757\tbest: 6.8328757 (152)\ttotal: 18.1s\tremaining: 5.56s\n",
      "154:\tlearn: 6.7984483\ttest: 6.7981796\tbest: 6.7981796 (154)\ttotal: 18.3s\tremaining: 5.32s\n",
      "156:\tlearn: 6.7605737\ttest: 6.7603990\tbest: 6.7603990 (156)\ttotal: 18.6s\tremaining: 5.08s\n",
      "158:\tlearn: 6.7269065\ttest: 6.7268230\tbest: 6.7268230 (158)\ttotal: 18.8s\tremaining: 4.84s\n",
      "160:\tlearn: 6.6875805\ttest: 6.6876177\tbest: 6.6876177 (160)\ttotal: 19s\tremaining: 4.61s\n",
      "162:\tlearn: 6.6425840\ttest: 6.6427620\tbest: 6.6427620 (162)\ttotal: 19.3s\tremaining: 4.37s\n",
      "164:\tlearn: 6.5665980\ttest: 6.5668062\tbest: 6.5668062 (164)\ttotal: 19.5s\tremaining: 4.14s\n",
      "166:\tlearn: 6.4620609\ttest: 6.4621978\tbest: 6.4621978 (166)\ttotal: 19.7s\tremaining: 3.9s\n",
      "168:\tlearn: 6.3596672\ttest: 6.3597212\tbest: 6.3597212 (168)\ttotal: 20s\tremaining: 3.66s\n",
      "170:\tlearn: 6.2593272\ttest: 6.2593109\tbest: 6.2593109 (170)\ttotal: 20.2s\tremaining: 3.42s\n",
      "172:\tlearn: 6.1610523\ttest: 6.1609654\tbest: 6.1609654 (172)\ttotal: 20.4s\tremaining: 3.19s\n",
      "174:\tlearn: 6.0648459\ttest: 6.0646974\tbest: 6.0646974 (174)\ttotal: 20.7s\tremaining: 2.95s\n",
      "176:\tlearn: 5.9706784\ttest: 5.9704709\tbest: 5.9704709 (176)\ttotal: 20.9s\tremaining: 2.71s\n",
      "178:\tlearn: 5.8782627\ttest: 5.8780055\tbest: 5.8780055 (178)\ttotal: 21.1s\tremaining: 2.48s\n",
      "180:\tlearn: 5.7878302\ttest: 5.7875186\tbest: 5.7875186 (180)\ttotal: 21.4s\tremaining: 2.24s\n",
      "182:\tlearn: 5.6992798\ttest: 5.6989162\tbest: 5.6989162 (182)\ttotal: 21.6s\tremaining: 2s\n",
      "184:\tlearn: 5.6125682\ttest: 5.6121390\tbest: 5.6121390 (184)\ttotal: 21.8s\tremaining: 1.77s\n",
      "186:\tlearn: 5.5277722\ttest: 5.5272757\tbest: 5.5272757 (186)\ttotal: 22s\tremaining: 1.53s\n",
      "188:\tlearn: 5.4447630\ttest: 5.4442128\tbest: 5.4442128 (188)\ttotal: 22.3s\tremaining: 1.3s\n",
      "190:\tlearn: 5.3635534\ttest: 5.3629762\tbest: 5.3629762 (190)\ttotal: 22.5s\tremaining: 1.06s\n",
      "192:\tlearn: 5.2841547\ttest: 5.2835502\tbest: 5.2835502 (192)\ttotal: 22.8s\tremaining: 825ms\n",
      "194:\tlearn: 5.2065620\ttest: 5.2059348\tbest: 5.2059348 (194)\ttotal: 23s\tremaining: 589ms\n",
      "196:\tlearn: 5.1308608\ttest: 5.1301887\tbest: 5.1301887 (196)\ttotal: 23.2s\tremaining: 353ms\n",
      "198:\tlearn: 5.0570295\ttest: 5.0562988\tbest: 5.0562988 (198)\ttotal: 23.4s\tremaining: 118ms\n",
      "199:\tlearn: 5.0208736\ttest: 5.0201081\tbest: 5.0201081 (199)\ttotal: 23.5s\tremaining: 0us\n",
      "\n",
      "bestTest = 5.020108142\n",
      "bestIteration = 199\n",
      "\n"
     ]
    }
   ],
   "source": [
    "N_fold = 5\n",
    "index = np.arange(len(X))\n",
    "\n",
    "models = []\n",
    "\n",
    "def train(model_dict, modelname='lgb'):\n",
    "    print(\"-------------------------\")\n",
    "    model = model_dict[modelname]\n",
    "    print(model)\n",
    "    model.fit(X[index%N_fold!=i], Y[index%N_fold!=i], \n",
    "                eval_set=[(X[index%N_fold==i], Y[index%N_fold==i])], \n",
    "                verbose=2, \n",
    "                early_stopping_rounds=100\n",
    "                )\n",
    "    models.append(model)\n",
    "    return \n",
    "\n",
    "model_dict = {\n",
    "    'lgb': lgb.LGBMRegressor(objective='regression_l1', n_estimators=200, learning_rate=0.01, max_depth=2,num_leaves=35),\n",
    "    'xgb': xgb.XGBRegressor(tree_method='hist', objective='reg:absoluteerror', n_estimators=100, max_depth=5, num_leaves=10),\n",
    "    'cbt': cbt.CatBoostRegressor(objective='MAE', iterations=200, max_depth=5, learning_rate=0.01),\n",
    "\n",
    "}\n",
    "\n",
    "for i in range(N_fold):\n",
    "    train(model_dict, 'lgb')\n",
    "    train(model_dict, 'xgb')\n",
    "    train(model_dict, 'cbt')"
   ]
  },
  {
   "cell_type": "markdown",
   "id": "79f81498-26d6-4b1a-9d7b-b765fdca1f94",
   "metadata": {},
   "source": [
    "### Get the score"
   ]
  },
  {
   "cell_type": "code",
   "execution_count": 80,
   "id": "b928e96a-1f9f-4411-8dce-2597d12356a8",
   "metadata": {},
   "outputs": [
    {
     "name": "stdout",
     "output_type": "stream",
     "text": [
      "{2:              id     molecule_name  atom_index_0  atom_index_1  type  \\\n",
      "0           371  dsgdb9nsd_000032             4             0     2   \n",
      "6           377  dsgdb9nsd_000032             5             0     2   \n",
      "52          684  dsgdb9nsd_000050             5             0     2   \n",
      "131        2036  dsgdb9nsd_000113             5             0     2   \n",
      "170        2343  dsgdb9nsd_000129            10             2     2   \n",
      "...         ...               ...           ...           ...   ...   \n",
      "934559  4657180  dsgdb9nsd_133797            17             4     2   \n",
      "934564  4657185  dsgdb9nsd_133797            18             4     2   \n",
      "934597  4657270  dsgdb9nsd_133799            14             2     2   \n",
      "934655  4657413  dsgdb9nsd_133802            15             4     2   \n",
      "934660  4657418  dsgdb9nsd_133802            16             4     2   \n",
      "\n",
      "        scalar_coupling_constant  atom_0        x0        y0        z0  \\\n",
      "0                        37.7190       0  0.917298  1.835475  0.052027   \n",
      "6                        38.3495       0 -0.471622  1.856772 -0.802756   \n",
      "52                       59.3010       0 -0.832432  1.927727  0.021230   \n",
      "131                      34.1537       0  0.837443  1.704232  0.003544   \n",
      "170                      53.9871       0 -1.960927 -0.235754  1.057555   \n",
      "...                          ...     ...       ...       ...       ...   \n",
      "934559                   38.9287       0 -1.125238 -2.286790 -2.184290   \n",
      "934564                   38.6599       0 -0.636710 -3.587092 -1.332411   \n",
      "934597                   42.1914       0  0.397804 -0.094601 -2.020052   \n",
      "934655                   39.7480       0 -1.278454 -2.096400 -0.317446   \n",
      "934660                   38.1939       0 -1.212844 -2.300756 -1.930773   \n",
      "\n",
      "        atom_1        x1        y1        z1      dist    dist_x    dist_y  \\\n",
      "0            2 -0.036081  1.487625  0.036781  1.014969  0.953379  0.347850   \n",
      "6            2 -0.036081  1.487625  0.036781  1.015277  0.435541  0.369147   \n",
      "52           2 -0.008297  1.353628  0.009960  1.004448  0.824135  0.574098   \n",
      "131          2 -0.094564  1.293149  0.010182  1.018661  0.932007  0.411083   \n",
      "170          2 -1.261516 -0.623366  0.444065  1.007863  0.699410  0.387611   \n",
      "...        ...       ...       ...       ...       ...       ...       ...   \n",
      "934559       2 -0.668323 -2.572276 -1.321874  1.016875  0.456915  0.285486   \n",
      "934564       2 -0.668323 -2.572276 -1.321874  1.015363  0.031613  1.014816   \n",
      "934597       2  0.699327 -0.506243 -1.142270  1.015315  0.301523  0.411642   \n",
      "934655       2 -0.765275 -2.566571 -1.056896  1.015480  0.513180  0.470170   \n",
      "934660       2 -0.765275 -2.566571 -1.056896  1.017171  0.447569  0.265815   \n",
      "\n",
      "          dist_z  \n",
      "0       0.015246  \n",
      "6       0.839536  \n",
      "52      0.011270  \n",
      "131     0.006639  \n",
      "170     0.613490  \n",
      "...          ...  \n",
      "934559  0.862416  \n",
      "934564  0.010537  \n",
      "934597  0.877781  \n",
      "934655  0.739450  \n",
      "934660  0.873877  \n",
      "\n",
      "[8690 rows x 18 columns], 4:              id     molecule_name  atom_index_0  atom_index_1  type  \\\n",
      "1           372  dsgdb9nsd_000032             4             1     4   \n",
      "7           378  dsgdb9nsd_000032             5             1     4   \n",
      "13          384  dsgdb9nsd_000032             6             2     4   \n",
      "18          389  dsgdb9nsd_000032             7             2     4   \n",
      "21          653  dsgdb9nsd_000049             5             1     4   \n",
      "...         ...               ...           ...           ...   ...   \n",
      "935053  4659064  dsgdb9nsd_133884            16             6     4   \n",
      "935055  4659066  dsgdb9nsd_133884            16             8     4   \n",
      "935059  4659070  dsgdb9nsd_133884            17             3     4   \n",
      "935060  4659071  dsgdb9nsd_133884            17             4     4   \n",
      "935063  4659074  dsgdb9nsd_133884            17             7     4   \n",
      "\n",
      "        scalar_coupling_constant  atom_0        x0        y0        z0  \\\n",
      "1                       0.012826       0  0.917298  1.835475  0.052027   \n",
      "7                      -1.438730       0 -0.471622  1.856772 -0.802756   \n",
      "13                     -4.947760       0  0.489462 -0.408804 -0.897152   \n",
      "18                     -8.659220       0  0.528272 -0.345333  0.864695   \n",
      "21                     -6.059270       0  0.783421  1.946909 -0.463540   \n",
      "...                          ...     ...       ...       ...       ...   \n",
      "935053                  1.025490       0 -0.084531  1.110807 -1.796741   \n",
      "935055                  9.119730       0 -0.084531  1.110807 -1.796741   \n",
      "935059                  0.861412       0  1.126550 -1.348733 -1.933838   \n",
      "935060                  3.543450       0  1.126550 -1.348733 -1.933838   \n",
      "935063                  4.762010       0  1.126550 -1.348733 -1.933838   \n",
      "\n",
      "        atom_1        x1        y1        z1      dist    dist_x    dist_y  \\\n",
      "1            1 -0.010395  0.025176 -0.015066  2.035264  0.927692  1.810299   \n",
      "7            1 -0.010395  0.025176 -0.015066  2.046443  0.461227  1.831596   \n",
      "13           1 -1.371810 -0.521089  0.027393  2.081279  1.861271  0.112285   \n",
      "18           1 -1.371810 -0.521089  0.027393  2.083812  1.900081  0.175756   \n",
      "21           1 -0.005198 -0.003431 -0.027235  2.148513  0.788619  1.950340   \n",
      "...        ...       ...       ...       ...       ...       ...       ...   \n",
      "935053       1 -0.027076  0.747033  0.478506  2.304860  0.057455  0.363774   \n",
      "935055       1  0.787756 -0.840138 -1.042152  2.266379  0.872287  1.950945   \n",
      "935059       1  0.326978 -1.554195  0.205661  2.293248  0.799571  0.205462   \n",
      "935060       1  1.629865 -0.747236  0.235262  2.306538  0.503315  0.601497   \n",
      "935063       1 -0.131901  0.356983 -1.010196  2.312202  1.258451  1.705716   \n",
      "\n",
      "          dist_z  \n",
      "1       0.067093  \n",
      "7       0.787690  \n",
      "13      0.924544  \n",
      "18      0.837303  \n",
      "21      0.436306  \n",
      "...          ...  \n",
      "935053  2.275247  \n",
      "935055  0.754589  \n",
      "935059  2.139499  \n",
      "935060  2.169100  \n",
      "935063  0.923642  \n",
      "\n",
      "[229184 rows x 18 columns], 6:              id     molecule_name  atom_index_0  atom_index_1  type  \\\n",
      "2           373  dsgdb9nsd_000032             4             2     6   \n",
      "8           379  dsgdb9nsd_000032             5             2     6   \n",
      "22          654  dsgdb9nsd_000049             5             2     6   \n",
      "28          660  dsgdb9nsd_000049             6             2     6   \n",
      "33          665  dsgdb9nsd_000049             7             2     6   \n",
      "...         ...               ...           ...           ...   ...   \n",
      "935051  4659062  dsgdb9nsd_133884            16             4     6   \n",
      "935052  4659063  dsgdb9nsd_133884            16             5     6   \n",
      "935058  4659069  dsgdb9nsd_133884            17             2     6   \n",
      "935061  4659072  dsgdb9nsd_133884            17             5     6   \n",
      "935062  4659073  dsgdb9nsd_133884            17             6     6   \n",
      "\n",
      "        scalar_coupling_constant  atom_0        x0        y0        z0  \\\n",
      "2                      11.291600       0  0.917298  1.835475  0.052027   \n",
      "8                       1.149290       0 -0.471622  1.856772 -0.802756   \n",
      "22                      2.495890       0  0.783421  1.946909 -0.463540   \n",
      "28                      2.799850       0 -0.961504  1.836141 -0.590220   \n",
      "33                      4.851540       0 -0.198542  1.874630  1.019316   \n",
      "...                          ...     ...       ...       ...       ...   \n",
      "935051                 -0.244777       0 -0.084531  1.110807 -1.796741   \n",
      "935052                 -0.184689       0 -0.084531  1.110807 -1.796741   \n",
      "935058                  1.944380       0  1.126550 -1.348733 -1.933838   \n",
      "935061                  0.568997       0  1.126550 -1.348733 -1.933838   \n",
      "935062                  1.173370       0  1.126550 -1.348733 -1.933838   \n",
      "\n",
      "        atom_1        x1        y1        z1      dist    dist_x    dist_y  \\\n",
      "2            1 -1.371810 -0.521089  0.027393  3.285425  2.289107  2.356565   \n",
      "8            1 -1.371810 -0.521089  0.027393  2.674642  0.900188  2.377861   \n",
      "22           1 -0.006885 -0.768907  1.264347  3.314489  0.790306  2.715816   \n",
      "28           1 -0.006885 -0.768907  1.264347  3.337213  0.954619  2.605048   \n",
      "33           1 -0.006885 -0.768907  1.264347  2.661778  0.191656  2.643537   \n",
      "...        ...       ...       ...       ...       ...       ...       ...   \n",
      "935051       1  1.629865 -0.747236  0.235262  3.243534  1.714396  1.858043   \n",
      "935052       1  1.415947  0.620773  0.939122  3.158561  1.500477  0.490033   \n",
      "935058       1 -0.750850 -0.602182  0.665932  3.292533  1.877399  0.746551   \n",
      "935061       1  1.415947  0.620773  0.939122  3.495226  0.289397  1.969506   \n",
      "935062       1 -0.027076  0.747033  0.478506  3.397424  1.153626  2.095765   \n",
      "\n",
      "          dist_z  \n",
      "2       0.024634  \n",
      "8       0.830148  \n",
      "22      1.727888  \n",
      "28      1.854567  \n",
      "33      0.245031  \n",
      "...          ...  \n",
      "935051  2.032002  \n",
      "935052  2.735863  \n",
      "935058  2.599771  \n",
      "935061  2.872960  \n",
      "935062  2.412345  \n",
      "\n",
      "[303274 rows x 18 columns], 1:              id     molecule_name  atom_index_0  atom_index_1  type  \\\n",
      "3           374  dsgdb9nsd_000032             4             5     1   \n",
      "15          386  dsgdb9nsd_000032             6             7     1   \n",
      "24          656  dsgdb9nsd_000049             5             6     1   \n",
      "25          657  dsgdb9nsd_000049             5             7     1   \n",
      "30          662  dsgdb9nsd_000049             6             7     1   \n",
      "...         ...               ...           ...           ...   ...   \n",
      "934882  4658569  dsgdb9nsd_133877            15            16     1   \n",
      "934915  4658602  dsgdb9nsd_133878             9            10     1   \n",
      "934969  4658656  dsgdb9nsd_133878            15            16     1   \n",
      "934993  4659004  dsgdb9nsd_133884             9            10     1   \n",
      "935038  4659049  dsgdb9nsd_133884            14            15     1   \n",
      "\n",
      "        scalar_coupling_constant  atom_0        x0        y0        z0  \\\n",
      "3                      -9.336620       0  0.917298  1.835475  0.052027   \n",
      "15                    -14.742600       0  0.489462 -0.408804 -0.897152   \n",
      "24                    -17.800600       0  0.783421  1.946909 -0.463540   \n",
      "25                    -10.857700       0  0.783421  1.946909 -0.463540   \n",
      "30                    -10.512500       0 -0.961504  1.836141 -0.590220   \n",
      "...                          ...     ...       ...       ...       ...   \n",
      "934882                 -9.077840       0  2.046536  1.387234  0.485672   \n",
      "934915                 -2.388040       0 -2.029701  1.534731  1.344056   \n",
      "934969                 -9.624000       0  2.045653  1.402817  0.530669   \n",
      "934993                 -0.833881       0 -2.089736  1.406820  1.185940   \n",
      "935038                 -9.199110       0  2.087537  1.391489  0.548687   \n",
      "\n",
      "        atom_1        x1        y1        z1      dist    dist_x    dist_y  \\\n",
      "3            0 -0.471622  1.856772 -0.802756  1.631013  1.388919  0.021297   \n",
      "15           0  0.528272 -0.345333  0.864695  1.763417  0.038810  0.063471   \n",
      "24           0 -0.961504  1.836141 -0.590220  1.753021  1.744925  0.110768   \n",
      "25           0 -0.198542  1.874630  1.019316  1.779983  0.981963  0.072279   \n",
      "30           0 -0.198542  1.874630  1.019316  1.781628  0.762963  0.038489   \n",
      "...        ...       ...       ...       ...       ...       ...       ...   \n",
      "934882       0  1.571761  0.543802  1.983381  1.783233  0.474775  0.843432   \n",
      "934915       0 -1.483923  2.334890 -0.175332  1.801851  0.545778  0.800159   \n",
      "934969       0  1.586099  0.560660  2.035142  1.784337  0.459554  0.842157   \n",
      "934993       0 -1.538994  2.260262 -0.305456  1.804423  0.550742  0.853441   \n",
      "935038       0  1.542918  0.547487  2.023550  1.784424  0.544619  0.844002   \n",
      "\n",
      "          dist_z  \n",
      "3       0.854783  \n",
      "15      1.761847  \n",
      "24      0.126679  \n",
      "25      1.482857  \n",
      "30      1.609536  \n",
      "...          ...  \n",
      "934882  1.497709  \n",
      "934915  1.519388  \n",
      "934969  1.504473  \n",
      "934993  1.491397  \n",
      "935038  1.474863  \n",
      "\n",
      "[76076 rows x 18 columns], 5:              id     molecule_name  atom_index_0  atom_index_1  type  \\\n",
      "4           375  dsgdb9nsd_000032             4             6     5   \n",
      "5           376  dsgdb9nsd_000032             4             7     5   \n",
      "9           380  dsgdb9nsd_000032             5             6     5   \n",
      "10          381  dsgdb9nsd_000032             5             7     5   \n",
      "57          689  dsgdb9nsd_000050             5             6     5   \n",
      "...         ...               ...           ...           ...   ...   \n",
      "935019  4659030  dsgdb9nsd_133884            12            17     5   \n",
      "935027  4659038  dsgdb9nsd_133884            13            14     5   \n",
      "935028  4659039  dsgdb9nsd_133884            13            15     5   \n",
      "935029  4659040  dsgdb9nsd_133884            13            17     5   \n",
      "935056  4659067  dsgdb9nsd_133884            16            17     5   \n",
      "\n",
      "        scalar_coupling_constant  atom_0        x0        y0        z0  \\\n",
      "4                       1.741220       0  0.917298  1.835475  0.052027   \n",
      "5                       3.045220       0  0.917298  1.835475  0.052027   \n",
      "9                       2.749190       0 -0.471622  1.856772 -0.802756   \n",
      "10                     13.565800       0 -0.471622  1.856772 -0.802756   \n",
      "57                      0.689723       0 -0.832432  1.927727  0.021230   \n",
      "...                          ...     ...       ...       ...       ...   \n",
      "935019                  4.671720       0  0.299624 -2.630218  0.305560   \n",
      "935027                  1.005250       0  2.582409 -1.260138  0.293499   \n",
      "935028                  1.005260       0  2.582409 -1.260138  0.293499   \n",
      "935029                  3.062820       0  2.582409 -1.260138  0.293499   \n",
      "935056                  0.789559       0 -0.084531  1.110807 -1.796741   \n",
      "\n",
      "        atom_1        x1        y1        z1      dist    dist_x    dist_y  \\\n",
      "4            0  0.489462 -0.408804 -0.897152  2.474020  0.427836  2.244279   \n",
      "5            0  0.528272 -0.345333  0.864695  2.359597  0.389026  2.180809   \n",
      "9            0  0.489462 -0.408804 -0.897152  2.462809  0.961083  2.265576   \n",
      "10           0  0.528272 -0.345333  0.864695  2.937592  0.999893  2.202105   \n",
      "57           0  1.484718  2.883126  0.003543  2.506449  2.317151  0.955400   \n",
      "...        ...       ...       ...       ...       ...       ...       ...   \n",
      "935019       0  1.126550 -1.348733 -1.933838  2.709412  0.826926  1.281485   \n",
      "935027       0  2.087537  1.391489  0.548687  2.709455  0.494872  2.651627   \n",
      "935028       0  1.542918  0.547487  2.023550  2.709451  1.039491  1.807625   \n",
      "935029       0  1.126550 -1.348733 -1.933838  2.662406  1.455859  0.088595   \n",
      "935056       0  1.126550 -1.348733 -1.933838  2.744968  1.211081  2.459540   \n",
      "\n",
      "          dist_z  \n",
      "4       0.949179  \n",
      "5       0.812669  \n",
      "9       0.094396  \n",
      "10      1.667451  \n",
      "57      0.017687  \n",
      "...          ...  \n",
      "935019  2.239398  \n",
      "935027  0.255188  \n",
      "935028  1.730051  \n",
      "935029  2.227337  \n",
      "935056  0.137098  \n",
      "\n",
      "[118900 rows x 18 columns], 3:              id     molecule_name  atom_index_0  atom_index_1  type  \\\n",
      "11          382  dsgdb9nsd_000032             6             0     3   \n",
      "16          387  dsgdb9nsd_000032             7             0     3   \n",
      "51          683  dsgdb9nsd_000049            11             3     3   \n",
      "59          691  dsgdb9nsd_000050             6             0     3   \n",
      "77          709  dsgdb9nsd_000050             9             0     3   \n",
      "...         ...               ...           ...           ...   ...   \n",
      "934986  4658673  dsgdb9nsd_133878            17             8     3   \n",
      "934988  4658999  dsgdb9nsd_133884             9             1     3   \n",
      "934995  4659006  dsgdb9nsd_133884            10             1     3   \n",
      "935001  4659012  dsgdb9nsd_133884            11             1     3   \n",
      "935048  4659059  dsgdb9nsd_133884            16             1     3   \n",
      "\n",
      "        scalar_coupling_constant  atom_0        x0        y0        z0  \\\n",
      "11                      0.633806       0  0.489462 -0.408804 -0.897152   \n",
      "16                      1.378300       0  0.528272 -0.345333  0.864695   \n",
      "51                      0.784661       0  0.139759 -0.512543 -2.953893   \n",
      "59                      3.805590       0  1.484718  2.883126  0.003543   \n",
      "77                      3.805600       0 -0.925516 -0.576971  0.008394   \n",
      "...                          ...     ...       ...       ...       ...   \n",
      "934986                  7.879890       0  0.007294  1.014444 -1.723694   \n",
      "934988                  2.096360       0 -2.089736  1.406820  1.185940   \n",
      "934995                  2.096360       0 -1.538994  2.260262 -0.305456   \n",
      "935001                  3.719250       0 -1.326785 -0.814272  1.567299   \n",
      "935048                  3.719250       0 -0.084531  1.110807 -1.796741   \n",
      "\n",
      "        atom_1        x1        y1        z1      dist    dist_x    dist_y  \\\n",
      "11           2 -0.036081  1.487625  0.036781  2.178272  0.525543  1.896429   \n",
      "16           2 -0.036081  1.487625  0.036781  2.088941  0.564352  1.832959   \n",
      "51           2  0.081868 -0.692028 -1.100873  1.862592  0.057891  0.179485   \n",
      "59           2 -0.008297  1.353628  0.009960  2.137405  1.493015  1.529498   \n",
      "77           2 -0.008297  1.353628  0.009960  2.137406  0.917220  1.930599   \n",
      "...        ...       ...       ...       ...       ...       ...       ...   \n",
      "934986       2  0.735379 -0.884398 -0.962515  2.171429  0.728086  1.898842   \n",
      "934988       2 -1.571100  0.047932 -0.491726  2.220388  0.518636  1.358888   \n",
      "934995       2 -1.571100  0.047932 -0.491726  2.220389  0.032106  2.212329   \n",
      "935001       2 -1.571100  0.047932 -0.491726  2.245589  0.244315  0.862204   \n",
      "935048       2 -1.571100  0.047932 -0.491726  2.245585  1.486569  1.062874   \n",
      "\n",
      "          dist_z  \n",
      "11      0.933932  \n",
      "16      0.827915  \n",
      "51      1.853020  \n",
      "59      0.006417  \n",
      "77      0.001566  \n",
      "...          ...  \n",
      "934986  0.761179  \n",
      "934988  1.677666  \n",
      "934995  0.186270  \n",
      "935001  2.059025  \n",
      "935048  1.305015  \n",
      "\n",
      "[23614 rows x 18 columns], 0:              id     molecule_name  atom_index_0  atom_index_1  type  \\\n",
      "12          383  dsgdb9nsd_000032             6             1     0   \n",
      "17          388  dsgdb9nsd_000032             7             1     0   \n",
      "20          652  dsgdb9nsd_000049             5             0     0   \n",
      "26          658  dsgdb9nsd_000049             6             0     0   \n",
      "31          663  dsgdb9nsd_000049             7             0     0   \n",
      "...         ...               ...           ...           ...   ...   \n",
      "935022  4659033  dsgdb9nsd_133884            13             4     0   \n",
      "935034  4659045  dsgdb9nsd_133884            14             5     0   \n",
      "935043  4659054  dsgdb9nsd_133884            15             5     0   \n",
      "935054  4659065  dsgdb9nsd_133884            16             7     0   \n",
      "935064  4659075  dsgdb9nsd_133884            17             8     0   \n",
      "\n",
      "        scalar_coupling_constant  atom_0        x0        y0        z0  \\\n",
      "12                       93.2825       0  0.489462 -0.408804 -0.897152   \n",
      "17                       95.2249       0  0.528272 -0.345333  0.864695   \n",
      "20                       88.1271       0  0.783421  1.946909 -0.463540   \n",
      "26                       88.8613       0 -0.961504  1.836141 -0.590220   \n",
      "31                       82.3424       0 -0.198542  1.874630  1.019316   \n",
      "...                          ...     ...       ...       ...       ...   \n",
      "935022                  107.0160       0  2.582409 -1.260138  0.293499   \n",
      "935034                   87.8905       0  2.087537  1.391489  0.548687   \n",
      "935043                   87.8911       0  1.542918  0.547487  2.023550   \n",
      "935054                   99.6572       0 -0.084531  1.110807 -1.796741   \n",
      "935064                  117.9340       0  1.126550 -1.348733 -1.933838   \n",
      "\n",
      "        atom_1        x1        y1        z1      dist    dist_x    dist_y  \\\n",
      "12           1 -0.010395  0.025176 -0.015066  1.102846  0.499856  0.433980   \n",
      "17           1 -0.010395  0.025176 -0.015066  1.096093  0.538666  0.370509   \n",
      "20           1 -0.102554  1.499071 -0.001336  1.095053  0.885975  0.447837   \n",
      "26           1 -0.102554  1.499071 -0.001336  1.094621  0.858951  0.337070   \n",
      "31           1 -0.102554  1.499071 -0.001336  1.091783  0.095988  0.375559   \n",
      "...        ...       ...       ...       ...       ...       ...       ...   \n",
      "935022       1  1.629865 -0.747236  0.235262  1.083421  0.952544  0.512902   \n",
      "935034       1  1.415947  0.620773  0.939122  1.094292  0.671591  0.770715   \n",
      "935043       1  1.415947  0.620773  0.939122  1.094293  0.126971  0.073286   \n",
      "935054       1 -0.131901  0.356983 -1.010196  1.090480  0.047370  0.753824   \n",
      "935064       1  0.787756 -0.840138 -1.042152  1.080997  0.338794  0.508595   \n",
      "\n",
      "          dist_z  \n",
      "12      0.882086  \n",
      "17      0.879762  \n",
      "20      0.462204  \n",
      "26      0.588883  \n",
      "31      1.020652  \n",
      "...          ...  \n",
      "935022  0.058237  \n",
      "935034  0.390435  \n",
      "935043  1.084428  \n",
      "935054  0.786545  \n",
      "935064  0.891687  \n",
      "\n",
      "[142410 rows x 18 columns], 7:              id     molecule_name  atom_index_0  atom_index_1  type  \\\n",
      "14          385  dsgdb9nsd_000032             6             3     7   \n",
      "19          390  dsgdb9nsd_000032             7             3     7   \n",
      "23          655  dsgdb9nsd_000049             5             3     7   \n",
      "29          661  dsgdb9nsd_000049             6             3     7   \n",
      "34          666  dsgdb9nsd_000049             7             3     7   \n",
      "...         ...               ...           ...           ...   ...   \n",
      "934941  4658628  dsgdb9nsd_133878            12             8     7   \n",
      "934968  4658655  dsgdb9nsd_133878            15             8     7   \n",
      "934977  4658664  dsgdb9nsd_133878            16             8     7   \n",
      "935010  4659021  dsgdb9nsd_133884            12             1     7   \n",
      "935057  4659068  dsgdb9nsd_133884            17             1     7   \n",
      "\n",
      "        scalar_coupling_constant  atom_0        x0        y0        z0  \\\n",
      "14                      0.813366       0  0.489462 -0.408804 -0.897152   \n",
      "19                      0.859255       0  0.528272 -0.345333  0.864695   \n",
      "23                      1.107740       0  0.783421  1.946909 -0.463540   \n",
      "29                      1.030160       0 -0.961504  1.836141 -0.590220   \n",
      "34                      0.331655       0 -0.198542  1.874630  1.019316   \n",
      "...                          ...     ...       ...       ...       ...   \n",
      "934941                  0.201237       0 -1.233702 -0.824982  1.778778   \n",
      "934968                  0.097180       0  2.045653  1.402817  0.530669   \n",
      "934977                  0.823898       0  1.586099  0.560660  2.035142   \n",
      "935010                 -0.006526       0  0.299624 -2.630218  0.305560   \n",
      "935057                 -0.006537       0  1.126550 -1.348733 -1.933838   \n",
      "\n",
      "        atom_1        x1        y1        z1      dist    dist_x    dist_y  \\\n",
      "14           2 -2.440267 -0.959564  0.033705  3.123002  2.929729  0.550760   \n",
      "19           2 -2.440267 -0.959564  0.033705  3.143254  2.968538  0.614231   \n",
      "23           2  0.081868 -0.692028 -1.100873  2.803989  0.701553  2.638937   \n",
      "29           2  0.081868 -0.692028 -1.100873  2.782271  1.043372  2.528169   \n",
      "34           2  0.081868 -0.692028 -1.100873  3.340893  0.280410  2.566658   \n",
      "...        ...       ...       ...       ...       ...       ...       ...   \n",
      "934941       2  0.735379 -0.884398 -0.962515  3.375722  1.969082  0.059416   \n",
      "934968       2  0.735379 -0.884398 -0.962515  3.029483  1.310274  2.287215   \n",
      "934977       2  0.735379 -0.884398 -0.962515  3.434802  0.850720  1.445058   \n",
      "935010       2 -1.571100  0.047932 -0.491726  3.362702  1.870724  2.678151   \n",
      "935057       2 -1.571100  0.047932 -0.491726  3.362689  2.697650  1.396665   \n",
      "\n",
      "          dist_z  \n",
      "14      0.930857  \n",
      "19      0.830990  \n",
      "23      0.637333  \n",
      "29      0.510653  \n",
      "34      2.120189  \n",
      "...          ...  \n",
      "934941  2.741293  \n",
      "934968  1.493184  \n",
      "934977  2.997657  \n",
      "935010  0.797286  \n",
      "935057  1.442112  \n",
      "\n",
      "[32917 rows x 18 columns]}\n"
     ]
    }
   ],
   "source": [
    "type_dataframes = {}\n",
    "\n",
    "for type in test_df['type'].unique():\n",
    "    type_dataframes[type] = test_df[test_df['type'] == type]\n",
    "\n",
    "print(type_dataframes)"
   ]
  },
  {
   "cell_type": "code",
   "execution_count": 99,
   "id": "1fe8b8b7-e8cd-4a9f-aabd-58c4e1d5633f",
   "metadata": {},
   "outputs": [
    {
     "name": "stdout",
     "output_type": "stream",
     "text": [
      "8690\n",
      "8690\n",
      "229184\n",
      "229184\n",
      "303274\n",
      "303274\n",
      "76076\n",
      "76076\n",
      "118900\n",
      "118900\n",
      "23614\n",
      "23614\n",
      "142410\n",
      "142410\n",
      "32917\n",
      "32917\n"
     ]
    }
   ],
   "source": [
    "preds_targets = []\n",
    "\n",
    "for type, type_dataframe in type_dataframes.items():\n",
    "    X_test = type_dataframe.drop(['scalar_coupling_constant'], axis=1)\n",
    "    X_test = type_dataframe.drop(['molecule_name'], axis=1)\n",
    "    Y_test = type_dataframe['scalar_coupling_constant']\n",
    "    preds = np.mean([model.predict(X_test) for model in models], 0) \n",
    "    preds_targets.append([preds, Y_test.values])"
   ]
  },
  {
   "cell_type": "code",
   "execution_count": 108,
   "id": "f0cbc826-325f-4380-b25b-41bd459350c8",
   "metadata": {},
   "outputs": [],
   "source": [
    "def score(preds_targets):\n",
    "    score = 0\n",
    "    for couple in preds_targets:\n",
    "        abs = np.sum(np.abs(couple[0]-couple[1]))\n",
    "        nt = len(couple[0])\n",
    "        score += np.log(abs/nt)\n",
    "    return score/len(preds_targets)"
   ]
  },
  {
   "cell_type": "code",
   "execution_count": 109,
   "id": "d147a3a8-50f0-45d9-bf11-d7ea8b14d826",
   "metadata": {},
   "outputs": [
    {
     "name": "stdout",
     "output_type": "stream",
     "text": [
      "Score :  -0.04091764686290622\n"
     ]
    }
   ],
   "source": [
    "print(\"Score : \", score(preds_targets))"
   ]
  },
  {
   "cell_type": "code",
   "execution_count": null,
   "id": "6e1cfe56-5ab6-425d-94c8-3d7160b7ba3c",
   "metadata": {},
   "outputs": [],
   "source": []
  }
 ],
 "metadata": {
  "kernelspec": {
   "display_name": "Python 3 (ipykernel)",
   "language": "python",
   "name": "python3"
  },
  "language_info": {
   "codemirror_mode": {
    "name": "ipython",
    "version": 3
   },
   "file_extension": ".py",
   "mimetype": "text/x-python",
   "name": "python",
   "nbconvert_exporter": "python",
   "pygments_lexer": "ipython3",
   "version": "3.11.4"
  }
 },
 "nbformat": 4,
 "nbformat_minor": 5
}
