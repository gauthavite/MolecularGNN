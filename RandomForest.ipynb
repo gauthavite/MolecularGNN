{
 "cells": [
  {
   "cell_type": "code",
   "execution_count": null,
   "id": "8676341d-6a3d-46ca-ba84-2e5876af5115",
   "metadata": {},
   "outputs": [],
   "source": [
    "import numpy as np\n",
    "from sklearn.ensemble import RandomForestRegressor\n",
    "from sklearn.model_selection import train_test_split\n",
    "from sklearn.metrics import mean_absolute_error\n",
    "import pandas as pd"
   ]
  },
  {
   "cell_type": "code",
   "execution_count": 6,
   "id": "b56a88da-41a5-4700-9284-e16e59b49ab4",
   "metadata": {},
   "outputs": [],
   "source": [
    "train_df = pd.read_csv('train_df.csv')\n",
    "test_df = pd.read_csv('test_df.csv')\n",
    "X = train_df.drop('scalar_coupling_constant', axis=1)\n",
    "X = train_df.drop('molecule_name', axis=1)\n",
    "Y = train_df['scalar_coupling_constant']"
   ]
  },
  {
   "cell_type": "markdown",
   "id": "84533a8e-1cf4-4189-830a-26424c8a6424",
   "metadata": {},
   "source": [
    "### Boosting"
   ]
  },
  {
   "cell_type": "code",
   "execution_count": 12,
   "id": "ee3e4a8f-9499-4f20-ada5-a77000702479",
   "metadata": {},
   "outputs": [
    {
     "name": "stdout",
     "output_type": "stream",
     "text": [
      "-------------------------\n",
      "RandomForestRegressor(random_state=42)\n"
     ]
    },
    {
     "ename": "TypeError",
     "evalue": "BaseForest.fit() got an unexpected keyword argument 'eval_set'",
     "output_type": "error",
     "traceback": [
      "\u001b[0;31m---------------------------------------------------------------------------\u001b[0m",
      "\u001b[0;31mTypeError\u001b[0m                                 Traceback (most recent call last)",
      "Cell \u001b[0;32mIn[12], line 27\u001b[0m\n\u001b[1;32m     18\u001b[0m model_dict \u001b[38;5;241m=\u001b[39m {\n\u001b[1;32m     19\u001b[0m \u001b[38;5;66;03m#    'lgb': lgb.LGBMRegressor(objective='regression_l1', n_estimators=200, learning_rate=0.01, max_depth=2,num_leaves=35),\u001b[39;00m\n\u001b[1;32m     20\u001b[0m \u001b[38;5;66;03m#    'xgb': xgb.XGBRegressor(tree_method='hist', objective='reg:absoluteerror', n_estimators=100, max_depth=5, num_leaves=10),\u001b[39;00m\n\u001b[0;32m   (...)\u001b[0m\n\u001b[1;32m     23\u001b[0m \n\u001b[1;32m     24\u001b[0m }\n\u001b[1;32m     26\u001b[0m \u001b[38;5;28;01mfor\u001b[39;00m i \u001b[38;5;129;01min\u001b[39;00m \u001b[38;5;28mrange\u001b[39m(N_fold):\n\u001b[0;32m---> 27\u001b[0m     \u001b[43mtrain\u001b[49m\u001b[43m(\u001b[49m\u001b[43mmodel_dict\u001b[49m\u001b[43m,\u001b[49m\u001b[43m \u001b[49m\u001b[38;5;124;43m'\u001b[39;49m\u001b[38;5;124;43mrandomforest\u001b[39;49m\u001b[38;5;124;43m'\u001b[39;49m\u001b[43m)\u001b[49m\n",
      "Cell \u001b[0;32mIn[12], line 10\u001b[0m, in \u001b[0;36mtrain\u001b[0;34m(model_dict, modelname)\u001b[0m\n\u001b[1;32m      8\u001b[0m model \u001b[38;5;241m=\u001b[39m model_dict[modelname]\n\u001b[1;32m      9\u001b[0m \u001b[38;5;28mprint\u001b[39m(model)\n\u001b[0;32m---> 10\u001b[0m \u001b[43mmodel\u001b[49m\u001b[38;5;241;43m.\u001b[39;49m\u001b[43mfit\u001b[49m\u001b[43m(\u001b[49m\u001b[43mX\u001b[49m\u001b[43m[\u001b[49m\u001b[43mindex\u001b[49m\u001b[38;5;241;43m%\u001b[39;49m\u001b[43mN_fold\u001b[49m\u001b[38;5;241;43m!=\u001b[39;49m\u001b[43mi\u001b[49m\u001b[43m]\u001b[49m\u001b[43m,\u001b[49m\u001b[43m \u001b[49m\u001b[43mY\u001b[49m\u001b[43m[\u001b[49m\u001b[43mindex\u001b[49m\u001b[38;5;241;43m%\u001b[39;49m\u001b[43mN_fold\u001b[49m\u001b[38;5;241;43m!=\u001b[39;49m\u001b[43mi\u001b[49m\u001b[43m]\u001b[49m\u001b[43m,\u001b[49m\u001b[43m \u001b[49m\n\u001b[1;32m     11\u001b[0m \u001b[43m            \u001b[49m\u001b[43meval_set\u001b[49m\u001b[38;5;241;43m=\u001b[39;49m\u001b[43m[\u001b[49m\u001b[43m(\u001b[49m\u001b[43mX\u001b[49m\u001b[43m[\u001b[49m\u001b[43mindex\u001b[49m\u001b[38;5;241;43m%\u001b[39;49m\u001b[43mN_fold\u001b[49m\u001b[38;5;241;43m==\u001b[39;49m\u001b[43mi\u001b[49m\u001b[43m]\u001b[49m\u001b[43m,\u001b[49m\u001b[43m \u001b[49m\u001b[43mY\u001b[49m\u001b[43m[\u001b[49m\u001b[43mindex\u001b[49m\u001b[38;5;241;43m%\u001b[39;49m\u001b[43mN_fold\u001b[49m\u001b[38;5;241;43m==\u001b[39;49m\u001b[43mi\u001b[49m\u001b[43m]\u001b[49m\u001b[43m)\u001b[49m\u001b[43m]\u001b[49m\u001b[43m,\u001b[49m\u001b[43m \u001b[49m\n\u001b[1;32m     12\u001b[0m \u001b[43m            \u001b[49m\u001b[43mverbose\u001b[49m\u001b[38;5;241;43m=\u001b[39;49m\u001b[38;5;241;43m2\u001b[39;49m\u001b[43m,\u001b[49m\u001b[43m \u001b[49m\n\u001b[1;32m     13\u001b[0m \u001b[43m            \u001b[49m\u001b[43mearly_stopping_rounds\u001b[49m\u001b[38;5;241;43m=\u001b[39;49m\u001b[38;5;241;43m100\u001b[39;49m\n\u001b[1;32m     14\u001b[0m \u001b[43m            \u001b[49m\u001b[43m)\u001b[49m\n\u001b[1;32m     15\u001b[0m models\u001b[38;5;241m.\u001b[39mappend(model)\n\u001b[1;32m     16\u001b[0m \u001b[38;5;28;01mreturn\u001b[39;00m\n",
      "File \u001b[0;32m~/anaconda3/envs/kaggle/lib/python3.11/site-packages/sklearn/base.py:1152\u001b[0m, in \u001b[0;36m_fit_context.<locals>.decorator.<locals>.wrapper\u001b[0;34m(estimator, *args, **kwargs)\u001b[0m\n\u001b[1;32m   1145\u001b[0m     estimator\u001b[38;5;241m.\u001b[39m_validate_params()\n\u001b[1;32m   1147\u001b[0m \u001b[38;5;28;01mwith\u001b[39;00m config_context(\n\u001b[1;32m   1148\u001b[0m     skip_parameter_validation\u001b[38;5;241m=\u001b[39m(\n\u001b[1;32m   1149\u001b[0m         prefer_skip_nested_validation \u001b[38;5;129;01mor\u001b[39;00m global_skip_validation\n\u001b[1;32m   1150\u001b[0m     )\n\u001b[1;32m   1151\u001b[0m ):\n\u001b[0;32m-> 1152\u001b[0m     \u001b[38;5;28;01mreturn\u001b[39;00m \u001b[43mfit_method\u001b[49m\u001b[43m(\u001b[49m\u001b[43mestimator\u001b[49m\u001b[43m,\u001b[49m\u001b[43m \u001b[49m\u001b[38;5;241;43m*\u001b[39;49m\u001b[43margs\u001b[49m\u001b[43m,\u001b[49m\u001b[43m \u001b[49m\u001b[38;5;241;43m*\u001b[39;49m\u001b[38;5;241;43m*\u001b[39;49m\u001b[43mkwargs\u001b[49m\u001b[43m)\u001b[49m\n",
      "\u001b[0;31mTypeError\u001b[0m: BaseForest.fit() got an unexpected keyword argument 'eval_set'"
     ]
    }
   ],
   "source": [
    "import lightgbm as lgb\n",
    "import xgboost as xgb \n",
    "import catboost as cbt \n",
    "\n",
    "N_fold = 5\n",
    "index = np.arange(len(X))\n",
    "\n",
    "models = []\n",
    "\n",
    "def train(model_dict, modelname='lgb'):\n",
    "    print(\"-------------------------\")\n",
    "    model = model_dict[modelname]\n",
    "    print(model)\n",
    "    model.fit(X[index%N_fold!=i], Y[index%N_fold!=i], \n",
    "                eval_set=[(X[index%N_fold==i], Y[index%N_fold==i])], \n",
    "                verbose=2, \n",
    "                early_stopping_rounds=100\n",
    "                )\n",
    "    models.append(model)\n",
    "    return \n",
    "\n",
    "model_dict = {\n",
    "    'lgb': lgb.LGBMRegressor(objective='regression_l1', n_estimators=200, learning_rate=0.01, max_depth=2,num_leaves=35),\n",
    "    'xgb': xgb.XGBRegressor(tree_method='hist', objective='reg:absoluteerror', n_estimators=100, max_depth=5, num_leaves=10),\n",
    "    'cbt': cbt.CatBoostRegressor(objective='MAE', iterations=200, max_depth=5, learning_rate=0.01),\n",
    "}\n",
    "\n",
    "for i in range(N_fold):\n",
    "    train(model_dict, 'lgb')\n",
    "    train(model_dict, 'xgb')\n",
    "    train(model_dict, 'cbt')"
   ]
  },
  {
   "cell_type": "markdown",
   "id": "450d59b4-9759-463c-ab3e-a7cc1bb281cf",
   "metadata": {},
   "source": [
    "### Simple RandomForest"
   ]
  },
  {
   "cell_type": "code",
   "execution_count": null,
   "id": "567022cb-23a4-4de3-b735-81a1ef67376c",
   "metadata": {},
   "outputs": [],
   "source": [
    "rf_model = RandomForestRegressor(n_estimators=100, random_state=42)\n",
    "rf_model.fit(X, Y)"
   ]
  },
  {
   "cell_type": "code",
   "execution_count": null,
   "id": "ff9fad63-4505-4294-9acc-e42156d21e5d",
   "metadata": {},
   "outputs": [],
   "source": [
    "def log_mae(y_true, y_pred):\n",
    "    mae = mean_absolute_error(y_true, y_pred)\n",
    "    log_mae = np.log(mae)\n",
    "    return log_mae"
   ]
  },
  {
   "cell_type": "code",
   "execution_count": null,
   "id": "17de83de-7188-4aa1-bbcc-5862ac0ea157",
   "metadata": {},
   "outputs": [],
   "source": [
    "X_test = test_df.drop('scalar_coupling_constant', axis=1)\n",
    "X_test = test_df.drop('molecule_name', axis=1)\n",
    "Y_test = test_df['scalar_coupling_constant']\n",
    "y_pred = rf_model.predict(X_test)\n",
    "\n",
    "print(\"Score :\", log_mae(Y_test, y_pred))"
   ]
  }
 ],
 "metadata": {
  "kernelspec": {
   "display_name": "Python 3 (ipykernel)",
   "language": "python",
   "name": "python3"
  },
  "language_info": {
   "codemirror_mode": {
    "name": "ipython",
    "version": 3
   },
   "file_extension": ".py",
   "mimetype": "text/x-python",
   "name": "python",
   "nbconvert_exporter": "python",
   "pygments_lexer": "ipython3",
   "version": "3.11.4"
  }
 },
 "nbformat": 4,
 "nbformat_minor": 5
}
